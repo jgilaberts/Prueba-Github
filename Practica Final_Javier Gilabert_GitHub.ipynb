{
 "cells": [
  {
   "attachments": {},
   "cell_type": "markdown",
   "metadata": {},
   "source": [
    "# Práctica Final de Machine Learning, Modelos Supervisados "
   ]
  },
  {
   "attachments": {},
   "cell_type": "markdown",
   "metadata": {},
   "source": [
    "# Javier Gilabert Sabater"
   ]
  },
  {
   "cell_type": "code",
   "execution_count": 102,
   "metadata": {},
   "outputs": [],
   "source": [
    "import pandas as pd\n",
    "import numpy as np\n",
    "import matplotlib.pyplot as plt\n",
    "from sklearn.preprocessing import StandardScaler\n",
    "import seaborn as sns\n",
    "from sklearn.model_selection import train_test_split\n",
    "from sklearn.preprocessing import PowerTransformer"
   ]
  },
  {
   "attachments": {},
   "cell_type": "markdown",
   "metadata": {},
   "source": [
    "## Parte 1: Predicción de duración de viajes"
   ]
  },
  {
   "attachments": {},
   "cell_type": "markdown",
   "metadata": {},
   "source": [
    "### Pregunta 1: Realizar preprocesamiento de datos: imputar valores faltantes, transformar variables categóricas, estandarizar variables numéricas, etc. "
   ]
  },
  {
   "cell_type": "code",
   "execution_count": 103,
   "metadata": {},
   "outputs": [
    {
     "data": {
      "text/html": [
       "<div>\n",
       "<style scoped>\n",
       "    .dataframe tbody tr th:only-of-type {\n",
       "        vertical-align: middle;\n",
       "    }\n",
       "\n",
       "    .dataframe tbody tr th {\n",
       "        vertical-align: top;\n",
       "    }\n",
       "\n",
       "    .dataframe thead th {\n",
       "        text-align: right;\n",
       "    }\n",
       "</style>\n",
       "<table border=\"1\" class=\"dataframe\">\n",
       "  <thead>\n",
       "    <tr style=\"text-align: right;\">\n",
       "      <th></th>\n",
       "      <th>id</th>\n",
       "      <th>feature_0</th>\n",
       "      <th>feature_1</th>\n",
       "      <th>feature_2</th>\n",
       "      <th>feature_3</th>\n",
       "      <th>feature_4</th>\n",
       "      <th>feature_5</th>\n",
       "      <th>feature_6</th>\n",
       "      <th>feature_7</th>\n",
       "      <th>feature_8</th>\n",
       "      <th>feature_9</th>\n",
       "      <th>feature_10</th>\n",
       "    </tr>\n",
       "  </thead>\n",
       "  <tbody>\n",
       "    <tr>\n",
       "      <th>0</th>\n",
       "      <td>0</td>\n",
       "      <td>01-07 17:04:08</td>\n",
       "      <td>2</td>\n",
       "      <td>1.20</td>\n",
       "      <td>263</td>\n",
       "      <td>141</td>\n",
       "      <td>12.513054</td>\n",
       "      <td>297.430685</td>\n",
       "      <td>56.317405</td>\n",
       "      <td>405.20</td>\n",
       "      <td>0.408689</td>\n",
       "      <td>126.689773</td>\n",
       "    </tr>\n",
       "    <tr>\n",
       "      <th>1</th>\n",
       "      <td>1</td>\n",
       "      <td>03-02 17:41:40</td>\n",
       "      <td>1</td>\n",
       "      <td>0.88</td>\n",
       "      <td>246</td>\n",
       "      <td>68</td>\n",
       "      <td>6.256527</td>\n",
       "      <td>278.205127</td>\n",
       "      <td>27.160167</td>\n",
       "      <td>314.88</td>\n",
       "      <td>-0.256911</td>\n",
       "      <td>126.693467</td>\n",
       "    </tr>\n",
       "    <tr>\n",
       "      <th>2</th>\n",
       "      <td>2</td>\n",
       "      <td>02-17 12:15:00</td>\n",
       "      <td>3</td>\n",
       "      <td>7.61</td>\n",
       "      <td>24</td>\n",
       "      <td>13</td>\n",
       "      <td>18.769581</td>\n",
       "      <td>27.141964</td>\n",
       "      <td>5.192385</td>\n",
       "      <td>44.61</td>\n",
       "      <td>56.880789</td>\n",
       "      <td>126.615789</td>\n",
       "    </tr>\n",
       "    <tr>\n",
       "      <th>3</th>\n",
       "      <td>3</td>\n",
       "      <td>03-30 13:59:42</td>\n",
       "      <td>1</td>\n",
       "      <td>1.50</td>\n",
       "      <td>239</td>\n",
       "      <td>163</td>\n",
       "      <td>6.256527</td>\n",
       "      <td>270.288721</td>\n",
       "      <td>65.104518</td>\n",
       "      <td>403.50</td>\n",
       "      <td>1.218689</td>\n",
       "      <td>126.686311</td>\n",
       "    </tr>\n",
       "    <tr>\n",
       "      <th>4</th>\n",
       "      <td>4</td>\n",
       "      <td>02-14 18:26:55</td>\n",
       "      <td>1</td>\n",
       "      <td>1.20</td>\n",
       "      <td>142</td>\n",
       "      <td>229</td>\n",
       "      <td>6.256527</td>\n",
       "      <td>160.589952</td>\n",
       "      <td>91.465857</td>\n",
       "      <td>372.20</td>\n",
       "      <td>0.408689</td>\n",
       "      <td>126.689773</td>\n",
       "    </tr>\n",
       "  </tbody>\n",
       "</table>\n",
       "</div>"
      ],
      "text/plain": [
       "   id       feature_0  feature_1  feature_2  feature_3  feature_4  feature_5  \\\n",
       "0   0  01-07 17:04:08          2       1.20        263        141  12.513054   \n",
       "1   1  03-02 17:41:40          1       0.88        246         68   6.256527   \n",
       "2   2  02-17 12:15:00          3       7.61         24         13  18.769581   \n",
       "3   3  03-30 13:59:42          1       1.50        239        163   6.256527   \n",
       "4   4  02-14 18:26:55          1       1.20        142        229   6.256527   \n",
       "\n",
       "    feature_6  feature_7  feature_8  feature_9  feature_10  \n",
       "0  297.430685  56.317405     405.20   0.408689  126.689773  \n",
       "1  278.205127  27.160167     314.88  -0.256911  126.693467  \n",
       "2   27.141964   5.192385      44.61  56.880789  126.615789  \n",
       "3  270.288721  65.104518     403.50   1.218689  126.686311  \n",
       "4  160.589952  91.465857     372.20   0.408689  126.689773  "
      ]
     },
     "execution_count": 103,
     "metadata": {},
     "output_type": "execute_result"
    }
   ],
   "source": [
    "uber_examples = pd.read_csv('uber_time_examples.csv')\n",
    "uber_examples.head(5)"
   ]
  },
  {
   "cell_type": "code",
   "execution_count": 104,
   "metadata": {},
   "outputs": [
    {
     "data": {
      "text/html": [
       "<div>\n",
       "<style scoped>\n",
       "    .dataframe tbody tr th:only-of-type {\n",
       "        vertical-align: middle;\n",
       "    }\n",
       "\n",
       "    .dataframe tbody tr th {\n",
       "        vertical-align: top;\n",
       "    }\n",
       "\n",
       "    .dataframe thead th {\n",
       "        text-align: right;\n",
       "    }\n",
       "</style>\n",
       "<table border=\"1\" class=\"dataframe\">\n",
       "  <thead>\n",
       "    <tr style=\"text-align: right;\">\n",
       "      <th></th>\n",
       "      <th>id</th>\n",
       "      <th>duration</th>\n",
       "    </tr>\n",
       "  </thead>\n",
       "  <tbody>\n",
       "    <tr>\n",
       "      <th>0</th>\n",
       "      <td>0</td>\n",
       "      <td>455.0</td>\n",
       "    </tr>\n",
       "    <tr>\n",
       "      <th>1</th>\n",
       "      <td>1</td>\n",
       "      <td>413.0</td>\n",
       "    </tr>\n",
       "    <tr>\n",
       "      <th>2</th>\n",
       "      <td>2</td>\n",
       "      <td>1501.0</td>\n",
       "    </tr>\n",
       "    <tr>\n",
       "      <th>3</th>\n",
       "      <td>3</td>\n",
       "      <td>514.0</td>\n",
       "    </tr>\n",
       "    <tr>\n",
       "      <th>4</th>\n",
       "      <td>4</td>\n",
       "      <td>605.0</td>\n",
       "    </tr>\n",
       "  </tbody>\n",
       "</table>\n",
       "</div>"
      ],
      "text/plain": [
       "   id  duration\n",
       "0   0     455.0\n",
       "1   1     413.0\n",
       "2   2    1501.0\n",
       "3   3     514.0\n",
       "4   4     605.0"
      ]
     },
     "execution_count": 104,
     "metadata": {},
     "output_type": "execute_result"
    }
   ],
   "source": [
    "uber_labels = pd.read_csv('uber_time_labels.csv')\n",
    "uber_labels.head(5)"
   ]
  },
  {
   "cell_type": "code",
   "execution_count": 118,
   "metadata": {},
   "outputs": [
    {
     "data": {
      "text/html": [
       "<div>\n",
       "<style scoped>\n",
       "    .dataframe tbody tr th:only-of-type {\n",
       "        vertical-align: middle;\n",
       "    }\n",
       "\n",
       "    .dataframe tbody tr th {\n",
       "        vertical-align: top;\n",
       "    }\n",
       "\n",
       "    .dataframe thead th {\n",
       "        text-align: right;\n",
       "    }\n",
       "</style>\n",
       "<table border=\"1\" class=\"dataframe\">\n",
       "  <thead>\n",
       "    <tr style=\"text-align: right;\">\n",
       "      <th></th>\n",
       "      <th>id</th>\n",
       "      <th>feature_0</th>\n",
       "      <th>feature_1</th>\n",
       "      <th>feature_2</th>\n",
       "      <th>feature_3</th>\n",
       "      <th>feature_4</th>\n",
       "      <th>feature_5</th>\n",
       "      <th>feature_6</th>\n",
       "      <th>feature_7</th>\n",
       "      <th>feature_8</th>\n",
       "      <th>feature_9</th>\n",
       "      <th>feature_10</th>\n",
       "      <th>duration</th>\n",
       "    </tr>\n",
       "  </thead>\n",
       "  <tbody>\n",
       "    <tr>\n",
       "      <th>262820</th>\n",
       "      <td>262820</td>\n",
       "      <td>01-10 07:52:55</td>\n",
       "      <td>1</td>\n",
       "      <td>8.37</td>\n",
       "      <td>138</td>\n",
       "      <td>100</td>\n",
       "      <td>6.256527</td>\n",
       "      <td>156.066291</td>\n",
       "      <td>39.941422</td>\n",
       "      <td>246.37</td>\n",
       "      <td>69.025589</td>\n",
       "      <td>126.607017</td>\n",
       "      <td>2040.0</td>\n",
       "    </tr>\n",
       "    <tr>\n",
       "      <th>53184</th>\n",
       "      <td>53184</td>\n",
       "      <td>02-13 11:48:50</td>\n",
       "      <td>5</td>\n",
       "      <td>6.47</td>\n",
       "      <td>137</td>\n",
       "      <td>83</td>\n",
       "      <td>31.282635</td>\n",
       "      <td>154.935376</td>\n",
       "      <td>33.151380</td>\n",
       "      <td>226.47</td>\n",
       "      <td>40.829589</td>\n",
       "      <td>126.628947</td>\n",
       "      <td>1771.0</td>\n",
       "    </tr>\n",
       "    <tr>\n",
       "      <th>336054</th>\n",
       "      <td>336054</td>\n",
       "      <td>03-09 21:13:34</td>\n",
       "      <td>1</td>\n",
       "      <td>4.80</td>\n",
       "      <td>114</td>\n",
       "      <td>145</td>\n",
       "      <td>6.256527</td>\n",
       "      <td>128.924327</td>\n",
       "      <td>57.915062</td>\n",
       "      <td>263.80</td>\n",
       "      <td>22.008689</td>\n",
       "      <td>126.648222</td>\n",
       "      <td>1694.0</td>\n",
       "    </tr>\n",
       "    <tr>\n",
       "      <th>51332</th>\n",
       "      <td>51332</td>\n",
       "      <td>03-26 09:18:45</td>\n",
       "      <td>5</td>\n",
       "      <td>2.18</td>\n",
       "      <td>238</td>\n",
       "      <td>163</td>\n",
       "      <td>31.282635</td>\n",
       "      <td>269.157806</td>\n",
       "      <td>65.104518</td>\n",
       "      <td>403.18</td>\n",
       "      <td>3.721089</td>\n",
       "      <td>126.678462</td>\n",
       "      <td>685.0</td>\n",
       "    </tr>\n",
       "    <tr>\n",
       "      <th>176968</th>\n",
       "      <td>176968</td>\n",
       "      <td>02-01 14:38:33</td>\n",
       "      <td>1</td>\n",
       "      <td>1.60</td>\n",
       "      <td>151</td>\n",
       "      <td>142</td>\n",
       "      <td>6.256527</td>\n",
       "      <td>170.768188</td>\n",
       "      <td>56.716819</td>\n",
       "      <td>294.60</td>\n",
       "      <td>1.528689</td>\n",
       "      <td>126.685156</td>\n",
       "      <td>467.0</td>\n",
       "    </tr>\n",
       "  </tbody>\n",
       "</table>\n",
       "</div>"
      ],
      "text/plain": [
       "            id       feature_0  feature_1  feature_2  feature_3  feature_4  \\\n",
       "262820  262820  01-10 07:52:55          1       8.37        138        100   \n",
       "53184    53184  02-13 11:48:50          5       6.47        137         83   \n",
       "336054  336054  03-09 21:13:34          1       4.80        114        145   \n",
       "51332    51332  03-26 09:18:45          5       2.18        238        163   \n",
       "176968  176968  02-01 14:38:33          1       1.60        151        142   \n",
       "\n",
       "        feature_5   feature_6  feature_7  feature_8  feature_9  feature_10  \\\n",
       "262820   6.256527  156.066291  39.941422     246.37  69.025589  126.607017   \n",
       "53184   31.282635  154.935376  33.151380     226.47  40.829589  126.628947   \n",
       "336054   6.256527  128.924327  57.915062     263.80  22.008689  126.648222   \n",
       "51332   31.282635  269.157806  65.104518     403.18   3.721089  126.678462   \n",
       "176968   6.256527  170.768188  56.716819     294.60   1.528689  126.685156   \n",
       "\n",
       "        duration  \n",
       "262820    2040.0  \n",
       "53184     1771.0  \n",
       "336054    1694.0  \n",
       "51332      685.0  \n",
       "176968     467.0  "
      ]
     },
     "execution_count": 118,
     "metadata": {},
     "output_type": "execute_result"
    }
   ],
   "source": [
    "random_num = 1000\n",
    "uber_df = pd.merge(uber_examples, uber_labels, on = 'id', how = 'left').sample(20000, random_state = random_num)\n",
    "uber_df.head(5)"
   ]
  },
  {
   "cell_type": "code",
   "execution_count": 122,
   "metadata": {},
   "outputs": [],
   "source": [
    "valores_faltantes = uber_df.isnull()"
   ]
  },
  {
   "cell_type": "code",
   "execution_count": 124,
   "metadata": {},
   "outputs": [
    {
     "data": {
      "text/plain": [
       "id            0\n",
       "feature_0     0\n",
       "feature_1     0\n",
       "feature_2     0\n",
       "feature_3     0\n",
       "feature_4     0\n",
       "feature_5     0\n",
       "feature_6     0\n",
       "feature_7     0\n",
       "feature_8     0\n",
       "feature_9     0\n",
       "feature_10    0\n",
       "duration      0\n",
       "dtype: int64"
      ]
     },
     "execution_count": 124,
     "metadata": {},
     "output_type": "execute_result"
    }
   ],
   "source": [
    "total_valores_faltantes_por_columna = valores_faltantes.sum()\n",
    "total_valores_faltantes_por_columna"
   ]
  },
  {
   "cell_type": "code",
   "execution_count": 127,
   "metadata": {},
   "outputs": [
    {
     "data": {
      "text/plain": [
       "id              int64\n",
       "feature_0      object\n",
       "feature_1       int64\n",
       "feature_2     float64\n",
       "feature_3       int64\n",
       "feature_4       int64\n",
       "feature_5     float64\n",
       "feature_6     float64\n",
       "feature_7     float64\n",
       "feature_8     float64\n",
       "feature_9     float64\n",
       "feature_10    float64\n",
       "duration      float64\n",
       "dtype: object"
      ]
     },
     "execution_count": 127,
     "metadata": {},
     "output_type": "execute_result"
    }
   ],
   "source": [
    "uber_df.dtypes"
   ]
  },
  {
   "cell_type": "code",
   "execution_count": 128,
   "metadata": {},
   "outputs": [
    {
     "data": {
      "text/plain": [
       "id            20000\n",
       "feature_0     19963\n",
       "feature_1         7\n",
       "feature_2      1483\n",
       "feature_3       136\n",
       "feature_4       216\n",
       "feature_5         7\n",
       "feature_6       136\n",
       "feature_7       216\n",
       "feature_8     11114\n",
       "feature_9      1483\n",
       "feature_10     1483\n",
       "duration       2777\n",
       "dtype: int64"
      ]
     },
     "execution_count": 128,
     "metadata": {},
     "output_type": "execute_result"
    }
   ],
   "source": [
    "uber_df.nunique()"
   ]
  },
  {
   "cell_type": "code",
   "execution_count": 133,
   "metadata": {},
   "outputs": [
    {
     "data": {
      "text/plain": [
       "array([1, 5, 2, 4, 0, 3, 6])"
      ]
     },
     "execution_count": 133,
     "metadata": {},
     "output_type": "execute_result"
    }
   ],
   "source": [
    "uber_df['feature_1'].unique()"
   ]
  },
  {
   "cell_type": "code",
   "execution_count": null,
   "metadata": {},
   "outputs": [],
   "source": [
    "# Cambio de tipología de variables\n",
    "\n",
    "uber_df['id'] = uber_df['id'].astype(str) # el identificador no se considera un dato que se deba tratar numericamente\n",
    "uber_df['feature_0'] = pd.to_datetime(uber_df['feature_0'], format='%m-%d %H:%M:%S') # la fecha se puede tratar mejor en un formato propio\n",
    "pd.DataFrame(uber_df.dtypes).T"
   ]
  },
  {
   "attachments": {},
   "cell_type": "markdown",
   "metadata": {},
   "source": [
    "### Pregunta 2: Crear nuevas características (features) que puedan mejorar el poder predictivo del modelo."
   ]
  },
  {
   "cell_type": "code",
   "execution_count": null,
   "metadata": {},
   "outputs": [],
   "source": []
  },
  {
   "attachments": {},
   "cell_type": "markdown",
   "metadata": {},
   "source": [
    "### Pregunta 3: Seleccionar las características más relevantes para predecir la duración del viaje. \n",
    "- Utilizar técnicas de selección de características basadas en una sola variable o SelectFromModel. \n",
    "- Evitar Recursive feature elimination debido a su alto coste computacional."
   ]
  },
  {
   "cell_type": "code",
   "execution_count": null,
   "metadata": {},
   "outputs": [],
   "source": []
  },
  {
   "attachments": {},
   "cell_type": "markdown",
   "metadata": {},
   "source": [
    "### Pregunta 4: Entrenar un modelo sencillo como base y medir su MAPE (Mean Absolute Percentage Error) en el conjunto de test. Luego, elegir y entrenar dos modelos más avanzados (por ejemplo, ensambladores, máquinas de soporte vectorial, modelos bayesianos, redes neuronales) y comparar sus MAPEs."
   ]
  },
  {
   "cell_type": "code",
   "execution_count": null,
   "metadata": {},
   "outputs": [],
   "source": []
  },
  {
   "attachments": {},
   "cell_type": "markdown",
   "metadata": {},
   "source": [
    "### Pregunta 5: Optimizar los hiperparámetros de los dos últimos modelos utilizando validación cruzada (cross-validation) y comparar sus MAPEs. Elegir el mejor modelo basándose en estos resultados."
   ]
  },
  {
   "cell_type": "code",
   "execution_count": null,
   "metadata": {},
   "outputs": [],
   "source": []
  },
  {
   "attachments": {},
   "cell_type": "markdown",
   "metadata": {},
   "source": [
    "## Parte 2: Detección de emergencias en tweets"
   ]
  },
  {
   "attachments": {},
   "cell_type": "markdown",
   "metadata": {},
   "source": [
    "### Pregunta 1: Extraer los embeddings del texto de los tweets utilizando un modelo pre-entrenado de Huggingface."
   ]
  },
  {
   "cell_type": "code",
   "execution_count": null,
   "metadata": {},
   "outputs": [],
   "source": []
  },
  {
   "attachments": {},
   "cell_type": "markdown",
   "metadata": {},
   "source": [
    "### Pregunta 2: Crear y entrenar una pequeña red neuronal que utilice los embeddings, la palabra clave (keyword) y la ubicación (location) para predecir si un tweet está relacionado con una emergencia o no. Gestionar los valores faltantes y agrupar las variables categóricas de manera adecuada."
   ]
  },
  {
   "cell_type": "code",
   "execution_count": null,
   "metadata": {},
   "outputs": [],
   "source": []
  }
 ],
 "metadata": {
  "kernelspec": {
   "display_name": "umap",
   "language": "python",
   "name": "python3"
  },
  "language_info": {
   "codemirror_mode": {
    "name": "ipython",
    "version": 3
   },
   "file_extension": ".py",
   "mimetype": "text/x-python",
   "name": "python",
   "nbconvert_exporter": "python",
   "pygments_lexer": "ipython3",
   "version": "3.8.15"
  },
  "orig_nbformat": 4
 },
 "nbformat": 4,
 "nbformat_minor": 2
}
