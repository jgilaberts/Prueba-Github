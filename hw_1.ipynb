{
 "cells": [
  {
   "cell_type": "markdown",
   "id": "6046db35",
   "metadata": {},
   "source": [
    "Group members:\n",
    "* Student 1: Javier Gilabert Sabater\n",
    "* Student 2: Lucia Alonso Arias"
   ]
  },
  {
   "cell_type": "markdown",
   "id": "c65995f8",
   "metadata": {},
   "source": [
    "## 1"
   ]
  },
  {
   "cell_type": "markdown",
   "id": "8428925f",
   "metadata": {},
   "source": [
    "Write a function, that receives a string, and displays the characteres that are present at an even index number. Execute it with two different input strings."
   ]
  },
  {
   "cell_type": "code",
   "execution_count": 1,
   "id": "b96d9b8d",
   "metadata": {},
   "outputs": [],
   "source": [
    "# EXAMPLE: get_evenidx(\"abcdef\") shoud return \"ace\""
   ]
  },
  {
   "cell_type": "code",
   "execution_count": 2,
   "id": "6c212c35",
   "metadata": {},
   "outputs": [],
   "source": [
    "## DEFINE THE FUNCTION HERE ##\n",
    "def get_evenidx(input_string):\n",
    "    even_characters = \"\"\n",
    "    for index in range(len(input_string)):\n",
    "        if index % 2 == 0:\n",
    "            even_characters += input_string[index]\n",
    "    return even_characters\n"
   ]
  },
  {
   "cell_type": "code",
   "execution_count": 3,
   "id": "498deb4f",
   "metadata": {},
   "outputs": [
    {
     "data": {
      "text/plain": [
       "'Ilv rdtrs'"
      ]
     },
     "execution_count": 3,
     "metadata": {},
     "output_type": "execute_result"
    }
   ],
   "source": [
    "# execution 1. Input string = \"I love credit risk\"\n",
    "\n",
    "## WRITE YOUR CODE HERE ##\n",
    "input_str1 = \"I love credit risk\"\n",
    "result1 = get_evenidx(input_str1)\n",
    "result1"
   ]
  },
  {
   "cell_type": "code",
   "execution_count": 4,
   "id": "19a47583",
   "metadata": {},
   "outputs": [
    {
     "data": {
      "text/plain": [
       "'Pto  sfn'"
      ]
     },
     "execution_count": 4,
     "metadata": {},
     "output_type": "execute_result"
    }
   ],
   "source": [
    "# execution 2. Input string = \"Python 3 is fun\"\n",
    "\n",
    "## WRITE YOUR CODE HERE ##\n",
    "input_str2 = \"Python 3 is fun\"\n",
    "result1_2 = get_evenidx(input_str2)\n",
    "result1_2"
   ]
  },
  {
   "cell_type": "markdown",
   "id": "d56cd478",
   "metadata": {},
   "source": [
    "## 2"
   ]
  },
  {
   "cell_type": "markdown",
   "id": "ca0fd354",
   "metadata": {},
   "source": [
    "Write a function that will accept the base and height of a triangle and compute the area."
   ]
  },
  {
   "cell_type": "code",
   "execution_count": 5,
   "id": "d38eaf94",
   "metadata": {},
   "outputs": [],
   "source": [
    "# EXAMPLE: area_triangle(base=3, height=2) should return 3. Area = 1/2 * base * height"
   ]
  },
  {
   "cell_type": "code",
   "execution_count": 6,
   "id": "bd457438",
   "metadata": {},
   "outputs": [],
   "source": [
    "## DEFINE THE FUNCTION HERE ##\n",
    "def area_triangle(base, height):\n",
    "    area = (1/2) * base * height\n",
    "    return area"
   ]
  },
  {
   "cell_type": "code",
   "execution_count": 7,
   "id": "ef587d63",
   "metadata": {},
   "outputs": [
    {
     "data": {
      "text/plain": [
       "2.5"
      ]
     },
     "execution_count": 7,
     "metadata": {},
     "output_type": "execute_result"
    }
   ],
   "source": [
    "# execution 1. Inputs: base=5, height=1\n",
    "\n",
    "## WRITE YOUR CODE HERE ##\n",
    "base1 = 5\n",
    "height1 = 1\n",
    "result2 = area_triangle(base1, height1)\n",
    "result2"
   ]
  },
  {
   "cell_type": "code",
   "execution_count": 8,
   "id": "e9b7bb8a",
   "metadata": {},
   "outputs": [
    {
     "data": {
      "text/plain": [
       "7.0"
      ]
     },
     "execution_count": 8,
     "metadata": {},
     "output_type": "execute_result"
    }
   ],
   "source": [
    "# execution 2. Inputs: base=2, height=7\n",
    "\n",
    "## WRITE YOUR CODE HERE ##\n",
    "base2 = 2\n",
    "height2 = 7\n",
    "result2_2 = area_triangle(base2, height2)\n",
    "result2_2"
   ]
  },
  {
   "cell_type": "markdown",
   "id": "09e23c7e",
   "metadata": {},
   "source": [
    "## 3"
   ]
  },
  {
   "cell_type": "markdown",
   "id": "7fce2cb8",
   "metadata": {},
   "source": [
    "Write a function that checks whether if the first and last element of a list is the same."
   ]
  },
  {
   "cell_type": "code",
   "execution_count": null,
   "id": "217828db",
   "metadata": {},
   "outputs": [],
   "source": [
    "# EXAMPLE: check_extremes([1, 2, 'a', 'z', 1]) should return True\n",
    "# EXAMPLE: check_extremes([1, 2, 'a', 'z', '@']) should return False"
   ]
  },
  {
   "cell_type": "code",
   "execution_count": 13,
   "id": "a87574b9",
   "metadata": {},
   "outputs": [],
   "source": [
    "## DEFINE THE FUNCTION HERE ##\n",
    "def check_extremes(input_list):\n",
    "    if input_list[0] == input_list[-1]:\n",
    "        return True\n",
    "    else:\n",
    "        return False"
   ]
  },
  {
   "cell_type": "code",
   "execution_count": 18,
   "id": "a39e1b17",
   "metadata": {},
   "outputs": [
    {
     "data": {
      "text/plain": [
       "False"
      ]
     },
     "execution_count": 18,
     "metadata": {},
     "output_type": "execute_result"
    }
   ],
   "source": [
    "# Execution 1. Inputs: [1, 2, 3, 4, 5, 6, 7]\n",
    "\n",
    "## WRITE YOUR CODE HERE ##\n",
    "list1 = [1, 2, 3, 4, 5, 6, 7]\n",
    "result3 = check_extremes(list1)\n",
    "result3"
   ]
  },
  {
   "cell_type": "code",
   "execution_count": 19,
   "id": "894b2a3e",
   "metadata": {},
   "outputs": [
    {
     "data": {
      "text/plain": [
       "True"
      ]
     },
     "execution_count": 19,
     "metadata": {},
     "output_type": "execute_result"
    }
   ],
   "source": [
    "# Execution 2. Inputs: [9, 'w', '3', 1, 9]\n",
    "\n",
    "## WRITE YOUR CODE HERE ##\n",
    "list2 = [9, 'w', '3', 1, 9]\n",
    "result3_2 = check_extremes(list2)\n",
    "result3_2"
   ]
  },
  {
   "cell_type": "markdown",
   "id": "f488d0b5",
   "metadata": {},
   "source": [
    "## 4"
   ]
  },
  {
   "cell_type": "markdown",
   "id": "71227313",
   "metadata": {},
   "source": [
    "Write a function, which receives two lists, and returns the sorted unique elements of both lists."
   ]
  },
  {
   "cell_type": "code",
   "execution_count": null,
   "id": "5cc54ec1",
   "metadata": {},
   "outputs": [],
   "source": [
    "# EXAMPLE: unique_sorted([1, 3, 2, 2], [0, 1, 0, -1]) should return [-1, 0, 1, 2, 3]"
   ]
  },
  {
   "cell_type": "code",
   "execution_count": 21,
   "id": "59e788e3",
   "metadata": {},
   "outputs": [],
   "source": [
    "## DEFINE THE FUNCTION HERE ##\n",
    "def unique_sorted(list1, list2):\n",
    "    merged_list = list(set(list1 + list2))\n",
    "    sorted_list = sorted(merged_list)\n",
    "    return sorted_list"
   ]
  },
  {
   "cell_type": "code",
   "execution_count": 24,
   "id": "3856d9ec",
   "metadata": {},
   "outputs": [
    {
     "data": {
      "text/plain": [
       "[-1, 0, 1, 2, 3, 4, 5, 999]"
      ]
     },
     "execution_count": 24,
     "metadata": {},
     "output_type": "execute_result"
    }
   ],
   "source": [
    "# Execution 1. Inputs: [-1, 2, 3, 0, -1, 0, 5], [1, 2, 3, 4, 5, 999]\n",
    "\n",
    "## WRITE YOUR CODE HERE ##\n",
    "list3 = [-1, 2, 3, 0, -1, 0, 5]\n",
    "list4 = [1, 2, 3, 4, 5, 999]\n",
    "result4 = unique_sorted(list3, list4)\n",
    "result4"
   ]
  },
  {
   "cell_type": "code",
   "execution_count": 25,
   "id": "ddc08967",
   "metadata": {},
   "outputs": [
    {
     "data": {
      "text/plain": [
       "[-5, -4, 3.14, 4, 8, 9, 10, 44]"
      ]
     },
     "execution_count": 25,
     "metadata": {},
     "output_type": "execute_result"
    }
   ],
   "source": [
    "# Execution 1. Inputs: [10, -5, 3.14, 8, 9, 4], [44, 4, 9, -4, -5]\n",
    "\n",
    "## WRITE YOUR CODE HERE ##\n",
    "list5 = [10, -5, 3.14, 8, 9, 4]\n",
    "list6 = [44, 4, 9, -4, -5]\n",
    "result4_2 = unique_sorted(list5, list6)\n",
    "result4_2"
   ]
  },
  {
   "cell_type": "markdown",
   "id": "700444cd",
   "metadata": {},
   "source": [
    "## 5"
   ]
  },
  {
   "cell_type": "markdown",
   "id": "f36f840e",
   "metadata": {},
   "source": [
    "Write a function that checks whether if a number is a Palindrome number."
   ]
  },
  {
   "cell_type": "code",
   "execution_count": null,
   "id": "91ffb172",
   "metadata": {},
   "outputs": [],
   "source": [
    "# EXAMPLE: is_palindrome(141) should return True\n",
    "# EXAMPLE: is_palindrome(142) should return False"
   ]
  },
  {
   "cell_type": "code",
   "execution_count": 26,
   "id": "b4ac3738",
   "metadata": {},
   "outputs": [],
   "source": [
    "## DEFINE THE FUNCTION HERE ##\n",
    "def is_palindrome(number):\n",
    "    num_str = str(number)\n",
    "    reversed_str = num_str[::-1]\n",
    "    return num_str == reversed_str"
   ]
  },
  {
   "cell_type": "code",
   "execution_count": 27,
   "id": "44d1efab",
   "metadata": {},
   "outputs": [
    {
     "data": {
      "text/plain": [
       "True"
      ]
     },
     "execution_count": 27,
     "metadata": {},
     "output_type": "execute_result"
    }
   ],
   "source": [
    "# Execution 1. Input: 252\n",
    "\n",
    "## WRITE YOUR CODE HERE ##\n",
    "number1 = 252\n",
    "result5 = is_palindrome(number1)\n",
    "result5"
   ]
  },
  {
   "cell_type": "code",
   "execution_count": 28,
   "id": "ad4f423b",
   "metadata": {},
   "outputs": [
    {
     "data": {
      "text/plain": [
       "False"
      ]
     },
     "execution_count": 28,
     "metadata": {},
     "output_type": "execute_result"
    }
   ],
   "source": [
    "# Execution 2. Inputs: 1000\n",
    "\n",
    "## WRITE YOUR CODE HERE ##\n",
    "number2 = 1000\n",
    "result5_2 = is_palindrome(number2)\n",
    "result5_2"
   ]
  },
  {
   "cell_type": "markdown",
   "id": "726c1ff3",
   "metadata": {},
   "source": [
    "## 6"
   ]
  },
  {
   "cell_type": "markdown",
   "id": "e5219d27",
   "metadata": {},
   "source": [
    "Write a function that generates 200 random integers between 0 and 10, and then compute the mean, median and the most frequent number. Use random.randint() to generate the random integers, and numpy to compute the statistics."
   ]
  },
  {
   "cell_type": "code",
   "execution_count": 29,
   "id": "c3c62705",
   "metadata": {},
   "outputs": [],
   "source": [
    "import random\n",
    "import numpy as np"
   ]
  },
  {
   "cell_type": "code",
   "execution_count": 30,
   "id": "62cff66c",
   "metadata": {},
   "outputs": [],
   "source": [
    "def generate_and_compute_stats():\n",
    "    random_integers = [random.randint(0, 10) for _ in range(200)]\n",
    "    mean = np.mean(random_integers)\n",
    "    median = np.median(random_integers)\n",
    "    #Code below to calculate the most frequent number.\n",
    "    frequency = {}\n",
    "    most_frequent = None\n",
    "    max_frequency = 0\n",
    "    \n",
    "    for num in random_integers:\n",
    "        if num in frequency:\n",
    "            frequency[num] += 1\n",
    "        else:\n",
    "            frequency[num] = 1\n",
    "        \n",
    "        if frequency[num] > max_frequency:\n",
    "            max_frequency = frequency[num]\n",
    "            most_frequent = num\n",
    "    \n",
    "    return mean, median, most_frequent"
   ]
  },
  {
   "cell_type": "code",
   "execution_count": 49,
   "id": "e75bd6ad",
   "metadata": {},
   "outputs": [
    {
     "name": "stdout",
     "output_type": "stream",
     "text": [
      "mean: 4.955 | median: 5.0 | most_frequent: 5\n"
     ]
    }
   ],
   "source": [
    "mean, median, most_frequent = generate_and_compute_stats()\n",
    "print(f'mean: {mean}',f'| median: {median}',f'| most_frequent: {most_frequent}')\n",
    " #     ,f'median':{median},f'most_frequent':{most_frequent})"
   ]
  }
 ],
 "metadata": {
  "kernelspec": {
   "display_name": "Python 3 (ipykernel)",
   "language": "python",
   "name": "python3"
  },
  "language_info": {
   "codemirror_mode": {
    "name": "ipython",
    "version": 3
   },
   "file_extension": ".py",
   "mimetype": "text/x-python",
   "name": "python",
   "nbconvert_exporter": "python",
   "pygments_lexer": "ipython3",
   "version": "3.10.8"
  }
 },
 "nbformat": 4,
 "nbformat_minor": 5
}
