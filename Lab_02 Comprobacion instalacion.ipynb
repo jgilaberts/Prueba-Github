{
 "cells": [
  {
   "cell_type": "markdown",
   "metadata": {},
   "source": [
    "# Comprobación de instalación de NLTK y spaCy"
   ]
  },
  {
   "cell_type": "code",
   "execution_count": 1,
   "metadata": {},
   "outputs": [],
   "source": [
    "import nltk"
   ]
  },
  {
   "cell_type": "code",
   "execution_count": 2,
   "metadata": {},
   "outputs": [],
   "source": [
    "import spacy"
   ]
  },
  {
   "cell_type": "code",
   "execution_count": 3,
   "metadata": {},
   "outputs": [],
   "source": [
    "import pandas as pd\n",
    "# importa las librerias de nltk y de spacy\n",
    "nlp_es = spacy.load('es_core_news_lg')\n",
    "\n",
    "frase_eng = \"To be or not to be, that is the question\"\n",
    "frase_esp = \"Ser o no ser, esa es la cuestión\""
   ]
  },
  {
   "cell_type": "code",
   "execution_count": 4,
   "metadata": {},
   "outputs": [
    {
     "name": "stdout",
     "output_type": "stream",
     "text": [
      "Tokens\n",
      "['To', 'be', 'or', 'not', 'to', 'be', ',', 'that', 'is', 'the', 'question']\n"
     ]
    }
   ],
   "source": [
    "## NLTK\n",
    "\n",
    "print(\"Tokens\")\n",
    "tokens = nltk.word_tokenize(frase_eng)\n",
    "print(tokens)"
   ]
  },
  {
   "cell_type": "code",
   "execution_count": 5,
   "metadata": {},
   "outputs": [
    {
     "data": {
      "text/html": [
       "<div>\n",
       "<style scoped>\n",
       "    .dataframe tbody tr th:only-of-type {\n",
       "        vertical-align: middle;\n",
       "    }\n",
       "\n",
       "    .dataframe tbody tr th {\n",
       "        vertical-align: top;\n",
       "    }\n",
       "\n",
       "    .dataframe thead th {\n",
       "        text-align: right;\n",
       "    }\n",
       "</style>\n",
       "<table border=\"1\" class=\"dataframe\">\n",
       "  <thead>\n",
       "    <tr style=\"text-align: right;\">\n",
       "      <th></th>\n",
       "      <th>0</th>\n",
       "      <th>1</th>\n",
       "      <th>2</th>\n",
       "      <th>3</th>\n",
       "      <th>4</th>\n",
       "      <th>5</th>\n",
       "      <th>6</th>\n",
       "      <th>7</th>\n",
       "      <th>8</th>\n",
       "    </tr>\n",
       "  </thead>\n",
       "  <tbody>\n",
       "    <tr>\n",
       "      <th>Palabra</th>\n",
       "      <td>Ser</td>\n",
       "      <td>o</td>\n",
       "      <td>no</td>\n",
       "      <td>ser</td>\n",
       "      <td>,</td>\n",
       "      <td>esa</td>\n",
       "      <td>es</td>\n",
       "      <td>la</td>\n",
       "      <td>cuestión</td>\n",
       "    </tr>\n",
       "    <tr>\n",
       "      <th>F. Canónica</th>\n",
       "      <td>ser</td>\n",
       "      <td>o</td>\n",
       "      <td>no</td>\n",
       "      <td>ser</td>\n",
       "      <td>,</td>\n",
       "      <td>ese</td>\n",
       "      <td>ser</td>\n",
       "      <td>el</td>\n",
       "      <td>cuestión</td>\n",
       "    </tr>\n",
       "    <tr>\n",
       "      <th>POS</th>\n",
       "      <td>AUX</td>\n",
       "      <td>CCONJ</td>\n",
       "      <td>ADV</td>\n",
       "      <td>AUX</td>\n",
       "      <td>PUNCT</td>\n",
       "      <td>PRON</td>\n",
       "      <td>AUX</td>\n",
       "      <td>DET</td>\n",
       "      <td>NOUN</td>\n",
       "    </tr>\n",
       "  </tbody>\n",
       "</table>\n",
       "</div>"
      ],
      "text/plain": [
       "               0      1    2    3      4     5    6    7         8\n",
       "Palabra      Ser      o   no  ser      ,   esa   es   la  cuestión\n",
       "F. Canónica  ser      o   no  ser      ,   ese  ser   el  cuestión\n",
       "POS          AUX  CCONJ  ADV  AUX  PUNCT  PRON  AUX  DET      NOUN"
      ]
     },
     "execution_count": 5,
     "metadata": {},
     "output_type": "execute_result"
    }
   ],
   "source": [
    "## spaCy\n",
    "\n",
    "docum_analizado = nlp_es(frase_esp)\n",
    "\n",
    "spacy_pos_tagged = [(palabra.text, palabra.lemma_, palabra.pos_) for palabra in docum_analizado]\n",
    "pd.DataFrame(spacy_pos_tagged, columns=['Palabra', 'F. Canónica', 'POS']).T"
   ]
  },
  {
   "cell_type": "code",
   "execution_count": null,
   "metadata": {},
   "outputs": [],
   "source": []
  }
 ],
 "metadata": {
  "kernelspec": {
   "display_name": "Python 3.8.5 ('base')",
   "language": "python",
   "name": "python3"
  },
  "language_info": {
   "codemirror_mode": {
    "name": "ipython",
    "version": 3
   },
   "file_extension": ".py",
   "mimetype": "text/x-python",
   "name": "python",
   "nbconvert_exporter": "python",
   "pygments_lexer": "ipython3",
   "version": "3.10.8"
  },
  "varInspector": {
   "cols": {
    "lenName": 16,
    "lenType": 16,
    "lenVar": 40
   },
   "kernels_config": {
    "python": {
     "delete_cmd_postfix": "",
     "delete_cmd_prefix": "del ",
     "library": "var_list.py",
     "varRefreshCmd": "print(var_dic_list())"
    },
    "r": {
     "delete_cmd_postfix": ") ",
     "delete_cmd_prefix": "rm(",
     "library": "var_list.r",
     "varRefreshCmd": "cat(var_dic_list()) "
    }
   },
   "oldHeight": 122.852,
   "position": {
    "height": "40px",
    "left": "991px",
    "right": "20px",
    "top": "49px",
    "width": "250px"
   },
   "types_to_exclude": [
    "module",
    "function",
    "builtin_function_or_method",
    "instance",
    "_Feature"
   ],
   "varInspector_section_display": "none",
   "window_display": true
  },
  "vscode": {
   "interpreter": {
    "hash": "107fb03afb2754bdb3cdbb13c1c83d7d6037442339c22e5ee8cf40869e8513c5"
   }
  }
 },
 "nbformat": 4,
 "nbformat_minor": 4
}
