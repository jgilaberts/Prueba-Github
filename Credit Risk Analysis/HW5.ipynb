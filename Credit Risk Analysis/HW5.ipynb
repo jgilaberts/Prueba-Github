{
 "cells": [
  {
   "cell_type": "markdown",
   "metadata": {},
   "source": [
    "# HW5"
   ]
  },
  {
   "cell_type": "markdown",
   "metadata": {},
   "source": [
    "Miembros del grupo:\n",
    "- Javier Gilabert  \n",
    "- Lucia Alonso\n",
    "-"
   ]
  },
  {
   "cell_type": "code",
   "execution_count": null,
   "metadata": {},
   "outputs": [],
   "source": [
    "# ! pip install seaborn"
   ]
  },
  {
   "cell_type": "code",
   "execution_count": 1,
   "metadata": {
    "ExecuteTime": {
     "end_time": "2019-04-15T18:44:28.074231Z",
     "start_time": "2019-04-15T18:44:26.402396Z"
    }
   },
   "outputs": [],
   "source": [
    "import pandas as pd\n",
    "import numpy as np\n",
    "import matplotlib.pyplot as plt\n",
    "import seaborn as sns\n",
    "%matplotlib inline"
   ]
  },
  {
   "cell_type": "markdown",
   "metadata": {},
   "source": [
    "### Read data"
   ]
  },
  {
   "cell_type": "code",
   "execution_count": 3,
   "metadata": {
    "ExecuteTime": {
     "end_time": "2019-04-15T18:44:28.458976Z",
     "start_time": "2019-04-15T18:44:28.080437Z"
    }
   },
   "outputs": [
    {
     "name": "stderr",
     "output_type": "stream",
     "text": [
      "/tmp/ipykernel_1635/1126015950.py:1: DtypeWarning: Columns (3) have mixed types. Specify dtype option on import or set low_memory=False.\n",
      "  df = pd.read_csv('prosperLoanData_train.csv')\n"
     ]
    }
   ],
   "source": [
    "df = pd.read_csv('prosperLoanData_train.csv')\n",
    "df_oot = pd.read_csv('prosperLoanData_oot.csv')"
   ]
  },
  {
   "cell_type": "code",
   "execution_count": 4,
   "metadata": {
    "ExecuteTime": {
     "end_time": "2019-04-15T18:44:28.512408Z",
     "start_time": "2019-04-15T18:44:28.465199Z"
    }
   },
   "outputs": [
    {
     "data": {
      "text/plain": [
       "bad\n",
       "False    15927\n",
       "True      1060\n",
       "dtype: int64"
      ]
     },
     "execution_count": 4,
     "metadata": {},
     "output_type": "execute_result"
    }
   ],
   "source": [
    "df.groupby('bad').size()"
   ]
  },
  {
   "cell_type": "markdown",
   "metadata": {},
   "source": [
    "## Differenciate between usable features and other columns"
   ]
  },
  {
   "cell_type": "code",
   "execution_count": 12,
   "metadata": {
    "ExecuteTime": {
     "end_time": "2019-04-15T18:44:28.613602Z",
     "start_time": "2019-04-15T18:44:28.521902Z"
    }
   },
   "outputs": [],
   "source": [
    "df_columns = pd.read_excel(\"Clasificacion_columnas_DS2.xlsx\")\n",
    "drop = df_columns.loc[df_columns[\"Keep/Drop\"]==\"Drop\"]"
   ]
  },
  {
   "cell_type": "code",
   "execution_count": 13,
   "metadata": {
    "ExecuteTime": {
     "end_time": "2019-04-15T18:44:28.665514Z",
     "start_time": "2019-04-15T18:44:28.639849Z"
    }
   },
   "outputs": [],
   "source": [
    "features = [c for c in df.columns if c not in drop.Column.values]\n",
    "col_target = 'bad'"
   ]
  },
  {
   "cell_type": "code",
   "execution_count": 14,
   "metadata": {},
   "outputs": [
    {
     "data": {
      "text/plain": [
       "['CreditGrade',\n",
       " 'BorrowerAPR',\n",
       " 'BorrowerRate',\n",
       " 'ProsperScore',\n",
       " 'ListingCategory (numeric)',\n",
       " 'Occupation',\n",
       " 'EmploymentStatus',\n",
       " 'EmploymentStatusDuration',\n",
       " 'IsBorrowerHomeowner',\n",
       " 'CurrentlyInGroup',\n",
       " 'CreditScoreRangeLower',\n",
       " 'OpenCreditLines',\n",
       " 'TotalCreditLinespast7years',\n",
       " 'TotalInquiries',\n",
       " 'DelinquenciesLast7Years',\n",
       " 'BankcardUtilization',\n",
       " 'AvailableBankcardCredit',\n",
       " 'DebtToIncomeRatio',\n",
       " 'LoanMonthsSinceOrigination',\n",
       " 'LoanOriginalAmount',\n",
       " 'PW',\n",
       " 'fraud',\n",
       " 'bad',\n",
       " 'indeterm']"
      ]
     },
     "execution_count": 14,
     "metadata": {},
     "output_type": "execute_result"
    }
   ],
   "source": [
    "features"
   ]
  },
  {
   "cell_type": "markdown",
   "metadata": {},
   "source": [
    "## Data exploration"
   ]
  },
  {
   "cell_type": "markdown",
   "metadata": {},
   "source": [
    "El primer enfoque que le daremos a nuestras variables será el conocer el tipo de variables que son.\n",
    "- Por una parte, observamos que muchas variables son de tipo *float64*, las cuales serán como **variables numéricas**\n",
    "- Por otra parte, observamos que otras variables son de tipo *object* o incluso *booleanos*, las cuales serán **variables categóricas**"
   ]
  },
  {
   "cell_type": "code",
   "execution_count": 15,
   "metadata": {
    "ExecuteTime": {
     "end_time": "2019-04-15T18:44:28.752114Z",
     "start_time": "2019-04-15T18:44:28.676040Z"
    }
   },
   "outputs": [
    {
     "data": {
      "text/plain": [
       "CreditGrade                    object\n",
       "BorrowerAPR                   float64\n",
       "BorrowerRate                  float64\n",
       "ProsperScore                  float64\n",
       "ListingCategory (numeric)       int64\n",
       "Occupation                     object\n",
       "EmploymentStatus               object\n",
       "EmploymentStatusDuration      float64\n",
       "IsBorrowerHomeowner              bool\n",
       "CurrentlyInGroup                 bool\n",
       "CreditScoreRangeLower         float64\n",
       "OpenCreditLines               float64\n",
       "TotalCreditLinespast7years    float64\n",
       "TotalInquiries                float64\n",
       "DelinquenciesLast7Years       float64\n",
       "BankcardUtilization           float64\n",
       "AvailableBankcardCredit       float64\n",
       "DebtToIncomeRatio             float64\n",
       "LoanMonthsSinceOrigination      int64\n",
       "LoanOriginalAmount              int64\n",
       "PW                               bool\n",
       "fraud                            bool\n",
       "bad                              bool\n",
       "indeterm                         bool\n",
       "dtype: object"
      ]
     },
     "execution_count": 15,
     "metadata": {},
     "output_type": "execute_result"
    }
   ],
   "source": [
    "df[features].dtypes"
   ]
  },
  {
   "cell_type": "markdown",
   "metadata": {},
   "source": [
    "Establecemos una disgregación de variables, para ello separemos aquellas variables que sean categóricas de las que sean numéricas y sobre ellas realizaremos un análisis estadístico descriptivo para ir comparándo unas con las otras e intrepetar los resultados estadísticamente más significativos"
   ]
  },
  {
   "cell_type": "code",
   "execution_count": 16,
   "metadata": {
    "ExecuteTime": {
     "end_time": "2019-04-15T18:44:28.797661Z",
     "start_time": "2019-04-15T18:44:28.763459Z"
    }
   },
   "outputs": [],
   "source": [
    "cat_features = [f for f, b in zip(features, df[features].dtypes == object) if b==True]\n",
    "num_features = [f for f in features if f not in cat_features]"
   ]
  },
  {
   "cell_type": "code",
   "execution_count": 17,
   "metadata": {
    "ExecuteTime": {
     "end_time": "2019-04-15T18:44:29.218823Z",
     "start_time": "2019-04-15T18:44:28.808634Z"
    }
   },
   "outputs": [
    {
     "data": {
      "text/html": [
       "<div>\n",
       "<style scoped>\n",
       "    .dataframe tbody tr th:only-of-type {\n",
       "        vertical-align: middle;\n",
       "    }\n",
       "\n",
       "    .dataframe tbody tr th {\n",
       "        vertical-align: top;\n",
       "    }\n",
       "\n",
       "    .dataframe thead th {\n",
       "        text-align: right;\n",
       "    }\n",
       "</style>\n",
       "<table border=\"1\" class=\"dataframe\">\n",
       "  <thead>\n",
       "    <tr style=\"text-align: right;\">\n",
       "      <th></th>\n",
       "      <th>count</th>\n",
       "      <th>mean</th>\n",
       "      <th>std</th>\n",
       "      <th>min</th>\n",
       "      <th>25%</th>\n",
       "      <th>50%</th>\n",
       "      <th>75%</th>\n",
       "      <th>max</th>\n",
       "    </tr>\n",
       "  </thead>\n",
       "  <tbody>\n",
       "    <tr>\n",
       "      <th>BorrowerAPR</th>\n",
       "      <td>16987.0</td>\n",
       "      <td>0.251439</td>\n",
       "      <td>0.091004</td>\n",
       "      <td>0.04583</td>\n",
       "      <td>0.17359</td>\n",
       "      <td>0.27246</td>\n",
       "      <td>0.34105</td>\n",
       "      <td>0.41355</td>\n",
       "    </tr>\n",
       "    <tr>\n",
       "      <th>BorrowerRate</th>\n",
       "      <td>16987.0</td>\n",
       "      <td>0.220769</td>\n",
       "      <td>0.084128</td>\n",
       "      <td>0.04000</td>\n",
       "      <td>0.14490</td>\n",
       "      <td>0.23990</td>\n",
       "      <td>0.30395</td>\n",
       "      <td>0.35000</td>\n",
       "    </tr>\n",
       "    <tr>\n",
       "      <th>ProsperScore</th>\n",
       "      <td>16897.0</td>\n",
       "      <td>6.408830</td>\n",
       "      <td>2.294022</td>\n",
       "      <td>1.00000</td>\n",
       "      <td>5.00000</td>\n",
       "      <td>7.00000</td>\n",
       "      <td>8.00000</td>\n",
       "      <td>10.00000</td>\n",
       "    </tr>\n",
       "    <tr>\n",
       "      <th>ListingCategory (numeric)</th>\n",
       "      <td>16987.0</td>\n",
       "      <td>3.840290</td>\n",
       "      <td>4.103710</td>\n",
       "      <td>0.00000</td>\n",
       "      <td>1.00000</td>\n",
       "      <td>2.00000</td>\n",
       "      <td>7.00000</td>\n",
       "      <td>20.00000</td>\n",
       "    </tr>\n",
       "    <tr>\n",
       "      <th>EmploymentStatusDuration</th>\n",
       "      <td>16982.0</td>\n",
       "      <td>90.379225</td>\n",
       "      <td>89.131565</td>\n",
       "      <td>0.00000</td>\n",
       "      <td>27.00000</td>\n",
       "      <td>61.00000</td>\n",
       "      <td>126.00000</td>\n",
       "      <td>755.00000</td>\n",
       "    </tr>\n",
       "    <tr>\n",
       "      <th>CreditScoreRangeLower</th>\n",
       "      <td>16987.0</td>\n",
       "      <td>701.827280</td>\n",
       "      <td>53.510729</td>\n",
       "      <td>600.00000</td>\n",
       "      <td>660.00000</td>\n",
       "      <td>700.00000</td>\n",
       "      <td>740.00000</td>\n",
       "      <td>880.00000</td>\n",
       "    </tr>\n",
       "    <tr>\n",
       "      <th>OpenCreditLines</th>\n",
       "      <td>16987.0</td>\n",
       "      <td>8.326485</td>\n",
       "      <td>4.740277</td>\n",
       "      <td>0.00000</td>\n",
       "      <td>5.00000</td>\n",
       "      <td>8.00000</td>\n",
       "      <td>11.00000</td>\n",
       "      <td>34.00000</td>\n",
       "    </tr>\n",
       "    <tr>\n",
       "      <th>TotalCreditLinespast7years</th>\n",
       "      <td>16987.0</td>\n",
       "      <td>26.197857</td>\n",
       "      <td>13.843854</td>\n",
       "      <td>2.00000</td>\n",
       "      <td>16.00000</td>\n",
       "      <td>24.00000</td>\n",
       "      <td>34.00000</td>\n",
       "      <td>120.00000</td>\n",
       "    </tr>\n",
       "    <tr>\n",
       "      <th>TotalInquiries</th>\n",
       "      <td>16987.0</td>\n",
       "      <td>4.382528</td>\n",
       "      <td>4.150007</td>\n",
       "      <td>0.00000</td>\n",
       "      <td>2.00000</td>\n",
       "      <td>3.00000</td>\n",
       "      <td>6.00000</td>\n",
       "      <td>71.00000</td>\n",
       "    </tr>\n",
       "    <tr>\n",
       "      <th>DelinquenciesLast7Years</th>\n",
       "      <td>16987.0</td>\n",
       "      <td>3.531760</td>\n",
       "      <td>8.866966</td>\n",
       "      <td>0.00000</td>\n",
       "      <td>0.00000</td>\n",
       "      <td>0.00000</td>\n",
       "      <td>2.00000</td>\n",
       "      <td>99.00000</td>\n",
       "    </tr>\n",
       "    <tr>\n",
       "      <th>BankcardUtilization</th>\n",
       "      <td>16987.0</td>\n",
       "      <td>0.521266</td>\n",
       "      <td>0.329189</td>\n",
       "      <td>0.00000</td>\n",
       "      <td>0.23000</td>\n",
       "      <td>0.55000</td>\n",
       "      <td>0.82000</td>\n",
       "      <td>2.50000</td>\n",
       "    </tr>\n",
       "    <tr>\n",
       "      <th>AvailableBankcardCredit</th>\n",
       "      <td>16987.0</td>\n",
       "      <td>10711.684582</td>\n",
       "      <td>18887.303459</td>\n",
       "      <td>0.00000</td>\n",
       "      <td>755.00000</td>\n",
       "      <td>3779.00000</td>\n",
       "      <td>12908.00000</td>\n",
       "      <td>412785.00000</td>\n",
       "    </tr>\n",
       "    <tr>\n",
       "      <th>DebtToIncomeRatio</th>\n",
       "      <td>14988.0</td>\n",
       "      <td>0.247142</td>\n",
       "      <td>0.387900</td>\n",
       "      <td>0.00000</td>\n",
       "      <td>0.13000</td>\n",
       "      <td>0.20000</td>\n",
       "      <td>0.30000</td>\n",
       "      <td>10.01000</td>\n",
       "    </tr>\n",
       "    <tr>\n",
       "      <th>LoanMonthsSinceOrigination</th>\n",
       "      <td>16987.0</td>\n",
       "      <td>32.822217</td>\n",
       "      <td>9.682092</td>\n",
       "      <td>21.00000</td>\n",
       "      <td>25.00000</td>\n",
       "      <td>30.00000</td>\n",
       "      <td>40.00000</td>\n",
       "      <td>58.00000</td>\n",
       "    </tr>\n",
       "    <tr>\n",
       "      <th>LoanOriginalAmount</th>\n",
       "      <td>16987.0</td>\n",
       "      <td>6411.536999</td>\n",
       "      <td>4651.258896</td>\n",
       "      <td>1000.00000</td>\n",
       "      <td>3000.00000</td>\n",
       "      <td>5000.00000</td>\n",
       "      <td>8000.00000</td>\n",
       "      <td>25000.00000</td>\n",
       "    </tr>\n",
       "  </tbody>\n",
       "</table>\n",
       "</div>"
      ],
      "text/plain": [
       "                              count          mean           std         min  \\\n",
       "BorrowerAPR                 16987.0      0.251439      0.091004     0.04583   \n",
       "BorrowerRate                16987.0      0.220769      0.084128     0.04000   \n",
       "ProsperScore                16897.0      6.408830      2.294022     1.00000   \n",
       "ListingCategory (numeric)   16987.0      3.840290      4.103710     0.00000   \n",
       "EmploymentStatusDuration    16982.0     90.379225     89.131565     0.00000   \n",
       "CreditScoreRangeLower       16987.0    701.827280     53.510729   600.00000   \n",
       "OpenCreditLines             16987.0      8.326485      4.740277     0.00000   \n",
       "TotalCreditLinespast7years  16987.0     26.197857     13.843854     2.00000   \n",
       "TotalInquiries              16987.0      4.382528      4.150007     0.00000   \n",
       "DelinquenciesLast7Years     16987.0      3.531760      8.866966     0.00000   \n",
       "BankcardUtilization         16987.0      0.521266      0.329189     0.00000   \n",
       "AvailableBankcardCredit     16987.0  10711.684582  18887.303459     0.00000   \n",
       "DebtToIncomeRatio           14988.0      0.247142      0.387900     0.00000   \n",
       "LoanMonthsSinceOrigination  16987.0     32.822217      9.682092    21.00000   \n",
       "LoanOriginalAmount          16987.0   6411.536999   4651.258896  1000.00000   \n",
       "\n",
       "                                   25%         50%          75%           max  \n",
       "BorrowerAPR                    0.17359     0.27246      0.34105       0.41355  \n",
       "BorrowerRate                   0.14490     0.23990      0.30395       0.35000  \n",
       "ProsperScore                   5.00000     7.00000      8.00000      10.00000  \n",
       "ListingCategory (numeric)      1.00000     2.00000      7.00000      20.00000  \n",
       "EmploymentStatusDuration      27.00000    61.00000    126.00000     755.00000  \n",
       "CreditScoreRangeLower        660.00000   700.00000    740.00000     880.00000  \n",
       "OpenCreditLines                5.00000     8.00000     11.00000      34.00000  \n",
       "TotalCreditLinespast7years    16.00000    24.00000     34.00000     120.00000  \n",
       "TotalInquiries                 2.00000     3.00000      6.00000      71.00000  \n",
       "DelinquenciesLast7Years        0.00000     0.00000      2.00000      99.00000  \n",
       "BankcardUtilization            0.23000     0.55000      0.82000       2.50000  \n",
       "AvailableBankcardCredit      755.00000  3779.00000  12908.00000  412785.00000  \n",
       "DebtToIncomeRatio              0.13000     0.20000      0.30000      10.01000  \n",
       "LoanMonthsSinceOrigination    25.00000    30.00000     40.00000      58.00000  \n",
       "LoanOriginalAmount          3000.00000  5000.00000   8000.00000   25000.00000  "
      ]
     },
     "execution_count": 17,
     "metadata": {},
     "output_type": "execute_result"
    }
   ],
   "source": [
    "df[num_features].describe().transpose()"
   ]
  },
  {
   "cell_type": "code",
   "execution_count": 18,
   "metadata": {
    "ExecuteTime": {
     "end_time": "2019-04-15T18:44:29.335400Z",
     "start_time": "2019-04-15T18:44:29.227260Z"
    }
   },
   "outputs": [
    {
     "data": {
      "text/html": [
       "<div>\n",
       "<style scoped>\n",
       "    .dataframe tbody tr th:only-of-type {\n",
       "        vertical-align: middle;\n",
       "    }\n",
       "\n",
       "    .dataframe tbody tr th {\n",
       "        vertical-align: top;\n",
       "    }\n",
       "\n",
       "    .dataframe thead th {\n",
       "        text-align: right;\n",
       "    }\n",
       "</style>\n",
       "<table border=\"1\" class=\"dataframe\">\n",
       "  <thead>\n",
       "    <tr style=\"text-align: right;\">\n",
       "      <th></th>\n",
       "      <th>count</th>\n",
       "      <th>unique</th>\n",
       "      <th>top</th>\n",
       "      <th>freq</th>\n",
       "    </tr>\n",
       "  </thead>\n",
       "  <tbody>\n",
       "    <tr>\n",
       "      <th>CreditGrade</th>\n",
       "      <td>10</td>\n",
       "      <td>5</td>\n",
       "      <td>C</td>\n",
       "      <td>4</td>\n",
       "    </tr>\n",
       "    <tr>\n",
       "      <th>Occupation</th>\n",
       "      <td>16987</td>\n",
       "      <td>67</td>\n",
       "      <td>Other</td>\n",
       "      <td>4460</td>\n",
       "    </tr>\n",
       "    <tr>\n",
       "      <th>EmploymentStatus</th>\n",
       "      <td>16987</td>\n",
       "      <td>7</td>\n",
       "      <td>Employed</td>\n",
       "      <td>10647</td>\n",
       "    </tr>\n",
       "  </tbody>\n",
       "</table>\n",
       "</div>"
      ],
      "text/plain": [
       "                  count unique       top   freq\n",
       "CreditGrade          10      5         C      4\n",
       "Occupation        16987     67     Other   4460\n",
       "EmploymentStatus  16987      7  Employed  10647"
      ]
     },
     "execution_count": 18,
     "metadata": {},
     "output_type": "execute_result"
    }
   ],
   "source": [
    "df[cat_features].describe().transpose()"
   ]
  },
  {
   "cell_type": "markdown",
   "metadata": {},
   "source": [
    "### Custom Pandas describing"
   ]
  },
  {
   "cell_type": "markdown",
   "metadata": {},
   "source": [
    "**TODO 1** Crea una función que cumpla con la funcionalidad descrita en la cabecera de la función desc_num"
   ]
  },
  {
   "cell_type": "code",
   "execution_count": 19,
   "metadata": {
    "ExecuteTime": {
     "end_time": "2019-04-15T18:44:29.591738Z",
     "start_time": "2019-04-15T18:44:29.512379Z"
    },
    "code_folding": []
   },
   "outputs": [],
   "source": [
    "def desc_num(df, df_oot, col):\n",
    "    \"\"\"Function that returns a custom descriptive for the numerical variable. It returns:\n",
    "        - Mean, median, minimum, maximum, p25, p75, std, %na %nonzero, %unique\n",
    "        - Stability plot\n",
    "    \n",
    "    Args:\n",
    "        df: Pandas DataFrame with the in time input data\n",
    "        df_oot: Pandas DataFrame with the out of time input data\n",
    "        col: Name of the column with the feature under study\n",
    "        \n",
    "    Returns:\n",
    "        Dictionary that contains the main statistics of the feature, \n",
    "        also shows both the histogram and stability plots\n",
    "    \"\"\"\n",
    "    \n",
    " "
   ]
  },
  {
   "cell_type": "code",
   "execution_count": 20,
   "metadata": {
    "ExecuteTime": {
     "end_time": "2019-04-15T18:44:59.163819Z",
     "start_time": "2019-04-15T18:44:29.620535Z"
    }
   },
   "outputs": [
    {
     "name": "stdout",
     "output_type": "stream",
     "text": [
      "Results for BorrowerAPR\n"
     ]
    },
    {
     "data": {
      "text/plain": [
       "None"
      ]
     },
     "metadata": {},
     "output_type": "display_data"
    },
    {
     "name": "stdout",
     "output_type": "stream",
     "text": [
      "Results for BorrowerRate\n"
     ]
    },
    {
     "data": {
      "text/plain": [
       "None"
      ]
     },
     "metadata": {},
     "output_type": "display_data"
    },
    {
     "name": "stdout",
     "output_type": "stream",
     "text": [
      "Results for ProsperScore\n"
     ]
    },
    {
     "data": {
      "text/plain": [
       "None"
      ]
     },
     "metadata": {},
     "output_type": "display_data"
    },
    {
     "name": "stdout",
     "output_type": "stream",
     "text": [
      "Results for ListingCategory (numeric)\n"
     ]
    },
    {
     "data": {
      "text/plain": [
       "None"
      ]
     },
     "metadata": {},
     "output_type": "display_data"
    },
    {
     "name": "stdout",
     "output_type": "stream",
     "text": [
      "Results for EmploymentStatusDuration\n"
     ]
    },
    {
     "data": {
      "text/plain": [
       "None"
      ]
     },
     "metadata": {},
     "output_type": "display_data"
    },
    {
     "name": "stdout",
     "output_type": "stream",
     "text": [
      "Results for IsBorrowerHomeowner\n"
     ]
    },
    {
     "data": {
      "text/plain": [
       "None"
      ]
     },
     "metadata": {},
     "output_type": "display_data"
    },
    {
     "name": "stdout",
     "output_type": "stream",
     "text": [
      "Results for CurrentlyInGroup\n"
     ]
    },
    {
     "data": {
      "text/plain": [
       "None"
      ]
     },
     "metadata": {},
     "output_type": "display_data"
    },
    {
     "name": "stdout",
     "output_type": "stream",
     "text": [
      "Results for CreditScoreRangeLower\n"
     ]
    },
    {
     "data": {
      "text/plain": [
       "None"
      ]
     },
     "metadata": {},
     "output_type": "display_data"
    },
    {
     "name": "stdout",
     "output_type": "stream",
     "text": [
      "Results for OpenCreditLines\n"
     ]
    },
    {
     "data": {
      "text/plain": [
       "None"
      ]
     },
     "metadata": {},
     "output_type": "display_data"
    },
    {
     "name": "stdout",
     "output_type": "stream",
     "text": [
      "Results for TotalCreditLinespast7years\n"
     ]
    },
    {
     "data": {
      "text/plain": [
       "None"
      ]
     },
     "metadata": {},
     "output_type": "display_data"
    },
    {
     "name": "stdout",
     "output_type": "stream",
     "text": [
      "Results for TotalInquiries\n"
     ]
    },
    {
     "data": {
      "text/plain": [
       "None"
      ]
     },
     "metadata": {},
     "output_type": "display_data"
    },
    {
     "name": "stdout",
     "output_type": "stream",
     "text": [
      "Results for DelinquenciesLast7Years\n"
     ]
    },
    {
     "data": {
      "text/plain": [
       "None"
      ]
     },
     "metadata": {},
     "output_type": "display_data"
    },
    {
     "name": "stdout",
     "output_type": "stream",
     "text": [
      "Results for BankcardUtilization\n"
     ]
    },
    {
     "data": {
      "text/plain": [
       "None"
      ]
     },
     "metadata": {},
     "output_type": "display_data"
    },
    {
     "name": "stdout",
     "output_type": "stream",
     "text": [
      "Results for AvailableBankcardCredit\n"
     ]
    },
    {
     "data": {
      "text/plain": [
       "None"
      ]
     },
     "metadata": {},
     "output_type": "display_data"
    },
    {
     "name": "stdout",
     "output_type": "stream",
     "text": [
      "Results for DebtToIncomeRatio\n"
     ]
    },
    {
     "data": {
      "text/plain": [
       "None"
      ]
     },
     "metadata": {},
     "output_type": "display_data"
    },
    {
     "name": "stdout",
     "output_type": "stream",
     "text": [
      "Results for LoanMonthsSinceOrigination\n"
     ]
    },
    {
     "data": {
      "text/plain": [
       "None"
      ]
     },
     "metadata": {},
     "output_type": "display_data"
    },
    {
     "name": "stdout",
     "output_type": "stream",
     "text": [
      "Results for LoanOriginalAmount\n"
     ]
    },
    {
     "data": {
      "text/plain": [
       "None"
      ]
     },
     "metadata": {},
     "output_type": "display_data"
    },
    {
     "name": "stdout",
     "output_type": "stream",
     "text": [
      "Results for PW\n"
     ]
    },
    {
     "data": {
      "text/plain": [
       "None"
      ]
     },
     "metadata": {},
     "output_type": "display_data"
    },
    {
     "name": "stdout",
     "output_type": "stream",
     "text": [
      "Results for fraud\n"
     ]
    },
    {
     "data": {
      "text/plain": [
       "None"
      ]
     },
     "metadata": {},
     "output_type": "display_data"
    },
    {
     "name": "stdout",
     "output_type": "stream",
     "text": [
      "Results for bad\n"
     ]
    },
    {
     "data": {
      "text/plain": [
       "None"
      ]
     },
     "metadata": {},
     "output_type": "display_data"
    },
    {
     "name": "stdout",
     "output_type": "stream",
     "text": [
      "Results for indeterm\n"
     ]
    },
    {
     "data": {
      "text/plain": [
       "None"
      ]
     },
     "metadata": {},
     "output_type": "display_data"
    }
   ],
   "source": [
    "#### EJECUTA AQUÍ LA FUNCIÓN desc_num para todas la variables numéricas\n",
    "for feat in num_features:\n",
    "    print(f\"Results for {feat}\")\n",
    "    display(desc_num(df, df_oot, feat))"
   ]
  },
  {
   "cell_type": "markdown",
   "metadata": {},
   "source": [
    "**TODO 2** Crea una función que cumpla con la funcionalidad descrita en la cabecera de la función desc_cat"
   ]
  },
  {
   "cell_type": "code",
   "execution_count": null,
   "metadata": {
    "ExecuteTime": {
     "end_time": "2019-04-15T18:44:59.211251Z",
     "start_time": "2019-04-15T18:44:59.170057Z"
    }
   },
   "outputs": [],
   "source": [
    "from collections import Counter\n",
    "\n",
    "def desc_cat(df, df_oot, col):\n",
    "    \"\"\"Function that returns a custom descriptive for the categorical variable. It returns:\n",
    "        - # Unique entires, % Unique entries, top frequent entry, frequency of top, NA rate\n",
    "        - Stability plot\n",
    "    \n",
    "    Args:\n",
    "        df: Pandas DataFrame with the in time input data\n",
    "        df_oot: Pandas DataFrame with the out of time input data\n",
    "        col: Name of the column with the feature under study\n",
    "        \n",
    "    Returns:\n",
    "        Dictionary that contains the main statistics of the feature, \n",
    "        also shows both the histogram and stability plots\n",
    "    \"\"\"\n",
    "    \n",
    "    return\n"
   ]
  },
  {
   "cell_type": "code",
   "execution_count": null,
   "metadata": {
    "ExecuteTime": {
     "end_time": "2019-04-15T18:45:02.405998Z",
     "start_time": "2019-04-15T18:44:59.217114Z"
    }
   },
   "outputs": [],
   "source": [
    "#### EJECUTA AQUÍ LA FUNCIÓN desc_cat para todas las variable categóricas"
   ]
  },
  {
   "cell_type": "markdown",
   "metadata": {},
   "source": [
    "### Correlation Review"
   ]
  },
  {
   "cell_type": "code",
   "execution_count": null,
   "metadata": {
    "ExecuteTime": {
     "end_time": "2019-04-15T18:45:04.516390Z",
     "start_time": "2019-04-15T18:45:02.411359Z"
    }
   },
   "outputs": [],
   "source": [
    "corr = df[num_features].corr()\n",
    "mask = np.zeros_like(corr)\n",
    "mask[np.triu_indices_from(mask)] = True\n",
    "f, ax = plt.subplots(figsize=(11, 9))\n",
    "cmap = sns.diverging_palette(220, 10, as_cmap=True)\n",
    "sns.heatmap(corr, mask=mask, cmap=cmap, vmax=1., center=0,\n",
    "            square=True, linewidths=.5, cbar_kws={\"shrink\": .5})"
   ]
  },
  {
   "cell_type": "code",
   "execution_count": null,
   "metadata": {
    "ExecuteTime": {
     "end_time": "2019-04-15T18:45:04.564392Z",
     "start_time": "2019-04-15T18:45:04.525922Z"
    }
   },
   "outputs": [],
   "source": [
    "corr[corr!=1].max().sort_values().tail(5)"
   ]
  },
  {
   "cell_type": "markdown",
   "metadata": {},
   "source": [
    "#### Get pairs of highly correlated features"
   ]
  },
  {
   "cell_type": "code",
   "execution_count": null,
   "metadata": {
    "ExecuteTime": {
     "end_time": "2019-04-15T18:45:04.587383Z",
     "start_time": "2019-04-15T18:45:04.574521Z"
    }
   },
   "outputs": [],
   "source": [
    "corr_TH = 0.75\n",
    "n_corr_list = []\n",
    "corr_feats_list = []"
   ]
  },
  {
   "cell_type": "code",
   "execution_count": null,
   "metadata": {
    "ExecuteTime": {
     "end_time": "2019-04-15T18:45:04.804682Z",
     "start_time": "2019-04-15T18:45:04.597583Z"
    }
   },
   "outputs": [],
   "source": [
    "for f in num_features:\n",
    "    corr_f = corr[f][[col for col in num_features if col!=f]]\n",
    "    corr_f_abs = corr_f.abs()\n",
    "    corr_ht_th = corr_f_abs[corr_f_abs>corr_TH]\n",
    "    n_corr_list.append(corr_ht_th.shape[0])\n",
    "    corr_feats_list.append(corr_ht_th)\n",
    "    \n",
    "corr_relations = [(feat, n, feats_corr) for n, feats_corr, feat in zip(n_corr_list, corr_feats_list, num_features) if n>0]\n",
    "corr_relations"
   ]
  },
  {
   "cell_type": "markdown",
   "metadata": {},
   "source": [
    "### Recommended tool: pandas-profiling"
   ]
  },
  {
   "cell_type": "code",
   "execution_count": null,
   "metadata": {
    "ExecuteTime": {
     "end_time": "2019-04-15T18:45:13.574210Z",
     "start_time": "2019-04-15T18:45:04.813264Z"
    }
   },
   "outputs": [],
   "source": [
    "from ydata_profiling import ProfileReport\n",
    "profile = ProfileReport(df[features])\n",
    "profile.to_file(output_file='output.html')"
   ]
  },
  {
   "cell_type": "code",
   "execution_count": null,
   "metadata": {},
   "outputs": [],
   "source": [
    "display(profile)"
   ]
  },
  {
   "cell_type": "markdown",
   "metadata": {},
   "source": [
    "## IV / WoE\n"
   ]
  },
  {
   "cell_type": "markdown",
   "metadata": {},
   "source": [
    "Una vez identificadas las variables más importantes, el siguiente paso que tenemos que hacer es establecer los trameados (buckets), con la misma acción para las variables categóricas y numéricas"
   ]
  },
  {
   "cell_type": "code",
   "execution_count": null,
   "metadata": {
    "ExecuteTime": {
     "end_time": "2019-04-15T18:45:13.971662Z",
     "start_time": "2019-04-15T18:45:13.764444Z"
    }
   },
   "outputs": [],
   "source": [
    "#visualization functions\n",
    "def capture_df(feat_col, input_slider, n_bins, df, target_col):\n",
    "    \"\"\"\n",
    "    Handles the type of the data to generate the intermediate datadframe\n",
    "    \"\"\"\n",
    "    if df[feat_col].dtype in [int, float, np.number]:\n",
    "        return df_vol_br_num(feat_col, input_slider, n_bins, df, target_col)\n",
    "    else:\n",
    "        return df_vol_br_cat(feat_col, input_slider, n_bins, df, target_col)\n",
    "\n",
    "#capture volume / BR df for numerical variables\n",
    "def df_vol_br_num(feat_col, input_slider, n_bins, df, obj_col):\n",
    "    \"\"\"\n",
    "    Generate the intermediate dataframe with number of observations and \n",
    "    number of bads per bin. Specific for numerical features.\n",
    "    \"\"\"\n",
    "    #get the numeric input from the dual slider\n",
    "    perc_sliders = [v/100. for v in input_slider]\n",
    "    var_lims = df[feat_col].quantile([perc_sliders[0], perc_sliders[1]]).values\n",
    "    v_min, v_max = var_lims[0], var_lims[1]\n",
    "    #filter the dataset using the slider input\n",
    "    df_cut = df.loc[(df[feat_col] <= v_max) & (df[feat_col] >= v_min)][[obj_col, feat_col]]\n",
    "    #number of cuts = minumum of n_bins, number of unique values of the variable\n",
    "    n_cuts = min(int(n_bins), df_cut[feat_col].nunique())\n",
    "    cuts = [c for c in np.linspace(v_min, v_max, n_cuts + 1)]\n",
    "    if cuts[-1] < v_max:\n",
    "        cuts.append(v_max)\n",
    "    cut_col = feat_col + '_'\n",
    "    df_cut[cut_col] = pd.cut(df_cut[feat_col], cuts, include_lowest=True)\n",
    "    #generate aggregated values\n",
    "    N = df_cut.groupby(cut_col)[feat_col].count().values\n",
    "    TR = df_cut.groupby(cut_col)[obj_col].mean().values\n",
    "    cuts = df_cut.groupby(cut_col)[feat_col].count().index.astype(str).values\n",
    "    #handle NA entries\n",
    "    if df[feat_col].isna().sum() > 0:\n",
    "        N = np.append(([df[feat_col].isna().sum()]), N)\n",
    "        TR = np.append(([df.loc[df[feat_col].isna()][obj_col].mean()]), TR)\n",
    "        cuts =  np.append(['NA'], cuts)\n",
    "    #generate global transformation rate\n",
    "    return (pd.DataFrame({'cuts': cuts,\n",
    "                         'N': N,\n",
    "                         'BR': TR}), df_cut[obj_col].mean())\n",
    "\n",
    "#capture volume / BR df for categorical variables\n",
    "def df_vol_br_cat(feat_col, input_slider, n_bins, df, target_col):\n",
    "    \"\"\"\n",
    "    Generate the intermediate dataframe with number of observations and \n",
    "    number of bads per bin. Specific for categorical features.\n",
    "    \"\"\"\n",
    "    #pick top n_bins levels by volume\n",
    "    cut_levels = df.groupby(feat_col)[feat_col].count().sort_values(ascending=False)[:int(n_bins)].index.values.tolist()\n",
    "    df_cut = df.loc[df[feat_col].isin(cut_levels)]\n",
    "    #capture volumes\n",
    "    N = df_cut.groupby(feat_col)[feat_col].count().values\n",
    "    #capture transformations\n",
    "    TR = df_cut.groupby(feat_col)[target_col].mean().values\n",
    "    return (pd.DataFrame({'cuts': df_cut.groupby(feat_col)[feat_col].count().index.astype(str).values,\n",
    "                         'N': N,\n",
    "                         'BR': TR}), df_cut[target_col].mean())\n",
    "\n",
    "\n",
    "def output_graph_update(feat_col, input_slider, n_bins, df, obj_col):\n",
    "    \"\"\"\n",
    "    Generate the plotly plot showing the visualization of the intermediate \n",
    "    dataframe with volume and bad rate per bin.\n",
    "    \"\"\"\n",
    "    #get the df with volume and bad rate\n",
    "    df_tr, avg_tr = capture_df(feat_col, input_slider, n_bins, df, obj_col)\n",
    "    #line represents transformation rate\n",
    "    tr_line = go.Scatter(x = df_tr.cuts,\n",
    "                         y = df_tr.BR,\n",
    "                         yaxis = 'y2',\n",
    "                         name = 'BR')\n",
    "    #bar represents volume @ cut\n",
    "    vol_bars = go.Bar(x = df_tr.cuts,\n",
    "                      y = df_tr.N,\n",
    "                      name = 'Volume')\n",
    "    #avg line\n",
    "    avg_line = go.Scatter(x = df_tr.cuts,\n",
    "                          y = np.repeat(avg_tr, df_tr.shape[0]),\n",
    "                          yaxis = 'y2',\n",
    "                          name = 'AVG BR',\n",
    "                          line = dict(\n",
    "                              color = ('rgb(205, 0, 0)')\n",
    "                                     )\n",
    "                         )\n",
    "    #small layout\n",
    "    layout = go.Layout(\n",
    "            title = 'BR for ' + feat_col,\n",
    "            yaxis = dict(title = 'Volume',\n",
    "                         range = [0, max(df_tr.N)]),\n",
    "            yaxis2 = dict(title = 'BR',\n",
    "                         overlaying='y',\n",
    "                         side='right',\n",
    "                         range = [0, max(df_tr.BR) + 0.05*max(df_tr.BR)])\n",
    "\n",
    "        )\n",
    "    return {'data': [vol_bars, tr_line, avg_line],\n",
    "            'layout': layout}"
   ]
  },
  {
   "cell_type": "code",
   "execution_count": null,
   "metadata": {},
   "outputs": [],
   "source": [
    "# Ejemplo de una variable cortada en buckets\n",
    "df_buckets, avg_ratio = df_vol_br_num('CreditScoreRangeLower', [0, 95], 5, df,'bad')\n",
    "df_buckets"
   ]
  },
  {
   "cell_type": "markdown",
   "metadata": {},
   "source": [
    "**TODO 3** Implementa una función que calcule el IV de una variable:"
   ]
  },
  {
   "cell_type": "code",
   "execution_count": null,
   "metadata": {},
   "outputs": [],
   "source": [
    "def get_IV(df_buckets, col_vol=\"N\", col_BR=\"BR\"):\n",
    "    \"\"\"Function that estimates the IV of a variable. It returns:\n",
    "        - IV estimation (float)\n",
    "    \n",
    "    Args:\n",
    "        df_agg: Pandas DataFrame with the bucketed volume and bad rate\n",
    "        col_vol: Name of the column with the volume per bucket\n",
    "        col_BR: Name of the column with the bad rate per bucket\n",
    "        \n",
    "    Returns:\n",
    "        Dictionary that contains the main statistics of the feature\n",
    "    \"\"\"\n"
   ]
  },
  {
   "cell_type": "markdown",
   "metadata": {},
   "source": [
    "#### Estimate the IV for all features"
   ]
  },
  {
   "cell_type": "code",
   "execution_count": null,
   "metadata": {
    "ExecuteTime": {
     "end_time": "2019-04-15T18:45:17.432748Z",
     "start_time": "2019-04-15T18:45:14.067597Z"
    }
   },
   "outputs": [],
   "source": [
    "ivs = []\n",
    "for c in features:\n",
    "    df_tr, avg_br = capture_df(c, [0., 95.], 5, df, 'bad')\n",
    "    ivs.append(get_IV(df_tr))\n",
    "df_iv = pd.DataFrame({'feature': features,\n",
    "                      'IV': ivs}).sort_values(by='IV', ascending=False)\n",
    "df_iv"
   ]
  },
  {
   "cell_type": "markdown",
   "metadata": {},
   "source": [
    "### Visualize some features versus the Bad rate"
   ]
  },
  {
   "cell_type": "code",
   "execution_count": null,
   "metadata": {
    "ExecuteTime": {
     "end_time": "2019-04-15T18:45:18.245267Z",
     "start_time": "2019-04-15T18:45:17.442958Z"
    }
   },
   "outputs": [],
   "source": [
    "#dynamic plotting libraries\n",
    "import plotly.offline as py\n",
    "import plotly.graph_objs as go\n",
    "py.init_notebook_mode(connected=True)"
   ]
  },
  {
   "cell_type": "code",
   "execution_count": null,
   "metadata": {},
   "outputs": [],
   "source": [
    "df_iv.head()"
   ]
  },
  {
   "cell_type": "code",
   "execution_count": null,
   "metadata": {
    "ExecuteTime": {
     "end_time": "2019-04-15T18:45:21.475950Z",
     "start_time": "2019-04-15T18:45:18.305382Z"
    }
   },
   "outputs": [],
   "source": [
    "#plot features\n",
    "for c in df_iv.sort_values(by=\"IV\", ascending=False).feature.values.tolist():\n",
    "    py.iplot(output_graph_update(c, [0., 97.5], 6, df, 'bad'))"
   ]
  },
  {
   "cell_type": "markdown",
   "metadata": {},
   "source": [
    "### Stability check - PSI"
   ]
  },
  {
   "cell_type": "markdown",
   "metadata": {},
   "source": [
    "EL **PSI** es el test de estabilidad de la población. Más sobre el PSI en [esta web](https://mwburke.github.io/data%20science/2018/04/29/population-stability-index.html). El umbral de valores extraídos del PSI se interpreta de la siguiente manera:\n",
    "\n",
    "\n",
    "- PSI <= 0,10 sin cambios significativos\n",
    "-  0,10 < PSI <= 0,25 pequeños cambios,  investigar\n",
    "- PSI > 0,25 cambio significativo"
   ]
  },
  {
   "cell_type": "code",
   "execution_count": null,
   "metadata": {
    "ExecuteTime": {
     "end_time": "2019-04-15T18:45:21.560269Z",
     "start_time": "2019-04-15T18:45:21.482272Z"
    }
   },
   "outputs": [],
   "source": [
    "def PSI_numeric(series, in_out_time_series):\n",
    "    \"\"\"Returns the population stability index for numerical variables\n",
    "    \n",
    "    Args:\n",
    "        series: Pandas Series, the variable to describe\n",
    "        in_out_time_series: Pandas Series It contains the in time / out of time series\n",
    "        \n",
    "    Returns:\n",
    "        Estimated PSI\n",
    "    \"\"\"\n",
    "    pd_aux = pd.DataFrame(dict(data = series, in_out = in_out_time_series)).reset_index()\n",
    "    #capture in time and out of time series\n",
    "    in_series = pd_aux.loc[pd_aux.in_out == True]['data']\n",
    "    out_series = pd_aux.loc[pd_aux.in_out == False]['data']\n",
    "\n",
    "    #base data deciles\n",
    "    qqs = in_series.quantile(q=[0, 0.1, 0.2, 0.3, 0.4, 0.5, 0.6, 0.7, 0.8, 0.9, 1])\n",
    "\n",
    "    #cut the data, based in the base series deciles\n",
    "    in_series_cut = pd.cut(in_series, sorted(list(set(qqs.values))), include_lowest=True)\n",
    "    out_series_cut = pd.cut(out_series, sorted(list(set(qqs.values))), include_lowest=True)\n",
    "    #count volume per bin\n",
    "    in_grp = in_series_cut.value_counts(dropna=False)\n",
    "    out_grp = out_series_cut.value_counts(dropna= not (np.nan in in_grp.index.values.tolist()))\n",
    "    #small fix, so some inf values are fixed\n",
    "    out_grp[out_grp==0] = 0.01\n",
    "\n",
    "    #N observations in each series\n",
    "    N_in = len(in_series_cut)\n",
    "    N_out = len(out_series_cut)\n",
    "\n",
    "    #convert to share in each bin\n",
    "    in_grp = in_grp / N_in\n",
    "    out_grp = out_grp / N_out\n",
    "\n",
    "    return sum((in_grp-out_grp)*np.log(in_grp/out_grp))\n",
    "\n",
    "def PSI_categorical(series, in_out_time_series):\n",
    "    \"\"\"Returns the population stability index for categorical variables\n",
    "    \n",
    "    Args:\n",
    "        series: Pandas Series, the variable to describe\n",
    "        in_out_time_series: Pandas Series It contains the in time / out of time series\n",
    "        \n",
    "    Returns:\n",
    "        Estimated PSI\n",
    "    \"\"\"\n",
    "    pd_aux = pd.DataFrame(dict(data = series, in_out = in_out_time_series)).reset_index()\n",
    "    #capture in time and out of time series\n",
    "    in_series = pd_aux.loc[pd_aux.in_out == True]['data']\n",
    "    out_series = pd_aux.loc[pd_aux.in_out == False]['data']\n",
    "    \n",
    "    #count volume per level\n",
    "    in_grp = in_series.value_counts(dropna=False)\n",
    "    out_grp = out_series.value_counts(dropna= not (np.nan in in_grp.index.values.tolist()))\n",
    "    \n",
    "    #N observations in each series\n",
    "    N_in = len(in_series)\n",
    "    N_out = len(out_series)\n",
    "    \n",
    "    #convert to share in each bin\n",
    "    in_grp = in_grp / N_in\n",
    "    out_grp = out_grp / N_out\n",
    "    \n",
    "    #put all together in a df\n",
    "    df_grp = in_grp.to_frame().join(out_grp.to_frame(), lsuffix = '_in', rsuffix = '_out')\n",
    "    df_grp = df_grp.fillna(0.000001)\n",
    "\n",
    "    return sum((df_grp.data_in - df_grp.data_out) * np.log(df_grp.data_in / df_grp.data_out))"
   ]
  },
  {
   "cell_type": "code",
   "execution_count": null,
   "metadata": {
    "ExecuteTime": {
     "end_time": "2019-04-15T18:45:22.882811Z",
     "start_time": "2019-04-15T18:45:21.565084Z"
    }
   },
   "outputs": [],
   "source": [
    "psi = []\n",
    "#capture in time - out of time series\n",
    "it_oot_series = pd.Series(np.hstack((np.ones(len(df)), np.zeros(len(df_oot)))))\n",
    "#for all features\n",
    "\n",
    "for c in features:\n",
    "    col_series = pd.concat([df[c], df_oot[c]], ignore_index=True)\n",
    "    if df[c].dtypes == object:\n",
    "        psi.append(PSI_categorical(col_series, it_oot_series))\n",
    "    else:\n",
    "        psi.append(PSI_numeric(col_series, it_oot_series))\n",
    "\n",
    "df_psi = pd.DataFrame({'feature': features,\n",
    "                       'PSI': psi})\n",
    "df_psi = df_psi.sort_values(by='PSI')\n",
    "df_psi"
   ]
  },
  {
   "cell_type": "markdown",
   "metadata": {},
   "source": [
    "**TODO 4** Selecciona las dos variables más estables, y procesalas con la función \"desc_num\""
   ]
  },
  {
   "cell_type": "markdown",
   "metadata": {},
   "source": [
    "**TODO 5** Selecciona las dos variables menos estables, y procesalas con la función \"desc_num\""
   ]
  },
  {
   "cell_type": "code",
   "execution_count": null,
   "metadata": {
    "ExecuteTime": {
     "end_time": "2019-04-15T18:45:37.722349Z",
     "start_time": "2019-04-15T18:45:37.680641Z"
    }
   },
   "outputs": [],
   "source": [
    "#save the data, as it will come handy in future work\n",
    "# Se escribe serializado\n",
    "import pickle\n",
    "#build a dictionary and serialize it\n",
    "dict_dump = {'features': features,\n",
    "             'corr_data': corr_relations,\n",
    "             'iv_df': df_iv,\n",
    "             'psi_df': df_psi}\n",
    "pickle.dump(dict_dump, open('output_HW5.pkl', 'wb'))"
   ]
  }
 ],
 "metadata": {
  "kernelspec": {
   "display_name": "Python 3 (ipykernel)",
   "language": "python",
   "name": "python3"
  },
  "language_info": {
   "codemirror_mode": {
    "name": "ipython",
    "version": 3
   },
   "file_extension": ".py",
   "mimetype": "text/x-python",
   "name": "python",
   "nbconvert_exporter": "python",
   "pygments_lexer": "ipython3",
   "version": "3.10.8"
  },
  "toc": {
   "base_numbering": 1,
   "nav_menu": {},
   "number_sections": true,
   "sideBar": true,
   "skip_h1_title": false,
   "title_cell": "Table of Contents",
   "title_sidebar": "Contents",
   "toc_cell": false,
   "toc_position": {},
   "toc_section_display": true,
   "toc_window_display": true
  }
 },
 "nbformat": 4,
 "nbformat_minor": 4
}
