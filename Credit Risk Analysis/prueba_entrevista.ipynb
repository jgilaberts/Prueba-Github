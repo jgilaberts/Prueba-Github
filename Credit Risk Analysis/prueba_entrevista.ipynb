{
 "cells": [
  {
   "cell_type": "markdown",
   "metadata": {},
   "source": [
    "#### First Unique Character"
   ]
  },
  {
   "cell_type": "code",
   "execution_count": 13,
   "metadata": {},
   "outputs": [],
   "source": [
    "def first_unique_char_position(string):\n",
    "    char_count = {}  # Dictionary to store character counts\n",
    "\n",
    "    # Count the occurrences of each character in the string\n",
    "    for char in string:\n",
    "        if char in char_count:\n",
    "            char_count[char] += 1\n",
    "        else:\n",
    "            char_count[char] = 1\n",
    "\n",
    "    # Find the first character with a count of 1\n",
    "    for i, char in enumerate(string):\n",
    "        if char_count[char] == 1:\n",
    "            return i\n"
   ]
  },
  {
   "cell_type": "code",
   "execution_count": 16,
   "metadata": {},
   "outputs": [
    {
     "name": "stdout",
     "output_type": "stream",
     "text": [
      "The position of the first unique character in 'bcba' is 1\n"
     ]
    }
   ],
   "source": [
    "\n",
    "# Test the function with your input\n",
    "input_string = \"bcba\"\n",
    "result = first_unique_char_position(input_string)\n",
    "\n",
    "if result != -1:\n",
    "    print(f\"The position of the first unique character in '{input_string}' is {result}\")\n",
    "else:\n",
    "    print(\"No unique characters found in the input string.\")"
   ]
  }
 ],
 "metadata": {
  "kernelspec": {
   "display_name": "Python 3",
   "language": "python",
   "name": "python3"
  },
  "language_info": {
   "codemirror_mode": {
    "name": "ipython",
    "version": 3
   },
   "file_extension": ".py",
   "mimetype": "text/x-python",
   "name": "python",
   "nbconvert_exporter": "python",
   "pygments_lexer": "ipython3",
   "version": "3.10.8"
  }
 },
 "nbformat": 4,
 "nbformat_minor": 2
}
