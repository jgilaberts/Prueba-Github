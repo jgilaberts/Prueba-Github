{
 "cells": [
  {
   "attachments": {
    "CUNEFlogo.png": {
     "image/png": "[encoded data removed]"
    }
   },
   "cell_type": "markdown",
   "metadata": {},
   "source": [
    "![CUNEFlogo.png](attachment:CUNEFlogo.png)"
   ]
  },
  {
   "attachments": {},
   "cell_type": "markdown",
   "metadata": {},
   "source": [
    "\n",
    "#  <font color=orange> Notebook: Shallow Learning en Series Temporales</font>\n",
    "## Máster de Ciencia de Datos\n",
    "### Modelos de Inteligencia Artificial\n",
    "\n",
    "<b> Profesor: </b> Wolfram Rozas. <b> Departamento: </b> Métodos Cuantitativos\n",
    "___________________________________________________________________________________________\n",
    "__Resumen__\n",
    "\n",
    "\n",
    "Este *cuaderno* describe algunos métodos de regresión de aprendizaje superficial aplicados a las series temporales de consumo y producción de energía (medida en kWh) y % de margen libre de batería (headroom%) con datos de granularidad diaria.\n",
    "\n",
    "Se aplican modelos de regresión de paquetes Scikit-learn para realizar pronósticos en series temporales. Específicamente, utilizamos SKForecast (*), una biblioteca simple que contiene las clases y funciones necesarias para adaptar cualquier modelo de regresión de Scikit-learn a problemas de pronóstico.\n",
    "\n",
    "Los modelos de pronóstico autorregresivo recursivo con variables exógenas se desarrollan con las siguientes técnicas de regresión:\n",
    "<ol>\n",
    "    <li>Regresión lineal</li>\n",
    "    <li>Lasso</li>\n",
    "    <li>Regresión Cresta</li>\n",
    "    <li>Regresión Cresta Bayesiana</li>\n",
    "    <li>Bosque Aleatorio</li>\n",
    "    <li>Aumento de Gradiente Extremo (XGB)</li>\n",
    "</ol>\n",
    "\n",
    "(*) Rodrigo, J.A. Escobar Ortiz, J. _Skforecast: pronóstico de series de tiempo con Python y Scikit-learn_, disponible bajo Atribución 4.0 Internacional (CC BY 4.0) en https://www.cienciadedatos.net/documentos/py27-time-series-forecasting-python -scikitlearn.html"
   ]
  },
  {
   "cell_type": "markdown",
   "metadata": {},
   "source": [
    "# Machine Learning Regression models in Time Series\n",
    "\n",
    "In order to apply machine learning models to forecasting problems, the time series has to be transformed into a matrix in which each value is related to the time window (lags) that precedes it. This is called the _sliding window_\n",
    "\n",
    "In a time series context, a lag with respect to a time step  t  is defined as the values of the series at previous time steps. For example, lag 1 is the value at time step  t−1  and lag  m  is the value at time step  t−m .\n",
    "\n",
    "\n",
    "<br>\n",
    " \n",
    "<div>\n",
    "<img src=\"attachment:transform_timeseries.gif\" width=\"500\"/>\n",
    "</div>\n",
    "\n",
    "Time series transformation into a matrix of 5 lags and a vector with the value of the series that follows each row of the matrix.\n",
    "\n",
    "This type of transformation also allows to include additional variables."
   ]
  },
  {
   "cell_type": "markdown",
   "metadata": {},
   "source": [
    "<div>\n",
    "<img src=\"attachment:matrix_transformation_with_exog_variable.png\" width=\"500\"/>\n",
    "</div>\n",
    "\n",
    "Time series transformation including an exogenous variable.\n",
    "Once data have been rearranged into the new shape, any regression model can be trained to predict the next value (step) of the series. During model training, every row is considered a separate data instance, where values at lags 1, 2, ...  p  are considered predictors for the target quantity of the time series at time step  p+1. SKForecast package builds the dependent variable lags, but not the exogenous variable ones that should be computed during the computation process.\n",
    "\n",
    "The main complexity of this approach is to generate the correct training matrices for each model, _the sliding window_\n",
    "\n",
    "<div>\n",
    "<img src=\"attachment:diagram_skforecast_multioutput.png\" width=\"700\"/>\n",
    "</div>\n"
   ]
  },
  {
   "cell_type": "markdown",
   "metadata": {},
   "source": [
    "Once data have been rearranged into the new shape, any regression model can be trained to predict the next value (step) of the series. During model training, every row is considered a separate data instance, where values at lags 1, 2, ... p are considered predictors for the target quantity of the time series at time step p+1.\n",
    "\n",
    "<div>\n",
    "<img src=\"attachment:diagram-trainig-forecaster.png\" width=\"500\"/>\n",
    "</div>\n"
   ]
  },
  {
   "cell_type": "code",
   "execution_count": 150,
   "metadata": {},
   "outputs": [],
   "source": [
    "# Import Packages\n",
    "\n",
    "# Data manipulation\n",
    "# ==============================================================================\n",
    "import numpy as np\n",
    "import pandas as pd\n",
    "\n",
    "# Plots\n",
    "# ==============================================================================\n",
    "import matplotlib.pyplot as plt\n",
    "from cycler import cycler\n",
    "from statsmodels.graphics.tsaplots import plot_acf\n",
    "from statsmodels.graphics.tsaplots import plot_pacf\n",
    "%matplotlib inline\n",
    "\n",
    "# Color Palette\n",
    "\n",
    "dark_green = '#00523e'\n",
    "brown = '#2d2572'\n",
    "violet = '#2d2572'\n",
    "pale_red = '#d42f01'\n",
    "dark_blue = '#2d2d8a'\n",
    "turquoise = '#059899'\n",
    "pale_green = '#99cb02'\n",
    "gray = '#808080'\n",
    "plt.style.use('fivethirtyeight')\n",
    "\n",
    "# Modeling and Forecasting\n",
    "# ==============================================================================\n",
    "import sklearn as sk\n",
    "from sklearn.linear_model import LinearRegression\n",
    "from sklearn.linear_model import Lasso\n",
    "from sklearn.linear_model import Ridge\n",
    "from sklearn.linear_model import BayesianRidge\n",
    "from sklearn.ensemble import RandomForestRegressor\n",
    "from sklearn.ensemble import GradientBoostingRegressor\n",
    "from sklearn.metrics import mean_squared_error, r2_score, mean_absolute_error, median_absolute_error\n",
    "from sklearn.preprocessing import StandardScaler\n",
    "\n",
    "\n",
    "from skforecast.ForecasterAutoreg import ForecasterAutoreg\n",
    "from skforecast.ForecasterAutoregCustom import ForecasterAutoregCustom\n",
    "from skforecast.ForecasterAutoregDirect import ForecasterAutoregDirect\n",
    "from skforecast.model_selection import grid_search_forecaster\n",
    "from skforecast.model_selection import backtesting_forecaster\n",
    "from skforecast.utils import save_forecaster\n",
    "from skforecast.utils import load_forecaster\n",
    "\n",
    "import statsmodels.api as sm\n",
    "\n",
    "# Time & DataTime\n",
    "# ==============================================================================\n",
    "import time\n",
    "import datetime\n",
    "\n",
    "# Warnings configuration\n",
    "# ==============================================================================\n",
    "import warnings\n",
    "warnings.filterwarnings('ignore')"
   ]
  },
  {
   "cell_type": "code",
   "execution_count": 151,
   "metadata": {},
   "outputs": [],
   "source": [
    "# DEFINIR los directorios para datos, figuras y modelos\n",
    "# actualiza el valor de la variable con un valor alfanúmerico con el directorio\n",
    "\n",
    "#dataset_path = '/home/wrozas/1.0 Dataset/' # TESLA \n",
    "#dataset_path = '/home/wrozas/Insync/crozas2@alumno.uned.es/OneDrive Biz/3 Doctorado/0B. Papers & Thesis/00. Cornwall Dataset LEM Data & Analysis/1.0 Dataset/'# UBUNTU\n",
    "dataset_path = '/workspaces/Prueba-Github/Modelos de Inteligencia Artificial/ACT6/'\n",
    "\n",
    "#figures_path = '/home/wrozas/2. Jupyter Notebooks/00. Cornwall LEM Notebooks/3. SLM/figures/' # TESLA \n",
    "#figures_path = '/home/wrozas/Insync/crozas2@alumno.uned.es/OneDrive Biz/3 Doctorado/0B. Papers & Thesis/00. Cornwall Dataset LEM Data & Analysis/2. Jupyter Notebooks/3. SLM/0. figures/'# UBUNTU\n",
    "figures_path = '/workspaces/Prueba-Github/Modelos de Inteligencia Artificial/ACT6/figures/'\n",
    "\n",
    "#models_path = '/home/wrozas/2. Jupyter Notebooks/00. Cornwall LEM Notebooks/3. SLM/models/' # TESLA \n",
    "#models_path = '/home/wrozas/Insync/crozas2@alumno.uned.es/OneDrive Biz/3 Doctorado/0B. Papers & Thesis/00. Cornwall Dataset LEM Data & Analysis/2. Jupyter Notebooks/3. SLM/3. models/'# UBUNTU\n",
    "models_path = '/workspaces/Prueba-Github/Modelos de Inteligencia Artificial/ACT6/models/'"
   ]
  },
  {
   "cell_type": "code",
   "execution_count": 152,
   "metadata": {},
   "outputs": [],
   "source": [
    "# Get initial time for this notebook\n",
    "time_init = time.localtime()"
   ]
  },
  {
   "cell_type": "code",
   "execution_count": 153,
   "metadata": {
    "scrolled": true
   },
   "outputs": [
    {
     "name": "stdout",
     "output_type": "stream",
     "text": [
      ".B03 Consumption kWh\n"
     ]
    }
   ],
   "source": [
    "dependent_variable = '1'\n",
    "dependent_variable = input(\"Dependent Variable: 1 = Consumption kW, 2=Production kW, 3 = Headroom% \" )\n",
    "\n",
    "if dependent_variable == '1':\n",
    "    dependent_variable = \".B03 Consumption kWh\"\n",
    "elif dependent_variable == '2':\n",
    "    dependent_variable = \".B04 Production kWh\"\n",
    "else:\n",
    "    dependent_variable = \".B15 Headroom\"\n",
    "\n",
    "print(dependent_variable)"
   ]
  },
  {
   "cell_type": "code",
   "execution_count": 154,
   "metadata": {},
   "outputs": [
    {
     "name": "stdout",
     "output_type": "stream",
     "text": [
      "Linear Regression\n"
     ]
    }
   ],
   "source": [
    "selected_regressor = '1'\n",
    "selected_regressor = input(\"Select Regressor: 1 = Linear Regression, 2 = Lasso, 3 = Ridge Regression, 4 = Bayesian Ridge Regression, 5 = Random Forest, 6 = XGB \" )\n",
    "alpha = 0\n",
    "if selected_regressor == '1':\n",
    "    regressor_named = \"Linear Regression\"\n",
    "    \n",
    "elif selected_regressor == '2':\n",
    "\n",
    "    alpha = input(\"alpha: \")\n",
    "    if alpha == \"\":\n",
    "        alpha = 0.1\n",
    "    regressor_named = \"Lasso\"\n",
    "    \n",
    "elif selected_regressor == '3':\n",
    "\n",
    "    alpha = input(\"alpha: \")\n",
    "    if alpha == \"\":\n",
    "        alpha = 0.5\n",
    "    regressor_named = \"Ridge Regression\"\n",
    "    \n",
    "elif selected_regressor == '4':\n",
    "    regressor_named = \"Bayesian Ridge Regression\"\n",
    "    \n",
    "elif selected_regressor == '5':\n",
    "    regressor_named = \"Random Forest Regressor\"\n",
    "    \n",
    "else:\n",
    "    regressor_named = \"XGBoost\"\n",
    "\n",
    "if alpha != 0:\n",
    "    print(regressor_named + \" (alpha = \" + str(alpha) + \")\")\n",
    "else:\n",
    "    print(regressor_named)"
   ]
  },
  {
   "cell_type": "markdown",
   "metadata": {},
   "source": [
    "## 1. Cornwall LEM Hourly Data Loading and Preparation"
   ]
  },
  {
   "cell_type": "code",
   "execution_count": 155,
   "metadata": {},
   "outputs": [],
   "source": [
    "df_multivar = pd.DataFrame()"
   ]
  },
  {
   "cell_type": "code",
   "execution_count": 156,
   "metadata": {},
   "outputs": [],
   "source": [
    "# Read t_msb1m_sites_metadata_date_cluster_meteo table\n",
    "# This table is the cross of KPIs by MySonnenBatterie (t_msb1m)at minute granularity level with t_sites (information on BESS and metadata information \n",
    "# (information about the UNIT, BESS, APPLIANCES, DER, EV, BILL ), having the cluster label, and cross with weather information (t_weatherforecasts)\n",
    "# Information is agggregated at hour level having the minute information and filtered in the annual period 30.4.2019-31.3.2020\n",
    "\n",
    "\n",
    "df_multivar = pd.read_csv(dataset_path+'t_msb1m_sites_metadata_date_cluster_meteo.csv', delimiter=';')"
   ]
  },
  {
   "cell_type": "code",
   "execution_count": 157,
   "metadata": {},
   "outputs": [],
   "source": [
    "# Cleanse NaN values\n",
    "df_multivar.fillna(axis = 1, value= 0, inplace=True)"
   ]
  },
  {
   "cell_type": "code",
   "execution_count": 158,
   "metadata": {},
   "outputs": [],
   "source": [
    "# Removing unnecessary columns\n",
    "\n",
    "df_multivar.drop(columns=df_multivar.columns[2:22], inplace=True)\n",
    "df_multivar.drop(columns=df_multivar.columns[17:71], inplace=True)"
   ]
  },
  {
   "cell_type": "code",
   "execution_count": 159,
   "metadata": {},
   "outputs": [],
   "source": [
    "# Convert site into integer, date into string and rename it\n",
    "\n",
    "df_multivar['01.01 UNIT site']=df_multivar['01.01 UNIT site'].astype(int)\n",
    "df_multivar['date']=df_multivar['date'].astype(str)\n",
    "\n",
    "# Convert object series in float\n",
    "\n",
    "for i in range(2, 23):\n",
    "    df_multivar[df_multivar.columns[i]]=df_multivar[df_multivar.columns[i]].astype(float)"
   ]
  },
  {
   "cell_type": "code",
   "execution_count": 160,
   "metadata": {},
   "outputs": [
    {
     "name": "stdout",
     "output_type": "stream",
     "text": [
      "<class 'pandas.core.frame.DataFrame'>\n",
      "RangeIndex: 31955 entries, 0 to 31954\n",
      "Data columns (total 23 columns):\n",
      " #   Column                          Non-Null Count  Dtype  \n",
      "---  ------                          --------------  -----  \n",
      " 0   01.01 UNIT site                 31955 non-null  int64  \n",
      " 1   date                            31955 non-null  object \n",
      " 2   .B01 Discharge kWh              31955 non-null  float64\n",
      " 3   .B02 Charge kWh                 31955 non-null  float64\n",
      " 4   .B03 Consumption kWh            31955 non-null  float64\n",
      " 5   .B04 Production kWh             31955 non-null  float64\n",
      " 6   .B05 Grid Export kWh            31955 non-null  float64\n",
      " 7   .B06 Grid Import kWh            31955 non-null  float64\n",
      " 8   .B07 PV Charge kWh              31955 non-null  float64\n",
      " 9   .B08 PV Consumption kWh         31955 non-null  float64\n",
      " 10  .B09 PV Export kWh              31955 non-null  float64\n",
      " 11  .B10 Grid Discharge kWh         31955 non-null  float64\n",
      " 12  .B11 Grid Charge kWh            31955 non-null  float64\n",
      " 13  .B12 Grid Consumption kWh       31955 non-null  float64\n",
      " 14  .B13 Consumption Discharge kWh  31955 non-null  float64\n",
      " 15  .B14 SOC                        31955 non-null  float64\n",
      " 16  .B15 Headroom                   31955 non-null  float64\n",
      " 17  precipitation_Mean              31955 non-null  float64\n",
      " 18  precipitation_probability_Mean  31955 non-null  float64\n",
      " 19  wind_direction_Mean             31955 non-null  float64\n",
      " 20  wind_speed_Mean                 31955 non-null  float64\n",
      " 21  solar_radiation_Mean            31955 non-null  float64\n",
      " 22  sunshine_duration_Mean          31955 non-null  float64\n",
      "dtypes: float64(21), int64(1), object(1)\n",
      "memory usage: 5.6+ MB\n"
     ]
    }
   ],
   "source": [
    "df_multivar.info()"
   ]
  },
  {
   "cell_type": "markdown",
   "metadata": {},
   "source": [
    "### 1.1. Dataset Variable Selection"
   ]
  },
  {
   "cell_type": "code",
   "execution_count": 161,
   "metadata": {},
   "outputs": [],
   "source": [
    "#iloc cluster o 01.01 UNIT size\n",
    "\n",
    "\n",
    "# Aggregate by date\n",
    "df_multivar = df_multivar.groupby(['date'], dropna=False).mean()\n",
    "\n",
    "\n",
    "# Drop unnecessary columns\n",
    "df_multivar = df_multivar.drop(['01.01 UNIT site'], axis=1)\n",
    "df_multivar = df_multivar.drop(['.B14 SOC'], axis=1)"
   ]
  },
  {
   "cell_type": "code",
   "execution_count": 162,
   "metadata": {},
   "outputs": [],
   "source": [
    "df_multivar = df_multivar.reset_index(drop=True)"
   ]
  },
  {
   "cell_type": "code",
   "execution_count": 163,
   "metadata": {},
   "outputs": [
    {
     "name": "stdout",
     "output_type": "stream",
     "text": [
      "<class 'pandas.core.frame.DataFrame'>\n",
      "RangeIndex: 357 entries, 0 to 356\n",
      "Data columns (total 20 columns):\n",
      " #   Column                          Non-Null Count  Dtype  \n",
      "---  ------                          --------------  -----  \n",
      " 0   .B01 Discharge kWh              357 non-null    float64\n",
      " 1   .B02 Charge kWh                 357 non-null    float64\n",
      " 2   .B03 Consumption kWh            357 non-null    float64\n",
      " 3   .B04 Production kWh             357 non-null    float64\n",
      " 4   .B05 Grid Export kWh            357 non-null    float64\n",
      " 5   .B06 Grid Import kWh            357 non-null    float64\n",
      " 6   .B07 PV Charge kWh              357 non-null    float64\n",
      " 7   .B08 PV Consumption kWh         357 non-null    float64\n",
      " 8   .B09 PV Export kWh              357 non-null    float64\n",
      " 9   .B10 Grid Discharge kWh         357 non-null    float64\n",
      " 10  .B11 Grid Charge kWh            357 non-null    float64\n",
      " 11  .B12 Grid Consumption kWh       357 non-null    float64\n",
      " 12  .B13 Consumption Discharge kWh  357 non-null    float64\n",
      " 13  .B15 Headroom                   357 non-null    float64\n",
      " 14  precipitation_Mean              357 non-null    float64\n",
      " 15  precipitation_probability_Mean  357 non-null    float64\n",
      " 16  wind_direction_Mean             357 non-null    float64\n",
      " 17  wind_speed_Mean                 357 non-null    float64\n",
      " 18  solar_radiation_Mean            357 non-null    float64\n",
      " 19  sunshine_duration_Mean          357 non-null    float64\n",
      "dtypes: float64(20)\n",
      "memory usage: 55.9 KB\n"
     ]
    }
   ],
   "source": [
    "df_multivar.info()"
   ]
  },
  {
   "cell_type": "code",
   "execution_count": null,
   "metadata": {},
   "outputs": [],
   "source": [
    "# Check missing values\n",
    "\n",
    "print(f'Number of rows with missing values: {df_multivar.isnull().values.ravel().sum()}')\n",
    "\n"
   ]
  },
  {
   "cell_type": "markdown",
   "metadata": {},
   "source": [
    "### 1.2 Data Partitioning: Training and Testing Subsets"
   ]
  },
  {
   "cell_type": "markdown",
   "metadata": {},
   "source": [
    "Dataset is partitioned in three subsets: one for training with 70% sample size, the second for testing with about 30% sample size. The third portion is for prediction and will have the same number of elements of the output window (steps). Our output window (steps) is 7 days."
   ]
  },
  {
   "cell_type": "code",
   "execution_count": null,
   "metadata": {},
   "outputs": [],
   "source": [
    "steps = 7  # forecasting horizon as output window"
   ]
  },
  {
   "cell_type": "code",
   "execution_count": null,
   "metadata": {},
   "outputs": [],
   "source": [
    "lagged_variables = [\n",
    " '.B01 Discharge kWh',\n",
    " '.B02 Charge kWh',\n",
    " '.B03 Consumption kWh',\n",
    " '.B04 Production kWh',\n",
    " '.B05 Grid Export kWh',\n",
    " '.B06 Grid Import kWh',\n",
    " '.B07 PV Charge kWh',\n",
    " '.B08 PV Consumption kWh',\n",
    " '.B09 PV Export kWh',\n",
    " '.B10 Grid Discharge kWh',\n",
    " '.B11 Grid Charge kWh',\n",
    " '.B12 Grid Consumption kWh',\n",
    " '.B13 Consumption Discharge kWh',\n",
    " '.B15 Headroom',\n",
    " 'precipitation_Mean',\n",
    " 'precipitation_probability_Mean',\n",
    " 'wind_direction_Mean',\n",
    " 'wind_speed_Mean',\n",
    " 'solar_radiation_Mean',\n",
    " 'sunshine_duration_Mean'\n",
    " ]  \n",
    "\n",
    "# Creation of Lagged Exogenous\n",
    "\n",
    "for i in range(0, len(lagged_variables)):\n",
    "    for j in range(1, steps+1):\n",
    "        df_multivar[lagged_variables[i]+'_lag_' + str(j)] = df_multivar[lagged_variables[i]].shift(j)"
   ]
  },
  {
   "cell_type": "code",
   "execution_count": null,
   "metadata": {},
   "outputs": [],
   "source": [
    "# Removing exogenous at time t \n",
    "\n",
    "drop_cols = ['.B01 Discharge kWh',\n",
    " '.B02 Charge kWh',\n",
    " '.B05 Grid Export kWh',\n",
    " '.B06 Grid Import kWh',\n",
    " '.B07 PV Charge kWh',\n",
    " '.B08 PV Consumption kWh',\n",
    " '.B09 PV Export kWh',\n",
    " '.B10 Grid Discharge kWh',\n",
    " '.B11 Grid Charge kWh',\n",
    " '.B12 Grid Consumption kWh',\n",
    " '.B13 Consumption Discharge kWh',\n",
    " 'precipitation_Mean',\n",
    " 'precipitation_probability_Mean',\n",
    " 'wind_direction_Mean',\n",
    " 'wind_speed_Mean',\n",
    " 'solar_radiation_Mean',\n",
    " 'sunshine_duration_Mean']\n",
    "\n",
    "if dependent_variable == '.B03 Consumption kWh':\n",
    "    \n",
    "    drop_cols.append('.B04 Production kWh')\n",
    "    drop_cols.append('.B15 Headroom')\n",
    "\n",
    "elif dependent_variable == '.B04 Production kWh':\n",
    "\n",
    "    drop_cols.append('.B03 Consumption kWh')\n",
    "    drop_cols.append('.B15 Headroom')\n",
    "  \n",
    "else:\n",
    "    \n",
    "    drop_cols.append('.B04 Production kWh')\n",
    "    drop_cols.append('.B03 Consumption kWh')\n",
    "\n",
    "df_multivar = df_multivar.drop(drop_cols, axis=1)\n",
    "cols_df_multivar = df_multivar.columns.to_list()\n",
    "exog_variables  = cols_df_multivar[1:len(cols_df_multivar)]"
   ]
  },
  {
   "cell_type": "code",
   "execution_count": null,
   "metadata": {},
   "outputs": [],
   "source": [
    "# Cleanse NaN values\n",
    "df_multivar = df_multivar.fillna(df_multivar.median())"
   ]
  },
  {
   "cell_type": "code",
   "execution_count": null,
   "metadata": {},
   "outputs": [],
   "source": [
    "df_multivar.info()"
   ]
  },
  {
   "cell_type": "code",
   "execution_count": null,
   "metadata": {},
   "outputs": [],
   "source": [
    "# Creating train-test-predict subsets \n",
    "# ==============================================================================\n",
    "\n",
    "partition = round(len(df_multivar)*0.7) # 70% training subset\n",
    "test_size = len(df_multivar) - partition # 30% testing subset\n",
    "\n",
    "data_train = df_multivar[:partition] # training subset\n",
    "data_test  = df_multivar[partition:len( df_multivar)-steps] # testing subset = 30% - steps\n",
    "data_predict = df_multivar[len( df_multivar)-steps:] # predicting subset for exogenous variables (steps)\n",
    "\n",
    "print(f\"Train dates : {data_train.index.min()} --- {data_train.index.max()}  (n={len(data_train)})\")\n",
    "print(f\"Test dates  : {data_test.index.min()} --- {data_test.index.max()}  (n={len(data_test)})\")\n",
    "print(f\"Total dataset size  (n={ df_multivar.shape[0] })\")"
   ]
  },
  {
   "cell_type": "code",
   "execution_count": null,
   "metadata": {},
   "outputs": [],
   "source": [
    "# Cleanse NaN values\n",
    "data_train.fillna(axis = 1, value= 0, inplace=True)\n",
    "data_test.fillna(axis = 1, value= 0, inplace=True)\n",
    "data_predict.fillna(axis = 1, value= 0, inplace=True)"
   ]
  },
  {
   "cell_type": "code",
   "execution_count": null,
   "metadata": {},
   "outputs": [],
   "source": [
    "# Plot Training and Testing Dependent Variable\n",
    "\n",
    "plt.figure(figsize=(30, 10))\n",
    "\n",
    "x_train_axis = data_train.index\n",
    "x_test_axis = data_test.index\n",
    "\n",
    "x_axis = np.arange(1, len(data_train.index)+1,1)\n",
    "y_axis = np.arange(len(data_train.index),len(data_train.index)+len(data_test.index),1)\n",
    "\n",
    "# EN VEZ DE AVERAGE SITE PONER CLUSTER 4 O SITE 100\n",
    "plt.title(dependent_variable + ' Daily Training & Testing Subsets (Average Site)', fontsize=30, loc = 'left', fontweight=\"bold\")\n",
    "\n",
    "plt.plot(x_axis, data_train[dependent_variable], linewidth=6, color = dark_green) \n",
    "plt.plot(y_axis, data_test[dependent_variable], linewidth=6, color = pale_green) \n",
    "\n",
    "plt.ylim(bottom=0)\n",
    "plt.ylabel(dependent_variable + ' Training vs. Testing', fontsize=20)\n",
    "plt.xlabel(\"Records\", fontsize=20)\n",
    "\n",
    "\n",
    "plt.xticks(fontsize=16) \n",
    "plt.yticks(fontsize=16)\n",
    "plt.grid(visible = True, color =brown, axis ='both')\n",
    "\n",
    "plt.legend([\"Training\", \"Testing\"], loc='best', fontsize=20)\n",
    "\n",
    "fname = figures_path + dependent_variable[2:len(dependent_variable)] + \"_\" + \"Daily_Training_Testing_Subsets_Average_Site.png\"\n",
    "plt.savefig(fname, format='png')\n",
    "\n",
    "plt.show()\n"
   ]
  },
  {
   "cell_type": "markdown",
   "metadata": {},
   "source": [
    "### 1.3 Data Standardization"
   ]
  },
  {
   "cell_type": "markdown",
   "metadata": {},
   "source": [
    "Data is re-scaled standardizing the numerical columns by presenting a mean of 0 and a standard deviation of 1 thus all elements independently of their dimension can be compared.\n",
    "\n",
    "The pre-processing transformer StandScaler() from Scikit-learn package is directly applied in the Forecaster Class that will run the regression models. "
   ]
  },
  {
   "cell_type": "markdown",
   "metadata": {},
   "source": [
    "## 2. Daily Data Description\n",
    "\n",
    "### 2.1. Dependent variable plot\n",
    "\n",
    "We plot the dependent variable at daily granularity level"
   ]
  },
  {
   "cell_type": "code",
   "execution_count": null,
   "metadata": {},
   "outputs": [],
   "source": [
    "# Plotting the dependent variable\n",
    "fig, ax = plt.subplots(figsize=(30,10))\n",
    "\n",
    "ax.plot(df_multivar.index,df_multivar[dependent_variable],color=dark_green,linewidth=6, label=dependent_variable)\n",
    "\n",
    "plt.title(dependent_variable + \" Daily Training & Testing Subsets (Average Site)\", fontsize = 30,  loc = 'left', fontweight=\"bold\")\n",
    "\n",
    "locs, labels = plt.xticks() \n",
    "newlocs  = np.arange(0, len(locs), 50)\n",
    "newlabels = []\n",
    "\n",
    "for i in range(0, len(newlocs)): \n",
    "    newlabels.append(df_multivar.index[newlocs[i]])\n",
    "    \n",
    "\n",
    "ax.set_ylim(bottom=0)\n",
    "plt.ylabel(dependent_variable, size=30)\n",
    "plt.xlabel(\"date\", size=30)\n",
    "plt.xticks(fontsize=16, ticks=newlocs, labels=newlabels, minor = False )\n",
    "plt.yticks(fontsize=16)\n",
    "plt.legend(loc=\"best\",fontsize=\"20\")\n",
    "plt.grid(visible = True, color =brown, axis ='both')\n",
    "\n",
    "fname = figures_path + dependent_variable[2:len(dependent_variable)] + \"_by_date.png\"\n",
    "plt.savefig(fname, format='png')\n",
    "\n",
    "plt.show()"
   ]
  },
  {
   "cell_type": "markdown",
   "metadata": {},
   "source": [
    "### 2.2. Autocorrelation plots\n",
    "\n",
    "Autocorrelation and partial autocorrelation function are plotted to show the dependent's variable autorregresive behavior that justify the usage of autorregresive/recursive forecasting methods."
   ]
  },
  {
   "cell_type": "code",
   "execution_count": null,
   "metadata": {},
   "outputs": [],
   "source": [
    "# Autocorrelation plot\n",
    "# ======================================================================================\n",
    "fig, ax = plt.subplots(nrows=1, ncols=1, figsize=(30, 10), sharex=True)\n",
    "\n",
    "sm.graphics.tsa.plot_acf(df_multivar[dependent_variable],ax=ax, title = '', lags=24)\n",
    "\n",
    "plt.title(dependent_variable + ' Daily Autocorrelation Function Plot', fontsize=30, loc = 'left', fontweight=\"bold\")\n",
    "\n",
    "plt.ylabel(dependent_variable + ' Autocorrelation', fontsize=20)\n",
    "plt.xlabel(\"Lag\", fontsize=20)\n",
    "\n",
    "\n",
    "plt.xticks(fontsize=16) \n",
    "plt.yticks(fontsize=16)\n",
    "plt.grid(visible = True, color =brown, axis ='both')\n",
    "\n",
    "plt.legend([\"Autocorrelation\"], loc='best', fontsize=20)\n",
    "\n",
    "fname = figures_path + dependent_variable[2:len(dependent_variable)] + '_Daily_Autocorrelation_Function_Plot.png'\n",
    "plt.savefig(fname, format='png')\n",
    "\n",
    "plt.show()"
   ]
  },
  {
   "cell_type": "code",
   "execution_count": null,
   "metadata": {},
   "outputs": [],
   "source": [
    "# Partial Autocorrelation plot\n",
    "# ======================================================================================\n",
    "fig, ax = plt.subplots(nrows=1, ncols=1, figsize=(30, 10), sharex=True)\n",
    "\n",
    "sm.graphics.tsa.plot_pacf(df_multivar[dependent_variable],ax=ax, title = '', lags=24, method='ywm')\n",
    "\n",
    "plt.title(dependent_variable + ' Daily Partial Autocorrelation Function Plot', fontsize=30, loc = 'left', fontweight=\"bold\")\n",
    "\n",
    "plt.ylabel(dependent_variable + ' Partial Autocorrelation', fontsize=20)\n",
    "plt.xlabel(\"Lag\", fontsize=20)\n",
    "\n",
    "\n",
    "plt.xticks(fontsize=16) \n",
    "plt.yticks(fontsize=16)\n",
    "plt.grid(visible = True, color =brown, axis ='both')\n",
    "\n",
    "plt.legend([\"Partial Autocorrelation\"], loc='best', fontsize=20)\n",
    "\n",
    "fname = figures_path + dependent_variable[2:len(dependent_variable)] + '_Daily_Partial_Autocorrelation_Function_Plot.png'\n",
    "plt.savefig(fname, format='png')\n",
    "\n",
    "plt.show()"
   ]
  },
  {
   "cell_type": "markdown",
   "metadata": {},
   "source": [
    "## 3. Recursive Forecasting Models withe the Sliding Window\n",
    "\n",
    "To predict variables at t$_n$ we need to have variables at t$_{n−1}$ whose values are unknown. A recursive process is applied in which, each new prediction, is based on the previous one. This process is called _recursive forecasting_.\n",
    "\n",
    "\n",
    "The model specification is the following:\n",
    "\n",
    "\n",
    "$\\qquad\\qquad$ Dependent Variable$_t = f($Dependent Variable$_{t−1} \\quad + \\quad $exogenous variables$_{t−1})$ + $\\epsilon_t$\n",
    "\n",
    "<br>\n",
    " \n",
    "<div>\n",
    "<img src=\"attachment:diagram-recursive-mutistep-forecasting.png\" width=\"500\"/>\n",
    "</div>"
   ]
  },
  {
   "cell_type": "markdown",
   "metadata": {},
   "source": [
    "### 3.1. Forecaster creation and training\n",
    "\n",
    "With the ForecasterAutoreg class, a model is created and trained from a __SciKit Learn__ regressor with a time window of 24 lags (input window). This means that the model uses the previous 24 hours as predictors. We also add the lagged exogenous variables as inputs of our models. We train the selected regressor with default options to produce an outpput window of 24 leads (we will predict the following 24 hours):  \n",
    "\n",
    "<ol>\n",
    "    <li>Ordinary Least Squares Regression</li>\n",
    "    <li>Lasso (alpha = 0.1)</li>\n",
    "    <li>Ridge Regression (alpha = 0.5)</li>\n",
    "    <li>Bayesian Ridge Regression</li>\n",
    "    <li>Random Forest (n_estimators = 100, max_depth = 5)</li>  \n",
    "    <li>Gradient Boosting Regressor (n_estimators = 100, max_depth = 5, learning_rate = 0.1)</li>  \n",
    "</ol>\n",
    "\n",
    "#### 3.1.1 Ordinary Least Squares Regression\n",
    "\n",
    "According to scikit-learn \"_LinearRegression fits a linear model with coefficients  to minimize the residual sum of squares between the observed targets in the dataset, and the targets predicted by the linear approximation. Mathematically it solves a problem of the form:\"_\n",
    "\n",
    " \n",
    "<p style=\"text-align: center;\">$\\min_{w} || X w - y||_2^2$</p>\n",
    "\n",
    "#### 3.1.2 Lasso (L1 Norm)\n",
    "\n",
    "According to scikit-learn \"_The Lasso (Least Absolute Shrinkage and Selection Operator) is a linear model that estimates sparse coefficients. It is useful in some contexts due to its tendency to prefer solutions with fewer non-zero coefficients, effectively reducing the number of features upon which the given solution is dependent._\n",
    "\n",
    "_Mathematically, it consists of a linear model with an added regularization term. The objective function to minimize is:_\n",
    "\n",
    "<p style=\"text-align: center;\">$\\min_{w} { \\frac{1}{2n_{\\text{samples}}} ||X w - y||_2 ^ 2 + \\alpha ||w||_1}$</p>\n",
    " \n",
    "_The lasso estimate thus solves the minimization of the least-squares penalty with  added, where $\\alpha$ is a constant and $||w||_1$ is the norm of the coefficient vector._ \"\n",
    "\n",
    "#### 3.1.3 Ridge Regression (L2 Norm)\n",
    "\n",
    "According to scikit-learn \"_Ridge regression addresses some of the problems of Ordinary Least Squares by imposing a penalty on the size of the coefficients. The ridge coefficients minimize a penalized residual sum of squares:_\n",
    "\n",
    " \n",
    "<p style=\"text-align: center;\">$\\min_{w} || X w - y||_2^2 + \\alpha ||w||_2^2$</p>\n",
    "\n",
    "_The complexity parameter $\\alpha \\ge 0$ controls the amount of shrinkage: the larger the value of \n",
    "$\\alpha$, the greater the amount of shrinkage and thus the coefficients become more robust to collinearity._ \"\n",
    "\n",
    "<br>\n",
    "<div>\n",
    "<img src=\".\\lasso-ridge.png\" width=\"500\"/>\n",
    "</div>\n",
    "\n",
    "#### 3.1.4 Bayesian Ridge Regression\n",
    "\n",
    "According to scikit-learn \"_BayesianRidge estimates a probabilistic model of the regression problem as described above. The prior for the coefficient w is given by a spherical Gaussian:_  $p(w|\\lambda) = \\mathcal{N}(w|0,\\lambda^{-1}\\mathbf{I}_{p})$\n",
    "\n",
    "_The priors over $\\alpha$ and $\\lambda$ are chosen to be gamma distributions, the conjugate prior for the precision of the Gaussian. The resulting model is called Bayesian Ridge Regression, and is similar to the classical Ridge. The parameters $w,\\alpha$ and $\\lambda$ are estimated jointly during the fit of the model, the regularization parameters $\\alpha$ and $\\lambda$ being estimated by maximizing the log marginal likelihood._\n",
    "_There are four more hyperparameters, $\\alpha_1, \\alpha_2, \\lambda_1, and \\lambda_2$ of the gamma prior distributions over $\\alpha$ and $\\lambda$. These are usually chosen to be non-informative. By default $\\alpha_1 = \\alpha_2 =  \\lambda_1 = \\lambda_2 = 10^{-6}$_ \"\n",
    "\n",
    "<br>\n",
    "<div>\n",
    "<img src=\".\\bayesian.png\" width=\"700\"/>\n",
    "</div>\n",
    "\n",
    "\n",
    "#### 3.1.5 Random Forest\n",
    "\n",
    "According to scikit-learn \"_in random forests each tree in the ensemble is built from a sample drawn with replacement (i.e., a bootstrap sample) from the training set. Furthermore, when splitting each node during the construction of a tree, the best split is found either from all input features or a random subset of size max_features._\n",
    "\n",
    "_The purpose of these two sources of randomness is to decrease the variance of the forest estimator. Indeed, individual decision trees typically exhibit high variance and tend to overfit. The injected randomness in forests yield decision trees with somewhat decoupled prediction errors. By taking an average of those predictions, some errors can cancel out. Random forests achieve a reduced variance by combining diverse trees, sometimes at the cost of a slight increase in bias. In practice the variance reduction is often significant hence yielding an overall better model._\n",
    "\n",
    "_The scikit-learn implementation combines classifiers by averaging their probabilistic prediction, instead of letting each classifier vote for a single class._\n",
    "\n",
    "_The main parameters to adjust when using these methods is_ __n_estimators__ _(the former is the number of trees in the forest) and_ __max_features__ _(size of the random subsets of features to consider when splitting a node)._ \"\n",
    "\n",
    "<br>\n",
    "<div>\n",
    "<img src=\".\\rt.png\" width=\"400\"/>\n",
    "</div>\n",
    "\n",
    "#### 3.1.6 Gradient Boosting Regressor\n",
    "\n",
    "According to scikit-learn \"_Gradient Tree Boosting is a generalization of boosting to arbitrary differentiable loss functions. GBDT is an accurate and effective off-the-shelf procedure that can be used for regression problems. GradientBoostingRegressor is useful when the number of samples is larger than tens of thousands of samples. This method has built-in support for missing values, which avoids the need for an imputer._\n",
    "\n",
    "_The 2 most important parameters of these estimators are_ __n_estimators__  _(number of weak learners) and_ __learning_rate__ _(hyperparameter that controls overfitting via shrinkage)._ \"\n",
    "\n",
    "GBRT regressors are additive models whose prediction $\\hat{y}_i$ for a given input  is of the following form:\n",
    "\n",
    "<p style=\"text-align: center;\">$\\hat{y}_i = F_M(x_i) = \\sum_{m=1}^{M} h_m(x_i)$</p>\n",
    " \n",
    "where the $h_m$ are estimators called weak learners in the context of boosting. Gradient Tree Boosting uses decision tree regressors of fixed size as weak learners. The constant M corresponds to the __n_estimators__ parameter.\n",
    "\n",
    "Similar to other boosting algorithms, a GBRT is built in a greedy fashion:\n",
    "\n",
    "<p style=\"text-align: center;\">$F_m(x) = F_{m-1}(x) + h_m(x)$</p>\n",
    "\n",
    "where the newly added tree $h_m$ is fitted in order to minimize a sum of losses $L_m$, given the previous ensemble $F_{m-1}$:\n",
    "\n",
    "<p style=\"text-align: center;\">$h_m =  \\arg\\min_{h} L_m = \\arg\\min_{h} \\sum_{i=1}^{n} l(y_i, F_{m-1}(x_i) + h(x_i))$</p>\n",
    "\n",
    "\n",
    " \n",
    "where $l(y_i, F(x_i))$ is defined by the __loss__ parameter.\n",
    "\n",
    "By default, the initial model  is chosen as the constant that minimizes the loss: for a least-squares loss, this is the empirical mean of the target values. \n",
    "\n",
    "Using a first-order Taylor approximation, the value of  can be approximated as follows:\n",
    "\n",
    "<p style=\"text-align: center;\">$\n",
    "l(y_i, F_{m-1}(x_i) + h_m(x_i)) \\approx\n",
    "l(y_i, F_{m-1}(x_i))\n",
    "+ h_m(x_i)\n",
    "\\left[ \\frac{\\partial l(y_i, F(x_i))}{\\partial F(x_i)} \\right]_{F=F_{m - 1}}$</p>\n",
    "\n",
    "The quantity $\\left[ \\frac{\\partial l(y_i, F(x_i))}{\\partial F(x_i)} \\right]_{F=F_{m - 1}}$ is the derivative of the loss with respect to its second parameter, evaluated at . It is easy to compute for any given  in a closed form since the loss is differentiable. It is denoted by $g_i$\n",
    "\n",
    "Removing the constant terms, we have:\n",
    "\n",
    "<p style=\"text-align: center;\">$h_m \\approx \\arg\\min_{h} \\sum_{i=1}^{n} h(x_i) g_i$</p>\n",
    "\n",
    "This is minimized if  is fitted to predict a value that is proportional to the negative gradient . Therefore, at each iteration, the estimator  is fitted to predict the negative gradients of the samples. The gradients are updated at each iteration. This can be considered as some kind of gradient descent in a functional space.\n",
    "\n",
    "<br>\n",
    "<div>\n",
    "<img src=\".\\xgb.png\" width=\"500\"/>\n",
    "</div>\n"
   ]
  },
  {
   "cell_type": "code",
   "execution_count": null,
   "metadata": {},
   "outputs": [],
   "source": [
    "regressor_named"
   ]
  },
  {
   "cell_type": "code",
   "execution_count": null,
   "metadata": {},
   "outputs": [],
   "source": [
    "# Options for other regressors included in Scikit-Learn: \n",
    "# 1-LinearRegression, 2-Lasso, 3-RidgeRegression, 4-ElasticNet, 5-Random Forest, 6-XGBRegressor\n",
    "\n",
    "if regressor_named == \"Linear Regression\":\n",
    "    selected_regressor = LinearRegression()    \n",
    "    \n",
    "elif regressor_named ==  \"Lasso\":\n",
    "    selected_regressor = Lasso(alpha=alpha)\n",
    "    \n",
    "elif regressor_named == \"Ridge Regression\":\n",
    "    selected_regressor = Ridge(alpha=alpha)\n",
    "    \n",
    "elif regressor_named ==  \"Bayesian Ridge Regression\":\n",
    "    selected_regressor = BayesianRidge()\n",
    "    \n",
    "elif regressor_named == \"Random Forest Regressor\":\n",
    "    \n",
    "    selected_regressor = RandomForestRegressor(random_state=123, max_features=10)\n",
    "    \n",
    "else:\n",
    "    \n",
    "    selected_regressor = GradientBoostingRegressor(random_state=123, max_features=10)\n",
    "\n",
    "print(selected_regressor)"
   ]
  },
  {
   "cell_type": "code",
   "execution_count": null,
   "metadata": {},
   "outputs": [],
   "source": [
    "lags = 7   # lags horizon as input window"
   ]
  },
  {
   "cell_type": "code",
   "execution_count": null,
   "metadata": {},
   "outputs": [],
   "source": [
    "# input X contains Nans\n",
    "data_train.fillna(axis = 1, value= 0, inplace=True)"
   ]
  },
  {
   "cell_type": "code",
   "execution_count": null,
   "metadata": {},
   "outputs": [],
   "source": [
    "# remove index\n",
    "\n",
    "#data_train = data_train.reset_index(drop=True)"
   ]
  },
  {
   "cell_type": "code",
   "execution_count": null,
   "metadata": {},
   "outputs": [],
   "source": [
    "# Create and train RF forecaster \n",
    "# We utilize the pre-processing StandardScaler() from Scikit-learn package directly in the SKForecast package\n",
    "# ===========================================================================================================\n",
    "\n",
    "if regressor_named == \"Linear Regression\" or regressor_named ==  \"Lasso\" or regressor_named == \"Ridge Regression\" or regressor_named ==  \"Bayesian Ridge Regression\":\n",
    "    \n",
    "    forecaster = ForecasterAutoreg(\n",
    "                regressor = selected_regressor,\n",
    "                lags      = lags,\n",
    "                transformer_y = StandardScaler(),\n",
    "                transformer_exog = StandardScaler()\n",
    "             )\n",
    "\n",
    "    forecaster.fit(y=data_train[dependent_variable])\n",
    "        \n",
    "elif regressor_named == \"Random Forest Regressor\":\n",
    "    \n",
    "    forecaster = ForecasterAutoreg(\n",
    "                regressor = selected_regressor,\n",
    "                lags      = lags,\n",
    "                transformer_y = StandardScaler(),\n",
    "                transformer_exog = StandardScaler()\n",
    "             )\n",
    "\n",
    "    forecaster.fit(y=data_train[dependent_variable], exog=data_train[exog_variables])\n",
    "       \n",
    "elif regressor_named == \"XGBoost\":\n",
    "    \n",
    "    forecaster = ForecasterAutoreg(\n",
    "                 regressor = selected_regressor, #GradientBoostingRegressor(random_state=123, max_features=10),\n",
    "                 lags = lags,\n",
    "                 transformer_y = StandardScaler(),\n",
    "                 transformer_exog = StandardScaler()\n",
    "             )\n",
    "    forecaster.fit(y=data_train[dependent_variable], exog=data_train[exog_variables])\n",
    "\n",
    "forecaster"
   ]
  },
  {
   "cell_type": "code",
   "execution_count": null,
   "metadata": {},
   "outputs": [],
   "source": [
    "# Number of exogenous variables\n",
    "len(exog_variables)"
   ]
  },
  {
   "cell_type": "code",
   "execution_count": null,
   "metadata": {},
   "outputs": [],
   "source": [
    "# Making predictions\n",
    "# ==============================================================================\n",
    "# predict(self, steps, last_window=None, exog=None)\n",
    "# Predict n steps ahead. It is an recursive process in which, each prediction, is used as a predictor \n",
    "# for the next step. \n",
    "\n",
    "if regressor_named == \"Linear Regression\" or regressor_named ==  \"Lasso\" or regressor_named == \"Ridge Regression\" or regressor_named ==  \"Bayesian Ridge Regression\":\n",
    "\n",
    "    predictions = forecaster.predict_interval(steps=steps, interval = [5, 95], random_state = 123, n_boot=500)\n",
    "        \n",
    "elif regressor_named == \"Random Forest Regressor\" or regressor_named == \"XGBoost\":\n",
    "    \n",
    "    predictions = forecaster.predict(steps=steps, exog=data_test[exog_variables])\n",
    "       \n",
    "        "
   ]
  },
  {
   "cell_type": "code",
   "execution_count": null,
   "metadata": {},
   "outputs": [],
   "source": [
    "fname = figures_path + dependent_variable[2:len(dependent_variable)] + '_' + regressor_named + '_Daily_Forecasting_Testing_Subsets_Average_Site.png'"
   ]
  },
  {
   "cell_type": "code",
   "execution_count": null,
   "metadata": {},
   "outputs": [],
   "source": [
    "fname"
   ]
  },
  {
   "cell_type": "code",
   "execution_count": null,
   "metadata": {},
   "outputs": [],
   "source": [
    "fname = figures_path + dependent_variable[2:len(dependent_variable)] + '_' + regressor_named + '_Daily_Forecasting_Testing_Subsets_Average_Site.png'\n",
    "# Plot Forecasting vs Testing subsets\n",
    "\n",
    "if regressor_named == \"Linear Regression\" or regressor_named ==  \"Lasso\" or regressor_named == \"Ridge Regression\" or regressor_named ==  \"Bayesian Ridge Regression\":\n",
    "    \n",
    "    plt.figure(figsize=(30, 10))\n",
    "\n",
    "    plt.title(dependent_variable + ' ' + regressor_named + ' Daily Forecasting & Testing Subsets (Average Site)', fontsize=30, loc = 'left', fontweight=\"bold\")\n",
    "\n",
    "    x_axis = data_test[dependent_variable][:steps].index\n",
    "    plt.plot(x_axis, data_test[dependent_variable][:steps], linewidth=6, color = dark_blue ) \n",
    "    plt.plot(x_axis, predictions.pred, linewidth=6, color = pale_red) \n",
    "    plt.fill_between(x_axis, predictions['lower_bound'],predictions['upper_bound'],color = pale_green,alpha = 0.2)\n",
    "\n",
    "    plt.ylabel(dependent_variable + ' Forecasting vs. Testing', fontsize=20)\n",
    "    plt.xlabel(\"Date\", fontsize=20)\n",
    "\n",
    "\n",
    "    plt.xticks(fontsize=16) \n",
    "    plt.yticks(fontsize=16)\n",
    "    plt.grid(visible = True, color =brown, axis ='both')\n",
    "\n",
    "    plt.legend([\"Testing\", \"Forecasting\"], loc='best', fontsize=20)\n",
    "\n",
    "    plt.savefig(fname, format='png')\n",
    "    \n",
    "    plt.show()\n",
    "    \n",
    "            \n",
    "elif regressor_named == \"Random Forest Regressor\" or regressor_named == \"XGBoost\":\n",
    "    \n",
    "    plt.figure(figsize=(30, 10))\n",
    "\n",
    "    x_test_axis = data_test.index[:steps]\n",
    "    x_fcst_axis = predictions.index[:steps]\n",
    "\n",
    "    plt.title(dependent_variable + ' ' + regressor_named + ' Daily Forecasting & Testing Subsets (Average Site)', fontsize=30, loc = 'left', fontweight=\"bold\")\n",
    "\n",
    "    plt.plot(x_test_axis, data_test[dependent_variable][:steps], linewidth=6, color = pale_green)\n",
    "    plt.plot(x_fcst_axis, predictions, 'ko')\n",
    "\n",
    "    plt.ylabel(dependent_variable + ' ' + regressor_named + ' Forecasting vs. Testing', fontsize=20)\n",
    "    plt.xlabel(\"Date\", fontsize=20)\n",
    "\n",
    "    plt.xticks(fontsize=16)\n",
    "    plt.yticks(fontsize=16)\n",
    "    plt.grid(visible = True, color = brown, axis ='both')\n",
    "\n",
    "    plt.legend([\"Testing\", \"Forecasting\"], loc='best', fontsize=20)\n",
    "\n",
    "    plt.savefig(fname, format='png')\n",
    "\n",
    "    plt.show()"
   ]
  },
  {
   "cell_type": "code",
   "execution_count": null,
   "metadata": {},
   "outputs": [],
   "source": [
    "regressor_named"
   ]
  },
  {
   "cell_type": "code",
   "execution_count": null,
   "metadata": {
    "scrolled": true
   },
   "outputs": [],
   "source": [
    "# Forecast Error Regression Metrics\n",
    "# ==============================================================================\n",
    "    \n",
    "if regressor_named == \"Linear Regression\" or regressor_named ==  \"Lasso\" or regressor_named == \"Ridge Regression\" or regressor_named ==  \"Bayesian Ridge Regression\": \n",
    "\n",
    "    # RMSE\n",
    "    print(\"Root Mean squared error: {:.2f}\".format(np.sqrt(mean_squared_error(data_test[dependent_variable][:steps], predictions.pred))))\n",
    "    # MSE\n",
    "    print(\"Mean squared error: {:.2f}\".format(mean_squared_error(data_test[dependent_variable][:steps], predictions.pred)))\n",
    "    # MAE\n",
    "    print(\"Mean absolute error: {:.2f}\".format(mean_absolute_error(data_test[dependent_variable][:steps], predictions.pred)))\n",
    "    # R2\n",
    "    print(\"Coefficient of determination:{:.2%}\".format(r2_score(data_test[dependent_variable][:steps], predictions.pred)))\n",
    "        \n",
    "elif regressor_named == \"Random Forest Regressor\" or regressor_named == \"XGBoost\":\n",
    "\n",
    "    # RMSE\n",
    "    print(\"Root Mean squared error: {:.2f}\".format(np.sqrt(mean_squared_error(data_test[dependent_variable][:steps], predictions.values))))\n",
    "    # MSE\n",
    "    print(\"Mean squared error: {:.2f}\".format(mean_squared_error(data_test[dependent_variable][:steps], predictions.values)))\n",
    "    # MAE\n",
    "    print(\"Mean absolute error: {:.2f}\".format(mean_absolute_error(data_test[dependent_variable][:steps], predictions.values)))\n",
    "    # R2\n",
    "    print(\"Coefficient of determination:{:.2%}\".format(r2_score(data_test[dependent_variable][:steps], predictions.values)))\n"
   ]
  },
  {
   "cell_type": "markdown",
   "metadata": {},
   "source": [
    "### 3.2. Hyperparameter Tuning (non-linear regressors)\n",
    "\n",
    "_Grid_search_forecaster_ method is used with non-linear regressors (Random Forest and eXtreme Gradient Boost) in order to optimize the performance by tuning the hyperparameter selection (number of trees, max tree depth, learning rate, etc.) "
   ]
  },
  {
   "cell_type": "code",
   "execution_count": null,
   "metadata": {
    "scrolled": true
   },
   "outputs": [],
   "source": [
    "# Hyperparameter Grid search ---> only for not linear\n",
    "# ==============================================================================\n",
    "\n",
    "if regressor_named == \"Random Forest Regressor\" or regressor_named == \"XGBoost\":\n",
    "    \n",
    "    forecaster = ForecasterAutoreg(\n",
    "                regressor = selected_regressor,\n",
    "                lags      = lags\n",
    "             )\n",
    "\n",
    "    # Lags used as predictors\n",
    "    lags_grid = [12, 24]\n",
    "\n",
    "    # Random Forest's hyperparameters\n",
    "    \n",
    "        # n_estimators: The number of trees in the forest.\n",
    "        # max_depth: the maximum depth of the tree. If None, then nodes are expanded until all leaves are \n",
    "                    # pure or until all leaves contain less than min_samples_split samples.\n",
    "        \n",
    "    # Gradient Boosting Regressor's hyperparameters\n",
    "    \n",
    "        # n_estimators: The number of boosting stages to perform\n",
    "        # max_depth: Maximum depth of the individual regression estimators.\n",
    "        # learning_rate: Learning rate shrinks the contribution of each tree by learning_rate. \n",
    "                        # There is a trade-off between learning_rate and n_estimators\n",
    "    \n",
    "    param_grid = {'n_estimators': [100], 'max_depth': [5, 10]}\n",
    "    \n",
    "    results_grid = grid_search_forecaster(\n",
    "                    forecaster  = forecaster,\n",
    "                    y           = data_train[dependent_variable],\n",
    "                    exog        = data_train[exog_variables],\n",
    "                    param_grid  = param_grid,\n",
    "                    lags_grid   = lags_grid,\n",
    "                    steps       = steps,\n",
    "                    refit       = False,\n",
    "                    metric      = 'mean_squared_error',\n",
    "                    initial_train_size = int(len(data_train)*0.5),\n",
    "                    fixed_train_size   = False,\n",
    "                    return_best = True,\n",
    "                    verbose     = False\n",
    "                                    )\n",
    "     # Grid Search results\n",
    "    # ==============================================================================\n",
    "    results_grid\n",
    "\n",
    "    # Best hyperparameters\n",
    "\n",
    "    lags_best = int(results_grid.lags[results_grid.index[0]].max())\n",
    "    n_estimators_best = results_grid.n_estimators[results_grid.index[0]]\n",
    "    max_depth_best = results_grid.max_depth[results_grid.index[0]]\n"
   ]
  },
  {
   "cell_type": "markdown",
   "metadata": {},
   "source": [
    "### 3.3. Final Model\n",
    "\n",
    "Finally, the ForecasterAutoreg model is trained and a validated setting the optimal configuration\n",
    "\n"
   ]
  },
  {
   "cell_type": "code",
   "execution_count": null,
   "metadata": {},
   "outputs": [],
   "source": [
    "# Create, train, and make predictions with the best forecaster\n",
    "# ============================================================\n",
    "    \n",
    "if regressor_named == \"Random Forest Regressor\" or regressor_named == \"XGBoost\":\n",
    "    \n",
    "    if regressor_named == \"Random Forest Regressor\":\n",
    "        \n",
    "        selected_regressor = RandomForestRegressor(max_depth = max_depth_best, \n",
    "                                  n_estimators = n_estimators_best, \n",
    "                                  random_state = 123)\n",
    "        \n",
    "        best_forecaster = ForecasterAutoreg(\n",
    "                regressor = selected_regressor,\n",
    "                lags      = lags_best, # lags demands for an integer that is why we used int()\n",
    "                transformer_y = StandardScaler(),\n",
    "                transformer_exog = StandardScaler()\n",
    "             )\n",
    "                \n",
    "        best_forecaster.fit(y=data_test[dependent_variable], exog=data_test[exog_variables]) # training\n",
    "        predictions = best_forecaster.predict(steps=steps, exog=data_predict[exog_variables])\n",
    "        \n",
    "    elif regressor_named == \"XGBoost\":\n",
    "     \n",
    "        selected_regressor = GradientBoostingRegressor(max_depth = max_depth_best, \n",
    "                                  n_estimators = n_estimators_best, learning_rate=0.1,\n",
    "                                  random_state = 123)\n",
    "     \n",
    "        best_forecaster = ForecasterAutoreg(\n",
    "                regressor = selected_regressor,\n",
    "                lags      = lags_best, # lags demands for an integer that is why we used int()\n",
    "                transformer_y = StandardScaler(),\n",
    "                transformer_exog = StandardScaler()\n",
    "             )\n",
    "\n",
    "        best_forecaster.fit(y=data_test[dependent_variable], exog=data_test[exog_variables]) # training\n",
    "        predictions = best_forecaster.predict(steps=steps, exog=data_predict[exog_variables])\n",
    "    \n",
    "    else:\n",
    "    \n",
    "        best_forecaster = forecaster\n"
   ]
  },
  {
   "cell_type": "code",
   "execution_count": null,
   "metadata": {},
   "outputs": [],
   "source": [
    "# Plot Forecasting with the Best Forecaster (Average Site)\n",
    "# =============================================================================\n",
    "\n",
    "if regressor_named == \"Random Forest Regressor\" or regressor_named == \"XGBoost\":\n",
    "\n",
    "    plt.figure(figsize=(30, 10))\n",
    "\n",
    "    x_test_axis = data_predict.index\n",
    "    x_fcst_axis = predictions.index\n",
    " \n",
    "    plt.title(dependent_variable + ' ' + regressor_named + ' Daily Forecasting & Testing Subsets (Average Site)', fontsize=30, loc = 'left', fontweight=\"bold\")\n",
    "    plt.plot(x_test_axis, data_predict[dependent_variable], linewidth=7.0, color = pale_green)\n",
    "    plt.plot(x_fcst_axis, predictions, 'ko')\n",
    "\n",
    "    plt.xticks(fontsize=16) \n",
    "    plt.yticks(fontsize=16)\n",
    "    plt.grid(visible = True, color = brown, axis ='both')\n",
    "\n",
    "    plt.legend([\"Testing\", \"Forecasting\"], loc='best', fontsize=20)\n",
    "\n",
    "    fname = figures_path + dependent_variable[2:len(dependent_variable)] + '_' + regressor_named + '_Daily_Forecasting_Testing_Subsets_Average_Site.png'\n",
    "    plt.savefig(fname, format='png')\n",
    "    \n",
    "    plt.show()"
   ]
  },
  {
   "cell_type": "code",
   "execution_count": null,
   "metadata": {},
   "outputs": [],
   "source": [
    "# Forecast Error Regression Metrics\n",
    "# ==============================================================================\n",
    "\n",
    "if regressor_named == \"Random Forest Regressor\" or regressor_named == \"XGBoost\":\n",
    "\n",
    "    # RMSE\n",
    "    print(\"Root Mean squared error: {:.2f}\".format(np.sqrt(mean_squared_error(data_predict[dependent_variable][:steps], predictions))))\n",
    "    #MSE\n",
    "    print(\"Mean squared error: {:.2f}\".format(mean_squared_error(data_predict[dependent_variable][:steps], predictions)))\n",
    "    # MAE\n",
    "    print(\"Mean absolute error: {:.2f}\".format(mean_absolute_error(data_predict[dependent_variable][:steps], predictions)))\n",
    "    # R2\n",
    "    print(\"Coefficient of determination:{:.2%}\".format(r2_score(data_predict[dependent_variable][:steps], predictions)))\n"
   ]
  },
  {
   "cell_type": "markdown",
   "metadata": {},
   "source": [
    "### 3.4. Backtesting\n",
    "\n",
    "Backtesting is way of testing if a model’s predictions are in line with realised data. Backtesting a production model, for instance, is typically done by checking if actual historical production during a particular period is consistently higher, the model is underestimating production. If they are lower, the model is overestimating production.\n",
    "\n",
    "##### Backtesting with refit and increasing training size (fixed origin)\n",
    "\n",
    "The model is trained each time before making predictions. With this configuration, the model uses all the data available so far. It is a variation of the standard cross-validation but, instead of making a random distribution of the observations, the training set increases sequentially, maintaining the temporal order of the data.\n",
    "\n",
    "<br>\n",
    "<div>\n",
    "<img src=\"attachment:diagram-backtesting-refit.png\" width=\"600\"/>\n",
    "</div>\n",
    "\n",
    "In the Figure we see a time series backtesting diagram with an initial training size of 10 observations, a prediction horizon of 3 steps, and retraining at each iteration. Instead of randomizing the data, this backtesting sequentially increases the size of the training set while maintaining the temporal order of the data. By doing this, the model can be tested on progressively larger amounts of historical data, providing a more accurate assessment of its predictive capabilities.\n",
    "\n",
    "<br>\n",
    "<div>\n",
    "<img src=\"attachment:backtesting_refit.gif\" width=\"700\"/>\n",
    "</div>"
   ]
  },
  {
   "cell_type": "code",
   "execution_count": null,
   "metadata": {},
   "outputs": [],
   "source": [
    "# Backtesting with refit and increasing training size (fixed origin)\n",
    "# ==============================================================================\n",
    "\n",
    "n_backtesting = steps * 3 # Backtesting is three times the forecasting horizon\n",
    "\n",
    "if regressor_named == \"Linear Regression\" or regressor_named ==  \"Lasso\" or regressor_named == \"Ridge Regression\" or regressor_named ==  \"Bayesian Ridge Regression\":\n",
    "\n",
    "    metric, predicciones = backtesting_forecaster(\n",
    "                            forecaster         = forecaster,\n",
    "                            y                  = data_test[dependent_variable],\n",
    "                            initial_train_size = len(data_test) - n_backtesting,\n",
    "                            fixed_train_size   = False,\n",
    "                            steps              = steps,\n",
    "                            metric             = 'mean_squared_error',\n",
    "                            refit              = True,\n",
    "                            interval           = [1, 99],\n",
    "                            n_boot             = 100,\n",
    "                            verbose            = True\n",
    "                            )\n",
    "    print(f\"Backtest error: {metric}\")\n",
    "    \n",
    "elif regressor_named == \"Random Forest Regressor\" or regressor_named == \"XGBoost\":\n",
    "\n",
    "    \n",
    "\n",
    "    metric, predictions_backtest = backtesting_forecaster(\n",
    "                                    forecaster         = best_forecaster,\n",
    "                                    y                  = data_test[dependent_variable],\n",
    "                                    exog               = data_test[exog_variables],\n",
    "                                    initial_train_size = len(data_test) - n_backtesting,\n",
    "                                    fixed_train_size   = False,\n",
    "                                    steps              = steps,\n",
    "                                    metric             = 'mean_squared_error',\n",
    "                                    refit              = True,\n",
    "                                    verbose            = True\n",
    "                                )\n",
    "    \n",
    "    print(f\"Backtest error: {metric}\")"
   ]
  },
  {
   "cell_type": "code",
   "execution_count": null,
   "metadata": {},
   "outputs": [],
   "source": [
    "if regressor_named == \"Random Forest Regressor\" or regressor_named == \"XGBoost\":\n",
    "\n",
    "    # Get predictions from backtesting \n",
    "    print(predictions_backtest.tail(24))\n",
    "    "
   ]
  },
  {
   "cell_type": "markdown",
   "metadata": {},
   "source": [
    "## 4.  Saving models\n",
    "\n",
    "Skforecast models are stored by using save_forecaster method. Later they can be loaded with load_forecaster method"
   ]
  },
  {
   "cell_type": "code",
   "execution_count": null,
   "metadata": {},
   "outputs": [],
   "source": [
    "# Save selected regressor model with dependent and exogenous variables\n",
    "\n",
    "if regressor_named == \"Linear Regression\" or regressor_named ==  \"Lasso\" or regressor_named == \"Ridge Regression\" or regressor_named ==  \"Bayesian Ridge Regression\":\n",
    "\n",
    "    save_forecaster(forecaster, file_name = models_path + dependent_variable + '_' +regressor_named + '_forecaster.py', verbose=False) \n",
    "            \n",
    "elif regressor_named == \"Random Forest Regressor\" or regressor_named == \"XGBoost\":\n",
    "\n",
    "    save_forecaster(best_forecaster, file_name = models_path + dependent_variable + '_' +regressor_named + '_forecaster.py', verbose=False) \n",
    "    "
   ]
  },
  {
   "cell_type": "code",
   "execution_count": null,
   "metadata": {},
   "outputs": [],
   "source": [
    "# Computation time\n",
    "\n",
    "time_end = time.localtime()\n",
    "\n",
    "delta =  (time.mktime(time_end) - time.mktime(time_init)) / 60\n",
    "\n",
    "print(\"Computation time = {:.2f}\".format(delta), \"minutes\")\n"
   ]
  },
  {
   "cell_type": "markdown",
   "metadata": {},
   "source": [
    "# "
   ]
  }
 ],
 "metadata": {
  "kernelspec": {
   "display_name": "Python 3 (ipykernel)",
   "language": "python",
   "name": "python3"
  },
  "language_info": {
   "codemirror_mode": {
    "name": "ipython",
    "version": 3
   },
   "file_extension": ".py",
   "mimetype": "text/x-python",
   "name": "python",
   "nbconvert_exporter": "python",
   "pygments_lexer": "ipython3",
   "version": "3.10.8"
  }
 },
 "nbformat": 4,
 "nbformat_minor": 4
}
