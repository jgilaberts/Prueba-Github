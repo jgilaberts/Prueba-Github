{
 "cells": [
  {
   "cell_type": "code",
   "execution_count": 1,
   "metadata": {},
   "outputs": [],
   "source": [
    "import pandas as pd"
   ]
  },
  {
   "cell_type": "markdown",
   "metadata": {},
   "source": [
    "# Traduccion"
   ]
  },
  {
   "cell_type": "code",
   "execution_count": 2,
   "metadata": {},
   "outputs": [
    {
     "name": "stderr",
     "output_type": "stream",
     "text": [
      "/home/codespace/.python/current/lib/python3.10/site-packages/tqdm/auto.py:21: TqdmWarning: IProgress not found. Please update jupyter and ipywidgets. See https://ipywidgets.readthedocs.io/en/stable/user_install.html\n",
      "  from .autonotebook import tqdm as notebook_tqdm\n"
     ]
    }
   ],
   "source": [
    "from transformers import pipeline"
   ]
  },
  {
   "cell_type": "code",
   "execution_count": 6,
   "metadata": {},
   "outputs": [
    {
     "name": "stderr",
     "output_type": "stream",
     "text": [
      "/home/codespace/.python/current/lib/python3.10/site-packages/transformers/models/marian/tokenization_marian.py:197: UserWarning: Recommended: pip install sacremoses.\n",
      "  warnings.warn(\"Recommended: pip install sacremoses.\")\n"
     ]
    },
    {
     "data": {
      "text/plain": [
       "[{'translation_text': 'El CUNEF es una universidad privada de vanguardia, referente en el campo de la Educación Superior por su especialización; la excelencia de sus estudiantes, profesores e investigadores; y su alto grado de internacionalización.Reconocido como Universidad en 2019, su actividad académica se remonta a 1973: más de 10.000 profesionales han sido formados en sus aulas.Los grados de licenciatura y postgrado de la Universidad del CUNEF tienen como objetivo responder a nuevos retos, marcados por la tecnología y un mercado global, en un contexto para el que la formación continua y el aprendizaje permanente son esenciales.'}]"
      ]
     },
     "execution_count": 6,
     "metadata": {},
     "output_type": "execute_result"
    }
   ],
   "source": [
    "model = \"Helsinki-NLP/opus-mt-en-es\"\n",
    "\n",
    "translator = pipeline(\"translation\", model=model)\n",
    "\n",
    "texto_traducido = translator(\"CUNEF is a cutting-edge private university, a reference in the field of Higher Education due to its specialization; the excellence of its students, professors and researchers; and its high degree of internationalization. Recognized as a University in 2019, its academic activity dates back to 1973: more than 10,000 professionals have been trained in its classrooms. CUNEF University's Undergraduate and Postgraduate degrees aim to respond to new challenges, marked by technology and a global market, in a context for which continuous training and lifelong learning are essential.\")\n",
    "texto_traducido\n"
   ]
  },
  {
   "cell_type": "markdown",
   "metadata": {},
   "source": [
    "# QA"
   ]
  },
  {
   "cell_type": "code",
   "execution_count": 9,
   "metadata": {},
   "outputs": [
    {
     "name": "stderr",
     "output_type": "stream",
     "text": [
      "Some weights of the model checkpoint at mrm8488/distill-bert-base-spanish-wwm-cased-finetuned-spa-squad2-es were not used when initializing BertForQuestionAnswering: ['bert.pooler.dense.bias', 'bert.pooler.dense.weight']\n",
      "- This IS expected if you are initializing BertForQuestionAnswering from the checkpoint of a model trained on another task or with another architecture (e.g. initializing a BertForSequenceClassification model from a BertForPreTraining model).\n",
      "- This IS NOT expected if you are initializing BertForQuestionAnswering from the checkpoint of a model that you expect to be exactly identical (initializing a BertForSequenceClassification model from a BertForSequenceClassification model).\n"
     ]
    }
   ],
   "source": [
    "qa_pipeline = pipeline(\"question-answering\", model=\"mrm8488/distill-bert-base-spanish-wwm-cased-finetuned-spa-squad2-es\")\n",
    "\n",
    "\n",
    "Contexto = 'El CUNEF es una universidad privada de vanguardia, referente en el campo de la Educación Superior por su especialización; la excelencia de sus estudiantes, profesores e investigadores; y su alto grado de internacionalización.Reconocido como Universidad en 2019, su actividad académica se remonta a 1973: más de 10.000 profesionales han sido formados en sus aulas.Los grados de licenciatura y postgrado de la Universidad del CUNEF tienen como objetivo responder a nuevos retos, marcados por la tecnología y un mercado global, en un contexto para el que la formación continua y el aprendizaje permanente son esenciales.'"
   ]
  },
  {
   "cell_type": "code",
   "execution_count": 10,
   "metadata": {},
   "outputs": [
    {
     "name": "stdout",
     "output_type": "stream",
     "text": [
      "{'score': 0.003257519332692027, 'start': 298, 'end': 302, 'answer': '1973'}\n"
     ]
    }
   ],
   "source": [
    "print(qa_pipeline(question = \"¿Cuándo se fundó la universidad?\", context= Contexto))\n"
   ]
  }
 ],
 "metadata": {
  "kernelspec": {
   "display_name": "Python 3",
   "language": "python",
   "name": "python3"
  },
  "language_info": {
   "codemirror_mode": {
    "name": "ipython",
    "version": 3
   },
   "file_extension": ".py",
   "mimetype": "text/x-python",
   "name": "python",
   "nbconvert_exporter": "python",
   "pygments_lexer": "ipython3",
   "version": "3.10.8"
  }
 },
 "nbformat": 4,
 "nbformat_minor": 2
}
