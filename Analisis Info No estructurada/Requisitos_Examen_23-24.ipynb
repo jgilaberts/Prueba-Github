{
 "cells": [
  {
   "cell_type": "code",
   "execution_count": 3,
   "id": "a3cbe28d",
   "metadata": {},
   "outputs": [
    {
     "name": "stderr",
     "output_type": "stream",
     "text": [
      "Some weights of the model checkpoint at mrm8488/distill-bert-base-spanish-wwm-cased-finetuned-spa-squad2-es were not used when initializing BertForQuestionAnswering: ['bert.pooler.dense.weight', 'bert.pooler.dense.bias']\n",
      "- This IS expected if you are initializing BertForQuestionAnswering from the checkpoint of a model trained on another task or with another architecture (e.g. initializing a BertForSequenceClassification model from a BertForPreTraining model).\n",
      "- This IS NOT expected if you are initializing BertForQuestionAnswering from the checkpoint of a model that you expect to be exactly identical (initializing a BertForSequenceClassification model from a BertForSequenceClassification model).\n",
      "Downloading config.json: 100%|██████████| 1.47k/1.47k [00:00<00:00, 7.46MB/s]\n",
      "Downloading pytorch_model.bin: 100%|██████████| 312M/312M [00:01<00:00, 280MB/s] \n",
      "Downloading generation_config.json: 100%|██████████| 293/293 [00:00<00:00, 1.32MB/s]\n",
      "Downloading tokenizer_config.json: 100%|██████████| 44.0/44.0 [00:00<00:00, 249kB/s]\n",
      "Downloading source.spm: 100%|██████████| 802k/802k [00:00<00:00, 2.70MB/s]\n",
      "Downloading target.spm: 100%|██████████| 826k/826k [00:00<00:00, 2.64MB/s]\n",
      "Downloading vocab.json: 100%|██████████| 1.59M/1.59M [00:00<00:00, 4.29MB/s]\n",
      "/home/codespace/.python/current/lib/python3.10/site-packages/transformers/models/marian/tokenization_marian.py:197: UserWarning: Recommended: pip install sacremoses.\n",
      "  warnings.warn(\"Recommended: pip install sacremoses.\")\n",
      "Downloading config.json: 100%|██████████| 861/861 [00:00<00:00, 4.38MB/s]\n",
      "Downloading model.safetensors: 100%|██████████| 499M/499M [00:01<00:00, 286MB/s] \n",
      "Downloading tokenizer_config.json: 100%|██████████| 332/332 [00:00<00:00, 1.72MB/s]\n",
      "Downloading vocab.json: 100%|██████████| 855k/855k [00:00<00:00, 2.88MB/s]\n",
      "Downloading merges.txt: 100%|██████████| 514k/514k [00:00<00:00, 2.21MB/s]\n",
      "Downloading tokenizer.json: 100%|██████████| 1.47M/1.47M [00:00<00:00, 18.3MB/s]\n",
      "Downloading (…)cial_tokens_map.json: 100%|██████████| 239/239 [00:00<00:00, 1.04MB/s]\n",
      "Downloading config.json: 100%|██████████| 1.15k/1.15k [00:00<00:00, 6.46MB/s]\n",
      "Downloading model.safetensors: 100%|██████████| 1.63G/1.63G [00:06<00:00, 255MB/s]\n",
      "Downloading tokenizer_config.json: 100%|██████████| 26.0/26.0 [00:00<00:00, 126kB/s]\n",
      "Downloading vocab.json: 100%|██████████| 899k/899k [00:00<00:00, 29.9MB/s]\n",
      "Downloading merges.txt: 100%|██████████| 456k/456k [00:00<00:00, 65.7MB/s]\n",
      "Downloading tokenizer.json: 100%|██████████| 1.36M/1.36M [00:00<00:00, 3.64MB/s]\n"
     ]
    },
    {
     "data": {
      "text/plain": [
       "<transformers.pipelines.zero_shot_classification.ZeroShotClassificationPipeline at 0x7f96bf9fc760>"
      ]
     },
     "execution_count": 3,
     "metadata": {},
     "output_type": "execute_result"
    }
   ],
   "source": [
    "# Exam requirements\n",
    "\n",
    "import pandas as pd\n",
    "import sklearn\n",
    "import transformers\n",
    "import nltk\n",
    "import spacy\n",
    "from transformers import pipeline\n",
    "\n",
    "nlp_es = spacy.load('es_core_news_lg')\n",
    "\n",
    "pipeline(\"question-answering\", model=\"mrm8488/distill-bert-base-spanish-wwm-cased-finetuned-spa-squad2-es\")\n",
    "pipeline(\"translation\", model=\"Helsinki-NLP/opus-mt-en-es\")\n",
    "pipeline('sentiment-analysis', model = \"edumunozsala/bertin_base_sentiment_analysis_es\")\n",
    "pipeline(\"zero-shot-classification\", model=\"facebook/bart-large-mnli\")\n",
    "\n",
    "#!pip install \"transformers[sentencepiece]\""
   ]
  }
 ],
 "metadata": {
  "kernelspec": {
   "display_name": "Python 3 (ipykernel)",
   "language": "python",
   "name": "python3"
  },
  "language_info": {
   "codemirror_mode": {
    "name": "ipython",
    "version": 3
   },
   "file_extension": ".py",
   "mimetype": "text/x-python",
   "name": "python",
   "nbconvert_exporter": "python",
   "pygments_lexer": "ipython3",
   "version": "3.10.8"
  }
 },
 "nbformat": 4,
 "nbformat_minor": 5
}
