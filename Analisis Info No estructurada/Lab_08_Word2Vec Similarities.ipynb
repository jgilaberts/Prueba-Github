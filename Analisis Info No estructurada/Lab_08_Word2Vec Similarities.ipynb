{
 "cells": [
  {
   "cell_type": "markdown",
   "metadata": {},
   "source": [
    "# # Práctica de Laboratorio de Procesamiento del Lenguaje Natural (NLP)\n",
    "Tema: Word2Vec\n",
    "\n",
    "\n",
    "Entrenar un modelo de word2vec es una tarea muy costosa computacionalmente, que además requiere de corpus de texto muy grandes, del orden de miles de millones de palabras. Afortunadamente existen modelos word2vec pre-entrenados que están disponibles de forma pública y con los que podemos trabajar para hacer nuestros análisis semánticos. Uno de ellos es el modelo SBWC, disponible aquí: http://cs.famaf.unc.edu.ar/~ccardellino/SBWCE/SBW-vectors-300-min5.bin.gz. Añádelo a la carpeta que contiene este Notebook para poder cargarlo.\n",
    "\n",
    "\n",
    "## Similitud semántica\n",
    "\n",
    "Un modelo pre-entrenado word2vec no es más que un diccionario en el que para cada palabra tenemos el vector que la representa. Podemos cargar en memoria este diccionario utilizando el paquete de análisis de texto gensim."
   ]
  },
  {
   "cell_type": "code",
   "execution_count": 1,
   "metadata": {},
   "outputs": [],
   "source": [
    "# Importamos las librerías\n",
    "\n",
    "import gensim\n",
    "from gensim.models import Word2Vec,KeyedVectors"
   ]
  },
  {
   "cell_type": "code",
   "execution_count": 3,
   "metadata": {},
   "outputs": [],
   "source": [
    "# Importamos el modelo Word2Vec\n",
    "\n",
    "model = KeyedVectors.load_word2vec_format('models/SBW-vectors-300-min5.bin.gz',binary=True)"
   ]
  },
  {
   "cell_type": "markdown",
   "metadata": {},
   "source": [
    "Podemos comprobar ahora la representación vectorial de diferentes palabras, por ejemplo:"
   ]
  },
  {
   "cell_type": "code",
   "execution_count": 4,
   "metadata": {},
   "outputs": [
    {
     "name": "stdout",
     "output_type": "stream",
     "text": [
      "[ 0.00120981 -0.29563493  0.16428724  0.07638286  0.1308095  -0.18907565\n",
      " -0.19585267 -0.18845399  0.18023378 -0.10991588  0.10583372 -0.20523688\n",
      " -0.27889782  0.08500005 -0.01454076  0.07790862 -0.19201109 -0.2023368\n",
      "  0.08294028  0.3402465  -0.08416018 -0.2755257  -0.0714149   0.0808465\n",
      " -0.13162656 -0.14391989  0.0958087   0.39754403  0.1138585   0.23643324\n",
      "  0.12858306 -0.17455381 -0.04746418 -0.01137695  0.14309211  0.08217653\n",
      "  0.02318554  0.08878922 -0.04167972  0.07108709  0.01710395 -0.02570473\n",
      " -0.12259014 -0.02195755 -0.08128569  0.19045328 -0.06413727  0.12798432\n",
      " -0.05037531  0.10685983  0.35144055  0.29801247 -0.03209334  0.20625433\n",
      "  0.07129728  0.31428477 -0.11478377  0.15143426 -0.2149212   0.16646026\n",
      " -0.3328038   0.10436062  0.13380383  0.1914494  -0.03352465  0.19137044\n",
      " -0.29684854  0.11710161 -0.23980273 -0.24970213 -0.143163   -0.30643377\n",
      "  0.08513806  0.18788363 -0.28649864  0.37120643  0.00868526  0.10604249\n",
      " -0.01570174 -0.10231962 -0.02137911 -0.14277178 -0.06856448  0.10884358\n",
      "  0.1901093  -0.08538602 -0.00858184  0.00916377  0.11708648  0.12932353\n",
      " -0.0270847  -0.09270432  0.00592477 -0.04856868  0.06383233 -0.10439269\n",
      "  0.0348638  -0.16880162 -0.2510751   0.08432319 -0.28888068  0.01542546\n",
      " -0.31267992  0.1541475   0.2894542   0.03826526 -0.06013472  0.03071182\n",
      " -0.00533668  0.01871675  0.22122052  0.05895932  0.13516378  0.20915806\n",
      " -0.08069051 -0.2304391   0.19260769  0.29176793 -0.17631544 -0.03991482\n",
      " -0.2717024   0.07069822 -0.04835822 -0.10358759 -0.19545873  0.12072395\n",
      "  0.28859872  0.2341548   0.42393157 -0.16075133 -0.06190583 -0.15276244\n",
      " -0.01736428  0.05419152 -0.08209284  0.04122428  0.04803827 -0.41755897\n",
      "  0.06171706 -0.21005715 -0.13421792  0.22692586 -0.12631902  0.28054518\n",
      "  0.10450801  0.14501685 -0.23744005  0.02112035  0.27070296 -0.00142896\n",
      "  0.07792331  0.13665992  0.01920263 -0.38608742  0.32596675 -0.12320126\n",
      "  0.13694291  0.3888232  -0.05200347 -0.03545854 -0.32100913 -0.09938077\n",
      "  0.1994423   0.11985867 -0.05199203 -0.21120976 -0.02741216  0.1829032\n",
      "  0.01703694 -0.06646185 -0.06707051 -0.23844168  0.02774435 -0.26478744\n",
      "  0.04479468 -0.07145197 -0.4339378  -0.04696687 -0.22460057  0.10803936\n",
      "  0.2626415   0.322649    0.01456265 -0.08391088 -0.00872863  0.13187443\n",
      "  0.12119893 -0.03594272 -0.02553294  0.07928144 -0.25030953 -0.07703871\n",
      " -0.04069586 -0.11124169 -0.08458754  0.07909912 -0.10440204 -0.11736292\n",
      " -0.03679532 -0.08175398 -0.21812993  0.15803914 -0.03922842  0.01284656\n",
      "  0.09571775 -0.11475181  0.20980375  0.00216694  0.14707069 -0.00119472\n",
      " -0.18683544 -0.17935947 -0.17991292  0.11978392 -0.02853528  0.05118947\n",
      " -0.17826188  0.16961414 -0.20312291 -0.09094413  0.11435386 -0.11360912\n",
      " -0.08938903  0.1971046  -0.40112156  0.07186783  0.10465954  0.11779308\n",
      " -0.18140501  0.13728346 -0.04681405  0.06312704  0.08043165 -0.04024126\n",
      " -0.1639593   0.25797015 -0.09343955 -0.01946044 -0.25341365  0.17125535\n",
      "  0.26644212  0.22858566 -0.11498454 -0.04258635 -0.03495124 -0.25255308\n",
      "  0.00771313 -0.00703573  0.25659272  0.26792496 -0.07414875  0.37889606\n",
      "  0.20299071  0.00199176  0.14534208 -0.08250421  0.27872676 -0.1373136\n",
      " -0.4452945   0.07542412  0.29267254  0.0713022  -0.18802871  0.02742838\n",
      "  0.01764719  0.04087808 -0.27255678  0.07723624 -0.03688382 -0.0520304\n",
      " -0.24590102 -0.11502454  0.00563469 -0.02436091 -0.1439309  -0.02123541\n",
      "  0.15088655  0.25587472 -0.03919287  0.24143957 -0.02409777  0.05059822\n",
      " -0.3200532   0.49580458 -0.01885835  0.27647024  0.02479699  0.06916033\n",
      " -0.2409454  -0.4278343  -0.18305923  0.00320468 -0.06573227  0.31023806\n",
      "  0.00980687  0.05041596  0.13755125 -0.2918091  -0.17841376 -0.02832204]\n"
     ]
    }
   ],
   "source": [
    "# Cómo es un vector\n",
    "\n",
    "vec = model['hombre']\n",
    "print(vec)"
   ]
  },
  {
   "cell_type": "markdown",
   "metadata": {},
   "source": [
    "Entre otras funcionalidades, el modelo permite localizar aquellos términos más similares al especificado:"
   ]
  },
  {
   "cell_type": "code",
   "execution_count": 5,
   "metadata": {},
   "outputs": [
    {
     "data": {
      "text/plain": [
       "[('perros', 0.7533276677131653),\n",
       " ('cachorro', 0.753067135810852),\n",
       " ('gato', 0.7445882558822632),\n",
       " ('schnauzer', 0.7370451092720032),\n",
       " ('mastín', 0.7347643375396729)]"
      ]
     },
     "execution_count": 5,
     "metadata": {},
     "output_type": "execute_result"
    }
   ],
   "source": [
    "# Similitudes\n",
    "\n",
    "model.most_similar('perro',topn=5)"
   ]
  },
  {
   "cell_type": "markdown",
   "metadata": {},
   "source": [
    "Aunque la representación vectorial de una palabra resulta oscura de interpretar, se ha comprobado que sigue una lógica semántica y sintáctica. Esto permite hacer aritmética con estos vectores y obtener resultados que son coherentes con lo que cabría esperar. Por ejemplo, podemos encontrar casos como: \n",
    "\n",
    "`king` - `man` + `woman` = `queen`\n",
    "\n",
    "Podemos comprobar que eso es cierto utilizando la función most_similar del objeto que contiene los embeddings. Esta función recibe dos listas de palabras, a contribuir de forma positiva o negativa a la operación aritmética, y devuelve las palabras cuya representación vectorial sea más cercana al vector resultado de la operación, ordenadas por similitud. Utiliza el parámetro `positive` para añadir los términos que quieras sumar, y `negative` para restar. \n",
    "\n",
    "### 1. ¿Cuánto es rey + mujer - hombre?\n"
   ]
  },
  {
   "cell_type": "code",
   "execution_count": 6,
   "metadata": {},
   "outputs": [
    {
     "data": {
      "text/plain": [
       "[('reina', 0.7493031620979309),\n",
       " ('consorte', 0.7034263014793396),\n",
       " ('princesa', 0.6861541867256165)]"
      ]
     },
     "execution_count": 6,
     "metadata": {},
     "output_type": "execute_result"
    }
   ],
   "source": [
    "# Analogías\n",
    "\n",
    "model.most_similar(positive=[\"rey\",\"mujer\"],negative=[\"hombre\"],topn=3)"
   ]
  },
  {
   "cell_type": "markdown",
   "metadata": {},
   "source": [
    "\n",
    "### 2. ¿Cuánto es Madrid + Francia - España?"
   ]
  },
  {
   "cell_type": "code",
   "execution_count": 8,
   "metadata": {},
   "outputs": [
    {
     "data": {
      "text/plain": [
       "[('París', 0.7476180791854858),\n",
       " ('Lyon', 0.7073330879211426),\n",
       " ('Marsella', 0.6997580528259277)]"
      ]
     },
     "execution_count": 8,
     "metadata": {},
     "output_type": "execute_result"
    }
   ],
   "source": [
    "# Madrid - España + Francia\n",
    "\n",
    "model.most_similar(positive=[\"Madrid\",\"Francia\"],negative=[\"España\"],topn=3)"
   ]
  },
  {
   "cell_type": "markdown",
   "metadata": {},
   "source": [
    "### 3. ¿Cómo conseguir \"hermano\" utilizando \"hermana\"?"
   ]
  },
  {
   "cell_type": "code",
   "execution_count": 15,
   "metadata": {},
   "outputs": [
    {
     "data": {
      "text/plain": [
       "[('hermano', 0.8807544708251953),\n",
       " ('sobrino', 0.7946146726608276),\n",
       " ('hijo', 0.7890192270278931),\n",
       " ('tío', 0.7820650339126587),\n",
       " ('padre', 0.7775164246559143),\n",
       " ('cuñado', 0.776477038860321),\n",
       " ('sobrina', 0.7542605996131897),\n",
       " ('abuelo', 0.7538495063781738),\n",
       " ('hija', 0.753645658493042),\n",
       " ('nieto', 0.7477919459342957)]"
      ]
     },
     "execution_count": 15,
     "metadata": {},
     "output_type": "execute_result"
    }
   ],
   "source": [
    "model.most_similar(positive=['hermana', 'él'], negative=['ella'])"
   ]
  },
  {
   "cell_type": "markdown",
   "metadata": {},
   "source": [
    "### 4. Busca al menos 2 ejemplos interesantes para compartir con la clase. ¡Los vamos a comentar!"
   ]
  },
  {
   "cell_type": "markdown",
   "metadata": {},
   "source": [
    "### 4. ¿Cuál es la similitud entre la palabra perro y la palabra gato? ¿Y entre perro y lápiz?\n",
    "\n",
    "Utiliza la función `similarity` para calcularlo; obtendrás un valor entre 0 y 1, donde 1 indicará la máxima similitud."
   ]
  },
  {
   "cell_type": "code",
   "execution_count": 8,
   "metadata": {},
   "outputs": [
    {
     "name": "stdout",
     "output_type": "stream",
     "text": [
      "perro - gato:  0.74458814\n",
      "perro - lápiz:  0.33357212\n"
     ]
    }
   ],
   "source": [
    "# Como de próximas están varias palabras\n",
    "\n",
    "print(\"perro - gato: \", model.similarity(\"perro\", \"gato\"))\n",
    "print(\"perro - lápiz: \", model.similarity(\"perro\", \"lápiz\"))"
   ]
  },
  {
   "cell_type": "markdown",
   "metadata": {},
   "source": [
    "Una utilidad interesante de las distancias semánticas entre palabras es de resolver los típicos pasatiempos en los que se debe identificar la palabra que no encaja dentro de un grupo dado. Por ejemplo:\n",
    "\n",
    "group = [\"Biden\", \"Obama\", \"Bush\", \"camión\"]\n",
    "\n",
    "Está claro que camión es la palabra intrusa en esta lista de presidentes de EEUU. Pero esto es algo que sabemos por nuestro amplio conocimiento del mundo y del lenguaje, y para un programa informático no es nada trivial llegar a esta conclusión. Sin embargo gracias a las representaciones semánticas en forma de vector que nos da word2vec podemos hacerlo.\n",
    "\n",
    "### 5. Utiliza la función `doesnt_match` para comprobar que de la lista: televisión, tostadora, lavavajillas y montaña, montaña es la palabra que no encaja.\n"
   ]
  },
  {
   "cell_type": "code",
   "execution_count": 31,
   "metadata": {},
   "outputs": [
    {
     "data": {
      "text/plain": [
       "'montaña'"
      ]
     },
     "execution_count": 31,
     "metadata": {},
     "output_type": "execute_result"
    }
   ],
   "source": [
    "model.doesnt_match([\"televisión\", \"tostadora\", \"lavavajillas\", \"montaña\"])"
   ]
  },
  {
   "cell_type": "code",
   "execution_count": null,
   "metadata": {},
   "outputs": [],
   "source": []
  }
 ],
 "metadata": {
  "kernelspec": {
   "display_name": "Python 3",
   "language": "python",
   "name": "python3"
  },
  "language_info": {
   "codemirror_mode": {
    "name": "ipython",
    "version": 3
   },
   "file_extension": ".py",
   "mimetype": "text/x-python",
   "name": "python",
   "nbconvert_exporter": "python",
   "pygments_lexer": "ipython3",
   "version": "3.10.8"
  },
  "varInspector": {
   "cols": {
    "lenName": 16,
    "lenType": 16,
    "lenVar": 40
   },
   "kernels_config": {
    "python": {
     "delete_cmd_postfix": "",
     "delete_cmd_prefix": "del ",
     "library": "var_list.py",
     "varRefreshCmd": "print(var_dic_list())"
    },
    "r": {
     "delete_cmd_postfix": ") ",
     "delete_cmd_prefix": "rm(",
     "library": "var_list.r",
     "varRefreshCmd": "cat(var_dic_list()) "
    }
   },
   "oldHeight": 168.34,
   "position": {
    "height": "40px",
    "left": "1225px",
    "right": "20px",
    "top": "36px",
    "width": "350px"
   },
   "types_to_exclude": [
    "module",
    "function",
    "builtin_function_or_method",
    "instance",
    "_Feature"
   ],
   "varInspector_section_display": "none",
   "window_display": true
  },
  "vscode": {
   "interpreter": {
    "hash": "107fb03afb2754bdb3cdbb13c1c83d7d6037442339c22e5ee8cf40869e8513c5"
   }
  }
 },
 "nbformat": 4,
 "nbformat_minor": 4
}
