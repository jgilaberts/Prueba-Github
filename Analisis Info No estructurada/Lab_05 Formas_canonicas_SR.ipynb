{
 "cells": [
  {
   "cell_type": "markdown",
   "metadata": {},
   "source": [
    "# Formas canónicas: lematización y stemming\n",
    "\n",
    "NLTK y Spacy son dos librerías que se pueden utilizar para lematizar palabras. En esta práctica se va a realizar una comparativa de ambas librerías para comparar tanto resultados como tiempos de ejecución. Rellena las líneas de código que se piden, y responde a las preguntas."
   ]
  },
  {
   "cell_type": "markdown",
   "metadata": {},
   "source": [
    "## Estructura del código\n",
    "1. Importación de librerías y carga de modelo (si es necesario)\n",
    "2. Definición de funciones. En este caso, de una que lea un fichero txt.\n",
    "3. Lectura del fichero.\n",
    "4. `NLTK` Creación del \"objeto\" del modelo de stemming (extracción de lexemas)\n",
    "5. `NLTK` Tokenización\n",
    "6. `NLTK` Aplicación del stemming a cada token\n",
    "7. `Spacy` Creación del \"objeto\" Doc\n",
    "8. `Spacy` Aplicación del lematizador a cada token (palabra.lemma_)"
   ]
  },
  {
   "cell_type": "code",
   "execution_count": 2,
   "metadata": {},
   "outputs": [],
   "source": [
    "### Importación de librerías. Importa nltk y spacy\n",
    "\n",
    "import pandas as pd\n",
    "import nltk\n",
    "import spacy\n",
    "\n",
    "from nltk.stem import SnowballStemmer\n",
    "\n",
    "### carga el modelo es_core_news_lg de spacy\n",
    "nlp = spacy.load(\"es_core_news_lg\")"
   ]
  },
  {
   "cell_type": "code",
   "execution_count": 3,
   "metadata": {},
   "outputs": [],
   "source": [
    "### Función que lee un fichero txt\n",
    "\n",
    "def read_text_file(filename):\n",
    "    file = open(filename, \"r\", encoding=\"utf-8\") \n",
    "    return file.read()"
   ]
  },
  {
   "cell_type": "code",
   "execution_count": 6,
   "metadata": {},
   "outputs": [
    {
     "data": {
      "text/plain": [
       "'pues saber V.M. ante todo cosa que a yo llamar Lázaro de Tormes , hijo de Tomé González y de Antona Pérez , natural de Tejares , aldea de Salamanca . mi nacimiento ser dentro del río Tormes , por el cual causa tomar el sobrenombre , y ser destar manera . mi padre , que Dios perdone , tener cargo de proveer uno molienda de uno aceña , que estar ribera de aquel río , en el cual ser molinero más de quince año ; y estar mi madre uno noche en el aceña , preñado de yo , tomóle el parto y parióme allí : de manera que con verdad poder decir nacido en el río . pues ser yo niño de ocho año , achacar a mi padre cierto sangría mal hecho en el costal de el que allí a moler venir , por él que ser preso , y confesar y no negar y padecer persecución por justicia . esperar en Dios que estar en el Gloria , pues el Evangelio él llamar bienaventurado . en este tiempo él hacer cierto armada contra moro , entre el cual ser mi padre , que a el sazón estar desterrado por el desastre ya dicho , con cargo de acemilero de uno caballero que allá ser , y con su señor , como leal criado , feneceír su vida .'"
      ]
     },
     "execution_count": 6,
     "metadata": {},
     "output_type": "execute_result"
    }
   ],
   "source": [
    "# lee el archivo Lazarillo.txt con la función generada\n",
    "\n",
    "texto = read_text_file(\"Lazarillo.txt\")\n",
    "# Stemming o extracción de lexemas - NLTK\n",
    "# Utiliza el modelo SnowballSteemer configurandolo para español para la lematizacion\n",
    "\n",
    "stemmer = SnowballStemmer('spanish')\n",
    "# Genera los tokens del texto. Se recomienda utilizar los recursos mostrados en otros laboratorios\n",
    "\n",
    "doc = nlp(texto)\n",
    "# Aplica la lematización a cada token\n",
    "lemmatized_text = \" \".join([token.lemma_ for token in doc])\n",
    "\n",
    "### Lematización en spaCy. Aplícalo utilizando spaCy\n",
    "# print(\"Lematización - spaCy\")\n",
    "lemmatized_text\n"
   ]
  },
  {
   "cell_type": "markdown",
   "metadata": {},
   "source": [
    "### Ejercicio extra. \n",
    "Convierte en función el stemming de NLTK y el lematizador de Spacy, para optimizar el código."
   ]
  },
  {
   "cell_type": "code",
   "execution_count": 7,
   "metadata": {},
   "outputs": [],
   "source": [
    "### Análisis con spaCy\n",
    "\n"
   ]
  },
  {
   "cell_type": "code",
   "execution_count": 3,
   "metadata": {},
   "outputs": [],
   "source": [
    "## Stemming - NLTK\n"
   ]
  },
  {
   "cell_type": "code",
   "execution_count": null,
   "metadata": {},
   "outputs": [],
   "source": []
  }
 ],
 "metadata": {
  "kernelspec": {
   "display_name": "Python 3",
   "language": "python",
   "name": "python3"
  },
  "language_info": {
   "codemirror_mode": {
    "name": "ipython",
    "version": 3
   },
   "file_extension": ".py",
   "mimetype": "text/x-python",
   "name": "python",
   "nbconvert_exporter": "python",
   "pygments_lexer": "ipython3",
   "version": "3.10.8"
  },
  "varInspector": {
   "cols": {
    "lenName": 16,
    "lenType": 16,
    "lenVar": 40
   },
   "kernels_config": {
    "python": {
     "delete_cmd_postfix": "",
     "delete_cmd_prefix": "del ",
     "library": "var_list.py",
     "varRefreshCmd": "print(var_dic_list())"
    },
    "r": {
     "delete_cmd_postfix": ") ",
     "delete_cmd_prefix": "rm(",
     "library": "var_list.r",
     "varRefreshCmd": "cat(var_dic_list()) "
    }
   },
   "types_to_exclude": [
    "module",
    "function",
    "builtin_function_or_method",
    "instance",
    "_Feature"
   ],
   "window_display": true
  },
  "vscode": {
   "interpreter": {
    "hash": "107fb03afb2754bdb3cdbb13c1c83d7d6037442339c22e5ee8cf40869e8513c5"
   }
  }
 },
 "nbformat": 4,
 "nbformat_minor": 4
}
