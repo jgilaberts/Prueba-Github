{
 "cells": [
  {
   "cell_type": "markdown",
   "metadata": {},
   "source": [
    "# Formas canónicas: lematización y stemming\n",
    "\n",
    "NLTK y Spacy son dos librerías que se pueden utilizar para lematizar palabras. En esta práctica se va a realizar una comparativa de ambas librerías para comparar tanto resultados como tiempos de ejecución. Rellena las líneas de código que se piden, y responde a las preguntas."
   ]
  },
  {
   "cell_type": "markdown",
   "metadata": {},
   "source": [
    "## Estructura del código\n",
    "1. Importación de librerías y carga de modelo (si es necesario)\n",
    "2. Definición de funciones. En este caso, de una que lea un fichero txt.\n",
    "3. Lectura del fichero.\n",
    "4. `NLTK` Creación del \"objeto\" del modelo de stemming (extracción de lexemas)\n",
    "5. `NLTK` Tokenización\n",
    "6. `NLTK` Aplicación del stemming a cada token\n",
    "7. `Spacy` Creación del \"objeto\" Doc\n",
    "8. `Spacy` Aplicación del lematizador a cada token (palabra.lemma_)"
   ]
  },
  {
   "cell_type": "code",
   "execution_count": 2,
   "metadata": {},
   "outputs": [],
   "source": [
    "### Importación de librerías. Importa nltk y spacy\n",
    "\n",
    "import pandas as pd\n",
    "import nltk\n",
    "import spacy\n",
    "\n",
    "from nltk.stem import SnowballStemmer\n",
    "\n",
    "### carga el modelo es_core_news_lg de spacy\n",
    "nlp = spacy.load(\"es_core_news_lg\")"
   ]
  },
  {
   "cell_type": "code",
   "execution_count": 3,
   "metadata": {},
   "outputs": [],
   "source": [
    "### Función que lee un fichero txt\n",
    "\n",
    "def read_text_file(filename):\n",
    "    file = open(filename, \"r\", encoding=\"utf-8\") \n",
    "    return file.read()"
   ]
  },
  {
   "cell_type": "code",
   "execution_count": null,
   "metadata": {},
   "outputs": [],
   "source": [
    "# lee el archivo Lazarillo.txt con la función generada\n",
    "\n",
    "texto = read_text_file(\"Lazarillo.txt\")\n",
    "# Stemming o extracción de lexemas - NLTK\n",
    "# Utiliza el modelo SnowballSteemer configurandolo para español para la lematizacion\n",
    "\n",
    "stemmer = SnowballStemmer('spanish')\n",
    "# Genera los tokens del texto. Se recomienda utilizar los recursos mostrados en otros laboratorios\n",
    "\n",
    "tokens = nltk.word_tokenize(texto)\n",
    "# Aplica la lematización a cada token\n",
    "stems = []\n",
    "\n",
    "### Lematización en spaCy. Aplícalo utilizando spaCy\n",
    "print(\"Lematización - spaCy\")\n",
    "lemmatized_text\n"
   ]
  },
  {
   "cell_type": "code",
   "execution_count": 17,
   "metadata": {},
   "outputs": [
    {
     "name": "stdout",
     "output_type": "stream",
     "text": [
      "Lematización - spaCy\n"
     ]
    },
    {
     "ename": "AttributeError",
     "evalue": "'tuple' object has no attribute 'Dataframe'",
     "output_type": "error",
     "traceback": [
      "\u001b[0;31m---------------------------------------------------------------------------\u001b[0m",
      "\u001b[0;31mAttributeError\u001b[0m                            Traceback (most recent call last)",
      "\u001b[1;32m/workspaces/Prueba-Github/Analisis Info No estructurada/Lab_05 Formas_canonicas_SR.ipynb Cell 6\u001b[0m line \u001b[0;36m1\n\u001b[1;32m     <a href='vscode-notebook-cell://codespaces%2Bsolid-meme-6qp6wq9v56p2rpvq/workspaces/Prueba-Github/Analisis%20Info%20No%20estructurada/Lab_05%20Formas_canonicas_SR.ipynb#W4sdnNjb2RlLXJlbW90ZQ%3D%3D?line=14'>15</a>\u001b[0m \u001b[39mprint\u001b[39m(\u001b[39m\"\u001b[39m\u001b[39mLematización - spaCy\u001b[39m\u001b[39m\"\u001b[39m)\n\u001b[1;32m     <a href='vscode-notebook-cell://codespaces%2Bsolid-meme-6qp6wq9v56p2rpvq/workspaces/Prueba-Github/Analisis%20Info%20No%20estructurada/Lab_05%20Formas_canonicas_SR.ipynb#W4sdnNjb2RlLXJlbW90ZQ%3D%3D?line=15'>16</a>\u001b[0m df \u001b[39m=\u001b[39m ()\n\u001b[0;32m---> <a href='vscode-notebook-cell://codespaces%2Bsolid-meme-6qp6wq9v56p2rpvq/workspaces/Prueba-Github/Analisis%20Info%20No%20estructurada/Lab_05%20Formas_canonicas_SR.ipynb#W4sdnNjb2RlLXJlbW90ZQ%3D%3D?line=16'>17</a>\u001b[0m df \u001b[39m=\u001b[39m df\u001b[39m.\u001b[39;49mDataframe(tokens_tagged, columns\u001b[39m=\u001b[39m[\u001b[39m'\u001b[39m\u001b[39mPalabra\u001b[39m\u001b[39m'\u001b[39m, \u001b[39m'\u001b[39m\u001b[39mF. Canónica\u001b[39m\u001b[39m'\u001b[39m])\n\u001b[1;32m     <a href='vscode-notebook-cell://codespaces%2Bsolid-meme-6qp6wq9v56p2rpvq/workspaces/Prueba-Github/Analisis%20Info%20No%20estructurada/Lab_05%20Formas_canonicas_SR.ipynb#W4sdnNjb2RlLXJlbW90ZQ%3D%3D?line=17'>18</a>\u001b[0m df\n",
      "\u001b[0;31mAttributeError\u001b[0m: 'tuple' object has no attribute 'Dataframe'"
     ]
    }
   ],
   "source": [
    "# lee el archivo Lazarillo.txt con la función generada\n",
    "\n",
    "texto = read_text_file(\"Lazarillo.txt\")\n",
    "# Stemming o extracción de lexemas - NLTK\n",
    "# Utiliza el modelo SnowballSteemer configurandolo para español para la lematizacion\n",
    "\n",
    "stemmer = SnowballStemmer('spanish')\n",
    "# Genera los tokens del texto. Se recomienda utilizar los recursos mostrados en otros laboratorios\n",
    "\n",
    "doc = nlp(texto)\n",
    "# Aplica la lematización a cada token\n",
    "#lemmatized_text = \" \".join([token.lemma_ for token in doc])\n",
    "tokens_tagged = [(palabra.text,palabra.lemma) for palabra in doc]\n",
    "### Lematización en spaCy. Aplícalo utilizando spaCy\n",
    "print(\"Lematización - spaCy\")\n",
    "df = ()\n",
    "df = df.Dataframe(tokens_tagged, columns=['Palabra', 'F. Canónica'])\n",
    "df\n"
   ]
  },
  {
   "cell_type": "markdown",
   "metadata": {},
   "source": [
    "### Ejercicio extra. \n",
    "Convierte en función el stemming de NLTK y el lematizador de Spacy, para optimizar el código."
   ]
  },
  {
   "cell_type": "code",
   "execution_count": 7,
   "metadata": {},
   "outputs": [],
   "source": [
    "### Análisis con spaCy\n",
    "\n"
   ]
  },
  {
   "cell_type": "code",
   "execution_count": 3,
   "metadata": {},
   "outputs": [],
   "source": [
    "## Stemming - NLTK\n"
   ]
  },
  {
   "cell_type": "code",
   "execution_count": null,
   "metadata": {},
   "outputs": [],
   "source": []
  }
 ],
 "metadata": {
  "kernelspec": {
   "display_name": "Python 3",
   "language": "python",
   "name": "python3"
  },
  "language_info": {
   "codemirror_mode": {
    "name": "ipython",
    "version": 3
   },
   "file_extension": ".py",
   "mimetype": "text/x-python",
   "name": "python",
   "nbconvert_exporter": "python",
   "pygments_lexer": "ipython3",
   "version": "3.10.8"
  },
  "varInspector": {
   "cols": {
    "lenName": 16,
    "lenType": 16,
    "lenVar": 40
   },
   "kernels_config": {
    "python": {
     "delete_cmd_postfix": "",
     "delete_cmd_prefix": "del ",
     "library": "var_list.py",
     "varRefreshCmd": "print(var_dic_list())"
    },
    "r": {
     "delete_cmd_postfix": ") ",
     "delete_cmd_prefix": "rm(",
     "library": "var_list.r",
     "varRefreshCmd": "cat(var_dic_list()) "
    }
   },
   "types_to_exclude": [
    "module",
    "function",
    "builtin_function_or_method",
    "instance",
    "_Feature"
   ],
   "window_display": true
  },
  "vscode": {
   "interpreter": {
    "hash": "107fb03afb2754bdb3cdbb13c1c83d7d6037442339c22e5ee8cf40869e8513c5"
   }
  }
 },
 "nbformat": 4,
 "nbformat_minor": 4
}
