{
 "cells": [
  {
   "cell_type": "code",
   "execution_count": 2,
   "metadata": {},
   "outputs": [],
   "source": [
    "import spacy\n",
    "import pandas as pd\n",
    "\n",
    "nlp_es = spacy.load('es_core_news_lg')"
   ]
  },
  {
   "cell_type": "code",
   "execution_count": 3,
   "metadata": {},
   "outputs": [],
   "source": [
    "texto = \"\"\"«Life On Mars?» es una canción del músico británico David Bowie,\n",
    "publicada en diciembre de 1971 en el álbum Hunky Dory. La canción, que\n",
    "posteriormente sería definida por BBC Radio 2 como «un cruce entre un\n",
    "musical de Broadway y un cuadro de Salvador Dalí»,1 contó con\n",
    "participación del pianista Rick Wakeman. Después de ser lanzada como\n",
    "single en 1973,2 alcanzó el tercer puesto en la lista de éxitos del Reino\n",
    "Unido en la cual se mantuvo durante 13 semanas. La canción volvió a entrar\n",
    "en el ranking 30 años después al ser utilizada en la serie de televisión Life\n",
    "on Mars. Neil McCormick, crítico musical de The Daily Telegraph, la situó\n",
    "como la primera de las 100 mejores canciones de todos los tiempos.\"\"\""
   ]
  },
  {
   "cell_type": "code",
   "execution_count": 4,
   "metadata": {},
   "outputs": [],
   "source": [
    "import re\n",
    "from nltk.corpus import stopwords\n",
    "from nltk.tokenize import word_tokenize\n",
    "\n",
    "def limpiar_texto(texto):\n",
    "    if not isinstance(texto, str):\n",
    "        raise ValueError(\"El argumento 'texto' debe ser una cadena de texto.\")\n",
    "    \n",
    "    # Eliminar caracteres especiales y números\n",
    "    texto = re.sub(r'[^a-zA-Z\\s]', '', texto)\n",
    "    \n",
    "    # Convertir a minúsculas\n",
    "    texto = texto.lower()\n",
    "    \n",
    "    # Tokenizar el texto\n",
    "    tokens = word_tokenize(texto)\n",
    "    \n",
    "    # Eliminar stop words\n",
    "    stop_words = set(stopwords.words('english'))\n",
    "    tokens_filtrados = [word for word in tokens if word not in stop_words]\n",
    "    \n",
    "    # Unir tokens nuevamente en un string\n",
    "    texto_limpiado = ' '.join(tokens_filtrados)\n",
    "    \n",
    "    return texto_limpiado"
   ]
  },
  {
   "cell_type": "code",
   "execution_count": 5,
   "metadata": {},
   "outputs": [
    {
     "data": {
      "text/plain": [
       "'life mars es una cancin del msico britnico david bowie publicada en diciembre de en el lbum hunky dory la cancin que posteriormente sera definida por bbc radio como un cruce entre un musical de broadway un cuadro de salvador dal cont con participacin del pianista rick wakeman despus de ser lanzada como single en alcanz el tercer puesto en la lista de xitos del reino unido en la cual se mantuvo durante semanas la cancin volvi entrar en el ranking aos despus al ser utilizada en la serie de televisin life mars neil mccormick crtico musical de daily telegraph la situ como la primera de las mejores canciones de todos los tiempos'"
      ]
     },
     "execution_count": 5,
     "metadata": {},
     "output_type": "execute_result"
    }
   ],
   "source": [
    "texto_limpio = limpiar_texto(texto)\n",
    "texto_limpio"
   ]
  },
  {
   "cell_type": "markdown",
   "metadata": {},
   "source": [
    "# Token text y Postag de cada palabra"
   ]
  },
  {
   "cell_type": "code",
   "execution_count": 7,
   "metadata": {},
   "outputs": [
    {
     "name": "stdout",
     "output_type": "stream",
     "text": [
      "\n",
      "\n",
      "Token: life |  Análisis morfológico: PROPN\n",
      "Token: mars |  Análisis morfológico: PROPN\n",
      "Token: es |  Análisis morfológico: AUX\n",
      "Token: una |  Análisis morfológico: DET\n",
      "Token: cancin |  Análisis morfológico: NOUN\n",
      "Token: del |  Análisis morfológico: ADP\n",
      "Token: msico |  Análisis morfológico: PROPN\n",
      "Token: britnico |  Análisis morfológico: PROPN\n",
      "Token: david |  Análisis morfológico: PROPN\n",
      "Token: bowie |  Análisis morfológico: PROPN\n",
      "Token: publicada |  Análisis morfológico: ADJ\n",
      "Token: en |  Análisis morfológico: ADP\n",
      "Token: diciembre |  Análisis morfológico: NOUN\n",
      "Token: de |  Análisis morfológico: ADP\n",
      "Token: en |  Análisis morfológico: ADP\n",
      "Token: el |  Análisis morfológico: DET\n",
      "Token: lbum |  Análisis morfológico: NOUN\n",
      "Token: hunky |  Análisis morfológico: PROPN\n",
      "Token: dory |  Análisis morfológico: PROPN\n",
      "Token: la |  Análisis morfológico: DET\n",
      "Token: cancin |  Análisis morfológico: NOUN\n",
      "Token: que |  Análisis morfológico: PRON\n",
      "Token: posteriormente |  Análisis morfológico: ADV\n",
      "Token: sera |  Análisis morfológico: AUX\n",
      "Token: definida |  Análisis morfológico: VERB\n",
      "Token: por |  Análisis morfológico: ADP\n",
      "Token: bbc |  Análisis morfológico: PROPN\n",
      "Token: radio |  Análisis morfológico: NOUN\n",
      "Token: como |  Análisis morfológico: SCONJ\n",
      "Token: un |  Análisis morfológico: DET\n",
      "Token: cruce |  Análisis morfológico: NOUN\n",
      "Token: entre |  Análisis morfológico: ADP\n",
      "Token: un |  Análisis morfológico: DET\n",
      "Token: musical |  Análisis morfológico: NOUN\n",
      "Token: de |  Análisis morfológico: ADP\n",
      "Token: broadway |  Análisis morfológico: PROPN\n",
      "Token: un |  Análisis morfológico: DET\n",
      "Token: cuadro |  Análisis morfológico: NOUN\n",
      "Token: de |  Análisis morfológico: ADP\n",
      "Token: salvador |  Análisis morfológico: PROPN\n",
      "Token: dal |  Análisis morfológico: PROPN\n",
      "Token: cont |  Análisis morfológico: PROPN\n",
      "Token: con |  Análisis morfológico: ADP\n",
      "Token: participacin |  Análisis morfológico: NOUN\n",
      "Token: del |  Análisis morfológico: ADP\n",
      "Token: pianista |  Análisis morfológico: NOUN\n",
      "Token: rick |  Análisis morfológico: PROPN\n",
      "Token: wakeman |  Análisis morfológico: PROPN\n",
      "Token: despus |  Análisis morfológico: PROPN\n",
      "Token: de |  Análisis morfológico: ADP\n",
      "Token: ser |  Análisis morfológico: AUX\n",
      "Token: lanzada |  Análisis morfológico: VERB\n",
      "Token: como |  Análisis morfológico: SCONJ\n",
      "Token: single |  Análisis morfológico: NOUN\n",
      "Token: en |  Análisis morfológico: ADP\n",
      "Token: alcanz |  Análisis morfológico: VERB\n",
      "Token: el |  Análisis morfológico: DET\n",
      "Token: tercer |  Análisis morfológico: ADJ\n",
      "Token: puesto |  Análisis morfológico: NOUN\n",
      "Token: en |  Análisis morfológico: ADP\n",
      "Token: la |  Análisis morfológico: DET\n",
      "Token: lista |  Análisis morfológico: NOUN\n",
      "Token: de |  Análisis morfológico: ADP\n",
      "Token: xitos |  Análisis morfológico: NOUN\n",
      "Token: del |  Análisis morfológico: ADP\n",
      "Token: reino |  Análisis morfológico: PROPN\n",
      "Token: unido |  Análisis morfológico: PROPN\n",
      "Token: en |  Análisis morfológico: ADP\n",
      "Token: la |  Análisis morfológico: DET\n",
      "Token: cual |  Análisis morfológico: PRON\n",
      "Token: se |  Análisis morfológico: PRON\n",
      "Token: mantuvo |  Análisis morfológico: VERB\n",
      "Token: durante |  Análisis morfológico: ADP\n",
      "Token: semanas |  Análisis morfológico: NOUN\n",
      "Token: la |  Análisis morfológico: DET\n",
      "Token: cancin |  Análisis morfológico: NOUN\n",
      "Token: volvi |  Análisis morfológico: VERB\n",
      "Token: entrar |  Análisis morfológico: VERB\n",
      "Token: en |  Análisis morfológico: ADP\n",
      "Token: el |  Análisis morfológico: DET\n",
      "Token: ranking |  Análisis morfológico: NOUN\n",
      "Token: aos |  Análisis morfológico: NOUN\n",
      "Token: despus |  Análisis morfológico: ADV\n",
      "Token: al |  Análisis morfológico: ADP\n",
      "Token: ser |  Análisis morfológico: AUX\n",
      "Token: utilizada |  Análisis morfológico: VERB\n",
      "Token: en |  Análisis morfológico: ADP\n",
      "Token: la |  Análisis morfológico: DET\n",
      "Token: serie |  Análisis morfológico: NOUN\n",
      "Token: de |  Análisis morfológico: ADP\n",
      "Token: televisin |  Análisis morfológico: PROPN\n",
      "Token: life |  Análisis morfológico: PROPN\n",
      "Token: mars |  Análisis morfológico: PROPN\n",
      "Token: neil |  Análisis morfológico: PROPN\n",
      "Token: mccormick |  Análisis morfológico: PROPN\n",
      "Token: crtico |  Análisis morfológico: PROPN\n",
      "Token: musical |  Análisis morfológico: ADJ\n",
      "Token: de |  Análisis morfológico: ADP\n",
      "Token: daily |  Análisis morfológico: PROPN\n",
      "Token: telegraph |  Análisis morfológico: PROPN\n",
      "Token: la |  Análisis morfológico: DET\n",
      "Token: situ |  Análisis morfológico: PROPN\n",
      "Token: como |  Análisis morfológico: SCONJ\n",
      "Token: la |  Análisis morfológico: DET\n",
      "Token: primera |  Análisis morfológico: ADJ\n",
      "Token: de |  Análisis morfológico: ADP\n",
      "Token: las |  Análisis morfológico: DET\n",
      "Token: mejores |  Análisis morfológico: ADJ\n",
      "Token: canciones |  Análisis morfológico: NOUN\n",
      "Token: de |  Análisis morfológico: ADP\n",
      "Token: todos |  Análisis morfológico: DET\n",
      "Token: los |  Análisis morfológico: DET\n",
      "Token: tiempos |  Análisis morfológico: NOUN\n"
     ]
    }
   ],
   "source": [
    "import spacy\n",
    "\n",
    "# Cargar modelo de lenguaje en español\n",
    "\n",
    "# Realizar análisis morfológico para un artículo de ejemplo\n",
    "doc = nlp_es(texto_limpio)\n",
    "\n",
    "print(\"\\n\")\n",
    "# Encontrar el sujeto y el predicado\n",
    "for token in doc:\n",
    "    print(\"Token:\", token.text, \"|  Análisis morfológico:\", token.tag_)"
   ]
  },
  {
   "cell_type": "markdown",
   "metadata": {},
   "source": [
    "# Extraccion de entidades"
   ]
  },
  {
   "cell_type": "code",
   "execution_count": 8,
   "metadata": {},
   "outputs": [
    {
     "name": "stdout",
     "output_type": "stream",
     "text": [
      "Entidad: life mars - Tipo: ORG\n",
      "Entidad: david bowie - Tipo: PER\n",
      "Entidad: hunky dory - Tipo: PER\n",
      "Entidad: bbc radio - Tipo: ORG\n",
      "Entidad: broadway - Tipo: LOC\n",
      "Entidad: salvador dal - Tipo: PER\n",
      "Entidad: rick wakeman - Tipo: PER\n",
      "Entidad: reino unido - Tipo: LOC\n",
      "Entidad: televisin life mars neil mccormick - Tipo: MISC\n",
      "Entidad: daily - Tipo: PER\n"
     ]
    }
   ],
   "source": [
    "for entidad in doc.ents:\n",
    "    print(f\"Entidad: {entidad.text} - Tipo: {entidad.label_}\")"
   ]
  },
  {
   "cell_type": "code",
   "execution_count": 9,
   "metadata": {},
   "outputs": [
    {
     "data": {
      "text/html": [
       "<span class=\"tex2jax_ignore\"><div class=\"entities\" style=\"line-height: 2.5; direction: ltr\">\n",
       "<mark class=\"entity\" style=\"background: #7aecec; padding: 0.45em 0.6em; margin: 0 0.25em; line-height: 1; border-radius: 0.35em;\">\n",
       "    life mars\n",
       "    <span style=\"font-size: 0.8em; font-weight: bold; line-height: 1; border-radius: 0.35em; vertical-align: middle; margin-left: 0.5rem\">ORG</span>\n",
       "</mark>\n",
       " es una cancin del msico britnico \n",
       "<mark class=\"entity\" style=\"background: #ddd; padding: 0.45em 0.6em; margin: 0 0.25em; line-height: 1; border-radius: 0.35em;\">\n",
       "    david bowie\n",
       "    <span style=\"font-size: 0.8em; font-weight: bold; line-height: 1; border-radius: 0.35em; vertical-align: middle; margin-left: 0.5rem\">PER</span>\n",
       "</mark>\n",
       " publicada en diciembre de en el lbum \n",
       "<mark class=\"entity\" style=\"background: #ddd; padding: 0.45em 0.6em; margin: 0 0.25em; line-height: 1; border-radius: 0.35em;\">\n",
       "    hunky dory\n",
       "    <span style=\"font-size: 0.8em; font-weight: bold; line-height: 1; border-radius: 0.35em; vertical-align: middle; margin-left: 0.5rem\">PER</span>\n",
       "</mark>\n",
       " la cancin que posteriormente sera definida por \n",
       "<mark class=\"entity\" style=\"background: #7aecec; padding: 0.45em 0.6em; margin: 0 0.25em; line-height: 1; border-radius: 0.35em;\">\n",
       "    bbc radio\n",
       "    <span style=\"font-size: 0.8em; font-weight: bold; line-height: 1; border-radius: 0.35em; vertical-align: middle; margin-left: 0.5rem\">ORG</span>\n",
       "</mark>\n",
       " como un cruce entre un musical de \n",
       "<mark class=\"entity\" style=\"background: #ff9561; padding: 0.45em 0.6em; margin: 0 0.25em; line-height: 1; border-radius: 0.35em;\">\n",
       "    broadway\n",
       "    <span style=\"font-size: 0.8em; font-weight: bold; line-height: 1; border-radius: 0.35em; vertical-align: middle; margin-left: 0.5rem\">LOC</span>\n",
       "</mark>\n",
       " un cuadro de \n",
       "<mark class=\"entity\" style=\"background: #ddd; padding: 0.45em 0.6em; margin: 0 0.25em; line-height: 1; border-radius: 0.35em;\">\n",
       "    salvador dal\n",
       "    <span style=\"font-size: 0.8em; font-weight: bold; line-height: 1; border-radius: 0.35em; vertical-align: middle; margin-left: 0.5rem\">PER</span>\n",
       "</mark>\n",
       " cont con participacin del pianista \n",
       "<mark class=\"entity\" style=\"background: #ddd; padding: 0.45em 0.6em; margin: 0 0.25em; line-height: 1; border-radius: 0.35em;\">\n",
       "    rick wakeman\n",
       "    <span style=\"font-size: 0.8em; font-weight: bold; line-height: 1; border-radius: 0.35em; vertical-align: middle; margin-left: 0.5rem\">PER</span>\n",
       "</mark>\n",
       " despus de ser lanzada como single en alcanz el tercer puesto en la lista de xitos del \n",
       "<mark class=\"entity\" style=\"background: #ff9561; padding: 0.45em 0.6em; margin: 0 0.25em; line-height: 1; border-radius: 0.35em;\">\n",
       "    reino unido\n",
       "    <span style=\"font-size: 0.8em; font-weight: bold; line-height: 1; border-radius: 0.35em; vertical-align: middle; margin-left: 0.5rem\">LOC</span>\n",
       "</mark>\n",
       " en la cual se mantuvo durante semanas la cancin volvi entrar en el ranking aos despus al ser utilizada en la serie de \n",
       "<mark class=\"entity\" style=\"background: #ddd; padding: 0.45em 0.6em; margin: 0 0.25em; line-height: 1; border-radius: 0.35em;\">\n",
       "    televisin life mars neil mccormick\n",
       "    <span style=\"font-size: 0.8em; font-weight: bold; line-height: 1; border-radius: 0.35em; vertical-align: middle; margin-left: 0.5rem\">MISC</span>\n",
       "</mark>\n",
       " crtico musical de \n",
       "<mark class=\"entity\" style=\"background: #ddd; padding: 0.45em 0.6em; margin: 0 0.25em; line-height: 1; border-radius: 0.35em;\">\n",
       "    daily\n",
       "    <span style=\"font-size: 0.8em; font-weight: bold; line-height: 1; border-radius: 0.35em; vertical-align: middle; margin-left: 0.5rem\">PER</span>\n",
       "</mark>\n",
       " telegraph la situ como la primera de las mejores canciones de todos los tiempos</div></span>"
      ],
      "text/plain": [
       "<IPython.core.display.HTML object>"
      ]
     },
     "metadata": {},
     "output_type": "display_data"
    }
   ],
   "source": [
    "from spacy import displacy\n",
    "\n",
    "# Visualizar las entidades\n",
    "displacy.render(doc, style=\"ent\")"
   ]
  }
 ],
 "metadata": {
  "kernelspec": {
   "display_name": "Python 3",
   "language": "python",
   "name": "python3"
  },
  "language_info": {
   "codemirror_mode": {
    "name": "ipython",
    "version": 3
   },
   "file_extension": ".py",
   "mimetype": "text/x-python",
   "name": "python",
   "nbconvert_exporter": "python",
   "pygments_lexer": "ipython3",
   "version": "3.10.8"
  }
 },
 "nbformat": 4,
 "nbformat_minor": 2
}
