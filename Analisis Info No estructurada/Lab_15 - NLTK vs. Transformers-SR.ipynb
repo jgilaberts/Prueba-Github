{
 "cells": [
  {
   "cell_type": "markdown",
   "metadata": {},
   "source": [
    "# Título de la Práctica: Análisis de Sentimiento en reviews\n",
    "\n",
    "Utilizaremos el csv de `andalucia_hoteles.csv`. \n",
    "\n",
    "\n",
    "## Paso 1: Análisis de Sentimiento con NTLK\n",
    "\n",
    "En esta etapa, utilizaremos NLTK, una biblioteca de procesamiento de lenguaje natural, para realizar el análisis de sentimiento en las reviews. Calcula tanto el sentimiento (positivo, negativo o neutral) como la polaridad (cuán positivo o negativo es el texto) de cada review. Añade una columna a tus datos que contenga esta información.\n",
    "\n",
    "## Paso 2: Visualización de Resultados\n",
    "\n",
    "Crea gráficos de barras o gráficos circulares para mostrar la distribución de los sentimientos en las reviews. Esto te permitirá ver cuántos reviews son positivas, negativas o neutrales. También puedes representar la polaridad en un gráfico para comprender mejor el tono general de los tweets.\n",
    "\n",
    "## Paso 3: Análisis de Resultados\n",
    "\n",
    "Analiza los resultados y extrae conclusiones. Hazte preguntas como:\n",
    "\n",
    "¿Cuál es la proporción de reviews positivas, negativas y neutrales?\n",
    "¿Cuál es el sentimiento predominante en las reviews?\n",
    "¿Puedes identificar tendencias o patrones en los datos?\n",
    "\n",
    "Considera cómo este análisis de sentimiento podría ser útil en un contexto real, como la monitorización de la reputación de un hotel o la detección de tendencias en las redes sociales.\n",
    "\n",
    "\n",
    "## New! Paso 4: Evaluación del análisis de sentimiento utilizando la pipeline de transformers con el modelo 'sentiment-analysis'\n",
    "\n",
    "Ahora ejecuta el análisis de sentimiento sobre el mismo dataset, empleando un modelo de transformers y evalúa los resultados. ¿Se puntúan diferente? ¿Hay alguna diferencia?"
   ]
  },
  {
   "cell_type": "code",
   "execution_count": 6,
   "metadata": {},
   "outputs": [],
   "source": [
    "# Utilización de Vader\n",
    "\n",
    "def get_nltk_sentiment(sentence):\n",
    "    ss = sid.polarity_scores(sentence)\n",
    "    print(\"Utilizando Vader: \",sentence, ss['compound'])\n",
    "    return ss['compound']"
   ]
  },
  {
   "cell_type": "markdown",
   "metadata": {},
   "source": []
  },
  {
   "cell_type": "code",
   "execution_count": 3,
   "metadata": {},
   "outputs": [],
   "source": [
    "import pandas as pd\n",
    "from nltk.sentiment.vader import SentimentIntensityAnalyzer\n",
    "\n",
    "\n",
    "# Cargar el conjunto de datos de tweets (reemplaza 'tweets.csv' con el nombre de tu archivo)\n",
    "df = pd.read_csv('data/andalucia_hoteles.csv')\n",
    "\n"
   ]
  },
  {
   "cell_type": "code",
   "execution_count": null,
   "metadata": {},
   "outputs": [],
   "source": [
    "# Inicializar el analizador de sentimiento VADER\n",
    "analyzer = SentimentIntensityAnalyzer()\n",
    "\n",
    "# Función para obtener la polaridad del sentimiento\n",
    "def get_sentiment_polarity(tweet):\n",
    "    sentiment = analyzer.polarity_scores(tweet)\n",
    "    if sentiment['compound'] >= 0.01:\n",
    "        return 'POSITIVE'\n",
    "    elif sentiment['compound'] <= -0.01:\n",
    "        return 'NEGATIVE'\n",
    "    else:\n",
    "        return 'NEUTRAL'\n",
    "\n",
    "df['sentiment'] = df['review_text'].apply(get_sentiment_polarity)\n",
    "\n",
    "# Visualización de resultados\n",
    "sentiment_counts = df['sentiment'].value_counts()\n",
    "\n",
    "plt.figure(figsize=(8, 6))\n",
    "sentiment_counts.plot(kind='bar', color=['green', 'red', 'blue'])\n",
    "plt.title('Distribución de Sentimientos en reviews (NLTK)')\n",
    "plt.xlabel('Sentimiento')\n",
    "plt.ylabel('Cantidad de reviews')\n",
    "plt.show()\n",
    "\n"
   ]
  },
  {
   "cell_type": "markdown",
   "metadata": {},
   "source": [
    "## 4. Transformers"
   ]
  },
  {
   "cell_type": "code",
   "execution_count": null,
   "metadata": {},
   "outputs": [],
   "source": []
  }
 ],
 "metadata": {
  "kernelspec": {
   "display_name": "Python 3 (ipykernel)",
   "language": "python",
   "name": "python3"
  },
  "language_info": {
   "codemirror_mode": {
    "name": "ipython",
    "version": 3
   },
   "file_extension": ".py",
   "mimetype": "text/x-python",
   "name": "python",
   "nbconvert_exporter": "python",
   "pygments_lexer": "ipython3",
   "version": "3.11.5"
  },
  "varInspector": {
   "cols": {
    "lenName": 16,
    "lenType": 16,
    "lenVar": 40
   },
   "kernels_config": {
    "python": {
     "delete_cmd_postfix": "",
     "delete_cmd_prefix": "del ",
     "library": "var_list.py",
     "varRefreshCmd": "print(var_dic_list())"
    },
    "r": {
     "delete_cmd_postfix": ") ",
     "delete_cmd_prefix": "rm(",
     "library": "var_list.r",
     "varRefreshCmd": "cat(var_dic_list()) "
    }
   },
   "oldHeight": 122.84136400000001,
   "position": {
    "height": "40px",
    "left": "1184.55px",
    "right": "20px",
    "top": "120px",
    "width": "250px"
   },
   "types_to_exclude": [
    "module",
    "function",
    "builtin_function_or_method",
    "instance",
    "_Feature"
   ],
   "varInspector_section_display": "none",
   "window_display": true
  }
 },
 "nbformat": 4,
 "nbformat_minor": 4
}
