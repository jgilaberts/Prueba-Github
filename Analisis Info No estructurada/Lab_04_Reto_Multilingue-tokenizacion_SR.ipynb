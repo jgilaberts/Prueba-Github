{
 "cells": [
  {
   "cell_type": "markdown",
   "metadata": {},
   "source": [
    "# Lab 04. Análisis información no estructurada - Solución Integral para Discursos Multilingües\n",
    "\n",
    "## Contexto del Cliente\n",
    "Eres parte de un equipo de desarrolladores en una empresa que se especializa en soluciones de procesamiento del lenguaje natural. Un cliente internacional, una organización global que organiza conferencias en múltiples idiomas, se ha acercado a tu empresa con una problemática. El cliente recibe una gran cantidad de discursos grabados en diferentes idiomas en cada conferencia. Necesitan una herramienta automatizada que pueda realizar tres tareas esenciales: detectar el idioma de los discursos, dividirlos en frases y tokenizar las palabras para su posterior análisis y resumen.\n"
   ]
  },
  {
   "cell_type": "code",
   "execution_count": 1,
   "metadata": {},
   "outputs": [],
   "source": [
    "dataset = [\n",
    "    \"Hello everyone, welcome to this conference. We are here to discuss important topics.\",\n",
    "    \"¡Hola a todos! Estamos aquí para hablar sobre tecnología y sus impactos.\",\n",
    "    \"Chers participants, bienvenue à cette conférence passionnante. Parlons des défis mondiaux.\",\n",
    "    \"Guten Tag allerseits! In dieser Konferenz geht es um künstliche Intelligenz und Innovation.\",\n",
    "    \"Olá a todos, é um prazer estar aqui para compartilhar conhecimentos sobre ciência e pesquisa.\",\n",
    "    \"こんにちは皆さん、この会議へようこそ。AIと未来のビジョンについて話しましょう。\",\n",
    "    \"Ciao a tutti! È un onore parlare dell'importanza della sostenibilità ambientale.\",\n",
    "    \"Привет всем! Сегодня мы обсудим вопросы развития и экономического роста.\",\n",
    "    \"مرحبًا بالجميع، نحن هنا لمناقشة التحديات والفرص في عالم التكنولوجيا.\",\n",
    "    \"Welcome to the annual conference. Let's explore the latest trends in business and finance.\",\n",
    "    \"Bienvenidos a la conferencia de educación. Analicemos juntos el futuro de la enseñanza.\",\n",
    "    \"Chers amis, nous sommes ravis de vous accueillir à cette conférence culturelle.\",\n",
    "    \"Liebe Teilnehmer, herzlich willkommen zur Konferenz über Nachhaltigkeit und Umweltschutz.\",\n",
    "    \"Bem-vindos ao evento de saúde e bem-estar. Vamos discutir formas de viver melhor.\",\n",
    "    \"みなさん、年次カンファレンスへようこそ。ビジネスの最新トレンドについて探ってみましょう。\",\n",
    "    \"Benvenuti alla conferenza sul design e creatività. Esploreremo nuove idee e approcci.\",\n",
    "    \"Приветствуем всех на конференции по искусству и культуре. Обсудим важные вопросы.\",\n",
    "    \"مرحباً بكم في مؤتمر الابتكار والتقنية. سنستعرض أحدث التطورات والتحديات.\",\n",
    "    \"Greetings, participants! Let's delve into the world of scientific discoveries and breakthroughs.\",\n",
    "    \"Saludos a todos los presentes. Analizaremos los avances en medicina y biotecnología.\",\n",
    "    \"Bonjour à tous les passionnés de littérature. Nous explorerons des œuvres classiques.\",\n",
    "    \"Hallo zusammen! In dieser Konferenz geht es um die Zukunft der erneuerbaren Energien.\",\n",
    "    \"Olá pessoal, estamos aqui para discutir a revolução tecnológica e suas implicações.\",\n",
    "    \"皆さん、ご参加いただきありがとうございます。ビジネスと金融の未来について考えてみましょう。\",\n",
    "    \"Cari amici, benvenuti al convegno sull'arte contemporanea. Analizzeremo opere moderne.\",\n",
    "    \"Приветствуем всех на конференции о глобальных вызовах и сотрудничестве.\",\n",
    "    \"مرحبًا بكم في مؤتمر التكنولوجيا والابتكار. سنتناول تطورات الذكاء الاصطناعي.\",\n",
    "    \"Esteemed guests, welcome to the innovation summit. Let's explore cutting-edge solutions.\",\n",
    "    \"Honorables invités, bienvenue au sommet de l'innovation. Découvrons des solutions avant-gardistes.\",\n",
    "    \"Sehr geehrte Gäste, herzlich willkommen zum Innovationsgipfel. Erkunden wir bahnbrechende Lösungen.\",\n",
    "    \"Caros convidados, bem-vindos à cúpula de inovação. Vamos explorar soluções de ponta.\",\n",
    "    \"尊敬なるゲストの皆様、革新のサミットへようこそ。最新の解決策を探ってみましょう。\",\n",
    "    \"Stimati ospiti, benvenuti al vertice dell'innovazione. Esploreremo soluzioni all'avanguardia.\",\n",
    "    \"Уважаемые гости, добро пожаловать на саммит инноваций. Давайте исследуем передовые решения.\",\n",
    "    \"عزيزي الضيوف، مرحبًا بكم في قمة الابتكار. دعونا نستكشف حلاً مبتكرًا.\",\n",
    "    \"Ladies and gentlemen, welcome to the conference on artificial intelligence and its impacts.\",\n",
    "    \"Damas y caballeros, bienvenidos a la conferencia sobre ciberseguridad y privacidad.\",\n",
    "    \"Mesdames et messieurs, bienvenue à la conférence sur l'avenir des transports.\",\n",
    "    \"Meine Damen und Herren, herzlich willkommen zur Konferenz über digitale Transformation.\",\n",
    "    \"Senhoras e senhores, bem-vindos à conferência sobre a indústria do entretenimento.\",\n",
    "    \"女性と紳士の皆様、AIとその影響に関する会議へようこそ。\",\n",
    "    \"Señoras y señores, bienvenidos a la conferencia sobre inteligencia artificial y sus impactos.\",\n",
    "    \"Mesdames et messieurs, bienvenue à la conférence sur l'innovation dans la santé.\",\n",
    "    \"Meine Damen und Herren, herzlich willkommen zur Konferenz über Nachhaltigkeit in der Wirtschaft.\",\n",
    "    \"Senhoras e senhores, bem-vindos à conferência sobre o futuro das energias renováveis.\",\n",
    "    \"女性と紳士の皆様、科学的発見とブレークスルーの世界に深入りしましょう。\",\n",
    "    \"Señoras y señores, bienvenidos a la conferencia sobre avances en medicina y biotecnología.\",\n",
    "    \"Mesdames et messieurs, bienvenue à la conférence sur la littérature classique.\",\n",
    "    \"Meine Damen und Herren, herzlich willkommen zur\"]\n"
   ]
  },
  {
   "cell_type": "code",
   "execution_count": null,
   "metadata": {},
   "outputs": [],
   "source": [
    "# !pip install langdetect\n",
    "# !pip install googletrans==4.0.0-rc1"
   ]
  },
  {
   "cell_type": "markdown",
   "metadata": {},
   "source": [
    "## Ejercicio 1: Detección de Idioma y Traducción\n",
    "El primer paso para abordar la problemática del cliente es detectar el idioma de los discursos y luego traducirlos a un idioma elegido. Utiliza la biblioteca langdetect para identificar el idioma principal de cada discurso en el dataset proporcionado por el cliente. Luego, utiliza la biblioteca translate para traducir el discurso al idioma elegido."
   ]
  },
  {
   "cell_type": "code",
   "execution_count": 2,
   "metadata": {},
   "outputs": [],
   "source": [
    "from langdetect import detect, DetectorFactory\n",
    "DetectorFactory.seed = 0\n",
    "from googletrans import Translator\n",
    "translator = Translator()"
   ]
  },
  {
   "cell_type": "code",
   "execution_count": 10,
   "metadata": {},
   "outputs": [
    {
     "name": "stdout",
     "output_type": "stream",
     "text": [
      "Hola a todos, bienvenidos a esta conferencia.Estamos aquí para discutir temas importantes.\n",
      "¡Hola a todos! Estamos aquí para hablar sobre tecnología y sus impactos.\n",
      "Estimados participantes, Bienvenido a esta emocionante conferencia.Hablemos de desafíos globales.\n",
      "¡Hola a todos!Esta conferencia trata sobre inteligencia e innovación artificial.\n",
      "Hola a todos, es un placer estar aquí para compartir conocimiento sobre ciencia e investigación.\n",
      "Hola a todos, bienvenidos a esta reunión.Hablemos de la IA y la visión futura.\n",
      "¡Hola a todos!Es un honor hablar de la importancia de la sostenibilidad ambiental.\n",
      "¡Hola a todos!Hoy discutiremos los temas de desarrollo y crecimiento económico.\n",
      "Hola a todos, estamos aquí para discutir desafíos y oportunidades en el mundo de la tecnología.\n",
      "Bienvenido a la conferencia anual.Exploremos las últimas tendencias en negocios y finanzas.\n",
      "Bienvenidos a la conferencia de educación. Analicemos juntos el futuro de la enseñanza.\n",
      "Queridos amigos, estamos encantados de darle la bienvenida a esta conferencia cultural.\n",
      "Estimados participantes, Bienvenido a la Conferencia sobre Sostenibilidad y Protección del Medio Ambiente.\n",
      "Bienvenido al evento de salud y bienestar.Discutamos formas de vivir mejor.\n",
      "Todos, bienvenidos a la conferencia anual.Exploremos las últimas tendencias comerciales.\n",
      "Bienvenido a la conferencia sobre diseño y creatividad.Exploraremos nuevas ideas y enfoques.\n",
      "Damos la bienvenida a todos en la Conferencia sobre Arte y Cultura.Discutiremos temas importantes.\n",
      "Bienvenido a la Conferencia de Innovación y Tecnología.Revisaremos los últimos desarrollos y desafíos.\n",
      "¡Saludos, participantes!Vamos a profundizar en el mundo de los descubrimientos y avances científicos.\n",
      "Saludos a todos los presentes. Analizaremos los avances en medicina y biotecnología.\n",
      "Hola a todos los entusiastas de la literatura.Exploraremos las obras clásicas.\n",
      "¡Hola a todos!Esta conferencia se ocupa del futuro de las energías renovables.\n",
      "Hola a todos, estamos aquí para discutir la revolución tecnológica y sus implicaciones.\n",
      "Gracias por participar.Consideremos el futuro de los negocios y las finanzas.\n",
      "Queridos amigos, Bienvenido a la conferencia sobre arte contemporáneo.Analizaremos las obras modernas.\n",
      "Damos la bienvenida a todos en la conferencia sobre desafíos y cooperación globales.\n",
      "Bienvenido a la conferencia de tecnología e innovación.Abordaremos los desarrollos de la inteligencia artificial.\n",
      "Estimados invitados, bienvenidos a la Cumbre de Innovación.Exploremos soluciones de vanguardia.\n",
      "Invitados honorables, bienvenidos a la cima de la innovación.Descubramos soluciones de vanguardia.\n",
      "Estimados invitados, Bienvenido a la Cumbre de Innovación.Explore soluciones innovadoras.\n",
      "Estimados invitados, Bienvenido a la Cumbre de Innovación.Exploremos las soluciones de recorte.\n",
      "Bienvenido a los invitados respetados, la Cumbre de Innovación.Exploremos las últimas soluciones.\n",
      "Invitados estimados, bienvenidos a la cumbre de la innovación.Exploraremos soluciones de recorte.\n",
      "Estimados invitados, Bienvenido a la Cumbre de Innovación.Estudiemos decisiones avanzadas.\n",
      "Estimados invitados, Bienvenido a la cima de la innovación.Exploremos una solución innovadora.\n",
      "Damas y caballeros, bienvenidos a la conferencia sobre inteligencia artificial y sus impactos.\n",
      "Damas y caballeros, bienvenidos a la conferencia sobre ciberseguridad y privacidad.\n",
      "Damas y caballeros, bienvenidos a la conferencia sobre el futuro del transporte.\n",
      "Damas y caballeros, bienvenidos a la conferencia sobre transformación digital.\n",
      "Damas y caballeros, bienvenidos a la conferencia sobre la industria del entretenimiento.\n",
      "Bienvenido a mujeres y caballeros, IA y su influencia.\n",
      "Señoras y señores, bienvenidos a la conferencia sobre inteligencia artificial y sus impactos.\n",
      "Damas y caballeros, bienvenidos a la Conferencia sobre Innovación de la Salud.\n",
      "Damas y caballeros, bienvenidos a la conferencia sobre sostenibilidad en la economía.\n",
      "Damas y caballeros, bienvenidos a la conferencia sobre el futuro de las energías renovables.\n",
      "Mujeres y caballeros, profundicemos en el mundo de los científicos y los avances.\n",
      "Señoras y señores, bienvenidos a la conferencia sobre avances en medicina y biotecnología.\n",
      "Damas y caballeros, bienvenidos a la conferencia sobre literatura clásica.\n",
      "Damas y caballeros, bienvenidos al\n"
     ]
    }
   ],
   "source": [
    "en_dataset = []\n",
    "for sub_set in dataset:\n",
    "    text = translator.translate(sub_set, src=detect(sub_set), dest='es').text\n",
    "    en_dataset.append(text)\n",
    "    print(text)"
   ]
  },
  {
   "cell_type": "markdown",
   "metadata": {},
   "source": [
    "## Ejercicio 2: División en Frases\n",
    "Ahora que hemos detectado el idioma y traducido los discursos, procederemos a dividirlos en frases utilizando la función sent_tokenize de la biblioteca nltk."
   ]
  },
  {
   "cell_type": "code",
   "execution_count": 4,
   "metadata": {},
   "outputs": [],
   "source": [
    "import nltk"
   ]
  },
  {
   "cell_type": "code",
   "execution_count": 11,
   "metadata": {},
   "outputs": [
    {
     "name": "stdout",
     "output_type": "stream",
     "text": [
      "['Hola a todos, bienvenidos a esta conferencia.Estamos aquí para discutir temas importantes.']\n",
      "['¡Hola a todos!', 'Estamos aquí para hablar sobre tecnología y sus impactos.']\n",
      "['Estimados participantes, Bienvenido a esta emocionante conferencia.Hablemos de desafíos globales.']\n",
      "['¡Hola a todos!Esta conferencia trata sobre inteligencia e innovación artificial.']\n",
      "['Hola a todos, es un placer estar aquí para compartir conocimiento sobre ciencia e investigación.']\n",
      "['Hola a todos, bienvenidos a esta reunión.Hablemos de la IA y la visión futura.']\n",
      "['¡Hola a todos!Es un honor hablar de la importancia de la sostenibilidad ambiental.']\n",
      "['¡Hola a todos!Hoy discutiremos los temas de desarrollo y crecimiento económico.']\n",
      "['Hola a todos, estamos aquí para discutir desafíos y oportunidades en el mundo de la tecnología.']\n",
      "['Bienvenido a la conferencia anual.Exploremos las últimas tendencias en negocios y finanzas.']\n",
      "['Bienvenidos a la conferencia de educación.', 'Analicemos juntos el futuro de la enseñanza.']\n",
      "['Queridos amigos, estamos encantados de darle la bienvenida a esta conferencia cultural.']\n",
      "['Estimados participantes, Bienvenido a la Conferencia sobre Sostenibilidad y Protección del Medio Ambiente.']\n",
      "['Bienvenido al evento de salud y bienestar.Discutamos formas de vivir mejor.']\n",
      "['Todos, bienvenidos a la conferencia anual.Exploremos las últimas tendencias comerciales.']\n",
      "['Bienvenido a la conferencia sobre diseño y creatividad.Exploraremos nuevas ideas y enfoques.']\n",
      "['Damos la bienvenida a todos en la Conferencia sobre Arte y Cultura.Discutiremos temas importantes.']\n",
      "['Bienvenido a la Conferencia de Innovación y Tecnología.Revisaremos los últimos desarrollos y desafíos.']\n",
      "['¡Saludos, participantes!Vamos a profundizar en el mundo de los descubrimientos y avances científicos.']\n",
      "['Saludos a todos los presentes.', 'Analizaremos los avances en medicina y biotecnología.']\n",
      "['Hola a todos los entusiastas de la literatura.Exploraremos las obras clásicas.']\n",
      "['¡Hola a todos!Esta conferencia se ocupa del futuro de las energías renovables.']\n",
      "['Hola a todos, estamos aquí para discutir la revolución tecnológica y sus implicaciones.']\n",
      "['Gracias por participar.Consideremos el futuro de los negocios y las finanzas.']\n",
      "['Queridos amigos, Bienvenido a la conferencia sobre arte contemporáneo.Analizaremos las obras modernas.']\n",
      "['Damos la bienvenida a todos en la conferencia sobre desafíos y cooperación globales.']\n",
      "['Bienvenido a la conferencia de tecnología e innovación.Abordaremos los desarrollos de la inteligencia artificial.']\n",
      "['Estimados invitados, bienvenidos a la Cumbre de Innovación.Exploremos soluciones de vanguardia.']\n",
      "['Invitados honorables, bienvenidos a la cima de la innovación.Descubramos soluciones de vanguardia.']\n",
      "['Estimados invitados, Bienvenido a la Cumbre de Innovación.Explore soluciones innovadoras.']\n",
      "['Estimados invitados, Bienvenido a la Cumbre de Innovación.Exploremos las soluciones de recorte.']\n",
      "['Bienvenido a los invitados respetados, la Cumbre de Innovación.Exploremos las últimas soluciones.']\n",
      "['Invitados estimados, bienvenidos a la cumbre de la innovación.Exploraremos soluciones de recorte.']\n",
      "['Estimados invitados, Bienvenido a la Cumbre de Innovación.Estudiemos decisiones avanzadas.']\n",
      "['Estimados invitados, Bienvenido a la cima de la innovación.Exploremos una solución innovadora.']\n",
      "['Damas y caballeros, bienvenidos a la conferencia sobre inteligencia artificial y sus impactos.']\n",
      "['Damas y caballeros, bienvenidos a la conferencia sobre ciberseguridad y privacidad.']\n",
      "['Damas y caballeros, bienvenidos a la conferencia sobre el futuro del transporte.']\n",
      "['Damas y caballeros, bienvenidos a la conferencia sobre transformación digital.']\n",
      "['Damas y caballeros, bienvenidos a la conferencia sobre la industria del entretenimiento.']\n",
      "['Bienvenido a mujeres y caballeros, IA y su influencia.']\n",
      "['Señoras y señores, bienvenidos a la conferencia sobre inteligencia artificial y sus impactos.']\n",
      "['Damas y caballeros, bienvenidos a la Conferencia sobre Innovación de la Salud.']\n",
      "['Damas y caballeros, bienvenidos a la conferencia sobre sostenibilidad en la economía.']\n",
      "['Damas y caballeros, bienvenidos a la conferencia sobre el futuro de las energías renovables.']\n",
      "['Mujeres y caballeros, profundicemos en el mundo de los científicos y los avances.']\n",
      "['Señoras y señores, bienvenidos a la conferencia sobre avances en medicina y biotecnología.']\n",
      "['Damas y caballeros, bienvenidos a la conferencia sobre literatura clásica.']\n",
      "['Damas y caballeros, bienvenidos al']\n"
     ]
    }
   ],
   "source": [
    "en_dataset_sentences = []\n",
    "for line in en_dataset:\n",
    "    sentence_split = nltk.sent_tokenize(line)\n",
    "    en_dataset_sentences.append(sentence_split)\n",
    "    print(sentence_split)"
   ]
  },
  {
   "cell_type": "markdown",
   "metadata": {},
   "source": [
    "## Ejercicio 3: Tokenización\n",
    "Finalmente, necesitamos tokenizar las palabras en cada frase. Utiliza nltk o spacy."
   ]
  },
  {
   "cell_type": "code",
   "execution_count": 6,
   "metadata": {},
   "outputs": [],
   "source": [
    "from nltk.tokenize import word_tokenize"
   ]
  },
  {
   "cell_type": "code",
   "execution_count": 12,
   "metadata": {},
   "outputs": [
    {
     "data": {
      "text/plain": [
       "['Damas', 'y', 'caballeros', ',', 'bienvenidos', 'al']"
      ]
     },
     "execution_count": 12,
     "metadata": {},
     "output_type": "execute_result"
    }
   ],
   "source": [
    "word_tokenize(line)"
   ]
  },
  {
   "cell_type": "code",
   "execution_count": 13,
   "metadata": {},
   "outputs": [
    {
     "name": "stdout",
     "output_type": "stream",
     "text": [
      "[['Hola', 'a', 'todos', ',', 'bienvenidos', 'a', 'esta', 'conferencia.Estamos', 'aquí', 'para', 'discutir', 'temas', 'importantes', '.']]\n",
      "[['¡Hola', 'a', 'todos', '!'], ['Estamos', 'aquí', 'para', 'hablar', 'sobre', 'tecnología', 'y', 'sus', 'impactos', '.']]\n",
      "[['Estimados', 'participantes', ',', 'Bienvenido', 'a', 'esta', 'emocionante', 'conferencia.Hablemos', 'de', 'desafíos', 'globales', '.']]\n",
      "[['¡Hola', 'a', 'todos', '!', 'Esta', 'conferencia', 'trata', 'sobre', 'inteligencia', 'e', 'innovación', 'artificial', '.']]\n",
      "[['Hola', 'a', 'todos', ',', 'es', 'un', 'placer', 'estar', 'aquí', 'para', 'compartir', 'conocimiento', 'sobre', 'ciencia', 'e', 'investigación', '.']]\n",
      "[['Hola', 'a', 'todos', ',', 'bienvenidos', 'a', 'esta', 'reunión.Hablemos', 'de', 'la', 'IA', 'y', 'la', 'visión', 'futura', '.']]\n",
      "[['¡Hola', 'a', 'todos', '!', 'Es', 'un', 'honor', 'hablar', 'de', 'la', 'importancia', 'de', 'la', 'sostenibilidad', 'ambiental', '.']]\n",
      "[['¡Hola', 'a', 'todos', '!', 'Hoy', 'discutiremos', 'los', 'temas', 'de', 'desarrollo', 'y', 'crecimiento', 'económico', '.']]\n",
      "[['Hola', 'a', 'todos', ',', 'estamos', 'aquí', 'para', 'discutir', 'desafíos', 'y', 'oportunidades', 'en', 'el', 'mundo', 'de', 'la', 'tecnología', '.']]\n",
      "[['Bienvenido', 'a', 'la', 'conferencia', 'anual.Exploremos', 'las', 'últimas', 'tendencias', 'en', 'negocios', 'y', 'finanzas', '.']]\n",
      "[['Bienvenidos', 'a', 'la', 'conferencia', 'de', 'educación', '.'], ['Analicemos', 'juntos', 'el', 'futuro', 'de', 'la', 'enseñanza', '.']]\n",
      "[['Queridos', 'amigos', ',', 'estamos', 'encantados', 'de', 'darle', 'la', 'bienvenida', 'a', 'esta', 'conferencia', 'cultural', '.']]\n",
      "[['Estimados', 'participantes', ',', 'Bienvenido', 'a', 'la', 'Conferencia', 'sobre', 'Sostenibilidad', 'y', 'Protección', 'del', 'Medio', 'Ambiente', '.']]\n",
      "[['Bienvenido', 'al', 'evento', 'de', 'salud', 'y', 'bienestar.Discutamos', 'formas', 'de', 'vivir', 'mejor', '.']]\n",
      "[['Todos', ',', 'bienvenidos', 'a', 'la', 'conferencia', 'anual.Exploremos', 'las', 'últimas', 'tendencias', 'comerciales', '.']]\n",
      "[['Bienvenido', 'a', 'la', 'conferencia', 'sobre', 'diseño', 'y', 'creatividad.Exploraremos', 'nuevas', 'ideas', 'y', 'enfoques', '.']]\n",
      "[['Damos', 'la', 'bienvenida', 'a', 'todos', 'en', 'la', 'Conferencia', 'sobre', 'Arte', 'y', 'Cultura.Discutiremos', 'temas', 'importantes', '.']]\n",
      "[['Bienvenido', 'a', 'la', 'Conferencia', 'de', 'Innovación', 'y', 'Tecnología.Revisaremos', 'los', 'últimos', 'desarrollos', 'y', 'desafíos', '.']]\n",
      "[['¡Saludos', ',', 'participantes', '!', 'Vamos', 'a', 'profundizar', 'en', 'el', 'mundo', 'de', 'los', 'descubrimientos', 'y', 'avances', 'científicos', '.']]\n",
      "[['Saludos', 'a', 'todos', 'los', 'presentes', '.'], ['Analizaremos', 'los', 'avances', 'en', 'medicina', 'y', 'biotecnología', '.']]\n",
      "[['Hola', 'a', 'todos', 'los', 'entusiastas', 'de', 'la', 'literatura.Exploraremos', 'las', 'obras', 'clásicas', '.']]\n",
      "[['¡Hola', 'a', 'todos', '!', 'Esta', 'conferencia', 'se', 'ocupa', 'del', 'futuro', 'de', 'las', 'energías', 'renovables', '.']]\n",
      "[['Hola', 'a', 'todos', ',', 'estamos', 'aquí', 'para', 'discutir', 'la', 'revolución', 'tecnológica', 'y', 'sus', 'implicaciones', '.']]\n",
      "[['Gracias', 'por', 'participar.Consideremos', 'el', 'futuro', 'de', 'los', 'negocios', 'y', 'las', 'finanzas', '.']]\n",
      "[['Queridos', 'amigos', ',', 'Bienvenido', 'a', 'la', 'conferencia', 'sobre', 'arte', 'contemporáneo.Analizaremos', 'las', 'obras', 'modernas', '.']]\n",
      "[['Damos', 'la', 'bienvenida', 'a', 'todos', 'en', 'la', 'conferencia', 'sobre', 'desafíos', 'y', 'cooperación', 'globales', '.']]\n",
      "[['Bienvenido', 'a', 'la', 'conferencia', 'de', 'tecnología', 'e', 'innovación.Abordaremos', 'los', 'desarrollos', 'de', 'la', 'inteligencia', 'artificial', '.']]\n",
      "[['Estimados', 'invitados', ',', 'bienvenidos', 'a', 'la', 'Cumbre', 'de', 'Innovación.Exploremos', 'soluciones', 'de', 'vanguardia', '.']]\n",
      "[['Invitados', 'honorables', ',', 'bienvenidos', 'a', 'la', 'cima', 'de', 'la', 'innovación.Descubramos', 'soluciones', 'de', 'vanguardia', '.']]\n",
      "[['Estimados', 'invitados', ',', 'Bienvenido', 'a', 'la', 'Cumbre', 'de', 'Innovación.Explore', 'soluciones', 'innovadoras', '.']]\n",
      "[['Estimados', 'invitados', ',', 'Bienvenido', 'a', 'la', 'Cumbre', 'de', 'Innovación.Exploremos', 'las', 'soluciones', 'de', 'recorte', '.']]\n",
      "[['Bienvenido', 'a', 'los', 'invitados', 'respetados', ',', 'la', 'Cumbre', 'de', 'Innovación.Exploremos', 'las', 'últimas', 'soluciones', '.']]\n",
      "[['Invitados', 'estimados', ',', 'bienvenidos', 'a', 'la', 'cumbre', 'de', 'la', 'innovación.Exploraremos', 'soluciones', 'de', 'recorte', '.']]\n",
      "[['Estimados', 'invitados', ',', 'Bienvenido', 'a', 'la', 'Cumbre', 'de', 'Innovación.Estudiemos', 'decisiones', 'avanzadas', '.']]\n",
      "[['Estimados', 'invitados', ',', 'Bienvenido', 'a', 'la', 'cima', 'de', 'la', 'innovación.Exploremos', 'una', 'solución', 'innovadora', '.']]\n",
      "[['Damas', 'y', 'caballeros', ',', 'bienvenidos', 'a', 'la', 'conferencia', 'sobre', 'inteligencia', 'artificial', 'y', 'sus', 'impactos', '.']]\n",
      "[['Damas', 'y', 'caballeros', ',', 'bienvenidos', 'a', 'la', 'conferencia', 'sobre', 'ciberseguridad', 'y', 'privacidad', '.']]\n",
      "[['Damas', 'y', 'caballeros', ',', 'bienvenidos', 'a', 'la', 'conferencia', 'sobre', 'el', 'futuro', 'del', 'transporte', '.']]\n",
      "[['Damas', 'y', 'caballeros', ',', 'bienvenidos', 'a', 'la', 'conferencia', 'sobre', 'transformación', 'digital', '.']]\n",
      "[['Damas', 'y', 'caballeros', ',', 'bienvenidos', 'a', 'la', 'conferencia', 'sobre', 'la', 'industria', 'del', 'entretenimiento', '.']]\n",
      "[['Bienvenido', 'a', 'mujeres', 'y', 'caballeros', ',', 'IA', 'y', 'su', 'influencia', '.']]\n",
      "[['Señoras', 'y', 'señores', ',', 'bienvenidos', 'a', 'la', 'conferencia', 'sobre', 'inteligencia', 'artificial', 'y', 'sus', 'impactos', '.']]\n",
      "[['Damas', 'y', 'caballeros', ',', 'bienvenidos', 'a', 'la', 'Conferencia', 'sobre', 'Innovación', 'de', 'la', 'Salud', '.']]\n",
      "[['Damas', 'y', 'caballeros', ',', 'bienvenidos', 'a', 'la', 'conferencia', 'sobre', 'sostenibilidad', 'en', 'la', 'economía', '.']]\n",
      "[['Damas', 'y', 'caballeros', ',', 'bienvenidos', 'a', 'la', 'conferencia', 'sobre', 'el', 'futuro', 'de', 'las', 'energías', 'renovables', '.']]\n",
      "[['Mujeres', 'y', 'caballeros', ',', 'profundicemos', 'en', 'el', 'mundo', 'de', 'los', 'científicos', 'y', 'los', 'avances', '.']]\n",
      "[['Señoras', 'y', 'señores', ',', 'bienvenidos', 'a', 'la', 'conferencia', 'sobre', 'avances', 'en', 'medicina', 'y', 'biotecnología', '.']]\n",
      "[['Damas', 'y', 'caballeros', ',', 'bienvenidos', 'a', 'la', 'conferencia', 'sobre', 'literatura', 'clásica', '.']]\n",
      "[['Damas', 'y', 'caballeros', ',', 'bienvenidos', 'al']]\n"
     ]
    }
   ],
   "source": [
    "en_dataset_tokens = []\n",
    "for parragraph in en_dataset_sentences:\n",
    "    words_token = [word_tokenize(i) for i in parragraph]\n",
    "    en_dataset_tokens.append(words_token)\n",
    "    print(words_token)"
   ]
  },
  {
   "cell_type": "markdown",
   "metadata": {},
   "source": [
    "## Desafío Final: Integración de Soluciones\n",
    "Ahora, demuestra tu habilidad para integrar estas soluciones en una única herramienta. Crea una función llamada procesar_discurso que acepte un discurso como entrada y devuelva el idioma detectado, el discurso traducido, las frases divididas y las palabras tokenizadas. Luego, prueba tu función con al menos un discurso del dataset."
   ]
  },
  {
   "cell_type": "code",
   "execution_count": 15,
   "metadata": {},
   "outputs": [
    {
     "name": "stdout",
     "output_type": "stream",
     "text": [
      "[['Hola', 'a', 'todos', ',', 'bienvenidos', 'a', 'esta', 'conferencia.Estamos', 'aquí', 'para', 'discutir', 'temas', 'importantes', '.']]\n",
      "[['¡Hola', 'a', 'todos', '!'], ['Estamos', 'aquí', 'para', 'hablar', 'sobre', 'tecnología', 'y', 'sus', 'impactos', '.']]\n",
      "[['Estimados', 'participantes', ',', 'Bienvenido', 'a', 'esta', 'emocionante', 'conferencia.Hablemos', 'de', 'desafíos', 'globales', '.']]\n",
      "[['¡Hola', 'a', 'todos', '!', 'Esta', 'conferencia', 'trata', 'sobre', 'inteligencia', 'e', 'innovación', 'artificial', '.']]\n",
      "[['Hola', 'a', 'todos', ',', 'es', 'un', 'placer', 'estar', 'aquí', 'para', 'compartir', 'conocimiento', 'sobre', 'ciencia', 'e', 'investigación', '.']]\n",
      "[['Hola', 'a', 'todos', ',', 'bienvenidos', 'a', 'esta', 'reunión.Hablemos', 'de', 'la', 'IA', 'y', 'la', 'visión', 'futura', '.']]\n",
      "[['¡Hola', 'a', 'todos', '!', 'Es', 'un', 'honor', 'hablar', 'de', 'la', 'importancia', 'de', 'la', 'sostenibilidad', 'ambiental', '.']]\n",
      "[['¡Hola', 'a', 'todos', '!', 'Hoy', 'discutiremos', 'los', 'temas', 'de', 'desarrollo', 'y', 'crecimiento', 'económico', '.']]\n",
      "[['Hola', 'a', 'todos', ',', 'estamos', 'aquí', 'para', 'discutir', 'desafíos', 'y', 'oportunidades', 'en', 'el', 'mundo', 'de', 'la', 'tecnología', '.']]\n",
      "[['Bienvenido', 'a', 'la', 'conferencia', 'anual.Exploremos', 'las', 'últimas', 'tendencias', 'en', 'negocios', 'y', 'finanzas', '.']]\n",
      "[['Bienvenidos', 'a', 'la', 'conferencia', 'de', 'educación', '.'], ['Analicemos', 'juntos', 'el', 'futuro', 'de', 'la', 'enseñanza', '.']]\n",
      "[['Queridos', 'amigos', ',', 'estamos', 'encantados', 'de', 'darle', 'la', 'bienvenida', 'a', 'esta', 'conferencia', 'cultural', '.']]\n",
      "[['Estimados', 'participantes', ',', 'Bienvenido', 'a', 'la', 'Conferencia', 'sobre', 'Sostenibilidad', 'y', 'Protección', 'del', 'Medio', 'Ambiente', '.']]\n",
      "[['Bienvenido', 'al', 'evento', 'de', 'salud', 'y', 'bienestar.Discutamos', 'formas', 'de', 'vivir', 'mejor', '.']]\n",
      "[['Todos', ',', 'bienvenidos', 'a', 'la', 'conferencia', 'anual.Exploremos', 'las', 'últimas', 'tendencias', 'comerciales', '.']]\n",
      "[['Bienvenido', 'a', 'la', 'conferencia', 'sobre', 'diseño', 'y', 'creatividad.Exploraremos', 'nuevas', 'ideas', 'y', 'enfoques', '.']]\n",
      "[['Damos', 'la', 'bienvenida', 'a', 'todos', 'en', 'la', 'Conferencia', 'sobre', 'Arte', 'y', 'Cultura.Discutiremos', 'temas', 'importantes', '.']]\n",
      "[['Bienvenido', 'a', 'la', 'Conferencia', 'de', 'Innovación', 'y', 'Tecnología.Revisaremos', 'los', 'últimos', 'desarrollos', 'y', 'desafíos', '.']]\n",
      "[['¡Saludos', ',', 'participantes', '!', 'Vamos', 'a', 'profundizar', 'en', 'el', 'mundo', 'de', 'los', 'descubrimientos', 'y', 'avances', 'científicos', '.']]\n",
      "[['Saludos', 'a', 'todos', 'los', 'presentes', '.'], ['Analizaremos', 'los', 'avances', 'en', 'medicina', 'y', 'biotecnología', '.']]\n",
      "[['Hola', 'a', 'todos', 'los', 'entusiastas', 'de', 'la', 'literatura.Exploraremos', 'las', 'obras', 'clásicas', '.']]\n",
      "[['¡Hola', 'a', 'todos', '!', 'Esta', 'conferencia', 'se', 'ocupa', 'del', 'futuro', 'de', 'las', 'energías', 'renovables', '.']]\n",
      "[['Hola', 'a', 'todos', ',', 'estamos', 'aquí', 'para', 'discutir', 'la', 'revolución', 'tecnológica', 'y', 'sus', 'implicaciones', '.']]\n",
      "[['Gracias', 'por', 'participar.Consideremos', 'el', 'futuro', 'de', 'los', 'negocios', 'y', 'las', 'finanzas', '.']]\n",
      "[['Queridos', 'amigos', ',', 'Bienvenido', 'a', 'la', 'conferencia', 'sobre', 'arte', 'contemporáneo.Analizaremos', 'las', 'obras', 'modernas', '.']]\n",
      "[['Damos', 'la', 'bienvenida', 'a', 'todos', 'en', 'la', 'conferencia', 'sobre', 'desafíos', 'y', 'cooperación', 'globales', '.']]\n",
      "[['Bienvenido', 'a', 'la', 'conferencia', 'de', 'tecnología', 'e', 'innovación.Abordaremos', 'los', 'desarrollos', 'de', 'la', 'inteligencia', 'artificial', '.']]\n",
      "[['Estimados', 'invitados', ',', 'bienvenidos', 'a', 'la', 'Cumbre', 'de', 'Innovación.Exploremos', 'soluciones', 'de', 'vanguardia', '.']]\n",
      "[['Invitados', 'honorables', ',', 'bienvenidos', 'a', 'la', 'cima', 'de', 'la', 'innovación.Descubramos', 'soluciones', 'de', 'vanguardia', '.']]\n",
      "[['Estimados', 'invitados', ',', 'Bienvenido', 'a', 'la', 'Cumbre', 'de', 'Innovación.Explore', 'soluciones', 'innovadoras', '.']]\n",
      "[['Estimados', 'invitados', ',', 'Bienvenido', 'a', 'la', 'Cumbre', 'de', 'Innovación.Exploremos', 'las', 'soluciones', 'de', 'recorte', '.']]\n",
      "[['Bienvenido', 'a', 'los', 'invitados', 'respetados', ',', 'la', 'Cumbre', 'de', 'Innovación.Exploremos', 'las', 'últimas', 'soluciones', '.']]\n",
      "[['Invitados', 'estimados', ',', 'bienvenidos', 'a', 'la', 'cumbre', 'de', 'la', 'innovación.Exploraremos', 'soluciones', 'de', 'recorte', '.']]\n",
      "[['Estimados', 'invitados', ',', 'Bienvenido', 'a', 'la', 'Cumbre', 'de', 'Innovación.Estudiemos', 'decisiones', 'avanzadas', '.']]\n",
      "[['Estimados', 'invitados', ',', 'Bienvenido', 'a', 'la', 'cima', 'de', 'la', 'innovación.Exploremos', 'una', 'solución', 'innovadora', '.']]\n",
      "[['Damas', 'y', 'caballeros', ',', 'bienvenidos', 'a', 'la', 'conferencia', 'sobre', 'inteligencia', 'artificial', 'y', 'sus', 'impactos', '.']]\n",
      "[['Damas', 'y', 'caballeros', ',', 'bienvenidos', 'a', 'la', 'conferencia', 'sobre', 'ciberseguridad', 'y', 'privacidad', '.']]\n",
      "[['Damas', 'y', 'caballeros', ',', 'bienvenidos', 'a', 'la', 'conferencia', 'sobre', 'el', 'futuro', 'del', 'transporte', '.']]\n",
      "[['Damas', 'y', 'caballeros', ',', 'bienvenidos', 'a', 'la', 'conferencia', 'sobre', 'transformación', 'digital', '.']]\n",
      "[['Damas', 'y', 'caballeros', ',', 'bienvenidos', 'a', 'la', 'conferencia', 'sobre', 'la', 'industria', 'del', 'entretenimiento', '.']]\n",
      "[['Bienvenido', 'a', 'mujeres', 'y', 'caballeros', ',', 'IA', 'y', 'su', 'influencia', '.']]\n",
      "[['Señoras', 'y', 'señores', ',', 'bienvenidos', 'a', 'la', 'conferencia', 'sobre', 'inteligencia', 'artificial', 'y', 'sus', 'impactos', '.']]\n",
      "[['Damas', 'y', 'caballeros', ',', 'bienvenidos', 'a', 'la', 'Conferencia', 'sobre', 'Innovación', 'de', 'la', 'Salud', '.']]\n",
      "[['Damas', 'y', 'caballeros', ',', 'bienvenidos', 'a', 'la', 'conferencia', 'sobre', 'sostenibilidad', 'en', 'la', 'economía', '.']]\n",
      "[['Damas', 'y', 'caballeros', ',', 'bienvenidos', 'a', 'la', 'conferencia', 'sobre', 'el', 'futuro', 'de', 'las', 'energías', 'renovables', '.']]\n",
      "[['Mujeres', 'y', 'caballeros', ',', 'profundicemos', 'en', 'el', 'mundo', 'de', 'los', 'científicos', 'y', 'los', 'avances', '.']]\n",
      "[['Señoras', 'y', 'señores', ',', 'bienvenidos', 'a', 'la', 'conferencia', 'sobre', 'avances', 'en', 'medicina', 'y', 'biotecnología', '.']]\n",
      "[['Damas', 'y', 'caballeros', ',', 'bienvenidos', 'a', 'la', 'conferencia', 'sobre', 'literatura', 'clásica', '.']]\n",
      "[['Damas', 'y', 'caballeros', ',', 'bienvenidos', 'al']]\n"
     ]
    }
   ],
   "source": [
    "en_dataset_tokens_2 = []\n",
    "for sub_set in dataset:\n",
    "    text = translator.translate(sub_set, src=detect(sub_set), dest='es').text\n",
    "    sentence_split = nltk.sent_tokenize(text)\n",
    "    words_token = [word_tokenize(i) for i in sentence_split]\n",
    "    en_dataset_tokens_2.append(words_token)\n",
    "    print(words_token)"
   ]
  }
 ],
 "metadata": {
  "kernelspec": {
   "display_name": "Python 3 (ipykernel)",
   "language": "python",
   "name": "python3"
  },
  "language_info": {
   "codemirror_mode": {
    "name": "ipython",
    "version": 3
   },
   "file_extension": ".py",
   "mimetype": "text/x-python",
   "name": "python",
   "nbconvert_exporter": "python",
   "pygments_lexer": "ipython3",
   "version": "3.10.8"
  },
  "varInspector": {
   "cols": {
    "lenName": 16,
    "lenType": 16,
    "lenVar": 40
   },
   "kernels_config": {
    "python": {
     "delete_cmd_postfix": "",
     "delete_cmd_prefix": "del ",
     "library": "var_list.py",
     "varRefreshCmd": "print(var_dic_list())"
    },
    "r": {
     "delete_cmd_postfix": ") ",
     "delete_cmd_prefix": "rm(",
     "library": "var_list.r",
     "varRefreshCmd": "cat(var_dic_list()) "
    }
   },
   "oldHeight": 122.852,
   "position": {
    "height": "40px",
    "left": "1010px",
    "right": "20px",
    "top": "120px",
    "width": "250px"
   },
   "types_to_exclude": [
    "module",
    "function",
    "builtin_function_or_method",
    "instance",
    "_Feature"
   ],
   "varInspector_section_display": "none",
   "window_display": true
  },
  "vscode": {
   "interpreter": {
    "hash": "107fb03afb2754bdb3cdbb13c1c83d7d6037442339c22e5ee8cf40869e8513c5"
   }
  }
 },
 "nbformat": 4,
 "nbformat_minor": 4
}
