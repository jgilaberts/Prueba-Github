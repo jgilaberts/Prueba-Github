{
 "cells": [
  {
   "cell_type": "markdown",
   "metadata": {},
   "source": [
    "# Más aplicaciones de transformers\n",
    "\n",
    "Prueba la generación de texto y el zero shot classification. ¿Cómo funcionan? Comentaremos en clase."
   ]
  },
  {
   "cell_type": "code",
   "execution_count": 1,
   "metadata": {},
   "outputs": [
    {
     "name": "stderr",
     "output_type": "stream",
     "text": [
      "/home/codespace/.python/current/lib/python3.10/site-packages/tqdm/auto.py:21: TqdmWarning: IProgress not found. Please update jupyter and ipywidgets. See https://ipywidgets.readthedocs.io/en/stable/user_install.html\n",
      "  from .autonotebook import tqdm as notebook_tqdm\n"
     ]
    }
   ],
   "source": [
    "import pandas as pd\n",
    "import sklearn\n",
    "import transformers\n",
    "import nltk\n",
    "import spacy\n",
    "from transformers import pipeline"
   ]
  },
  {
   "cell_type": "code",
   "execution_count": 2,
   "metadata": {},
   "outputs": [],
   "source": [
    "zero_shot_model = pipeline(\"zero-shot-classification\", model=\"facebook/bart-large-mnli\")"
   ]
  },
  {
   "cell_type": "code",
   "execution_count": 5,
   "metadata": {},
   "outputs": [
    {
     "name": "stdout",
     "output_type": "stream",
     "text": [
      "Texto a clasificar: Un detective privado lucha por desentrañar los secretos oscuros de una mansión embrujada en 'Misterios en la Mansión Húngara'.\n",
      "Clasificación de zero-shot:\n",
      "drama: 0.3292\n",
      "misterio: 0.2239\n",
      "guerra: 0.0631\n",
      "entretenimiento: 0.0628\n",
      "crimen: 0.0510\n",
      "acción: 0.0448\n",
      "aventura: 0.0387\n",
      "terror: 0.0258\n",
      "biografía: 0.0237\n",
      "documental: 0.0228\n",
      "suspenso: 0.0212\n",
      "histórico: 0.0154\n",
      "fantasía: 0.0122\n",
      "animación: 0.0117\n",
      "ciencia: 0.0086\n",
      "ciencia ficción: 0.0078\n",
      "deportes: 0.0072\n",
      "western: 0.0072\n",
      "comedia: 0.0067\n",
      "política: 0.0047\n",
      "tecnología: 0.0038\n",
      "naturaleza: 0.0032\n",
      "musical: 0.0023\n",
      "romance: 0.0022\n"
     ]
    }
   ],
   "source": [
    "from transformers import pipeline\n",
    "\n",
    "classifier = pipeline(\"zero-shot-classification\", model=\"facebook/bart-large-mnli\")\n",
    "\n",
    "# Ejemplo de texto que quieres clasificar\n",
    "texto_a_clasificar = \"Un detective privado lucha por desentrañar los secretos oscuros de una mansión embrujada en 'Misterios en la Mansión Húngara'.\"\n",
    "\n",
    "# Etiquetas de clases posibles\n",
    "etiquetas_posibles = [\"entretenimiento\", \"acción\", \"drama\", \"ciencia ficción\", \"comedia\", \"romance\", \n",
    "                      \"suspenso\", \"terror\", \"documental\", \"fantasía\", \"aventura\", \"crimen\", \n",
    "                      \"histórico\", \"misterio\", \"animación\", \"musical\", \"biografía\", \"guerra\", \n",
    "                      \"western\", \"ciencia\", \"tecnología\", \"política\", \"deportes\", \"naturaleza\"]\n",
    "\n",
    "\n",
    "# Clasificación de zero-shot\n",
    "resultado = classifier(texto_a_clasificar, etiquetas_posibles)\n",
    "\n",
    "# Imprimir los resultados\n",
    "print(\"Texto a clasificar:\", texto_a_clasificar)\n",
    "print(\"Clasificación de zero-shot:\")\n",
    "for etiqueta, puntaje in zip(resultado[\"labels\"], resultado[\"scores\"]):\n",
    "    print(f\"{etiqueta}: {puntaje:.4f}\")\n"
   ]
  },
  {
   "cell_type": "code",
   "execution_count": 2,
   "metadata": {},
   "outputs": [
    {
     "name": "stdout",
     "output_type": "stream",
     "text": [
      "\n",
      "Texto: La película fue muy emocionante y llena de acción.\n",
      "Clasificación de zero-shot:\n",
      "drama: 0.5079\n",
      "acción: 0.3408\n",
      "romance: 0.0952\n",
      "entretenimiento: 0.0424\n",
      "comedia: 0.0083\n",
      "ciencia ficción: 0.0055\n",
      "\n",
      "Texto: Este libro es conmovedor y lleno de drama.\n",
      "Clasificación de zero-shot:\n",
      "drama: 0.8588\n",
      "entretenimiento: 0.0580\n",
      "romance: 0.0472\n",
      "acción: 0.0202\n",
      "comedia: 0.0106\n",
      "ciencia ficción: 0.0052\n",
      "\n",
      "Texto: El partido de fútbol fue emocionante y lleno de suspense.\n",
      "Clasificación de zero-shot:\n",
      "drama: 0.9063\n",
      "entretenimiento: 0.0588\n",
      "acción: 0.0264\n",
      "romance: 0.0053\n",
      "comedia: 0.0018\n",
      "ciencia ficción: 0.0014\n"
     ]
    }
   ],
   "source": [
    "from transformers import pipeline\n",
    "\n",
    "classifier = pipeline(\"zero-shot-classification\", model=\"facebook/bart-large-mnli\")\n",
    "\n",
    "# Lista de textos a clasificar\n",
    "textos_a_clasificar = [\n",
    "    \"La película fue muy emocionante y llena de acción.\",\n",
    "    \"Este libro es conmovedor y lleno de drama.\",\n",
    "    \"El partido de fútbol fue emocionante y lleno de suspense.\",\n",
    "]\n",
    "\n",
    "etiquetas_posibles = [\"entretenimiento\", \"acción\", \"drama\", \"ciencia ficción\", \"comedia\", \"romance\"]\n",
    "\n",
    "# Clasificación de zero-shot para cada texto\n",
    "for texto in textos_a_clasificar:\n",
    "    resultado = classifier(texto, etiquetas_posibles)\n",
    "    \n",
    "    # Imprimir la clasificación para cada texto\n",
    "    print(f\"\\nTexto: {texto}\")\n",
    "    print(\"Clasificación de zero-shot:\")\n",
    "    for etiqueta, puntaje in zip(resultado[\"labels\"], resultado[\"scores\"]):\n",
    "        print(f\"{etiqueta}: {puntaje:.4f}\")\n"
   ]
  }
 ],
 "metadata": {
  "kernelspec": {
   "display_name": "Python 3 (ipykernel)",
   "language": "python",
   "name": "python3"
  },
  "language_info": {
   "codemirror_mode": {
    "name": "ipython",
    "version": 3
   },
   "file_extension": ".py",
   "mimetype": "text/x-python",
   "name": "python",
   "nbconvert_exporter": "python",
   "pygments_lexer": "ipython3",
   "version": "3.10.8"
  },
  "varInspector": {
   "cols": {
    "lenName": 16,
    "lenType": 16,
    "lenVar": 40
   },
   "kernels_config": {
    "python": {
     "delete_cmd_postfix": "",
     "delete_cmd_prefix": "del ",
     "library": "var_list.py",
     "varRefreshCmd": "print(var_dic_list())"
    },
    "r": {
     "delete_cmd_postfix": ") ",
     "delete_cmd_prefix": "rm(",
     "library": "var_list.r",
     "varRefreshCmd": "cat(var_dic_list()) "
    }
   },
   "oldHeight": 122.855364,
   "position": {
    "height": "40px",
    "left": "893.636px",
    "right": "20px",
    "top": "120px",
    "width": "250px"
   },
   "types_to_exclude": [
    "module",
    "function",
    "builtin_function_or_method",
    "instance",
    "_Feature"
   ],
   "varInspector_section_display": "none",
   "window_display": true
  }
 },
 "nbformat": 4,
 "nbformat_minor": 4
}
