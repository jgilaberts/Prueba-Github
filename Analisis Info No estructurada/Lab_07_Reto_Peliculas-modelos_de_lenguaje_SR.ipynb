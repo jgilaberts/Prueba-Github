{
 "cells": [
  {
   "cell_type": "markdown",
   "metadata": {},
   "source": [
    "# Práctica de Laboratorio de Procesamiento del Lenguaje Natural (NLP)\n",
    "Tema: Modelos de lenguaje\n",
    "\n",
    "## Contexto del cliente\n",
    "\n",
    "Imagina que trabajas en una empresa de análisis de películas llamada \"CineAnalyzer\". La empresa se dedica a categorizar automáticamente las películas en diferentes géneros, como acción, comedia, ciencia ficción, drama, etc. Para automatizar este proceso, han decidido utilizar técnicas de Procesamiento del Lenguaje Natural (NLP) y te han asignado la tarea de preparar los textos para después poder realizar distintas analíticas y clasificaciones sobre ellos.\n",
    "\n",
    "## Dataset"
   ]
  },
  {
   "cell_type": "code",
   "execution_count": null,
   "metadata": {},
   "outputs": [],
   "source": [
    "argumentos_peliculas = [\n",
    "    \"Un detective privado lucha por desentrañar los secretos oscuros de una mansión embrujada en 'Misterios en la Mansión Húngara'.\",\n",
    "    \"Un equipo de astronautas debe luchar por sobrevivir en un planeta desconocido después de un aterrizaje forzoso en 'Planeta Olvidado'.\",\n",
    "    \"En un mundo post-apocalíptico, un grupo de sobrevivientes busca refugio en 'La Última Esperanza'.\",\n",
    "    \"Un científico brillante inventa una máquina del tiempo que desencadena consecuencias inesperadas en 'El Viaje Temporal'.\",\n",
    "    \"Dos desconocidos quedan atrapados en un ascensor durante horas y descubren que tienen más en común de lo que imaginaban en 'Atrapados en el Ascensor'.\",\n",
    "    \"Una joven talentosa lucha por alcanzar sus sueños musicales en 'Notas de Pasión'.\",\n",
    "    \"Un detective de homicidios persigue a un asesino en serie que deja acertijos macabros en 'El Enigma del Asesino'.\",\n",
    "    \"En un mundo de magia y criaturas míticas, un joven campesino emprende una búsqueda épica en 'La Búsqueda del Dragón'.\",\n",
    "    \"Un grupo de amigos se enfrenta a sus miedos más oscuros cuando deciden pasar la noche en una casa encantada en 'Pesadillas Nocturnas'.\",\n",
    "    \"Un hombre común descubre que tiene habilidades sobrenaturales y debe aprender a controlarlas en 'El Elegido'.\",\n",
    "    \"Una periodista intrépida investiga una conspiración gubernamental en 'La Verdad Oculta'.\",\n",
    "    \"En un futuro distópico, la lucha por los recursos desencadena una guerra mortal en 'Desierto de Hierro'.\",\n",
    "    \"Una joven se embarca en un viaje mágico para salvar a su familia en 'El Libro de los Encantamientos'.\",\n",
    "    \"Un grupo de adolescentes se enfrenta a un asesino en serie que imita a famosos psicópatas en 'El Juego del Asesino'.\",\n",
    "    \"Un científico loco crea un monstruo gigante que amenaza con destruir la ciudad en 'La Ira del Coloso'.\",\n",
    "    \"Una joven artista se debate entre el amor y la ambición en 'Pinceladas del Corazón'.\",\n",
    "    \"Un detective retirado es llamado de vuelta al servicio para resolver un último caso en 'El Último Caso'.\",\n",
    "    \"Un equipo de exploradores descubre una civilización perdida en las profundidades de la selva en 'El Enigma de los Mayas'.\",\n",
    "    \"Una inteligencia artificial cobra conciencia y desafía a la humanidad en 'El Despertar de la Máquina'.\",\n",
    "    \"Dos amigos de la infancia se reencuentran en un viaje por carretera que cambiará sus vidas en 'Camino a la Amistad'.\",\n",
    "    \"Un grupo de reclusos se une para escapar de una prisión de máxima seguridad en 'Fuga Imposible'.\",\n",
    "    \"Una mujer debe enfrentar a su pasado traumático cuando regresa a su ciudad natal en 'Secretos Enterrados'.\",\n",
    "    \"Un aventurero intrépido busca un tesoro perdido en 'La Búsqueda del Oro'.\",\n",
    "    \"Un circo ambulante esconde oscuros secretos detrás de su apariencia encantadora en 'El Circo de las Sombras'.\",\n",
    "    \"Una madre soltera lucha por proteger a su hijo de un peligroso criminal en 'Refugio en la Oscuridad'.\",\n",
    "    \"Un grupo de científicos debe detener un virus mortal que amenaza con destruir la humanidad en 'Pandemia Mortal'.\",\n",
    "    \"Un músico talentoso se enfrenta a sus demonios internos mientras busca la fama en 'Notas de Desesperación'.\",\n",
    "    \"Un equipo de arqueólogos descubre una antigua profecía que podría cambiar el mundo en 'La Profecía Olvidada'.\",\n",
    "    \"Un detective ciego resuelve crímenes utilizando sus otros sentidos en 'El Ojo de la Justicia'.\",\n",
    "    \"Una joven rebelde se convierte en la líder de una revolución en 'Rebeldía en la Ciudad'.\",\n",
    "    \"Un grupo de amigos de la infancia regresa a su pueblo natal para enfrentar un trauma del pasado en 'Secretos Oscuros'.\",\n",
    "    \"Un explorador solitario se adentra en la selva amazónica en busca de una criatura legendaria en 'El Rostro del Amazonas'.\",\n",
    "    \"Un científico brillante inventa una forma de viajar a dimensiones paralelas en 'El Portal Interdimensional'.\",\n",
    "    \"Un detective atormentado investiga una serie de suicidios que podrían estar relacionados en 'Misterios Mortales'.\",\n",
    "    \"Un grupo de astronautas queda atrapado en una estación espacial averiada en 'El Riesgo del Espacio'.\",\n",
    "    \"Una joven hereda una mansión encantada y descubre secretos oscuros en 'La Herencia Maldita'.\",\n",
    "    \"Un grupo de surfistas se enfrenta a un tiburón asesino en 'Olas de Terror'.\",\n",
    "    \"Un periodista investiga una serie de desapariciones en un pequeño pueblo en 'El Misterio de la Desolación'.\",\n",
    "    \"Un científico obsesionado busca pruebas de vida extraterrestre en 'Encuentro en el Espacio'.\",\n",
    "    \"Un equipo de detectives de lo paranormal investiga fenómenos inexplicables en 'Cazadores de Fantasmas'.\",\n",
    "    \"Un grupo de adolescentes descubre un portal a un mundo mágico en 'El Portal de la Fantasía'.\",\n",
    "    \"Un viaje en crucero se convierte en una pesadilla cuando un asesino comienza a atacar a los pasajeros en 'Crucero de Terror'.\"\n",
    "]\n",
    "\n"
   ]
  },
  {
   "cell_type": "markdown",
   "metadata": {},
   "source": [
    "## Ejercicio 1: : Preprocesamiento de Texto\n",
    "El siguiente paso es preprocesar el argumento de las películas. Sigue los siguientes pasos: \n",
    "\n",
    "1. Convertir a minúsculas\n",
    "2. Tokenizar las frases en palabras\n",
    "3. Lematizar cada token\n",
    "4. Unir los tokens de nuevo en una frase utilizando join (esto se debe a que Bag of Words, TFIDF, etc, necesitan como entrada un conjunto de frases, no un conjunto de tokens).\n"
   ]
  },
  {
   "cell_type": "code",
   "execution_count": null,
   "metadata": {},
   "outputs": [],
   "source": [
    "import spacy\n",
    "\n"
   ]
  },
  {
   "cell_type": "markdown",
   "metadata": {},
   "source": [
    "## Ejercicio 2: Modelo Bag of Words (BoW)\n",
    "Ahora, vamos a crear un modelo Bag of Words para representar los argumentos de las películas. Utiliza la librería CountVectorizer de Scikit-Learn."
   ]
  },
  {
   "cell_type": "code",
   "execution_count": null,
   "metadata": {},
   "outputs": [],
   "source": [
    "\n"
   ]
  },
  {
   "cell_type": "markdown",
   "metadata": {},
   "source": [
    "## Ejercicio 3: Modelo Bag of N-grams\n",
    "Ahora, vamos a crear un modelo Bag of N-grams para representar las noticias (prueba con n=2 y con n=3)"
   ]
  },
  {
   "cell_type": "code",
   "execution_count": null,
   "metadata": {},
   "outputs": [],
   "source": [
    "\n"
   ]
  },
  {
   "cell_type": "markdown",
   "metadata": {},
   "source": [
    "## Ejercicio 4: Modelo TF-IDF\n",
    "Ahora, vamos a crear un modelo TF-IDF para representar los argumentos de las películas."
   ]
  },
  {
   "cell_type": "code",
   "execution_count": null,
   "metadata": {},
   "outputs": [],
   "source": []
  },
  {
   "cell_type": "markdown",
   "metadata": {},
   "source": [
    "## Ejercicio 5: Cálculo de Similitud con Coseno\n",
    "Finalmente, vamos a calcular la similitud entre documentos utilizando la medida del coseno."
   ]
  },
  {
   "cell_type": "code",
   "execution_count": null,
   "metadata": {},
   "outputs": [],
   "source": []
  },
  {
   "cell_type": "markdown",
   "metadata": {},
   "source": [
    "## El desafío final: \n",
    "\n",
    "Ahora, el desafío es crear un sistema que pueda recibir un nuevo argumento de películas, preprocesarlo, vectorizarlo con el modelo de lenguaje que elijas, que calcule la similitud coseno con los otros argumentos, y devuelva el argumento de película más similar. ¡Suerte! Utiliza para compararlo el argumentos_peliculas_preprocesados que has generado antes."
   ]
  },
  {
   "cell_type": "code",
   "execution_count": null,
   "metadata": {},
   "outputs": [],
   "source": [
    "\n"
   ]
  },
  {
   "cell_type": "code",
   "execution_count": null,
   "metadata": {},
   "outputs": [],
   "source": []
  }
 ],
 "metadata": {
  "kernelspec": {
   "display_name": "Python 3.8.5 ('base')",
   "language": "python",
   "name": "python3"
  },
  "language_info": {
   "codemirror_mode": {
    "name": "ipython",
    "version": 3
   },
   "file_extension": ".py",
   "mimetype": "text/x-python",
   "name": "python",
   "nbconvert_exporter": "python",
   "pygments_lexer": "ipython3",
   "version": "3.9.12"
  },
  "varInspector": {
   "cols": {
    "lenName": 16,
    "lenType": 16,
    "lenVar": 40
   },
   "kernels_config": {
    "python": {
     "delete_cmd_postfix": "",
     "delete_cmd_prefix": "del ",
     "library": "var_list.py",
     "varRefreshCmd": "print(var_dic_list())"
    },
    "r": {
     "delete_cmd_postfix": ") ",
     "delete_cmd_prefix": "rm(",
     "library": "var_list.r",
     "varRefreshCmd": "cat(var_dic_list()) "
    }
   },
   "oldHeight": 122.852,
   "position": {
    "height": "40px",
    "left": "1010px",
    "right": "20px",
    "top": "120px",
    "width": "250px"
   },
   "types_to_exclude": [
    "module",
    "function",
    "builtin_function_or_method",
    "instance",
    "_Feature"
   ],
   "varInspector_section_display": "none",
   "window_display": true
  },
  "vscode": {
   "interpreter": {
    "hash": "107fb03afb2754bdb3cdbb13c1c83d7d6037442339c22e5ee8cf40869e8513c5"
   }
  }
 },
 "nbformat": 4,
 "nbformat_minor": 4
}
