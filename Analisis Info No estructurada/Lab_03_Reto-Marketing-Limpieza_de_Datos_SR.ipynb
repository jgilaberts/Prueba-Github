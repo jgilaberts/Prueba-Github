{
 "cells": [
  {
   "cell_type": "markdown",
   "metadata": {},
   "source": [
    "# Práctica de Laboratorio de Procesamiento del Lenguaje Natural (NLP) - Limpieza de Textos en Datos de Redes Sociales\n",
    "Tema: Limpieza de Textos en X sobre una Marca\n",
    "\n",
    "## Contexto del Cliente:\n",
    "\n",
    "Eres parte de un equipo de analistas en una agencia de marketing digital. Uno de tus clientes es una marca de tecnología que desea comprender mejor la percepción de los consumidores sobre sus productos a través de los posts en redes sociales. Sin embargo, los posts contienen ruido en forma de caracteres especiales, signos de puntuación innecesarios o incorrectos, y palabras vacías que dificultan el análisis. El cliente necesita una solución que limpie y prepare los datos de los posts para un análisis más preciso.\n",
    "\n",
    "## Dataset de posts ficticios\n",
    "\n"
   ]
  },
  {
   "cell_type": "code",
   "execution_count": 16,
   "metadata": {},
   "outputs": [],
   "source": [
    "# Generación ficticia de un dataset de posts informales en español (España) sobre Samsung y su último smartphone\n",
    "\n",
    "posts = [\n",
    "    \"Vaya tela con el nuevo Samsung Galaxy, es flipante. ¡Quiero uno ya, colega! #SamsungGalaxy\",\n",
    "    \"Hostia, ¿has visto el bicharraco de smartphone que se ha sacado Samsung? Me he quedado flipado. 🤯📱 #NuevosTiempos\",\n",
    "    \"El diseño del último Samsung Galaxy mola tela, pero no sé si aguanta los ostiones. 📱💥 #DiseñoEstilizado\",\n",
    "    \"Madre mía, Samsung siempre la lía con sus movidas. ¿En qué más van a dar la campanada? 🚀📱 #InnovaciónSinFin\",\n",
    "    \"La batería del nuevo Samsung Galaxy no aguanta tanto como pensaba. 😕🔋 #VidaDeBatería\",\n",
    "    \"En ná voy a la tienda a por el nuevo Samsung Galaxy. ¡Parece que mola mil! 🤙📱 #Impresionante\",\n",
    "    \"Le entro a pillarme el nuevo Samsung Galaxy, pero el bolsillo está pelao. 😅📱 #PocoPresupuesto\",\n",
    "    \"No pillo por qué Samsung aún no clava la cámara con poca luz. 📸🤦‍♂️ #CámaraDébil\",\n",
    "    \"El nuevo Samsung Galaxy tiene pintaza, pero me preocupa que se me joda rápido. 📱🙈 #Durabilidad\",\n",
    "    \"Es de flipar cómo Samsung sigue dando la talla con sus cacharros. ¡Vivan los cachivaches! 📱🚀 #TecnologíaTop\",\n",
    "    \"Tío, el nuevo Samsung Galaxy está petándolo. Ya lo quiero tener entre manos. 🤩📱 #NuevoBicho\",\n",
    "    \"No me lo creo, el nuevo Samsung Galaxy está que rompe. ¡Lo quiero ya! 📱💣 #QuieroUno\",\n",
    "    \"El último cacharro de Samsung mola mil. Me lo pido en cuanto lo saquen. 🙌📱 #Impresionado\",\n",
    "    \"El diseño del nuevo Samsung Galaxy está guay, pero a ver si no se raja fácil. 🤞📱 #DiseñoChulo\",\n",
    "    \"¿Algún colega más flipao con el nuevo Samsung Galaxy? Si queréis opinar, llamadme al 123456789. 📞📱 #Opiniones\",\n",
    "    \"Me he pillado el nuevo Samsung Galaxy en https://www.tiendaonline.com/samsung-galaxy. ¡Ofertón a la vista! 📱🛒 #Oferta\",\n",
    "    \"¿Alguien más cree que Samsung está en otro rollo con el nuevo smartphone? 🔝📱 #EnLaCima\",\n",
    "    \"El nuevo Samsung Galaxy tiene pintaza, pero a ver si la batería aguanta el tirón. 🔋😅 #Aguante\",\n",
    "    \"Menuda jugada, ¡ya tengo el nuevo Samsung Galaxy en el punto de mira! ¡Es la hostia! 📱💥 #Comprando\",\n",
    "    \"Confieso que soy fan de los trastos de Samsung. ¡El nuevo Galaxy es la caña! 📱👏 #Fanático\",\n",
    "    \"El nuevo Samsung Galaxy me ha dejado boquiabierto. ¡Flipa, tío! 🙊📱 #Impresionante\",\n",
    "    \"Alucino con el nuevo cacharro de Samsung. ¡Es una pasada! 🤯📱 #Increíble\",\n",
    "    \"Oye, ¿quién ha catado el nuevo Samsung Galaxy? Estoy en un dilema. 🤔📱 #Pensando\",\n",
    "    \"Chavales, Samsung la ha vuelto a liar con el nuevo Galaxy. ¡Tengo que probarlo ya! 📱🎉 #LaMejorMarca\",\n",
    "    \"¡Esto es un pasote! Samsung siempre saca lo mejor. ¿Qué opináis del nuevo Galaxy? 📱🔥 #Opiniones\",\n",
    "    \"¡Decidme que no soy el único flipado con el nuevo Samsung Galaxy! 📱🤩 #Emocionado\",\n",
    "    \"Ni idea si el nuevo Samsung Galaxy será lo mío, pero me pica la curiosidad. ¿Qué decís? 📱🤔 #Curiosidad\",\n",
    "    \"A ver, ¿alguien sabe si el nuevo Samsung Galaxy mola o es un bluff? Estoy hecho un lío. 📱🤷‍♂️ #LíoMental\",\n",
    "    \"Oye, si queréis info sobre el nuevo Samsung Galaxy, llamadme al 666123456. 📞📱 #Ayuda\",\n",
    "    \"¡El nuevo Samsung Galaxy es la ostia! Entérate en https://www.samsung.com/galaxy. 📱🌐 #Increíble\",\n",
    "    \"Pensando en cambiar mi número a 666987654 para fardar con el nuevo Samsung Galaxy. 😎📱 #CambioDeNúmero\",\n",
    "    \"De verdad, estoy flipando con los trastos de Samsung. ¡El nuevo Galaxy es un pepino!\"]\n",
    "\n"
   ]
  },
  {
   "cell_type": "markdown",
   "metadata": {
    "scrolled": true
   },
   "source": [
    "## Ejercicio 1: Eliminación de Emoticonos y hashtags\n",
    "Algunos posts contienen emoticonos que pueden dificultar el análisis. Utiliza expresiones regulares para eliminar los emoticonos y los hashtags y preparar los posts para el análisis."
   ]
  },
  {
   "cell_type": "code",
   "execution_count": 33,
   "metadata": {},
   "outputs": [
    {
     "data": {
      "text/plain": [
       "['Vaya tela con el nuevo Samsung Galaxy es flipante Quiero uno ya colega SamsungGalaxy',\n",
       " 'Hostia has visto el bicharraco de smartphone que se ha sacado Samsung Me he quedado flipado  NuevosTiempos',\n",
       " 'El diseño del último Samsung Galaxy mola tela pero no sé si aguanta los ostiones  DiseñoEstilizado',\n",
       " 'Madre mía Samsung siempre la lía con sus movidas En qué más van a dar la campanada  InnovaciónSinFin',\n",
       " 'La batería del nuevo Samsung Galaxy no aguanta tanto como pensaba  VidaDeBatería',\n",
       " 'En ná voy a la tienda a por el nuevo Samsung Galaxy Parece que mola mil  Impresionante',\n",
       " 'Le entro a pillarme el nuevo Samsung Galaxy pero el bolsillo está pelao  PocoPresupuesto',\n",
       " 'No pillo por qué Samsung aún no clava la cámara con poca luz  CámaraDébil',\n",
       " 'El nuevo Samsung Galaxy tiene pintaza pero me preocupa que se me joda rápido  Durabilidad',\n",
       " 'Es de flipar cómo Samsung sigue dando la talla con sus cacharros Vivan los cachivaches  TecnologíaTop',\n",
       " 'Tío el nuevo Samsung Galaxy está petándolo Ya lo quiero tener entre manos  NuevoBicho',\n",
       " 'No me lo creo el nuevo Samsung Galaxy está que rompe Lo quiero ya  QuieroUno',\n",
       " 'El último cacharro de Samsung mola mil Me lo pido en cuanto lo saquen  Impresionado',\n",
       " 'El diseño del nuevo Samsung Galaxy está guay pero a ver si no se raja fácil  DiseñoChulo',\n",
       " 'Algún colega más flipao con el nuevo Samsung Galaxy Si queréis opinar llamadme al 123456789  Opiniones',\n",
       " 'Me he pillado el nuevo Samsung Galaxy en httpswwwtiendaonlinecomsamsunggalaxy Ofertón a la vista  Oferta',\n",
       " 'Alguien más cree que Samsung está en otro rollo con el nuevo smartphone  EnLaCima',\n",
       " 'El nuevo Samsung Galaxy tiene pintaza pero a ver si la batería aguanta el tirón  Aguante',\n",
       " 'Menuda jugada ya tengo el nuevo Samsung Galaxy en el punto de mira Es la hostia  Comprando',\n",
       " 'Confieso que soy fan de los trastos de Samsung El nuevo Galaxy es la caña  Fanático',\n",
       " 'El nuevo Samsung Galaxy me ha dejado boquiabierto Flipa tío  Impresionante',\n",
       " 'Alucino con el nuevo cacharro de Samsung Es una pasada  Increíble',\n",
       " 'Oye quién ha catado el nuevo Samsung Galaxy Estoy en un dilema  Pensando',\n",
       " 'Chavales Samsung la ha vuelto a liar con el nuevo Galaxy Tengo que probarlo ya  LaMejorMarca',\n",
       " 'Esto es un pasote Samsung siempre saca lo mejor Qué opináis del nuevo Galaxy  Opiniones',\n",
       " 'Decidme que no soy el único flipado con el nuevo Samsung Galaxy  Emocionado',\n",
       " 'Ni idea si el nuevo Samsung Galaxy será lo mío pero me pica la curiosidad Qué decís  Curiosidad',\n",
       " 'A ver alguien sabe si el nuevo Samsung Galaxy mola o es un bluff Estoy hecho un lío  LíoMental',\n",
       " 'Oye si queréis info sobre el nuevo Samsung Galaxy llamadme al 666123456  Ayuda',\n",
       " 'El nuevo Samsung Galaxy es la ostia Entérate en httpswwwsamsungcomgalaxy  Increíble',\n",
       " 'Pensando en cambiar mi número a 666987654 para fardar con el nuevo Samsung Galaxy  CambioDeNúmero',\n",
       " 'De verdad estoy flipando con los trastos de Samsung El nuevo Galaxy es un pepino']"
      ]
     },
     "execution_count": 33,
     "metadata": {},
     "output_type": "execute_result"
    }
   ],
   "source": [
    "import re\n",
    "import nltk\n",
    "\n",
    "def eliminar_emoticonos(post):\n",
    "    # Utiliza una expresión regular para encontrar y eliminar los emoticonos\n",
    "    post_sin_emoticonos = re.sub(r'[^\\w\\s]', '', post)\n",
    "    return post_sin_emoticonos\n",
    "\n",
    "# Eliminar emoticonos de los posts utilizando la funcion\n",
    "post2 = []\n",
    "for post in posts:\n",
    "    post2.append(eliminar_emoticonos(post))\n",
    "post2"
   ]
  },
  {
   "cell_type": "markdown",
   "metadata": {},
   "source": [
    "## Ejercicio 2: Eliminación de Palabras Vacías\n",
    "Las palabras vacías o stopwords son palabras comunes que a menudo no aportan un significado valioso al análisis. Utiliza la biblioteca nltk para eliminar las palabras vacías de los tweets. Hazlo con spaCy o con NLTK."
   ]
  },
  {
   "cell_type": "code",
   "execution_count": 36,
   "metadata": {},
   "outputs": [
    {
     "data": {
      "text/plain": [
       "['tela Samsung Galaxy flipante Quiero colega SamsungGalaxy',\n",
       " 'Hostia has visto bicharraco smartphone sacado Samsung quedado flipado   NuevosTiempos',\n",
       " 'diseño Samsung Galaxy mola tela aguanta ostiones   DiseñoEstilizado',\n",
       " 'Madre Samsung lía movidas campanada   InnovaciónSinFin',\n",
       " 'batería Samsung Galaxy aguanta pensaba   VidaDeBatería',\n",
       " 'ná tienda Samsung Galaxy mola mil   Impresionante',\n",
       " 'entro pillarme Samsung Galaxy bolsillo pelao   PocoPresupuesto',\n",
       " 'pillo Samsung clava cámara luz   CámaraDébil',\n",
       " 'Samsung Galaxy pintaza preocupa joda rápido   Durabilidad',\n",
       " 'flipar Samsung dando talla cacharros Vivan cachivaches   TecnologíaTop',\n",
       " 'Tío Samsung Galaxy petándolo quiero manos   NuevoBicho',\n",
       " 'Samsung Galaxy rompe quiero   QuieroUno',\n",
       " 'cacharro Samsung mola mil pido saquen   Impresionado',\n",
       " 'diseño Samsung Galaxy guay raja fácil   DiseñoChulo',\n",
       " 'colega flipao Samsung Galaxy queréis opinar llamadme 123456789   Opiniones',\n",
       " 'pillado Samsung Galaxy httpswwwtiendaonlinecomsamsunggalaxy Ofertón vista   Oferta',\n",
       " 'Alguien cree Samsung rollo smartphone   EnLaCima',\n",
       " 'Samsung Galaxy pintaza batería aguanta tirón   Aguante',\n",
       " 'Menuda jugada Samsung Galaxy punto mira hostia   Comprando',\n",
       " 'Confieso fan trastos Samsung Galaxy caña   Fanático',\n",
       " 'Samsung Galaxy dejado boquiabierto Flipa tío   Impresionante',\n",
       " 'Alucino cacharro Samsung   Increíble',\n",
       " 'Oye catado Samsung Galaxy dilema   Pensando',\n",
       " 'Chavales Samsung vuelto liar Galaxy probarlo   LaMejorMarca',\n",
       " 'pasote Samsung saca opináis Galaxy   Opiniones',\n",
       " 'Decidme único flipado Samsung Galaxy   Emocionado',\n",
       " 'idea Samsung Galaxy pica curiosidad decís   Curiosidad',\n",
       " 'alguien Samsung Galaxy mola bluff lío   LíoMental',\n",
       " 'Oye queréis info Samsung Galaxy llamadme 666123456   Ayuda',\n",
       " 'Samsung Galaxy ostia Entérate httpswwwsamsungcomgalaxy   Increíble',\n",
       " 'Pensando cambiar número 666987654 fardar Samsung Galaxy   CambioDeNúmero',\n",
       " 'flipando trastos Samsung Galaxy pepino']"
      ]
     },
     "execution_count": 36,
     "metadata": {},
     "output_type": "execute_result"
    }
   ],
   "source": [
    "import spacy\n",
    "\n",
    "# Cargar el modelo de lenguaje de spaCy\n",
    "nlp = spacy.load(\"es_core_news_lg\")  # Carga el modelo en español\n",
    "\n",
    "def remove_stop_words_from_string(input_string):\n",
    "    doc = nlp(input_string)\n",
    "    tokens_without_stop_words = [token.text for token in doc if not token.is_stop]\n",
    "    return ' '.join(tokens_without_stop_words)\n",
    "\n",
    "posts3 = []\n",
    "for post in post2:\n",
    "    posts3.append(remove_stop_words_from_string(post))\n",
    "posts3\n"
   ]
  },
  {
   "cell_type": "markdown",
   "metadata": {},
   "source": [
    "## Ejercicio 3: Eliminación de Números de Teléfono y URLs\n",
    "\n",
    "Además de los caracteres especiales, signos de puntuación y palabras vacías, los tweets también pueden contener información sensible, como números de teléfono y enlaces URLs. Estos elementos no contribuyen al análisis y deben ser eliminados para garantizar la privacidad y la calidad de los datos.\n",
    "\n",
    "Utiliza expresiones regulares para eliminar los números de teléfono y las URLs de los tweets. Esto asegurará que los datos estén limpios y listos para el análisis."
   ]
  },
  {
   "cell_type": "code",
   "execution_count": 41,
   "metadata": {},
   "outputs": [
    {
     "data": {
      "text/plain": [
       "['tela Samsung Galaxy flipante Quiero colega SamsungGalaxy',\n",
       " 'Hostia has visto bicharraco smartphone sacado Samsung quedado flipado   NuevosTiempos',\n",
       " 'diseño Samsung Galaxy mola tela aguanta ostiones   DiseñoEstilizado',\n",
       " 'Madre Samsung lía movidas campanada   InnovaciónSinFin',\n",
       " 'batería Samsung Galaxy aguanta pensaba   VidaDeBatería',\n",
       " 'ná tienda Samsung Galaxy mola mil   Impresionante',\n",
       " 'entro pillarme Samsung Galaxy bolsillo pelao   PocoPresupuesto',\n",
       " 'pillo Samsung clava cámara luz   CámaraDébil',\n",
       " 'Samsung Galaxy pintaza preocupa joda rápido   Durabilidad',\n",
       " 'flipar Samsung dando talla cacharros Vivan cachivaches   TecnologíaTop',\n",
       " 'Tío Samsung Galaxy petándolo quiero manos   NuevoBicho',\n",
       " 'Samsung Galaxy rompe quiero   QuieroUno',\n",
       " 'cacharro Samsung mola mil pido saquen   Impresionado',\n",
       " 'diseño Samsung Galaxy guay raja fácil   DiseñoChulo',\n",
       " 'colega flipao Samsung Galaxy queréis opinar llamadme    Opiniones',\n",
       " 'pillado Samsung Galaxy httpswwwtiendaonlinecomsamsunggalaxy Ofertón vista   Oferta',\n",
       " 'Alguien cree Samsung rollo smartphone   EnLaCima',\n",
       " 'Samsung Galaxy pintaza batería aguanta tirón   Aguante',\n",
       " 'Menuda jugada Samsung Galaxy punto mira hostia   Comprando',\n",
       " 'Confieso fan trastos Samsung Galaxy caña   Fanático',\n",
       " 'Samsung Galaxy dejado boquiabierto Flipa tío   Impresionante',\n",
       " 'Alucino cacharro Samsung   Increíble',\n",
       " 'Oye catado Samsung Galaxy dilema   Pensando',\n",
       " 'Chavales Samsung vuelto liar Galaxy probarlo   LaMejorMarca',\n",
       " 'pasote Samsung saca opináis Galaxy   Opiniones',\n",
       " 'Decidme único flipado Samsung Galaxy   Emocionado',\n",
       " 'idea Samsung Galaxy pica curiosidad decís   Curiosidad',\n",
       " 'alguien Samsung Galaxy mola bluff lío   LíoMental',\n",
       " 'Oye queréis info Samsung Galaxy llamadme    Ayuda',\n",
       " 'Samsung Galaxy ostia Entérate httpswwwsamsungcomgalaxy   Increíble',\n",
       " 'Pensando cambiar número  fardar Samsung Galaxy   CambioDeNúmero',\n",
       " 'flipando trastos Samsung Galaxy pepino']"
      ]
     },
     "execution_count": 41,
     "metadata": {},
     "output_type": "execute_result"
    }
   ],
   "source": [
    "def eliminar_numeros_telefono_y_urls(tweet):\n",
    "    # Expresión regular para encontrar números de teléfono (formato típico)\n",
    "    patron_numero_telefono = r'\\d{3}[-.\\s]?\\d{3}[-.\\s]?\\d{3}'\n",
    "    \n",
    "    # Expresión regular para encontrar URLs (formato típico)\n",
    "    patron_url = r'https?://\\S+|www\\.\\S+'\n",
    "    \n",
    "    # Reemplazar números de teléfono con cadena vacía\n",
    "    tweet_sin_numeros = re.sub(patron_numero_telefono, '', tweet)\n",
    "    \n",
    "    # Reemplazar URLs con cadena vacía\n",
    "    tweet_sin_urls = re.sub(patron_url, '', tweet_sin_numeros)\n",
    "    \n",
    "    return tweet_sin_urls\n",
    "\n",
    "posts4 = []\n",
    "for post in posts3:\n",
    "    posts4.append(eliminar_numeros_telefono_y_urls(post))\n",
    "posts4"
   ]
  },
  {
   "cell_type": "code",
   "execution_count": null,
   "metadata": {},
   "outputs": [],
   "source": []
  }
 ],
 "metadata": {
  "kernelspec": {
   "display_name": "Python 3",
   "language": "python",
   "name": "python3"
  },
  "language_info": {
   "codemirror_mode": {
    "name": "ipython",
    "version": 3
   },
   "file_extension": ".py",
   "mimetype": "text/x-python",
   "name": "python",
   "nbconvert_exporter": "python",
   "pygments_lexer": "ipython3",
   "version": "3.10.8"
  },
  "vscode": {
   "interpreter": {
    "hash": "107fb03afb2754bdb3cdbb13c1c83d7d6037442339c22e5ee8cf40869e8513c5"
   }
  }
 },
 "nbformat": 4,
 "nbformat_minor": 4
}
