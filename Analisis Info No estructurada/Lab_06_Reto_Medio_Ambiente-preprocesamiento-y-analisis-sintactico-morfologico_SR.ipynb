{
 "cells": [
  {
   "cell_type": "markdown",
   "metadata": {},
   "source": [
    "# Práctica de Laboratorio de Procesamiento del Lenguaje Natural (NLP)\n",
    "\n",
    "Tema: Análisis Lingüístico y Procesamiento de Texto\n",
    "\n",
    "## Contexto del Cliente\n",
    "\n",
    "Eres parte de un equipo de analistas de datos en una agencia de inteligencia de mercado. Uno de tus clientes es una agencia de noticias que necesita analizar grandes volúmenes de artículos periodísticos relacionados con el medio ambiente. El cliente desea comprender la estructura gramatical, identificar las palabras clave y reducir la variabilidad de las palabras en estos textos para obtener insights más precisos y eficientes.\n",
    "\n",
    "## Dataset de Artículos sobre Medio Ambiente\n",
    "\n",
    "Para este ejercicio, utilizaremos un dataset ficticio de titulares de artículos sobre medio ambiente. Cada entrada en el dataset representa un título de artículo y contiene texto en lenguaje natural relacionado con cuestiones ambientales. "
   ]
  },
  {
   "cell_type": "code",
   "execution_count": null,
   "metadata": {},
   "outputs": [],
   "source": [
    "articulos_medio_ambiente = [\n",
    "    \"El cambio climático es una amenaza global que requiere acción inmediata.\",\n",
    "    \"La deforestación en la Amazonía está alcanzando niveles críticos.\",\n",
    "    \"La biodiversidad es esencial para la salud de nuestro planeta.\",\n",
    "    \"La contaminación del aire en las ciudades es un problema persistente.\",\n",
    "    \"Los océanos están sufriendo un aumento de la acidificación debido al CO2.\",\n",
    "    \"La conservación de los ecosistemas es crucial para proteger la vida silvestre.\",\n",
    "    \"Las energías renovables son clave para reducir las emisiones de carbono.\",\n",
    "    \"La escasez de agua es un desafío cada vez más apremiante en muchas regiones.\",\n",
    "    \"La protección de los bosques tropicales es vital para frenar el cambio climático.\",\n",
    "    \"Los esfuerzos de reciclaje pueden contribuir significativamente a la sostenibilidad.\",\n",
    "    \"El aumento de las temperaturas globales está causando eventos climáticos extremos.\",\n",
    "    \"La pérdida de hábitats naturales amenaza a numerosas especies en todo el mundo.\",\n",
    "    \"La sobreexplotación de recursos naturales agota nuestros ecosistemas.\",\n",
    "    \"La acidificación de los océanos afecta a la vida marina y los arrecifes de coral.\",\n",
    "    \"La gestión de residuos electrónicos es un desafío creciente para el medio ambiente.\",\n",
    "    \"Las energías renovables, como la solar y la eólica, son fuentes limpias de energía.\",\n",
    "    \"La polución del agua afecta a la salud humana y la vida acuática.\",\n",
    "    \"La agricultura sostenible es esencial para garantizar la seguridad alimentaria.\",\n",
    "    \"La conservación de los humedales es fundamental para la biodiversidad.\",\n",
    "    \"La pérdida de suelos fértiles amenaza la producción de alimentos.\",\n",
    "    \"La caza furtiva pone en peligro a especies emblemáticas como los elefantes.\",\n",
    "    \"La protección de los arrecifes de coral es esencial para los ecosistemas marinos.\",\n",
    "    \"La contaminación lumínica afecta a la observación del cielo estrellado.\",\n",
    "    \"La reforestación es una estrategia para combatir la pérdida de bosques.\",\n",
    "    \"La educación ambiental promueve la conciencia sobre la naturaleza.\",\n",
    "    \"La conservación de la capa de ozono es un éxito en la lucha contra el cambio climático.\",\n",
    "    \"La urbanización descontrolada puede degradar los espacios naturales.\",\n",
    "    \"La adopción de vehículos eléctricos reduce las emisiones de gases de efecto invernadero.\",\n",
    "    \"La contaminación plástica es una amenaza para los océanos y la vida marina.\",\n",
    "    \"La pérdida de glaciares es un indicador visible del cambio climático.\",\n",
    "    \"La pesca sostenible es esencial para preservar las poblaciones de peces.\",\n",
    "    \"La biodiversidad en los jardines urbanos beneficia a la fauna local.\",\n",
    "    \"La energía nuclear plantea desafíos en cuanto a la gestión de residuos radiactivos.\",\n",
    "    \"La conservación de las abejas es crucial para la polinización de cultivos.\",\n",
    "    \"La reutilización de productos contribuye a la reducción de residuos.\",\n",
    "    \"La migración de aves es un fenómeno natural que debe protegerse.\",\n",
    "    \"La degradación del suelo afecta a la producción agrícola.\",\n",
    "    \"La gestión de riesgos naturales es esencial para la seguridad de las comunidades.\",\n",
    "    \"La contaminación del suelo por productos químicos tóxicos es un problema grave.\",\n",
    "    \"La pérdida de glaciares es un indicador visible del cambio climático.\",\n",
    "    \"La pesca sostenible es esencial para preservar las poblaciones de peces.\",\n",
    "    \"La biodiversidad en los jardines urbanos beneficia a la fauna local.\",\n",
    "    \"La energía nuclear plantea desafíos en cuanto a la gestión de residuos radiactivos.\",\n",
    "    \"La conservación de las abejas es crucial para la polinización de cultivos.\",\n",
    "    \"La reutilización de productos contribuye a la reducción de residuos.\",\n",
    "    \"La migración de aves es un fenómeno natural que debe protegerse.\",\n",
    "    \"La degradación del suelo afecta a la producción agrícola.\",\n",
    "    \"La gestión de riesgos naturales es esencial para la seguridad de las comunidades.\",\n",
    "    \"La contaminación del suelo por productos químicos tóxicos es un problema grave.\"\n",
    "]\n"
   ]
  },
  {
   "cell_type": "markdown",
   "metadata": {},
   "source": [
    "## Ejercicio 1: Análisis Gramatical (POS Tagging)\n",
    "El primer paso en el análisis de texto es etiquetar cada palabra con su categoría gramatical (Part of Speech, POS). Utiliza una biblioteca de procesamiento de lenguaje natural como NLTK o SpaCy para realizar el análisis POS de los títulos de artículos sobre medio ambiente. Añade el análisis morfológico que ofrece SpaCy. "
   ]
  },
  {
   "cell_type": "code",
   "execution_count": null,
   "metadata": {},
   "outputs": [],
   "source": []
  },
  {
   "cell_type": "markdown",
   "metadata": {},
   "source": [
    "## Ejercicio 2: Análisis de Dependencias\n",
    "El análisis de dependencias implica identificar las relaciones sintácticas entre las palabras en una oración. Utiliza SpaCy o alguna otra biblioteca para analizar las dependencias sintácticas en los artículos sobre medio ambiente y encuentra el sujeto y el verbo de cada título de artículo. Añade la visualización del árbol de dependencias completo, utilizando SpaCy.\n",
    "\n",
    "Pregunta: ¿Puedes identificar las estructuras de sujeto-verbo en los artículos?"
   ]
  },
  {
   "cell_type": "code",
   "execution_count": null,
   "metadata": {},
   "outputs": [],
   "source": [
    "\n"
   ]
  },
  {
   "cell_type": "code",
   "execution_count": null,
   "metadata": {},
   "outputs": [],
   "source": []
  },
  {
   "cell_type": "markdown",
   "metadata": {},
   "source": [
    "## Ejercicio 3: Shallow Parsing (Chunking)\n",
    "El shallow parsing o chunking consiste en identificar frases nominales y verbales en un texto. SpaCy tiene una forma sencilla de identificar los noun chunks. Utiliza técnicas de shallow parsing para extraer frases nominales de los artículos sobre medio ambiente. ¿Se podría identificar cuál de estas frases nominales son el sujeto, complemento directo, etc? ¿Cómo?"
   ]
  },
  {
   "cell_type": "code",
   "execution_count": null,
   "metadata": {},
   "outputs": [],
   "source": [
    "\n"
   ]
  },
  {
   "cell_type": "markdown",
   "metadata": {},
   "source": [
    "## Ejercicio 5: Desafío - Análisis Avanzado y Traducción\n",
    "Dado un artículo en un idioma desconocido relacionado con el medio ambiente, debes realizar las siguientes tareas:\n",
    "\n",
    "Identificar el idioma del artículo.\n",
    "Realizar la traducción del artículo al español.\n",
    "Realizar el análisis gramatical (POS tagging) del artículo traducido.\n",
    "Realizar la lematización de las palabras en el artículo traducido.\n",
    "Puedes utilizar bibliotecas como SpaCy, NLTK y una API de traducción (por ejemplo, Google Translate) para completar estas tareas.\n",
    "\n",
    "Pregunta: ¿Qué idioma tiene el artículo? ¿Cuál es la traducción al español? ¿Cuáles son las categorías gramaticales de las palabras en el artículo traducido? ¿Cuáles son los lemas de las palabras?"
   ]
  },
  {
   "cell_type": "code",
   "execution_count": null,
   "metadata": {},
   "outputs": [],
   "source": [
    "pip install googletrans==4.0.0-rc1\n"
   ]
  },
  {
   "cell_type": "code",
   "execution_count": null,
   "metadata": {},
   "outputs": [],
   "source": [
    "import langdetect\n",
    "import requests\n",
    "import spacy\n",
    "from langdetect import detect\n",
    "from bs4 import BeautifulSoup\n",
    "from googletrans import Translator\n",
    "\n",
    "# Ejemplo de artículo en un idioma desconocido (simulado)\n",
    "url_articulo = \"https://www.bbc.com/news/science-environment-58874518\"\n",
    "response = requests.get(url_articulo)\n",
    "\n",
    "# Utilizaremos el codificador 'utf-8' para evitar problemas con los caracteres especiales\n",
    "response.encoding = 'utf-8'\n",
    "# Parsear el contenido del artículo\n",
    "soup = BeautifulSoup(response.text, 'html.parser')\n",
    "# Extraer el texto del artículo\n",
    "articulo_desconocido = soup.get_text()\n",
    "\n",
    "articulo_desconocido = articulo_desconocido.split(\"Image source,\")[1]"
   ]
  },
  {
   "cell_type": "code",
   "execution_count": null,
   "metadata": {},
   "outputs": [],
   "source": []
  },
  {
   "cell_type": "code",
   "execution_count": null,
   "metadata": {},
   "outputs": [],
   "source": []
  }
 ],
 "metadata": {
  "kernelspec": {
   "display_name": "Python 3.8.5 ('base')",
   "language": "python",
   "name": "python3"
  },
  "language_info": {
   "codemirror_mode": {
    "name": "ipython",
    "version": 3
   },
   "file_extension": ".py",
   "mimetype": "text/x-python",
   "name": "python",
   "nbconvert_exporter": "python",
   "pygments_lexer": "ipython3",
   "version": "3.9.12"
  },
  "varInspector": {
   "cols": {
    "lenName": 16,
    "lenType": 16,
    "lenVar": 40
   },
   "kernels_config": {
    "python": {
     "delete_cmd_postfix": "",
     "delete_cmd_prefix": "del ",
     "library": "var_list.py",
     "varRefreshCmd": "print(var_dic_list())"
    },
    "r": {
     "delete_cmd_postfix": ") ",
     "delete_cmd_prefix": "rm(",
     "library": "var_list.r",
     "varRefreshCmd": "cat(var_dic_list()) "
    }
   },
   "oldHeight": 122.852,
   "position": {
    "height": "40px",
    "left": "1010px",
    "right": "20px",
    "top": "120px",
    "width": "250px"
   },
   "types_to_exclude": [
    "module",
    "function",
    "builtin_function_or_method",
    "instance",
    "_Feature"
   ],
   "varInspector_section_display": "none",
   "window_display": true
  },
  "vscode": {
   "interpreter": {
    "hash": "107fb03afb2754bdb3cdbb13c1c83d7d6037442339c22e5ee8cf40869e8513c5"
   }
  }
 },
 "nbformat": 4,
 "nbformat_minor": 4
}
