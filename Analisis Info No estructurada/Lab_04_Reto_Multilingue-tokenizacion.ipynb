{
 "cells": [
  {
   "cell_type": "markdown",
   "metadata": {},
   "source": [
    "# Lab 04. Análisis información no estructurada - Solución Integral para Discursos Multilingües\n",
    "\n",
    "## Contexto del Cliente\n",
    "Eres parte de un equipo de desarrolladores en una empresa que se especializa en soluciones de procesamiento del lenguaje natural. Un cliente internacional, una organización global que organiza conferencias en múltiples idiomas, se ha acercado a tu empresa con una problemática. El cliente recibe una gran cantidad de discursos grabados en diferentes idiomas en cada conferencia. Necesitan una herramienta automatizada que pueda realizar tres tareas esenciales: detectar el idioma de los discursos, dividirlos en frases y tokenizar las palabras para su posterior análisis y resumen.\n"
   ]
  },
  {
   "cell_type": "code",
   "execution_count": 4,
   "metadata": {},
   "outputs": [],
   "source": [
    "dataset = [\n",
    "    \"Hello everyone, welcome to this conference. We are here to discuss important topics.\",\n",
    "    \"¡Hola a todos! Estamos aquí para hablar sobre tecnología y sus impactos.\",\n",
    "    \"Chers participants, bienvenue à cette conférence passionnante. Parlons des défis mondiaux.\",\n",
    "    \"Guten Tag allerseits! In dieser Konferenz geht es um künstliche Intelligenz und Innovation.\",\n",
    "    \"Olá a todos, é um prazer estar aqui para compartilhar conhecimentos sobre ciência e pesquisa.\",\n",
    "    \"こんにちは皆さん、この会議へようこそ。AIと未来のビジョンについて話しましょう。\",\n",
    "    \"Ciao a tutti! È un onore parlare dell'importanza della sostenibilità ambientale.\",\n",
    "    \"Привет всем! Сегодня мы обсудим вопросы развития и экономического роста.\",\n",
    "    \"مرحبًا بالجميع، نحن هنا لمناقشة التحديات والفرص في عالم التكنولوجيا.\",\n",
    "    \"Welcome to the annual conference. Let's explore the latest trends in business and finance.\",\n",
    "    \"Bienvenidos a la conferencia de educación. Analicemos juntos el futuro de la enseñanza.\",\n",
    "    \"Chers amis, nous sommes ravis de vous accueillir à cette conférence culturelle.\",\n",
    "    \"Liebe Teilnehmer, herzlich willkommen zur Konferenz über Nachhaltigkeit und Umweltschutz.\",\n",
    "    \"Bem-vindos ao evento de saúde e bem-estar. Vamos discutir formas de viver melhor.\",\n",
    "    \"みなさん、年次カンファレンスへようこそ。ビジネスの最新トレンドについて探ってみましょう。\",\n",
    "    \"Benvenuti alla conferenza sul design e creatività. Esploreremo nuove idee e approcci.\",\n",
    "    \"Приветствуем всех на конференции по искусству и культуре. Обсудим важные вопросы.\",\n",
    "    \"مرحباً بكم في مؤتمر الابتكار والتقنية. سنستعرض أحدث التطورات والتحديات.\",\n",
    "    \"Greetings, participants! Let's delve into the world of scientific discoveries and breakthroughs.\",\n",
    "    \"Saludos a todos los presentes. Analizaremos los avances en medicina y biotecnología.\",\n",
    "    \"Bonjour à tous les passionnés de littérature. Nous explorerons des œuvres classiques.\",\n",
    "    \"Hallo zusammen! In dieser Konferenz geht es um die Zukunft der erneuerbaren Energien.\",\n",
    "    \"Olá pessoal, estamos aqui para discutir a revolução tecnológica e suas implicações.\",\n",
    "    \"皆さん、ご参加いただきありがとうございます。ビジネスと金融の未来について考えてみましょう。\",\n",
    "    \"Cari amici, benvenuti al convegno sull'arte contemporanea. Analizzeremo opere moderne.\",\n",
    "    \"Приветствуем всех на конференции о глобальных вызовах и сотрудничестве.\",\n",
    "    \"مرحبًا بكم في مؤتمر التكنولوجيا والابتكار. سنتناول تطورات الذكاء الاصطناعي.\",\n",
    "    \"Esteemed guests, welcome to the innovation summit. Let's explore cutting-edge solutions.\",\n",
    "    \"Honorables invités, bienvenue au sommet de l'innovation. Découvrons des solutions avant-gardistes.\",\n",
    "    \"Sehr geehrte Gäste, herzlich willkommen zum Innovationsgipfel. Erkunden wir bahnbrechende Lösungen.\",\n",
    "    \"Caros convidados, bem-vindos à cúpula de inovação. Vamos explorar soluções de ponta.\",\n",
    "    \"尊敬なるゲストの皆様、革新のサミットへようこそ。最新の解決策を探ってみましょう。\",\n",
    "    \"Stimati ospiti, benvenuti al vertice dell'innovazione. Esploreremo soluzioni all'avanguardia.\",\n",
    "    \"Уважаемые гости, добро пожаловать на саммит инноваций. Давайте исследуем передовые решения.\",\n",
    "    \"عزيزي الضيوف، مرحبًا بكم في قمة الابتكار. دعونا نستكشف حلاً مبتكرًا.\",\n",
    "    \"Ladies and gentlemen, welcome to the conference on artificial intelligence and its impacts.\",\n",
    "    \"Damas y caballeros, bienvenidos a la conferencia sobre ciberseguridad y privacidad.\",\n",
    "    \"Mesdames et messieurs, bienvenue à la conférence sur l'avenir des transports.\",\n",
    "    \"Meine Damen und Herren, herzlich willkommen zur Konferenz über digitale Transformation.\",\n",
    "    \"Senhoras e senhores, bem-vindos à conferência sobre a indústria do entretenimento.\",\n",
    "    \"女性と紳士の皆様、AIとその影響に関する会議へようこそ。\",\n",
    "    \"Señoras y señores, bienvenidos a la conferencia sobre inteligencia artificial y sus impactos.\",\n",
    "    \"Mesdames et messieurs, bienvenue à la conférence sur l'innovation dans la santé.\",\n",
    "    \"Meine Damen und Herren, herzlich willkommen zur Konferenz über Nachhaltigkeit in der Wirtschaft.\",\n",
    "    \"Senhoras e senhores, bem-vindos à conferência sobre o futuro das energias renováveis.\",\n",
    "    \"女性と紳士の皆様、科学的発見とブレークスルーの世界に深入りしましょう。\",\n",
    "    \"Señoras y señores, bienvenidos a la conferencia sobre avances en medicina y biotecnología.\",\n",
    "    \"Mesdames et messieurs, bienvenue à la conférence sur la littérature classique.\"]\n"
   ]
  },
  {
   "cell_type": "code",
   "execution_count": 5,
   "metadata": {},
   "outputs": [
    {
     "name": "stdout",
     "output_type": "stream",
     "text": [
      "Requirement already satisfied: langdetect in /Users/irene/opt/anaconda3/envs/nlp/lib/python3.9/site-packages (1.0.9)\n",
      "Requirement already satisfied: six in /Users/irene/opt/anaconda3/envs/nlp/lib/python3.9/site-packages (from langdetect) (1.16.0)\n",
      "Requirement already satisfied: googletrans==4.0.0-rc1 in /Users/irene/opt/anaconda3/envs/nlp/lib/python3.9/site-packages (4.0.0rc1)\n",
      "Requirement already satisfied: httpx==0.13.3 in /Users/irene/opt/anaconda3/envs/nlp/lib/python3.9/site-packages (from googletrans==4.0.0-rc1) (0.13.3)\n",
      "Requirement already satisfied: rfc3986<2,>=1.3 in /Users/irene/opt/anaconda3/envs/nlp/lib/python3.9/site-packages (from httpx==0.13.3->googletrans==4.0.0-rc1) (1.5.0)\n",
      "Requirement already satisfied: hstspreload in /Users/irene/opt/anaconda3/envs/nlp/lib/python3.9/site-packages (from httpx==0.13.3->googletrans==4.0.0-rc1) (2023.1.1)\n",
      "Requirement already satisfied: idna==2.* in /Users/irene/opt/anaconda3/envs/nlp/lib/python3.9/site-packages (from httpx==0.13.3->googletrans==4.0.0-rc1) (2.10)\n",
      "Requirement already satisfied: chardet==3.* in /Users/irene/opt/anaconda3/envs/nlp/lib/python3.9/site-packages (from httpx==0.13.3->googletrans==4.0.0-rc1) (3.0.4)\n",
      "Requirement already satisfied: certifi in /Users/irene/opt/anaconda3/envs/nlp/lib/python3.9/site-packages (from httpx==0.13.3->googletrans==4.0.0-rc1) (2022.6.15)\n",
      "Requirement already satisfied: sniffio in /Users/irene/opt/anaconda3/envs/nlp/lib/python3.9/site-packages (from httpx==0.13.3->googletrans==4.0.0-rc1) (1.3.0)\n",
      "Requirement already satisfied: httpcore==0.9.* in /Users/irene/opt/anaconda3/envs/nlp/lib/python3.9/site-packages (from httpx==0.13.3->googletrans==4.0.0-rc1) (0.9.1)\n",
      "Requirement already satisfied: h2==3.* in /Users/irene/opt/anaconda3/envs/nlp/lib/python3.9/site-packages (from httpcore==0.9.*->httpx==0.13.3->googletrans==4.0.0-rc1) (3.2.0)\n",
      "Requirement already satisfied: h11<0.10,>=0.8 in /Users/irene/opt/anaconda3/envs/nlp/lib/python3.9/site-packages (from httpcore==0.9.*->httpx==0.13.3->googletrans==4.0.0-rc1) (0.9.0)\n",
      "Requirement already satisfied: hyperframe<6,>=5.2.0 in /Users/irene/opt/anaconda3/envs/nlp/lib/python3.9/site-packages (from h2==3.*->httpcore==0.9.*->httpx==0.13.3->googletrans==4.0.0-rc1) (5.2.0)\n",
      "Requirement already satisfied: hpack<4,>=3.0 in /Users/irene/opt/anaconda3/envs/nlp/lib/python3.9/site-packages (from h2==3.*->httpcore==0.9.*->httpx==0.13.3->googletrans==4.0.0-rc1) (3.0.0)\n"
     ]
    }
   ],
   "source": [
    "!pip install langdetect\n",
    "!pip install googletrans==4.0.0-rc1"
   ]
  },
  {
   "cell_type": "markdown",
   "metadata": {},
   "source": [
    "## Ejercicio 1: Detección de Idioma y Traducción\n",
    "El primer paso para abordar la problemática del cliente es detectar el idioma de los discursos y luego traducirlos a un idioma elegido. Utiliza la biblioteca langdetect para identificar el idioma principal de cada discurso en el dataset proporcionado por el cliente. Luego, utiliza la biblioteca translate para traducir el discurso al idioma elegido."
   ]
  },
  {
   "cell_type": "code",
   "execution_count": 1,
   "metadata": {},
   "outputs": [
    {
     "name": "stdout",
     "output_type": "stream",
     "text": [
      "Idioma detectado:  ja\n",
      "Discurso traducido Translated(src=ja, dest=es, text=Hola a todos, bienvenidos a esta reunión.Hablemos de la IA y la visión futura., pronunciation=None, extra_data=\"{'confiden...\")\n"
     ]
    }
   ],
   "source": [
    "from langdetect import detect\n",
    "from googletrans import Translator\n",
    "\n",
    "# Elegir el idioma destino para la traducción (código de dos letras, por ejemplo: 'es' para español)\n",
    "idioma_destino = 'es' \n",
    "\n",
    "discurso = \"こんにちは皆さん、この会議へようこそ。AIと未来のビジョンについて話しましょう。\" #primer discurso para hacer pruebas\n",
    "translator = Translator() #objeto translator\n",
    "\n",
    "idioma_detectado = langdetect(discurso)\n",
    "discurso_traducido = translator.translate(discurso, src='auto', dest=idioma_destino)\n",
    "\n",
    "print(\"Idioma detectado: \", idioma_detectado)\n",
    "print(\"Discurso traducido\", discurso_traducido)\n"
   ]
  },
  {
   "cell_type": "code",
   "execution_count": 7,
   "metadata": {},
   "outputs": [
    {
     "name": "stdout",
     "output_type": "stream",
     "text": [
      "Idioma detectado: en\n",
      "Discurso traducido al idioma es: Hola a todos, bienvenidos a esta conferencia.Estamos aquí para discutir temas importantes.\n",
      "Idioma detectado: es\n",
      "Discurso traducido al idioma es: ¡Hola a todos! Estamos aquí para hablar sobre tecnología y sus impactos.\n",
      "Idioma detectado: fr\n",
      "Discurso traducido al idioma es: Estimados participantes, Bienvenido a esta emocionante conferencia.Hablemos de desafíos globales.\n",
      "Idioma detectado: de\n",
      "Discurso traducido al idioma es: ¡Hola a todos!Esta conferencia trata sobre inteligencia e innovación artificial.\n",
      "Idioma detectado: pt\n",
      "Discurso traducido al idioma es: Hola a todos, es un placer estar aquí para compartir conocimiento sobre ciencia e investigación.\n",
      "Idioma detectado: ja\n",
      "Discurso traducido al idioma es: Hola a todos, bienvenidos a esta reunión.Hablemos de la IA y la visión futura.\n",
      "Idioma detectado: it\n",
      "Discurso traducido al idioma es: ¡Hola a todos!Es un honor hablar de la importancia de la sostenibilidad ambiental.\n",
      "Idioma detectado: ru\n",
      "Discurso traducido al idioma es: ¡Hola a todos!Hoy discutiremos los temas de desarrollo y crecimiento económico.\n",
      "Idioma detectado: ar\n",
      "Discurso traducido al idioma es: Hola a todos, estamos aquí para discutir desafíos y oportunidades en el mundo de la tecnología.\n",
      "Idioma detectado: en\n",
      "Discurso traducido al idioma es: Bienvenido a la conferencia anual.Exploremos las últimas tendencias en negocios y finanzas.\n",
      "Idioma detectado: es\n",
      "Discurso traducido al idioma es: Bienvenidos a la conferencia de educación. Analicemos juntos el futuro de la enseñanza.\n",
      "Idioma detectado: fr\n",
      "Discurso traducido al idioma es: Queridos amigos, estamos encantados de darle la bienvenida a esta conferencia cultural.\n",
      "Idioma detectado: de\n",
      "Discurso traducido al idioma es: Estimados participantes, Bienvenido a la Conferencia sobre Sostenibilidad y Protección del Medio Ambiente.\n",
      "Idioma detectado: pt\n",
      "Discurso traducido al idioma es: Bienvenido al evento de salud y bienestar.Discutamos formas de vivir mejor.\n",
      "Idioma detectado: ja\n",
      "Discurso traducido al idioma es: Todos, bienvenidos a la conferencia anual.Exploremos las últimas tendencias comerciales.\n",
      "Idioma detectado: it\n",
      "Discurso traducido al idioma es: Bienvenido a la conferencia sobre diseño y creatividad.Exploraremos nuevas ideas y enfoques.\n",
      "Idioma detectado: ru\n",
      "Discurso traducido al idioma es: Damos la bienvenida a todos en la Conferencia sobre Arte y Cultura.Discutiremos temas importantes.\n",
      "Idioma detectado: ar\n",
      "Discurso traducido al idioma es: Bienvenido a la Conferencia de Innovación y Tecnología.Revisaremos los últimos desarrollos y desafíos.\n",
      "Idioma detectado: en\n",
      "Discurso traducido al idioma es: ¡Saludos, participantes!Vamos a profundizar en el mundo de los descubrimientos y avances científicos.\n",
      "Idioma detectado: es\n",
      "Discurso traducido al idioma es: Saludos a todos los presentes. Analizaremos los avances en medicina y biotecnología.\n",
      "Idioma detectado: fr\n",
      "Discurso traducido al idioma es: Hola a todos los entusiastas de la literatura.Exploraremos las obras clásicas.\n",
      "Idioma detectado: de\n",
      "Discurso traducido al idioma es: ¡Hola a todos!Esta conferencia se ocupa del futuro de las energías renovables.\n",
      "Idioma detectado: pt\n",
      "Discurso traducido al idioma es: Hola a todos, estamos aquí para discutir la revolución tecnológica y sus implicaciones.\n",
      "Idioma detectado: ja\n",
      "Discurso traducido al idioma es: Gracias por participar.Consideremos el futuro de los negocios y las finanzas.\n",
      "Idioma detectado: it\n",
      "Discurso traducido al idioma es: Queridos amigos, Bienvenido a la conferencia sobre arte contemporáneo.Analizaremos las obras modernas.\n",
      "Idioma detectado: ru\n",
      "Discurso traducido al idioma es: Damos la bienvenida a todos en la conferencia sobre desafíos y cooperación globales.\n",
      "Idioma detectado: ar\n",
      "Discurso traducido al idioma es: Bienvenido a la conferencia de tecnología e innovación.Abordaremos los desarrollos de la inteligencia artificial.\n",
      "Idioma detectado: en\n",
      "Discurso traducido al idioma es: Estimados invitados, bienvenidos a la Cumbre de Innovación.Exploremos soluciones de vanguardia.\n",
      "Idioma detectado: fr\n",
      "Discurso traducido al idioma es: Invitados honorables, bienvenidos a la cima de la innovación.Descubramos soluciones de vanguardia.\n",
      "Idioma detectado: de\n",
      "Discurso traducido al idioma es: Estimados invitados, Bienvenido a la Cumbre de Innovación.Explore soluciones innovadoras.\n",
      "Idioma detectado: pt\n",
      "Discurso traducido al idioma es: Estimados invitados, Bienvenido a la Cumbre de Innovación.Exploremos las soluciones de recorte.\n",
      "Idioma detectado: ja\n",
      "Discurso traducido al idioma es: Bienvenido a los invitados respetados, la Cumbre de Innovación.Exploremos las últimas soluciones.\n",
      "Idioma detectado: it\n",
      "Discurso traducido al idioma es: Invitados estimados, bienvenidos a la cumbre de la innovación.Exploraremos soluciones de recorte.\n",
      "Idioma detectado: ru\n",
      "Discurso traducido al idioma es: Estimados invitados, Bienvenido a la Cumbre de Innovación.Estudiemos decisiones avanzadas.\n",
      "Idioma detectado: ar\n",
      "Discurso traducido al idioma es: Estimados invitados, Bienvenido a la cima de la innovación.Exploremos una solución innovadora.\n",
      "Idioma detectado: en\n",
      "Discurso traducido al idioma es: Damas y caballeros, bienvenidos a la conferencia sobre inteligencia artificial y sus impactos.\n",
      "Idioma detectado: es\n",
      "Discurso traducido al idioma es: Damas y caballeros, bienvenidos a la conferencia sobre ciberseguridad y privacidad.\n",
      "Idioma detectado: fr\n",
      "Discurso traducido al idioma es: Damas y caballeros, bienvenidos a la conferencia sobre el futuro del transporte.\n",
      "Idioma detectado: de\n",
      "Discurso traducido al idioma es: Damas y caballeros, bienvenidos a la conferencia sobre transformación digital.\n",
      "Idioma detectado: pt\n",
      "Discurso traducido al idioma es: Damas y caballeros, bienvenidos a la conferencia sobre la industria del entretenimiento.\n",
      "Idioma detectado: ja\n",
      "Discurso traducido al idioma es: Bienvenido a mujeres y caballeros, IA y su influencia.\n",
      "Idioma detectado: es\n",
      "Discurso traducido al idioma es: Señoras y señores, bienvenidos a la conferencia sobre inteligencia artificial y sus impactos.\n",
      "Idioma detectado: fr\n",
      "Discurso traducido al idioma es: Damas y caballeros, bienvenidos a la Conferencia sobre Innovación de la Salud.\n",
      "Idioma detectado: de\n",
      "Discurso traducido al idioma es: Damas y caballeros, bienvenidos a la conferencia sobre sostenibilidad en la economía.\n",
      "Idioma detectado: pt\n",
      "Discurso traducido al idioma es: Damas y caballeros, bienvenidos a la conferencia sobre el futuro de las energías renovables.\n",
      "Idioma detectado: ja\n",
      "Discurso traducido al idioma es: Mujeres y caballeros, profundicemos en el mundo de los científicos y los avances.\n",
      "Idioma detectado: es\n",
      "Discurso traducido al idioma es: Señoras y señores, bienvenidos a la conferencia sobre avances en medicina y biotecnología.\n",
      "Idioma detectado: fr\n",
      "Discurso traducido al idioma es: Damas y caballeros, bienvenidos a la conferencia sobre literatura clásica.\n"
     ]
    }
   ],
   "source": [
    "from langdetect import detect\n",
    "from googletrans import Translator\n",
    "\n",
    "# Dataset de discursos (reemplaza 'dataset' con el dataset real)\n",
    "\n",
    "def detect_language(text):\n",
    "    lang = detect(text)\n",
    "    return lang\n",
    "\n",
    "\n",
    "# Elegir el idioma destino para la traducción (código de dos letras, por ejemplo: 'es' para español)\n",
    "idioma_destino = 'es'  # Cambia a tu elección\n",
    "\n",
    "def traducir(texto, destino):\n",
    "    translator = Translator()\n",
    "    traduccion = translator.translate(texto, src='auto', dest=destino)\n",
    "    return traduccion.text\n",
    "\n",
    "discursos_traducidos = []\n",
    "for discurso in dataset:\n",
    "    idioma_detectado = detect_language(discurso)\n",
    "    discurso_traducido = traducir(discurso, idioma_destino)\n",
    "    print(f\"Idioma detectado: {idioma_detectado}\")\n",
    "    print(f\"Discurso traducido al idioma {idioma_destino}: {discurso_traducido}\")\n",
    "    discursos_traducidos.append(discurso_traducido)\n",
    "\n"
   ]
  },
  {
   "cell_type": "markdown",
   "metadata": {},
   "source": [
    "## Ejercicio 2: División en Frases\n",
    "Ahora que hemos detectado el idioma y traducido los discursos, procederemos a dividirlos en frases utilizando la función sent_tokenize de la biblioteca nltk."
   ]
  },
  {
   "cell_type": "code",
   "execution_count": 8,
   "metadata": {},
   "outputs": [
    {
     "name": "stdout",
     "output_type": "stream",
     "text": [
      "El discurso se divide en  1 frases.\n",
      "['Damas y caballeros, bienvenidos a la conferencia sobre literatura clásica.']\n"
     ]
    },
    {
     "name": "stderr",
     "output_type": "stream",
     "text": [
      "[nltk_data] Downloading package punkt to /Users/irene/nltk_data...\n",
      "[nltk_data]   Package punkt is already up-to-date!\n"
     ]
    }
   ],
   "source": [
    "import nltk\n",
    "nltk.download('punkt')\n",
    "from nltk.tokenize import sent_tokenize\n",
    "\n",
    "frases = sent_tokenize(discurso_traducido)\n",
    "print(f\"El discurso se divide en \",len(frases), \"frases.\")\n",
    "print(frases)"
   ]
  },
  {
   "cell_type": "code",
   "execution_count": 9,
   "metadata": {},
   "outputs": [
    {
     "name": "stdout",
     "output_type": "stream",
     "text": [
      "El discurso se divide en 1 frases:\n",
      "Frases 1: Hola a todos, bienvenidos a esta conferencia.Estamos aquí para discutir temas importantes.\n",
      "El discurso se divide en 2 frases:\n",
      "Frases 1: ¡Hola a todos!\n",
      "Frases 2: Estamos aquí para hablar sobre tecnología y sus impactos.\n",
      "El discurso se divide en 1 frases:\n",
      "Frases 1: Estimados participantes, Bienvenido a esta emocionante conferencia.Hablemos de desafíos globales.\n",
      "El discurso se divide en 1 frases:\n",
      "Frases 1: ¡Hola a todos!Esta conferencia trata sobre inteligencia e innovación artificial.\n",
      "El discurso se divide en 1 frases:\n",
      "Frases 1: Hola a todos, es un placer estar aquí para compartir conocimiento sobre ciencia e investigación.\n",
      "El discurso se divide en 1 frases:\n",
      "Frases 1: Hola a todos, bienvenidos a esta reunión.Hablemos de la IA y la visión futura.\n",
      "El discurso se divide en 1 frases:\n",
      "Frases 1: ¡Hola a todos!Es un honor hablar de la importancia de la sostenibilidad ambiental.\n",
      "El discurso se divide en 1 frases:\n",
      "Frases 1: ¡Hola a todos!Hoy discutiremos los temas de desarrollo y crecimiento económico.\n",
      "El discurso se divide en 1 frases:\n",
      "Frases 1: Hola a todos, estamos aquí para discutir desafíos y oportunidades en el mundo de la tecnología.\n",
      "El discurso se divide en 1 frases:\n",
      "Frases 1: Bienvenido a la conferencia anual.Exploremos las últimas tendencias en negocios y finanzas.\n",
      "El discurso se divide en 2 frases:\n",
      "Frases 1: Bienvenidos a la conferencia de educación.\n",
      "Frases 2: Analicemos juntos el futuro de la enseñanza.\n",
      "El discurso se divide en 1 frases:\n",
      "Frases 1: Queridos amigos, estamos encantados de darle la bienvenida a esta conferencia cultural.\n",
      "El discurso se divide en 1 frases:\n",
      "Frases 1: Estimados participantes, Bienvenido a la Conferencia sobre Sostenibilidad y Protección del Medio Ambiente.\n",
      "El discurso se divide en 1 frases:\n",
      "Frases 1: Bienvenido al evento de salud y bienestar.Discutamos formas de vivir mejor.\n",
      "El discurso se divide en 1 frases:\n",
      "Frases 1: Todos, bienvenidos a la conferencia anual.Exploremos las últimas tendencias comerciales.\n",
      "El discurso se divide en 1 frases:\n",
      "Frases 1: Bienvenido a la conferencia sobre diseño y creatividad.Exploraremos nuevas ideas y enfoques.\n",
      "El discurso se divide en 1 frases:\n",
      "Frases 1: Damos la bienvenida a todos en la Conferencia sobre Arte y Cultura.Discutiremos temas importantes.\n",
      "El discurso se divide en 1 frases:\n",
      "Frases 1: Bienvenido a la Conferencia de Innovación y Tecnología.Revisaremos los últimos desarrollos y desafíos.\n",
      "El discurso se divide en 1 frases:\n",
      "Frases 1: ¡Saludos, participantes!Vamos a profundizar en el mundo de los descubrimientos y avances científicos.\n",
      "El discurso se divide en 2 frases:\n",
      "Frases 1: Saludos a todos los presentes.\n",
      "Frases 2: Analizaremos los avances en medicina y biotecnología.\n",
      "El discurso se divide en 1 frases:\n",
      "Frases 1: Hola a todos los entusiastas de la literatura.Exploraremos las obras clásicas.\n",
      "El discurso se divide en 1 frases:\n",
      "Frases 1: ¡Hola a todos!Esta conferencia se ocupa del futuro de las energías renovables.\n",
      "El discurso se divide en 1 frases:\n",
      "Frases 1: Hola a todos, estamos aquí para discutir la revolución tecnológica y sus implicaciones.\n",
      "El discurso se divide en 1 frases:\n",
      "Frases 1: Gracias por participar.Consideremos el futuro de los negocios y las finanzas.\n",
      "El discurso se divide en 1 frases:\n",
      "Frases 1: Queridos amigos, Bienvenido a la conferencia sobre arte contemporáneo.Analizaremos las obras modernas.\n",
      "El discurso se divide en 1 frases:\n",
      "Frases 1: Damos la bienvenida a todos en la conferencia sobre desafíos y cooperación globales.\n",
      "El discurso se divide en 1 frases:\n",
      "Frases 1: Bienvenido a la conferencia de tecnología e innovación.Abordaremos los desarrollos de la inteligencia artificial.\n",
      "El discurso se divide en 1 frases:\n",
      "Frases 1: Estimados invitados, bienvenidos a la Cumbre de Innovación.Exploremos soluciones de vanguardia.\n",
      "El discurso se divide en 1 frases:\n",
      "Frases 1: Invitados honorables, bienvenidos a la cima de la innovación.Descubramos soluciones de vanguardia.\n",
      "El discurso se divide en 1 frases:\n",
      "Frases 1: Estimados invitados, Bienvenido a la Cumbre de Innovación.Explore soluciones innovadoras.\n",
      "El discurso se divide en 1 frases:\n",
      "Frases 1: Estimados invitados, Bienvenido a la Cumbre de Innovación.Exploremos las soluciones de recorte.\n",
      "El discurso se divide en 1 frases:\n",
      "Frases 1: Bienvenido a los invitados respetados, la Cumbre de Innovación.Exploremos las últimas soluciones.\n",
      "El discurso se divide en 1 frases:\n",
      "Frases 1: Invitados estimados, bienvenidos a la cumbre de la innovación.Exploraremos soluciones de recorte.\n",
      "El discurso se divide en 1 frases:\n",
      "Frases 1: Estimados invitados, Bienvenido a la Cumbre de Innovación.Estudiemos decisiones avanzadas.\n",
      "El discurso se divide en 1 frases:\n",
      "Frases 1: Estimados invitados, Bienvenido a la cima de la innovación.Exploremos una solución innovadora.\n",
      "El discurso se divide en 1 frases:\n",
      "Frases 1: Damas y caballeros, bienvenidos a la conferencia sobre inteligencia artificial y sus impactos.\n",
      "El discurso se divide en 1 frases:\n",
      "Frases 1: Damas y caballeros, bienvenidos a la conferencia sobre ciberseguridad y privacidad.\n",
      "El discurso se divide en 1 frases:\n",
      "Frases 1: Damas y caballeros, bienvenidos a la conferencia sobre el futuro del transporte.\n",
      "El discurso se divide en 1 frases:\n",
      "Frases 1: Damas y caballeros, bienvenidos a la conferencia sobre transformación digital.\n",
      "El discurso se divide en 1 frases:\n",
      "Frases 1: Damas y caballeros, bienvenidos a la conferencia sobre la industria del entretenimiento.\n",
      "El discurso se divide en 1 frases:\n",
      "Frases 1: Bienvenido a mujeres y caballeros, IA y su influencia.\n",
      "El discurso se divide en 1 frases:\n",
      "Frases 1: Señoras y señores, bienvenidos a la conferencia sobre inteligencia artificial y sus impactos.\n",
      "El discurso se divide en 1 frases:\n",
      "Frases 1: Damas y caballeros, bienvenidos a la Conferencia sobre Innovación de la Salud.\n",
      "El discurso se divide en 1 frases:\n",
      "Frases 1: Damas y caballeros, bienvenidos a la conferencia sobre sostenibilidad en la economía.\n",
      "El discurso se divide en 1 frases:\n",
      "Frases 1: Damas y caballeros, bienvenidos a la conferencia sobre el futuro de las energías renovables.\n",
      "El discurso se divide en 1 frases:\n",
      "Frases 1: Mujeres y caballeros, profundicemos en el mundo de los científicos y los avances.\n",
      "El discurso se divide en 1 frases:\n",
      "Frases 1: Señoras y señores, bienvenidos a la conferencia sobre avances en medicina y biotecnología.\n",
      "El discurso se divide en 1 frases:\n",
      "Frases 1: Damas y caballeros, bienvenidos a la conferencia sobre literatura clásica.\n"
     ]
    },
    {
     "name": "stderr",
     "output_type": "stream",
     "text": [
      "[nltk_data] Downloading package punkt to /Users/irene/nltk_data...\n",
      "[nltk_data]   Package punkt is already up-to-date!\n"
     ]
    }
   ],
   "source": [
    "import nltk\n",
    "nltk.download('punkt')\n",
    "from nltk.tokenize import sent_tokenize\n",
    "\n",
    "for discurso_traducido in discursos_traducidos:\n",
    "    frases = sent_tokenize(discurso_traducido)\n",
    "    print(f\"El discurso se divide en {len(frases)} frases:\")\n",
    "    for idx, frase in enumerate(frases, start=1):\n",
    "        print(f\"Frases {idx}: {frase}\")\n"
   ]
  },
  {
   "cell_type": "markdown",
   "metadata": {},
   "source": [
    "## Ejercicio 3: Tokenización\n",
    "Finalmente, necesitamos tokenizar las palabras en cada frase. Utiliza nltk o spacy. ¿Es necesario eliminar algun token de la frase?"
   ]
  },
  {
   "cell_type": "markdown",
   "metadata": {},
   "source": [
    "Para este análisis, se recomienda eliminar los caracteres que no son palabras, es decir, signos de puntuación"
   ]
  },
  {
   "cell_type": "code",
   "execution_count": 10,
   "metadata": {},
   "outputs": [
    {
     "name": "stdout",
     "output_type": "stream",
     "text": [
      "Palabras en la frase:  10\n",
      "['Damas', 'y', 'caballeros', 'bienvenidos', 'a', 'la', 'conferencia', 'sobre', 'literatura', 'clásica']\n"
     ]
    }
   ],
   "source": [
    "from nltk.tokenize import word_tokenize\n",
    "import re\n",
    "\n",
    "frases = sent_tokenize(discurso_traducido)\n",
    "    \n",
    "for frase in frases: \n",
    "    palabras = word_tokenize(frases)\n",
    "    print(\"Palabras en la frase: \", len(palabras))\n",
    "    print(palabras)"
   ]
  },
  {
   "cell_type": "code",
   "execution_count": 11,
   "metadata": {},
   "outputs": [
    {
     "name": "stdout",
     "output_type": "stream",
     "text": [
      "Palabras en la frase 1: ['Hola', 'a', 'todos', ',', 'bienvenidos', 'a', 'esta', 'conferencia.Estamos', 'aquí', 'para', 'discutir', 'temas', 'importantes', '.']\n",
      "Palabras en la frase 1: ['¡Hola', 'a', 'todos', '!']\n",
      "Palabras en la frase 2: ['Estamos', 'aquí', 'para', 'hablar', 'sobre', 'tecnología', 'y', 'sus', 'impactos', '.']\n",
      "Palabras en la frase 1: ['Estimados', 'participantes', ',', 'Bienvenido', 'a', 'esta', 'emocionante', 'conferencia.Hablemos', 'de', 'desafíos', 'globales', '.']\n",
      "Palabras en la frase 1: ['¡Hola', 'a', 'todos', '!', 'Esta', 'conferencia', 'trata', 'sobre', 'inteligencia', 'e', 'innovación', 'artificial', '.']\n",
      "Palabras en la frase 1: ['Hola', 'a', 'todos', ',', 'es', 'un', 'placer', 'estar', 'aquí', 'para', 'compartir', 'conocimiento', 'sobre', 'ciencia', 'e', 'investigación', '.']\n",
      "Palabras en la frase 1: ['Hola', 'a', 'todos', ',', 'bienvenidos', 'a', 'esta', 'reunión.Hablemos', 'de', 'la', 'IA', 'y', 'la', 'visión', 'futura', '.']\n",
      "Palabras en la frase 1: ['¡Hola', 'a', 'todos', '!', 'Es', 'un', 'honor', 'hablar', 'de', 'la', 'importancia', 'de', 'la', 'sostenibilidad', 'ambiental', '.']\n",
      "Palabras en la frase 1: ['¡Hola', 'a', 'todos', '!', 'Hoy', 'discutiremos', 'los', 'temas', 'de', 'desarrollo', 'y', 'crecimiento', 'económico', '.']\n",
      "Palabras en la frase 1: ['Hola', 'a', 'todos', ',', 'estamos', 'aquí', 'para', 'discutir', 'desafíos', 'y', 'oportunidades', 'en', 'el', 'mundo', 'de', 'la', 'tecnología', '.']\n",
      "Palabras en la frase 1: ['Bienvenido', 'a', 'la', 'conferencia', 'anual.Exploremos', 'las', 'últimas', 'tendencias', 'en', 'negocios', 'y', 'finanzas', '.']\n",
      "Palabras en la frase 1: ['Bienvenidos', 'a', 'la', 'conferencia', 'de', 'educación', '.']\n",
      "Palabras en la frase 2: ['Analicemos', 'juntos', 'el', 'futuro', 'de', 'la', 'enseñanza', '.']\n",
      "Palabras en la frase 1: ['Queridos', 'amigos', ',', 'estamos', 'encantados', 'de', 'darle', 'la', 'bienvenida', 'a', 'esta', 'conferencia', 'cultural', '.']\n",
      "Palabras en la frase 1: ['Estimados', 'participantes', ',', 'Bienvenido', 'a', 'la', 'Conferencia', 'sobre', 'Sostenibilidad', 'y', 'Protección', 'del', 'Medio', 'Ambiente', '.']\n",
      "Palabras en la frase 1: ['Bienvenido', 'al', 'evento', 'de', 'salud', 'y', 'bienestar.Discutamos', 'formas', 'de', 'vivir', 'mejor', '.']\n",
      "Palabras en la frase 1: ['Todos', ',', 'bienvenidos', 'a', 'la', 'conferencia', 'anual.Exploremos', 'las', 'últimas', 'tendencias', 'comerciales', '.']\n",
      "Palabras en la frase 1: ['Bienvenido', 'a', 'la', 'conferencia', 'sobre', 'diseño', 'y', 'creatividad.Exploraremos', 'nuevas', 'ideas', 'y', 'enfoques', '.']\n",
      "Palabras en la frase 1: ['Damos', 'la', 'bienvenida', 'a', 'todos', 'en', 'la', 'Conferencia', 'sobre', 'Arte', 'y', 'Cultura.Discutiremos', 'temas', 'importantes', '.']\n",
      "Palabras en la frase 1: ['Bienvenido', 'a', 'la', 'Conferencia', 'de', 'Innovación', 'y', 'Tecnología.Revisaremos', 'los', 'últimos', 'desarrollos', 'y', 'desafíos', '.']\n",
      "Palabras en la frase 1: ['¡Saludos', ',', 'participantes', '!', 'Vamos', 'a', 'profundizar', 'en', 'el', 'mundo', 'de', 'los', 'descubrimientos', 'y', 'avances', 'científicos', '.']\n",
      "Palabras en la frase 1: ['Saludos', 'a', 'todos', 'los', 'presentes', '.']\n",
      "Palabras en la frase 2: ['Analizaremos', 'los', 'avances', 'en', 'medicina', 'y', 'biotecnología', '.']\n",
      "Palabras en la frase 1: ['Hola', 'a', 'todos', 'los', 'entusiastas', 'de', 'la', 'literatura.Exploraremos', 'las', 'obras', 'clásicas', '.']\n",
      "Palabras en la frase 1: ['¡Hola', 'a', 'todos', '!', 'Esta', 'conferencia', 'se', 'ocupa', 'del', 'futuro', 'de', 'las', 'energías', 'renovables', '.']\n",
      "Palabras en la frase 1: ['Hola', 'a', 'todos', ',', 'estamos', 'aquí', 'para', 'discutir', 'la', 'revolución', 'tecnológica', 'y', 'sus', 'implicaciones', '.']\n",
      "Palabras en la frase 1: ['Gracias', 'por', 'participar.Consideremos', 'el', 'futuro', 'de', 'los', 'negocios', 'y', 'las', 'finanzas', '.']\n",
      "Palabras en la frase 1: ['Queridos', 'amigos', ',', 'Bienvenido', 'a', 'la', 'conferencia', 'sobre', 'arte', 'contemporáneo.Analizaremos', 'las', 'obras', 'modernas', '.']\n",
      "Palabras en la frase 1: ['Damos', 'la', 'bienvenida', 'a', 'todos', 'en', 'la', 'conferencia', 'sobre', 'desafíos', 'y', 'cooperación', 'globales', '.']\n",
      "Palabras en la frase 1: ['Bienvenido', 'a', 'la', 'conferencia', 'de', 'tecnología', 'e', 'innovación.Abordaremos', 'los', 'desarrollos', 'de', 'la', 'inteligencia', 'artificial', '.']\n",
      "Palabras en la frase 1: ['Estimados', 'invitados', ',', 'bienvenidos', 'a', 'la', 'Cumbre', 'de', 'Innovación.Exploremos', 'soluciones', 'de', 'vanguardia', '.']\n",
      "Palabras en la frase 1: ['Invitados', 'honorables', ',', 'bienvenidos', 'a', 'la', 'cima', 'de', 'la', 'innovación.Descubramos', 'soluciones', 'de', 'vanguardia', '.']\n",
      "Palabras en la frase 1: ['Estimados', 'invitados', ',', 'Bienvenido', 'a', 'la', 'Cumbre', 'de', 'Innovación.Explore', 'soluciones', 'innovadoras', '.']\n",
      "Palabras en la frase 1: ['Estimados', 'invitados', ',', 'Bienvenido', 'a', 'la', 'Cumbre', 'de', 'Innovación.Exploremos', 'las', 'soluciones', 'de', 'recorte', '.']\n",
      "Palabras en la frase 1: ['Bienvenido', 'a', 'los', 'invitados', 'respetados', ',', 'la', 'Cumbre', 'de', 'Innovación.Exploremos', 'las', 'últimas', 'soluciones', '.']\n",
      "Palabras en la frase 1: ['Invitados', 'estimados', ',', 'bienvenidos', 'a', 'la', 'cumbre', 'de', 'la', 'innovación.Exploraremos', 'soluciones', 'de', 'recorte', '.']\n",
      "Palabras en la frase 1: ['Estimados', 'invitados', ',', 'Bienvenido', 'a', 'la', 'Cumbre', 'de', 'Innovación.Estudiemos', 'decisiones', 'avanzadas', '.']\n",
      "Palabras en la frase 1: ['Estimados', 'invitados', ',', 'Bienvenido', 'a', 'la', 'cima', 'de', 'la', 'innovación.Exploremos', 'una', 'solución', 'innovadora', '.']\n",
      "Palabras en la frase 1: ['Damas', 'y', 'caballeros', ',', 'bienvenidos', 'a', 'la', 'conferencia', 'sobre', 'inteligencia', 'artificial', 'y', 'sus', 'impactos', '.']\n",
      "Palabras en la frase 1: ['Damas', 'y', 'caballeros', ',', 'bienvenidos', 'a', 'la', 'conferencia', 'sobre', 'ciberseguridad', 'y', 'privacidad', '.']\n",
      "Palabras en la frase 1: ['Damas', 'y', 'caballeros', ',', 'bienvenidos', 'a', 'la', 'conferencia', 'sobre', 'el', 'futuro', 'del', 'transporte', '.']\n",
      "Palabras en la frase 1: ['Damas', 'y', 'caballeros', ',', 'bienvenidos', 'a', 'la', 'conferencia', 'sobre', 'transformación', 'digital', '.']\n",
      "Palabras en la frase 1: ['Damas', 'y', 'caballeros', ',', 'bienvenidos', 'a', 'la', 'conferencia', 'sobre', 'la', 'industria', 'del', 'entretenimiento', '.']\n",
      "Palabras en la frase 1: ['Bienvenido', 'a', 'mujeres', 'y', 'caballeros', ',', 'IA', 'y', 'su', 'influencia', '.']\n",
      "Palabras en la frase 1: ['Señoras', 'y', 'señores', ',', 'bienvenidos', 'a', 'la', 'conferencia', 'sobre', 'inteligencia', 'artificial', 'y', 'sus', 'impactos', '.']\n",
      "Palabras en la frase 1: ['Damas', 'y', 'caballeros', ',', 'bienvenidos', 'a', 'la', 'Conferencia', 'sobre', 'Innovación', 'de', 'la', 'Salud', '.']\n",
      "Palabras en la frase 1: ['Damas', 'y', 'caballeros', ',', 'bienvenidos', 'a', 'la', 'conferencia', 'sobre', 'sostenibilidad', 'en', 'la', 'economía', '.']\n",
      "Palabras en la frase 1: ['Damas', 'y', 'caballeros', ',', 'bienvenidos', 'a', 'la', 'conferencia', 'sobre', 'el', 'futuro', 'de', 'las', 'energías', 'renovables', '.']\n",
      "Palabras en la frase 1: ['Mujeres', 'y', 'caballeros', ',', 'profundicemos', 'en', 'el', 'mundo', 'de', 'los', 'científicos', 'y', 'los', 'avances', '.']\n",
      "Palabras en la frase 1: ['Señoras', 'y', 'señores', ',', 'bienvenidos', 'a', 'la', 'conferencia', 'sobre', 'avances', 'en', 'medicina', 'y', 'biotecnología', '.']\n",
      "Palabras en la frase 1: ['Damas', 'y', 'caballeros', ',', 'bienvenidos', 'a', 'la', 'conferencia', 'sobre', 'literatura', 'clásica', '.']\n"
     ]
    }
   ],
   "source": [
    "from nltk.tokenize import word_tokenize\n",
    "\n",
    "for discurso_traducido in discursos_traducidos:\n",
    "    frases = sent_tokenize(discurso_traducido)\n",
    "    for idx, frase in enumerate(frases, start=1):\n",
    "        palabras = word_tokenize(frase)\n",
    "        print(f\"Palabras en la frase {idx}: {palabras}\")\n"
   ]
  },
  {
   "cell_type": "code",
   "execution_count": 6,
   "metadata": {},
   "outputs": [
    {
     "name": "stderr",
     "output_type": "stream",
     "text": [
      "/Users/irene/opt/anaconda3/envs/nlp/lib/python3.9/site-packages/tqdm/auto.py:22: TqdmWarning: IProgress not found. Please update jupyter and ipywidgets. See https://ipywidgets.readthedocs.io/en/stable/user_install.html\n",
      "  from .autonotebook import tqdm as notebook_tqdm\n",
      "2023-09-13 19:23:20.164684: I tensorflow/core/platform/cpu_feature_guard.cc:182] This TensorFlow binary is optimized to use available CPU instructions in performance-critical operations.\n",
      "To enable the following instructions: AVX2 AVX512F AVX512_VNNI FMA, in other operations, rebuild TensorFlow with the appropriate compiler flags.\n"
     ]
    },
    {
     "name": "stdout",
     "output_type": "stream",
     "text": [
      "Palabras en la frase 1: ['Hola', 'a', 'todos', ',', 'bienvenidos', 'a', 'esta', 'conferencia', '.']\n",
      "Palabras en la frase 2: ['Estamos', 'aquí', 'para', 'discutir', 'temas', 'importantes', '.']\n",
      "Palabras en la frase 1: ['¡', 'Hola', 'a', 'todos', '!', 'Estamos', 'aquí', 'para', 'hablar', 'sobre', 'tecnología', 'y', 'sus', 'impactos', '.']\n",
      "Palabras en la frase 1: ['Estimados', 'participantes', ',', 'Bienvenido', 'a', 'esta', 'emocionante', 'conferencia', '.']\n",
      "Palabras en la frase 2: ['Hablemos', 'de', 'desafíos', 'globales', '.']\n",
      "Palabras en la frase 1: ['¡', 'Hola', 'a', 'todos!Esta', 'conferencia', 'trata', 'sobre', 'inteligencia', 'e', 'innovación', 'artificial', '.']\n",
      "Palabras en la frase 1: ['Hola', 'a', 'todos', ',', 'es', 'un', 'placer', 'estar', 'aquí', 'para', 'compartir', 'conocimiento', 'sobre', 'ciencia', 'e', 'investigación', '.']\n",
      "Palabras en la frase 1: ['Hola', 'a', 'todos', ',', 'bienvenidos', 'a', 'esta', 'reunión', '.']\n",
      "Palabras en la frase 2: ['Hablemos', 'de', 'la', 'IA', 'y', 'la', 'visión', 'futura', '.']\n",
      "Palabras en la frase 1: ['¡', 'Hola', 'a', 'todos!Es', 'un', 'honor', 'hablar', 'de', 'la', 'importancia', 'de', 'la', 'sostenibilidad', 'ambiental', '.']\n",
      "Palabras en la frase 1: ['¡', 'Hola', 'a', 'todos!Hoy', 'discutiremos', 'los', 'temas', 'de', 'desarrollo', 'y', 'crecimiento', 'económico', '.']\n",
      "Palabras en la frase 1: ['Hola', 'a', 'todos', ',', 'estamos', 'aquí', 'para', 'discutir', 'desafíos', 'y', 'oportunidades', 'en', 'el', 'mundo', 'de', 'la', 'tecnología', '.']\n",
      "Palabras en la frase 1: ['Bienvenido', 'a', 'la', 'conferencia', 'anual', '.']\n",
      "Palabras en la frase 2: ['Exploremos', 'las', 'últimas', 'tendencias', 'en', 'negocios', 'y', 'finanzas', '.']\n",
      "Palabras en la frase 1: ['Bienvenidos', 'a', 'la', 'conferencia', 'de', 'educación', '.']\n",
      "Palabras en la frase 2: ['Analicemos', 'juntos', 'el', 'futuro', 'de', 'la', 'enseñanza', '.']\n",
      "Palabras en la frase 1: ['Queridos', 'amigos', ',', 'estamos', 'encantados', 'de', 'darle', 'la', 'bienvenida', 'a', 'esta', 'conferencia', 'cultural', '.']\n",
      "Palabras en la frase 1: ['Estimados', 'participantes', ',', 'Bienvenido', 'a', 'la', 'Conferencia', 'sobre', 'Sostenibilidad', 'y', 'Protección', 'del', 'Medio', 'Ambiente', '.']\n",
      "Palabras en la frase 1: ['Bienvenido', 'al', 'evento', 'de', 'salud', 'y', 'bienestar', '.']\n",
      "Palabras en la frase 2: ['Discutamos', 'formas', 'de', 'vivir', 'mejor', '.']\n",
      "Palabras en la frase 1: ['Todos', ',', 'bienvenidos', 'a', 'la', 'conferencia', 'anual', '.']\n",
      "Palabras en la frase 2: ['Exploremos', 'las', 'últimas', 'tendencias', 'comerciales', '.']\n",
      "Palabras en la frase 1: ['Bienvenido', 'a', 'la', 'conferencia', 'sobre', 'diseño', 'y', 'creatividad', '.']\n",
      "Palabras en la frase 2: ['Exploraremos', 'nuevas', 'ideas', 'y', 'enfoques', '.']\n",
      "Palabras en la frase 1: ['Damos', 'la', 'bienvenida', 'a', 'todos', 'en', 'la', 'Conferencia', 'sobre', 'Arte', 'y', 'Cultura', '.']\n",
      "Palabras en la frase 2: ['Discutiremos', 'temas', 'importantes', '.']\n",
      "Palabras en la frase 1: ['Bienvenido', 'a', 'la', 'Conferencia', 'de', 'Innovación', 'y', 'Tecnología', '.']\n",
      "Palabras en la frase 2: ['Revisaremos', 'los', 'últimos', 'desarrollos', 'y', 'desafíos', '.']\n",
      "Palabras en la frase 1: ['¡', 'Saludos', ',', 'participantes!Vamos', 'a', 'profundizar', 'en', 'el', 'mundo', 'de', 'los', 'descubrimientos', 'y', 'avances', 'científicos', '.']\n",
      "Palabras en la frase 1: ['Saludos', 'a', 'todos', 'los', 'presentes', '.']\n",
      "Palabras en la frase 2: ['Analizaremos', 'los', 'avances', 'en', 'medicina', 'y', 'biotecnología', '.']\n",
      "Palabras en la frase 1: ['Hola', 'a', 'todos', 'los', 'entusiastas', 'de', 'la', 'literatura', '.']\n",
      "Palabras en la frase 2: ['Exploraremos', 'las', 'obras', 'clásicas', '.']\n",
      "Palabras en la frase 1: ['¡', 'Hola', 'a', 'todos!Esta', 'conferencia', 'se', 'ocupa', 'del', 'futuro', 'de', 'las', 'energías', 'renovables', '.']\n",
      "Palabras en la frase 1: ['Hola', 'a', 'todos', ',', 'estamos', 'aquí', 'para', 'discutir', 'la', 'revolución', 'tecnológica', 'y', 'sus', 'implicaciones', '.']\n",
      "Palabras en la frase 1: ['Gracias', 'por', 'participar', '.']\n",
      "Palabras en la frase 2: ['Consideremos', 'el', 'futuro', 'de', 'los', 'negocios', 'y', 'las', 'finanzas', '.']\n",
      "Palabras en la frase 1: ['Queridos', 'amigos', ',', 'Bienvenido', 'a', 'la', 'conferencia', 'sobre', 'arte', 'contemporáneo', '.']\n",
      "Palabras en la frase 2: ['Analizaremos', 'las', 'obras', 'modernas', '.']\n",
      "Palabras en la frase 1: ['Damos', 'la', 'bienvenida', 'a', 'todos', 'en', 'la', 'conferencia', 'sobre', 'desafíos', 'y', 'cooperación', 'globales', '.']\n",
      "Palabras en la frase 1: ['Bienvenido', 'a', 'la', 'conferencia', 'de', 'tecnología', 'e', 'innovación', '.']\n",
      "Palabras en la frase 2: ['Abordaremos', 'los', 'desarrollos', 'de', 'la', 'inteligencia', 'artificial', '.']\n",
      "Palabras en la frase 1: ['Estimados', 'invitados', ',', 'bienvenidos', 'a', 'la', 'Cumbre', 'de', 'Innovación', '.']\n",
      "Palabras en la frase 2: ['Exploremos', 'soluciones', 'de', 'vanguardia', '.']\n",
      "Palabras en la frase 1: ['Invitados', 'honorables', ',', 'bienvenidos', 'a', 'la', 'cima', 'de', 'la', 'innovación', '.']\n",
      "Palabras en la frase 2: ['Descubramos', 'soluciones', 'de', 'vanguardia', '.']\n",
      "Palabras en la frase 1: ['Estimados', 'invitados', ',', 'Bienvenido', 'a', 'la', 'Cumbre', 'de', 'Innovación', '.']\n",
      "Palabras en la frase 2: ['Explore', 'soluciones', 'innovadoras', '.']\n",
      "Palabras en la frase 1: ['Estimados', 'invitados', ',', 'Bienvenido', 'a', 'la', 'Cumbre', 'de', 'Innovación', '.']\n",
      "Palabras en la frase 2: ['Exploremos', 'las', 'soluciones', 'de', 'recorte', '.']\n",
      "Palabras en la frase 1: ['Bienvenido', 'a', 'los', 'invitados', 'respetados', ',', 'la', 'Cumbre', 'de', 'Innovación', '.']\n",
      "Palabras en la frase 2: ['Exploremos', 'las', 'últimas', 'soluciones', '.']\n",
      "Palabras en la frase 1: ['Invitados', 'estimados', ',', 'bienvenidos', 'a', 'la', 'cumbre', 'de', 'la', 'innovación', '.']\n",
      "Palabras en la frase 2: ['Exploraremos', 'soluciones', 'de', 'recorte', '.']\n",
      "Palabras en la frase 1: ['Estimados', 'invitados', ',', 'Bienvenido', 'a', 'la', 'Cumbre', 'de', 'Innovación', '.']\n",
      "Palabras en la frase 2: ['Estudiemos', 'decisiones', 'avanzadas', '.']\n",
      "Palabras en la frase 1: ['Estimados', 'invitados', ',', 'Bienvenido', 'a', 'la', 'cima', 'de', 'la', 'innovación', '.']\n",
      "Palabras en la frase 2: ['Exploremos', 'una', 'solución', 'innovadora', '.']\n",
      "Palabras en la frase 1: ['Damas', 'y', 'caballeros', ',', 'bienvenidos', 'a', 'la', 'conferencia', 'sobre', 'inteligencia', 'artificial', 'y', 'sus', 'impactos', '.']\n",
      "Palabras en la frase 1: ['Damas', 'y', 'caballeros', ',', 'bienvenidos', 'a', 'la', 'conferencia', 'sobre', 'ciberseguridad', 'y', 'privacidad', '.']\n",
      "Palabras en la frase 1: ['Damas', 'y', 'caballeros', ',', 'bienvenidos', 'a', 'la', 'conferencia', 'sobre', 'el', 'futuro', 'del', 'transporte', '.']\n",
      "Palabras en la frase 1: ['Damas', 'y', 'caballeros', ',', 'bienvenidos', 'a', 'la', 'conferencia', 'sobre', 'transformación', 'digital', '.']\n",
      "Palabras en la frase 1: ['Damas', 'y', 'caballeros', ',', 'bienvenidos', 'a', 'la', 'conferencia', 'sobre', 'la', 'industria', 'del', 'entretenimiento', '.']\n",
      "Palabras en la frase 1: ['Bienvenido', 'a', 'mujeres', 'y', 'caballeros', ',', 'IA', 'y', 'su', 'influencia', '.']\n",
      "Palabras en la frase 1: ['Señoras', 'y', 'señores', ',', 'bienvenidos', 'a', 'la', 'conferencia', 'sobre', 'inteligencia', 'artificial', 'y', 'sus', 'impactos', '.']\n",
      "Palabras en la frase 1: ['Damas', 'y', 'caballeros', ',', 'bienvenidos', 'a', 'la', 'Conferencia', 'sobre', 'Innovación', 'de', 'la', 'Salud', '.']\n",
      "Palabras en la frase 1: ['Damas', 'y', 'caballeros', ',', 'bienvenidos', 'a', 'la', 'conferencia', 'sobre', 'sostenibilidad', 'en', 'la', 'economía', '.']\n",
      "Palabras en la frase 1: ['Damas', 'y', 'caballeros', ',', 'bienvenidos', 'a', 'la', 'conferencia', 'sobre', 'el', 'futuro', 'de', 'las', 'energías', 'renovables', '.']\n",
      "Palabras en la frase 1: ['Mujeres', 'y', 'caballeros', ',', 'profundicemos', 'en', 'el', 'mundo', 'de', 'los', 'científicos', 'y', 'los', 'avances', '.']\n",
      "Palabras en la frase 1: ['Señoras', 'y', 'señores', ',', 'bienvenidos', 'a', 'la', 'conferencia', 'sobre', 'avances', 'en', 'medicina', 'y', 'biotecnología', '.']\n",
      "Palabras en la frase 1: ['Damas', 'y', 'caballeros', ',', 'bienvenidos', 'a', 'la', 'conferencia', 'sobre', 'literatura', 'clásica', '.']\n",
      "Palabras en la frase 1: ['Damas', 'y', 'caballeros', ',', 'bienvenidos', 'al']\n"
     ]
    }
   ],
   "source": [
    "import spacy\n",
    "\n",
    "# Cargar modelo de lenguaje en español\n",
    "nlp = spacy.load('es_core_news_lg')\n",
    "\n",
    "for discurso_traducido in discursos_traducidos:\n",
    "    doc = nlp(discurso_traducido)\n",
    "    frases = [sent.text for sent in doc.sents]\n",
    "    \n",
    "    for frase in frases:\n",
    "        tokens = nlp(frase)\n",
    "        palabras = [token.text for token in tokens]\n",
    "        print(f\"Palabras en la frase:\",  palabras)\n"
   ]
  },
  {
   "cell_type": "markdown",
   "metadata": {},
   "source": [
    "## Desafío Final: Integración de Soluciones\n",
    "Ahora, demuestra tu habilidad para integrar estas soluciones en una única herramienta. Crea una función llamada procesar_discurso que acepte un discurso como entrada y devuelva el idioma detectado, el discurso traducido, las frases divididas y las palabras tokenizadas. Luego, prueba tu función con al menos un discurso del dataset."
   ]
  },
  {
   "cell_type": "code",
   "execution_count": 7,
   "metadata": {},
   "outputs": [
    {
     "name": "stdout",
     "output_type": "stream",
     "text": [
      "Idioma detectado: en\n",
      "Discurso traducido: Hola a todos, bienvenidos a esta conferencia.Estamos aquí para discutir temas importantes.\n",
      "Frases divididas: 1 frases\n",
      "Frases 1: Hola a todos, bienvenidos a esta conferencia.Estamos aquí para discutir temas importantes.\n",
      "Palabras en la frase 1: ['Hola', 'a', 'todos', ',', 'bienvenidos', 'a', 'esta', 'conferencia.Estamos', 'aquí', 'para', 'discutir', 'temas', 'importantes', '.']\n"
     ]
    }
   ],
   "source": [
    "def procesar_discurso(discurso):\n",
    "    idioma = detect_language(discurso)\n",
    "    discurso_traducido = traducir(discurso, idioma_destino)\n",
    "    \n",
    "    ### Ojo a a la traducción. Descomentar la siguiente línea de código\n",
    "    ###discurso_traducido = \"Hola a todos, bienvenidos a esta conferencia. Estamos aquí para discutir temas importantes.\"\n",
    "    \n",
    "    frases = sent_tokenize(discurso_traducido)\n",
    "    palabras_por_frase = [word_tokenize(frase) for frase in frases]\n",
    "    return idioma, discurso_traducido, frases, palabras_por_frase\n",
    "\n",
    "# Prueba tu función con un discurso del dataset\n",
    "discurso_prueba = dataset[0]\n",
    "idioma_prueba, discurso_traducido_prueba, frases_prueba, palabras_prueba = procesar_discurso(discurso_prueba)\n",
    "\n",
    "print(f\"Idioma detectado: {idioma_prueba}\")\n",
    "print(f\"Discurso traducido: {discurso_traducido_prueba}\")\n",
    "print(f\"Frases divididas: {len(frases_prueba)} frases\")\n",
    "for idx, frase in enumerate(frases_prueba, start=1):\n",
    "    print(f\"Frases {idx}: {frase}\")\n",
    "for idx, palabras in enumerate(palabras_prueba, start=1):\n",
    "    print(f\"Palabras en la frase {idx}: {palabras}\")\n"
   ]
  },
  {
   "cell_type": "code",
   "execution_count": null,
   "metadata": {},
   "outputs": [],
   "source": []
  }
 ],
 "metadata": {
  "kernelspec": {
   "display_name": "Python 3 (ipykernel)",
   "language": "python",
   "name": "python3"
  },
  "language_info": {
   "codemirror_mode": {
    "name": "ipython",
    "version": 3
   },
   "file_extension": ".py",
   "mimetype": "text/x-python",
   "name": "python",
   "nbconvert_exporter": "python",
   "pygments_lexer": "ipython3",
   "version": "3.9.12"
  },
  "varInspector": {
   "cols": {
    "lenName": 16,
    "lenType": 16,
    "lenVar": 40
   },
   "kernels_config": {
    "python": {
     "delete_cmd_postfix": "",
     "delete_cmd_prefix": "del ",
     "library": "var_list.py",
     "varRefreshCmd": "print(var_dic_list())"
    },
    "r": {
     "delete_cmd_postfix": ") ",
     "delete_cmd_prefix": "rm(",
     "library": "var_list.r",
     "varRefreshCmd": "cat(var_dic_list()) "
    }
   },
   "oldHeight": 122.852,
   "position": {
    "height": "40px",
    "left": "1010px",
    "right": "20px",
    "top": "120px",
    "width": "250px"
   },
   "types_to_exclude": [
    "module",
    "function",
    "builtin_function_or_method",
    "instance",
    "_Feature"
   ],
   "varInspector_section_display": "none",
   "window_display": true
  },
  "vscode": {
   "interpreter": {
    "hash": "107fb03afb2754bdb3cdbb13c1c83d7d6037442339c22e5ee8cf40869e8513c5"
   }
  }
 },
 "nbformat": 4,
 "nbformat_minor": 4
}
