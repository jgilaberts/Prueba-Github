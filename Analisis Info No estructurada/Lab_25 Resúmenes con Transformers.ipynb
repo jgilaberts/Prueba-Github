{
 "cells": [
  {
   "cell_type": "markdown",
   "metadata": {},
   "source": [
    "# Resúmenes con Transformers"
   ]
  },
  {
   "cell_type": "code",
   "execution_count": null,
   "metadata": {},
   "outputs": [],
   "source": [
    "## Importación de las librerías\n",
    "\n",
    "from transformers import EncoderDecoderModel, AutoTokenizer\n"
   ]
  },
  {
   "cell_type": "code",
   "execution_count": null,
   "metadata": {},
   "outputs": [],
   "source": [
    "## Definición del modelo\n",
    "\n",
    "text = \"\"\"La montaña mágica (Der Zauberberg, en el original alemán) es una novela de Thomas Mann que se publicó \n",
    "en 1924. Es considerada la novela más importante de su autor y un clásico de la literatura en lengua alemana \n",
    "del siglo XX que ha sido traducido a numerosos idiomas, siendo dominio público en países como Estados Unidos, \n",
    "España, Brasil, entre otros.\n",
    "Thomas Mann comenzó a escribir la novela en 1912, a raíz de una visita a su esposa en el Sanatorio Wald de Davos \n",
    "en el que se encontraba internada. La concibió inicialmente como una novela corta, pero el proyecto fue creciendo \n",
    "con el tiempo hasta convertirse en una obra mucho más extensa. La obra narra la estancia de su protagonista principal, \n",
    "el joven Hans Castorp, en un sanatorio de los Alpes suizos al que inicialmente había llegado únicamente como \n",
    "visitante. La obra ha sido calificada de novela filosófica, porque, aunque se ajusta al molde genérico del \n",
    "Bildungsroman o novela de aprendizaje, introduce reflexiones sobre los temas más variados, tanto a cargo del narrador \n",
    "como de los personajes (especialmente Naphta y Settembrini, los encargados de la educación del protagonista).\"\"\"\n",
    "\n",
    "print(\"Text:\")\n",
    "print(text)\n",
    "\n",
    "tokenizer = AutoTokenizer.from_pretrained(\"IIC/marimari-r2r-mlsum\")\n",
    "model = EncoderDecoderModel.from_pretrained(\"IIC/marimari-r2r-mlsum\")\n",
    "\n",
    "input_ids = tokenizer(text, return_tensors=\"pt\").input_ids\n",
    "output_ids = model.generate(input_ids)[0]\n",
    "\n",
    "print(\"Resumen:\")\n",
    "print(tokenizer.decode(output_ids, skip_special_tokens=True))"
   ]
  },
  {
   "cell_type": "code",
   "execution_count": null,
   "metadata": {},
   "outputs": [],
   "source": []
  }
 ],
 "metadata": {
  "kernelspec": {
   "display_name": "Python 3 (ipykernel)",
   "language": "python",
   "name": "python3"
  },
  "language_info": {
   "codemirror_mode": {
    "name": "ipython",
    "version": 3
   },
   "file_extension": ".py",
   "mimetype": "text/x-python",
   "name": "python",
   "nbconvert_exporter": "python",
   "pygments_lexer": "ipython3",
   "version": "3.11.5"
  },
  "varInspector": {
   "cols": {
    "lenName": 16,
    "lenType": 16,
    "lenVar": 40
   },
   "kernels_config": {
    "python": {
     "delete_cmd_postfix": "",
     "delete_cmd_prefix": "del ",
     "library": "var_list.py",
     "varRefreshCmd": "print(var_dic_list())"
    },
    "r": {
     "delete_cmd_postfix": ") ",
     "delete_cmd_prefix": "rm(",
     "library": "var_list.r",
     "varRefreshCmd": "cat(var_dic_list()) "
    }
   },
   "oldHeight": 122.855364,
   "position": {
    "height": "40px",
    "left": "893.636px",
    "right": "20px",
    "top": "120px",
    "width": "250px"
   },
   "types_to_exclude": [
    "module",
    "function",
    "builtin_function_or_method",
    "instance",
    "_Feature"
   ],
   "varInspector_section_display": "none",
   "window_display": true
  }
 },
 "nbformat": 4,
 "nbformat_minor": 4
}
