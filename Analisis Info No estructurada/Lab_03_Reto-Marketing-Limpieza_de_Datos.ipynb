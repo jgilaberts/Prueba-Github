{
 "cells": [
  {
   "cell_type": "markdown",
   "metadata": {},
   "source": [
    "# Práctica de Laboratorio de Procesamiento del Lenguaje Natural (NLP) - Limpieza de Textos en Datos de Redes Sociales\n",
    "Tema: Limpieza de Textos en X sobre una Marca\n",
    "\n",
    "## Contexto del Cliente:\n",
    "\n",
    "Eres parte de un equipo de analistas en una agencia de marketing digital. Uno de tus clientes es una marca de tecnología que desea comprender mejor la percepción de los consumidores sobre sus productos a través de los posts en redes sociales. Sin embargo, los posts contienen ruido en forma de caracteres especiales, signos de puntuación innecesarios o incorrectos, y palabras vacías que dificultan el análisis. El cliente necesita una solución que limpie y prepare los datos de los posts para un análisis más preciso.\n",
    "\n",
    "## Dataset de posts ficticios\n",
    "\n"
   ]
  },
  {
   "cell_type": "code",
   "execution_count": 1,
   "metadata": {},
   "outputs": [],
   "source": [
    "# Generación ficticia de un dataset de posts informales en español (España) sobre Samsung y su último smartphone\n",
    "\n",
    "posts = [\n",
    "    \"Vaya tela con el nuevo Samsung Galaxy, es flipante. ¡Quiero uno ya, colega! #SamsungGalaxy\",\n",
    "    \"Hostia, ¿has visto el bicharraco de smartphone que se ha sacado Samsung? Me he quedado flipado. 🤯📱 #NuevosTiempos\",\n",
    "    \"El diseño del último Samsung Galaxy mola tela, pero no sé si aguanta los ostiones. 📱💥 #DiseñoEstilizado\",\n",
    "    \"Madre mía, Samsung siempre la lía con sus movidas. ¿En qué más van a dar la campanada? 🚀📱 #InnovaciónSinFin\",\n",
    "    \"La batería del nuevo Samsung Galaxy no aguanta tanto como pensaba. 😕🔋 #VidaDeBatería\",\n",
    "    \"En ná voy a la tienda a por el nuevo Samsung Galaxy. ¡Parece que mola mil! 🤙📱 #Impresionante\",\n",
    "    \"Le entro a pillarme el nuevo Samsung Galaxy, pero el bolsillo está pelao. 😅📱 #PocoPresupuesto\",\n",
    "    \"No pillo por qué Samsung aún no clava la cámara con poca luz. 📸🤦‍♂️ #CámaraDébil\",\n",
    "    \"El nuevo Samsung Galaxy tiene pintaza, pero me preocupa que se me joda rápido. 📱🙈 #Durabilidad\",\n",
    "    \"Es de flipar cómo Samsung sigue dando la talla con sus cacharros. ¡Vivan los cachivaches! 📱🚀 #TecnologíaTop\",\n",
    "    \"Tío, el nuevo Samsung Galaxy está petándolo. Ya lo quiero tener entre manos. 🤩📱 #NuevoBicho\",\n",
    "    \"No me lo creo, el nuevo Samsung Galaxy está que rompe. ¡Lo quiero ya! 📱💣 #QuieroUno\",\n",
    "    \"El último cacharro de Samsung mola mil. Me lo pido en cuanto lo saquen. 🙌📱 #Impresionado\",\n",
    "    \"El diseño del nuevo Samsung Galaxy está guay, pero a ver si no se raja fácil. 🤞📱 #DiseñoChulo\",\n",
    "    \"¿Algún colega más flipao con el nuevo Samsung Galaxy? Si queréis opinar, llamadme al 123456789. 📞📱 #Opiniones\",\n",
    "    \"Me he pillado el nuevo Samsung Galaxy en https://www.tiendaonline.com/samsung-galaxy. ¡Ofertón a la vista! 📱🛒 #Oferta\",\n",
    "    \"¿Alguien más cree que Samsung está en otro rollo con el nuevo smartphone? 🔝📱 #EnLaCima\",\n",
    "    \"El nuevo Samsung Galaxy tiene pintaza, pero a ver si la batería aguanta el tirón. 🔋😅 #Aguante\",\n",
    "    \"Menuda jugada, ¡ya tengo el nuevo Samsung Galaxy en el punto de mira! ¡Es la hostia! 📱💥 #Comprando\",\n",
    "    \"Confieso que soy fan de los trastos de Samsung. ¡El nuevo Galaxy es la caña! 📱👏 #Fanático\",\n",
    "    \"El nuevo Samsung Galaxy me ha dejado boquiabierto. ¡Flipa, tío! 🙊📱 #Impresionante\",\n",
    "    \"Alucino con el nuevo cacharro de Samsung. ¡Es una pasada! 🤯📱 #Increíble\",\n",
    "    \"Oye, ¿quién ha catado el nuevo Samsung Galaxy? Estoy en un dilema. 🤔📱 #Pensando\",\n",
    "    \"Chavales, Samsung la ha vuelto a liar con el nuevo Galaxy. ¡Tengo que probarlo ya! 📱🎉 #LaMejorMarca\",\n",
    "    \"¡Esto es un pasote! Samsung siempre saca lo mejor. ¿Qué opináis del nuevo Galaxy? 📱🔥 #Opiniones\",\n",
    "    \"¡Decidme que no soy el único flipado con el nuevo Samsung Galaxy! 📱🤩 #Emocionado\",\n",
    "    \"Ni idea si el nuevo Samsung Galaxy será lo mío, pero me pica la curiosidad. ¿Qué decís? 📱🤔 #Curiosidad\",\n",
    "    \"A ver, ¿alguien sabe si el nuevo Samsung Galaxy mola o es un bluff? Estoy hecho un lío. 📱🤷‍♂️ #LíoMental\",\n",
    "    \"Oye, si queréis info sobre el nuevo Samsung Galaxy, llamadme al 666123456. 📞📱 #Ayuda\",\n",
    "    \"¡El nuevo Samsung Galaxy es la ostia! Entérate en https://www.samsung.com/galaxy. 📱🌐 #Increíble\",\n",
    "    \"Pensando en cambiar mi número a 666987654 para fardar con el nuevo Samsung Galaxy. 😎📱 #CambioDeNúmero\",\n",
    "    \"De verdad, estoy flipando con los trastos de Samsung. ¡El nuevo Galaxy es un pepino!\"]\n",
    "\n"
   ]
  },
  {
   "cell_type": "markdown",
   "metadata": {
    "scrolled": true
   },
   "source": [
    "## Ejercicio 1: Eliminación de Emoticonos y hashtags\n",
    "Algunos posts contienen emoticonos que pueden dificultar el análisis. Utiliza expresiones regulares para eliminar los emoticonos y los hashtags y preparar los posts para el análisis."
   ]
  },
  {
   "cell_type": "code",
   "execution_count": 2,
   "metadata": {},
   "outputs": [
    {
     "name": "stdout",
     "output_type": "stream",
     "text": [
      "Vaya tela con el nuevo Samsung Galaxy es flipante Quiero uno ya colega SamsungGalaxy\n",
      "Hostia has visto el bicharraco de smartphone que se ha sacado Samsung Me he quedado flipado  NuevosTiempos\n",
      "El diseño del último Samsung Galaxy mola tela pero no sé si aguanta los ostiones  DiseñoEstilizado\n",
      "Madre mía Samsung siempre la lía con sus movidas En qué más van a dar la campanada  InnovaciónSinFin\n",
      "La batería del nuevo Samsung Galaxy no aguanta tanto como pensaba  VidaDeBatería\n",
      "En ná voy a la tienda a por el nuevo Samsung Galaxy Parece que mola mil  Impresionante\n",
      "Le entro a pillarme el nuevo Samsung Galaxy pero el bolsillo está pelao  PocoPresupuesto\n",
      "No pillo por qué Samsung aún no clava la cámara con poca luz  CámaraDébil\n",
      "El nuevo Samsung Galaxy tiene pintaza pero me preocupa que se me joda rápido  Durabilidad\n",
      "Es de flipar cómo Samsung sigue dando la talla con sus cacharros Vivan los cachivaches  TecnologíaTop\n",
      "Tío el nuevo Samsung Galaxy está petándolo Ya lo quiero tener entre manos  NuevoBicho\n",
      "No me lo creo el nuevo Samsung Galaxy está que rompe Lo quiero ya  QuieroUno\n",
      "El último cacharro de Samsung mola mil Me lo pido en cuanto lo saquen  Impresionado\n",
      "El diseño del nuevo Samsung Galaxy está guay pero a ver si no se raja fácil  DiseñoChulo\n",
      "Algún colega más flipao con el nuevo Samsung Galaxy Si queréis opinar llamadme al 123456789  Opiniones\n",
      "Me he pillado el nuevo Samsung Galaxy en httpswwwtiendaonlinecomsamsunggalaxy Ofertón a la vista  Oferta\n",
      "Alguien más cree que Samsung está en otro rollo con el nuevo smartphone  EnLaCima\n",
      "El nuevo Samsung Galaxy tiene pintaza pero a ver si la batería aguanta el tirón  Aguante\n",
      "Menuda jugada ya tengo el nuevo Samsung Galaxy en el punto de mira Es la hostia  Comprando\n",
      "Confieso que soy fan de los trastos de Samsung El nuevo Galaxy es la caña  Fanático\n",
      "El nuevo Samsung Galaxy me ha dejado boquiabierto Flipa tío  Impresionante\n",
      "Alucino con el nuevo cacharro de Samsung Es una pasada  Increíble\n",
      "Oye quién ha catado el nuevo Samsung Galaxy Estoy en un dilema  Pensando\n",
      "Chavales Samsung la ha vuelto a liar con el nuevo Galaxy Tengo que probarlo ya  LaMejorMarca\n",
      "Esto es un pasote Samsung siempre saca lo mejor Qué opináis del nuevo Galaxy  Opiniones\n",
      "Decidme que no soy el único flipado con el nuevo Samsung Galaxy  Emocionado\n",
      "Ni idea si el nuevo Samsung Galaxy será lo mío pero me pica la curiosidad Qué decís  Curiosidad\n",
      "A ver alguien sabe si el nuevo Samsung Galaxy mola o es un bluff Estoy hecho un lío  LíoMental\n",
      "Oye si queréis info sobre el nuevo Samsung Galaxy llamadme al 666123456  Ayuda\n",
      "El nuevo Samsung Galaxy es la ostia Entérate en httpswwwsamsungcomgalaxy  Increíble\n",
      "Pensando en cambiar mi número a 666987654 para fardar con el nuevo Samsung Galaxy  CambioDeNúmero\n",
      "De verdad estoy flipando con los trastos de Samsung El nuevo Galaxy es un pepino\n"
     ]
    }
   ],
   "source": [
    "import re\n",
    "\n",
    "def eliminar_emoticonos(post):\n",
    "    # Utiliza una expresión regular para encontrar y eliminar los emoticonos\n",
    "    post_sin_emoticonos = re.sub(r'[^\\w\\s]', '', post)\n",
    "    return post_sin_emoticonos\n",
    "\n",
    "\n",
    "for post in posts:\n",
    "    print(eliminar_emoticonos(post))\n",
    "\n",
    "\n",
    "# Otra forma de hacerlo: Eliminar emoticonos de los posts\n",
    "posts_limpios = [eliminar_emoticonos(post) for post in posts]\n",
    "\n"
   ]
  },
  {
   "cell_type": "markdown",
   "metadata": {},
   "source": [
    "## Ejercicio 2: Eliminación de Palabras Vacías\n",
    "Las palabras vacías o stopwords son palabras comunes que a menudo no aportan un significado valioso al análisis. Utiliza la biblioteca nltk para eliminar las palabras vacías de los tweets. Hazlo con spaCy o con NLTK."
   ]
  },
  {
   "cell_type": "code",
   "execution_count": 3,
   "metadata": {},
   "outputs": [
    {
     "name": "stdout",
     "output_type": "stream",
     "text": [
      "Tweets original: Vaya tela con el nuevo Samsung Galaxy, es flipante. ¡Quiero uno ya, colega! #SamsungGalaxy\n",
      "Tweets limpio (sin caracteres especiales, puntuación ni palabras vacías): vaya tela nuevo samsung galaxy flipante quiero colega samsunggalaxy\n",
      "\n",
      "Tweets original: Hostia, ¿has visto el bicharraco de smartphone que se ha sacado Samsung? Me he quedado flipado. 🤯📱 #NuevosTiempos\n",
      "Tweets limpio (sin caracteres especiales, puntuación ni palabras vacías): hostia visto bicharraco smartphone sacado samsung quedado flipado nuevostiempos\n",
      "\n",
      "Tweets original: El diseño del último Samsung Galaxy mola tela, pero no sé si aguanta los ostiones. 📱💥 #DiseñoEstilizado\n",
      "Tweets limpio (sin caracteres especiales, puntuación ni palabras vacías): diseño último samsung galaxy mola tela sé si aguanta ostiones diseñoestilizado\n",
      "\n"
     ]
    },
    {
     "name": "stderr",
     "output_type": "stream",
     "text": [
      "[nltk_data] Downloading package stopwords to\n",
      "[nltk_data]     /home/codespace/nltk_data...\n",
      "[nltk_data]   Package stopwords is already up-to-date!\n"
     ]
    }
   ],
   "source": [
    "import nltk\n",
    "nltk.download('stopwords')\n",
    "from nltk.corpus import stopwords\n",
    "\n",
    "# Descargar lista de palabras vacías en inglés\n",
    "stop_words = set(stopwords.words('spanish'))\n",
    "\n",
    "def limpiar_palabras_vacias(tweet):\n",
    "    # Tokeniza el tweet en palabras\n",
    "    palabras = tweet.split()\n",
    "    \n",
    "    # Elimina palabras vacías y convierte a minúsculas\n",
    "    palabras_filtradas = [palabra.lower() for palabra in palabras if palabra.lower() not in stop_words]\n",
    "    \n",
    "    return \" \".join(palabras_filtradas)\n",
    "\n",
    "# Limpiar palabras vacías de los tweets\n",
    "tweets_limpios_final = [limpiar_palabras_vacias(tweet) for tweet in posts_limpios]\n",
    "\n",
    "# Imprime algunos ejemplos de tweets limpios\n",
    "for i in range(3):\n",
    "    print(f\"Tweets original: {posts[i]}\")\n",
    "    print(f\"Tweets limpio (sin caracteres especiales, puntuación ni palabras vacías): {tweets_limpios_final[i]}\\n\")\n"
   ]
  },
  {
   "cell_type": "code",
   "execution_count": 7,
   "metadata": {},
   "outputs": [
    {
     "name": "stdout",
     "output_type": "stream",
     "text": [
      "Tweets original: Vaya tela con el nuevo Samsung Galaxy, es flipante. ¡Quiero uno ya, colega! #SamsungGalaxy\n",
      "Tweets limpio (sin caracteres especiales, puntuación ni palabras vacías): tela samsung galaxy flipante quiero colega samsunggalaxy\n",
      "\n",
      "Tweets original: Hostia, ¿has visto el bicharraco de smartphone que se ha sacado Samsung? Me he quedado flipado. 🤯📱 #NuevosTiempos\n",
      "Tweets limpio (sin caracteres especiales, puntuación ni palabras vacías): hostia has visto bicharraco smartphone sacado samsung quedado flipado   nuevostiempos\n",
      "\n",
      "Tweets original: El diseño del último Samsung Galaxy mola tela, pero no sé si aguanta los ostiones. 📱💥 #DiseñoEstilizado\n",
      "Tweets limpio (sin caracteres especiales, puntuación ni palabras vacías): diseño samsung galaxy mola tela aguanta ostiones   diseñoestilizado\n",
      "\n"
     ]
    }
   ],
   "source": [
    "import spacy\n",
    "\n",
    "# Cargar modelo de lenguaje en español\n",
    "nlp = spacy.load('es_core_news_sm')\n",
    "\n",
    "def limpiar_palabras_vacias(tweet):\n",
    "    # Procesar el texto con Spacy\n",
    "    doc = nlp(tweet)\n",
    "    \n",
    "    # Eliminar palabras vacías y convierte a minúsculas\n",
    "    palabras_filtradas = [token.text.lower() for token in doc if not token.is_stop]\n",
    "    \n",
    "    return \" \".join(palabras_filtradas)\n",
    "\n",
    "# Limpiar palabras vacías de los tweets\n",
    "tweets_limpios_final = [limpiar_palabras_vacias(tweet) for tweet in posts_limpios]\n",
    "\n",
    "# Imprime algunos ejemplos de tweets limpios\n",
    "for i in range(3):\n",
    "    print(f\"Tweets original: {posts[i]}\")\n",
    "    print(f\"Tweets limpio (sin caracteres especiales, puntuación ni palabras vacías): {tweets_limpios_final[i]}\\n\")\n"
   ]
  },
  {
   "cell_type": "markdown",
   "metadata": {},
   "source": [
    "## Ejercicio 3: Eliminación de Números de Teléfono y URLs\n",
    "\n",
    "Además de los caracteres especiales, signos de puntuación y palabras vacías, los tweets también pueden contener información sensible, como números de teléfono y enlaces URLs. Estos elementos no contribuyen al análisis y deben ser eliminados para garantizar la privacidad y la calidad de los datos.\n",
    "\n",
    "Utiliza expresiones regulares para eliminar los números de teléfono y las URLs de los tweets. Esto asegurará que los datos estén limpios y listos para el análisis."
   ]
  },
  {
   "cell_type": "code",
   "execution_count": 8,
   "metadata": {},
   "outputs": [
    {
     "name": "stdout",
     "output_type": "stream",
     "text": [
      "Tweets original: ¡El nuevo Samsung Galaxy es la ostia! Entérate en https://www.samsung.com/galaxy. 📱🌐 #Increíble\n",
      "Tweets limpio (sin números de teléfono ni URLs): samsung galaxy ostia entérate    increíble\n",
      "\n"
     ]
    }
   ],
   "source": [
    "import re\n",
    "\n",
    "\n",
    "def limpiar_numeros_urls(tweet):\n",
    "    # Eliminar números de teléfono\n",
    "    tweet_sin_numeros = re.sub(r'\\d{9,}', '', tweet)\n",
    "    \n",
    "    # Eliminar URLs\n",
    "    tweet_sin_urls = re.sub(r'http\\S+', '', tweet_sin_numeros)\n",
    "    \n",
    "    return tweet_sin_urls\n",
    "\n",
    "# Limpiar números de teléfono y URLs de los tweets\n",
    "tweets_limpios_final = [limpiar_numeros_urls(tweet) for tweet in tweets_limpios_final]\n",
    "\n",
    "# Imprime algunos ejemplos de tweets limpios\n",
    "print(f\"Tweets original: {posts[-3]}\")\n",
    "print(f\"Tweets limpio (sin números de teléfono ni URLs): {tweets_limpios_final[-3]}\\n\")\n"
   ]
  },
  {
   "cell_type": "code",
   "execution_count": null,
   "metadata": {},
   "outputs": [],
   "source": []
  }
 ],
 "metadata": {
  "kernelspec": {
   "display_name": "Python 3",
   "language": "python",
   "name": "python3"
  },
  "language_info": {
   "codemirror_mode": {
    "name": "ipython",
    "version": 3
   },
   "file_extension": ".py",
   "mimetype": "text/x-python",
   "name": "python",
   "nbconvert_exporter": "python",
   "pygments_lexer": "ipython3",
   "version": "3.10.8"
  },
  "vscode": {
   "interpreter": {
    "hash": "107fb03afb2754bdb3cdbb13c1c83d7d6037442339c22e5ee8cf40869e8513c5"
   }
  }
 },
 "nbformat": 4,
 "nbformat_minor": 4
}
