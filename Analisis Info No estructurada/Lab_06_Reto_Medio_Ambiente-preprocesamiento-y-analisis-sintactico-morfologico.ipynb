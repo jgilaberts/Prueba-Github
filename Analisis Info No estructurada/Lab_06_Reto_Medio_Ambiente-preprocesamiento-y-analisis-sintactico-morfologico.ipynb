{
 "cells": [
  {
   "cell_type": "markdown",
   "metadata": {},
   "source": [
    "# Práctica de Laboratorio de Procesamiento del Lenguaje Natural (NLP)\n",
    "\n",
    "Tema: Análisis Lingüístico y Procesamiento de Texto\n",
    "\n",
    "## Contexto del Cliente\n",
    "\n",
    "Eres parte de un equipo de analistas de datos en una agencia de inteligencia de mercado. Uno de tus clientes es una agencia de noticias que necesita analizar grandes volúmenes de artículos periodísticos relacionados con el medio ambiente. El cliente desea comprender la estructura gramatical, identificar las palabras clave y reducir la variabilidad de las palabras en estos textos para obtener insights más precisos y eficientes.\n",
    "\n",
    "## Dataset de Artículos sobre Medio Ambiente\n",
    "\n",
    "Para este ejercicio, utilizaremos un dataset ficticio de titulares de artículos sobre medio ambiente. Cada entrada en el dataset representa un título de artículo y contiene texto en lenguaje natural relacionado con cuestiones ambientales. "
   ]
  },
  {
   "cell_type": "code",
   "execution_count": 1,
   "metadata": {},
   "outputs": [],
   "source": [
    "articulos_medio_ambiente = [\n",
    "    \"El cambio climático es una amenaza global que requiere acción inmediata.\",\n",
    "    \"La deforestación en la Amazonía está alcanzando niveles críticos.\",\n",
    "    \"La biodiversidad es esencial para la salud de nuestro planeta.\",\n",
    "    \"La contaminación del aire en las ciudades es un problema persistente.\",\n",
    "    \"Los océanos están sufriendo un aumento de la acidificación debido al CO2.\",\n",
    "    \"La conservación de los ecosistemas es crucial para proteger la vida silvestre.\",\n",
    "    \"Las energías renovables son clave para reducir las emisiones de carbono.\",\n",
    "    \"La escasez de agua es un desafío cada vez más apremiante en muchas regiones.\",\n",
    "    \"La protección de los bosques tropicales es vital para frenar el cambio climático.\",\n",
    "    \"Los esfuerzos de reciclaje pueden contribuir significativamente a la sostenibilidad.\",\n",
    "    \"El aumento de las temperaturas globales está causando eventos climáticos extremos.\",\n",
    "    \"La pérdida de hábitats naturales amenaza a numerosas especies en todo el mundo.\",\n",
    "    \"La sobreexplotación de recursos naturales agota nuestros ecosistemas.\",\n",
    "    \"La acidificación de los océanos afecta a la vida marina y los arrecifes de coral.\",\n",
    "    \"La gestión de residuos electrónicos es un desafío creciente para el medio ambiente.\",\n",
    "    \"Las energías renovables, como la solar y la eólica, son fuentes limpias de energía.\",\n",
    "    \"La polución del agua afecta a la salud humana y la vida acuática.\",\n",
    "    \"La agricultura sostenible es esencial para garantizar la seguridad alimentaria.\",\n",
    "    \"La conservación de los humedales es fundamental para la biodiversidad.\",\n",
    "    \"La pérdida de suelos fértiles amenaza la producción de alimentos.\",\n",
    "    \"La caza furtiva pone en peligro a especies emblemáticas como los elefantes.\",\n",
    "    \"La protección de los arrecifes de coral es esencial para los ecosistemas marinos.\",\n",
    "    \"La contaminación lumínica afecta a la observación del cielo estrellado.\",\n",
    "    \"La reforestación es una estrategia para combatir la pérdida de bosques.\",\n",
    "    \"La educación ambiental promueve la conciencia sobre la naturaleza.\",\n",
    "    \"La conservación de la capa de ozono es un éxito en la lucha contra el cambio climático.\",\n",
    "    \"La urbanización descontrolada puede degradar los espacios naturales.\",\n",
    "    \"La adopción de vehículos eléctricos reduce las emisiones de gases de efecto invernadero.\",\n",
    "    \"La contaminación plástica es una amenaza para los océanos y la vida marina.\",\n",
    "    \"La pérdida de glaciares es un indicador visible del cambio climático.\",\n",
    "    \"La pesca sostenible es esencial para preservar las poblaciones de peces.\",\n",
    "    \"La biodiversidad en los jardines urbanos beneficia a la fauna local.\",\n",
    "    \"La energía nuclear plantea desafíos en cuanto a la gestión de residuos radiactivos.\",\n",
    "    \"La conservación de las abejas es crucial para la polinización de cultivos.\",\n",
    "    \"La reutilización de productos contribuye a la reducción de residuos.\",\n",
    "    \"La migración de aves es un fenómeno natural que debe protegerse.\",\n",
    "    \"La degradación del suelo afecta a la producción agrícola.\",\n",
    "    \"La gestión de riesgos naturales es esencial para la seguridad de las comunidades.\",\n",
    "    \"La contaminación del suelo por productos químicos tóxicos es un problema grave.\",\n",
    "    \"La pérdida de glaciares es un indicador visible del cambio climático.\",\n",
    "    \"La pesca sostenible es esencial para preservar las poblaciones de peces.\",\n",
    "    \"La biodiversidad en los jardines urbanos beneficia a la fauna local.\",\n",
    "    \"La energía nuclear plantea desafíos en cuanto a la gestión de residuos radiactivos.\",\n",
    "    \"La conservación de las abejas es crucial para la polinización de cultivos.\",\n",
    "    \"La reutilización de productos contribuye a la reducción de residuos.\",\n",
    "    \"La migración de aves es un fenómeno natural que debe protegerse.\",\n",
    "    \"La degradación del suelo afecta a la producción agrícola.\",\n",
    "    \"La gestión de riesgos naturales es esencial para la seguridad de las comunidades.\",\n",
    "    \"La contaminación del suelo por productos químicos tóxicos es un problema grave.\"\n",
    "]\n"
   ]
  },
  {
   "cell_type": "markdown",
   "metadata": {},
   "source": [
    "## Ejercicio 1: Análisis Gramatical (POS Tagging)\n",
    "El primer paso en el análisis de texto es etiquetar cada palabra con su categoría gramatical (Part of Speech, POS). Utiliza una biblioteca de procesamiento de lenguaje natural como NLTK o SpaCy para realizar el análisis POS de los títulos de artículos sobre medio ambiente. Añade el análisis morfológico que ofrece SpaCy. "
   ]
  },
  {
   "cell_type": "code",
   "execution_count": 8,
   "metadata": {},
   "outputs": [
    {
     "name": "stdout",
     "output_type": "stream",
     "text": [
      "[('El', 'NNP'), ('cambio', 'NN'), ('climático', 'NN'), ('es', 'NN'), ('una', 'JJ'), ('amenaza', 'NN'), ('global', 'JJ'), ('que', 'NN'), ('requiere', 'RB'), ('acción', 'JJ'), ('inmediata', 'NN'), ('.', '.')]\n"
     ]
    },
    {
     "name": "stderr",
     "output_type": "stream",
     "text": [
      "[nltk_data] Downloading package punkt to /home/codespace/nltk_data...\n",
      "[nltk_data]   Package punkt is already up-to-date!\n",
      "[nltk_data] Error loading pos_tag: Package 'pos_tag' not found in\n",
      "[nltk_data]     index\n"
     ]
    }
   ],
   "source": [
    "import nltk\n",
    "nltk.download('punkt')\n",
    "from nltk import word_tokenize, pos_tag\n",
    "\n",
    "# Realizar análisis POS para un artículo de ejemplo\n",
    "articulo_ejemplo = \"El cambio climático es una amenaza global que requiere acción inmediata.\"\n",
    "palabras = word_tokenize(articulo_ejemplo)\n",
    "categorias_gramaticales = pos_tag(palabras)\n",
    "print(categorias_gramaticales)"
   ]
  },
  {
   "cell_type": "code",
   "execution_count": 9,
   "metadata": {},
   "outputs": [
    {
     "name": "stdout",
     "output_type": "stream",
     "text": [
      "\n",
      "\n",
      "Token: El |  Análisis morfológico: DET\n",
      "Token: cambio |  Análisis morfológico: NOUN\n",
      "Token: climático |  Análisis morfológico: ADJ\n",
      "Token: es |  Análisis morfológico: AUX\n",
      "Token: una |  Análisis morfológico: DET\n",
      "Token: amenaza |  Análisis morfológico: NOUN\n",
      "Token: global |  Análisis morfológico: ADJ\n",
      "Token: que |  Análisis morfológico: PRON\n",
      "Token: requiere |  Análisis morfológico: VERB\n",
      "Token: acción |  Análisis morfológico: NOUN\n",
      "Token: inmediata |  Análisis morfológico: ADJ\n",
      "Token: . |  Análisis morfológico: PUNCT\n"
     ]
    }
   ],
   "source": [
    "import spacy\n",
    "\n",
    "# Cargar modelo de lenguaje en español\n",
    "nlp = spacy.load('es_core_news_sm')\n",
    "\n",
    "# Realizar análisis morfológico para un artículo de ejemplo\n",
    "doc = nlp(articulo_ejemplo)\n",
    "\n",
    "print(\"\\n\")\n",
    "# Encontrar el sujeto y el predicado\n",
    "for token in doc:\n",
    "    print(\"Token:\", token.text, \"|  Análisis morfológico:\", token.tag_)\n",
    "    \n"
   ]
  },
  {
   "cell_type": "markdown",
   "metadata": {},
   "source": [
    "## Ejercicio 2: Análisis de Dependencias\n",
    "El análisis de dependencias implica identificar las relaciones sintácticas entre las palabras en una oración. Utiliza SpaCy o alguna otra biblioteca para analizar las dependencias sintácticas en los artículos sobre medio ambiente y encuentra el sujeto y el verbo de cada título de artículo. Añade la visualización del árbol de dependencias completo, utilizando SpaCy.\n",
    "\n",
    "Pregunta: ¿Puedes identificar las estructuras de sujeto-verbo en los artículos?"
   ]
  },
  {
   "cell_type": "code",
   "execution_count": 10,
   "metadata": {},
   "outputs": [
    {
     "name": "stdout",
     "output_type": "stream",
     "text": [
      "det La\n",
      "nsubj deforestación\n",
      "case en\n",
      "det la\n",
      "nmod Amazonía\n",
      "aux está\n",
      "ROOT alcanzando\n",
      "obj niveles\n",
      "amod críticos\n",
      "punct .\n",
      "\n",
      "\n",
      "Sujeto: deforestación\n",
      "Núcleo verbo: alcanzando\n"
     ]
    }
   ],
   "source": [
    "import spacy\n",
    "from spacy import displacy\n",
    "\n",
    "# Cargar el modelo de lenguaje de SpaCy en español\n",
    "nlp = spacy.load(\"es_core_news_sm\")\n",
    "\n",
    "# Realizar análisis de dependencias para un artículo de ejemplo\n",
    "articulo_ejemplo = \"La deforestación en la Amazonía está alcanzando niveles críticos.\"\n",
    "doc = nlp(articulo_ejemplo)\n",
    "\n",
    "# Encontrar el sujeto y el predicado\n",
    "sujeto = \"\"\n",
    "predicado = \"\"\n",
    "for token in doc:\n",
    "    print(token.dep_, token.text)\n",
    "    if \"subj\" in token.dep_:\n",
    "        sujeto = token.text\n",
    "    elif \"ROOT\" in token.dep_:\n",
    "        predicado = token.text\n",
    "print(\"\\n\")\n",
    "print(\"Sujeto:\", sujeto)\n",
    "print(\"Núcleo verbo:\", predicado)\n",
    "\n",
    "# Observación: cuando el verbo es copulativo (ser, estar, parecer), la etiqueta no es \"ROOT\", sino \"cop\"\n",
    "# Docu interesante: https://spacy.io/usage/linguistic-features\n"
   ]
  },
  {
   "cell_type": "code",
   "execution_count": 11,
   "metadata": {},
   "outputs": [
    {
     "data": {
      "text/html": [
       "<span class=\"tex2jax_ignore\"><svg xmlns=\"http://www.w3.org/2000/svg\" xmlns:xlink=\"http://www.w3.org/1999/xlink\" xml:lang=\"es\" id=\"e1a2f98799684fafa00fbfcb2e129416-0\" class=\"displacy\" width=\"1625\" height=\"487.0\" direction=\"ltr\" style=\"max-width: none; height: 487.0px; color: #000000; background: #ffffff; font-family: Arial; direction: ltr\">\n",
       "<text class=\"displacy-token\" fill=\"currentColor\" text-anchor=\"middle\" y=\"397.0\">\n",
       "    <tspan class=\"displacy-word\" fill=\"currentColor\" x=\"50\">La</tspan>\n",
       "    <tspan class=\"displacy-tag\" dy=\"2em\" fill=\"currentColor\" x=\"50\">DET</tspan>\n",
       "</text>\n",
       "\n",
       "<text class=\"displacy-token\" fill=\"currentColor\" text-anchor=\"middle\" y=\"397.0\">\n",
       "    <tspan class=\"displacy-word\" fill=\"currentColor\" x=\"225\">deforestación</tspan>\n",
       "    <tspan class=\"displacy-tag\" dy=\"2em\" fill=\"currentColor\" x=\"225\">NOUN</tspan>\n",
       "</text>\n",
       "\n",
       "<text class=\"displacy-token\" fill=\"currentColor\" text-anchor=\"middle\" y=\"397.0\">\n",
       "    <tspan class=\"displacy-word\" fill=\"currentColor\" x=\"400\">en</tspan>\n",
       "    <tspan class=\"displacy-tag\" dy=\"2em\" fill=\"currentColor\" x=\"400\">ADP</tspan>\n",
       "</text>\n",
       "\n",
       "<text class=\"displacy-token\" fill=\"currentColor\" text-anchor=\"middle\" y=\"397.0\">\n",
       "    <tspan class=\"displacy-word\" fill=\"currentColor\" x=\"575\">la</tspan>\n",
       "    <tspan class=\"displacy-tag\" dy=\"2em\" fill=\"currentColor\" x=\"575\">DET</tspan>\n",
       "</text>\n",
       "\n",
       "<text class=\"displacy-token\" fill=\"currentColor\" text-anchor=\"middle\" y=\"397.0\">\n",
       "    <tspan class=\"displacy-word\" fill=\"currentColor\" x=\"750\">Amazonía</tspan>\n",
       "    <tspan class=\"displacy-tag\" dy=\"2em\" fill=\"currentColor\" x=\"750\">PROPN</tspan>\n",
       "</text>\n",
       "\n",
       "<text class=\"displacy-token\" fill=\"currentColor\" text-anchor=\"middle\" y=\"397.0\">\n",
       "    <tspan class=\"displacy-word\" fill=\"currentColor\" x=\"925\">está</tspan>\n",
       "    <tspan class=\"displacy-tag\" dy=\"2em\" fill=\"currentColor\" x=\"925\">AUX</tspan>\n",
       "</text>\n",
       "\n",
       "<text class=\"displacy-token\" fill=\"currentColor\" text-anchor=\"middle\" y=\"397.0\">\n",
       "    <tspan class=\"displacy-word\" fill=\"currentColor\" x=\"1100\">alcanzando</tspan>\n",
       "    <tspan class=\"displacy-tag\" dy=\"2em\" fill=\"currentColor\" x=\"1100\">VERB</tspan>\n",
       "</text>\n",
       "\n",
       "<text class=\"displacy-token\" fill=\"currentColor\" text-anchor=\"middle\" y=\"397.0\">\n",
       "    <tspan class=\"displacy-word\" fill=\"currentColor\" x=\"1275\">niveles</tspan>\n",
       "    <tspan class=\"displacy-tag\" dy=\"2em\" fill=\"currentColor\" x=\"1275\">NOUN</tspan>\n",
       "</text>\n",
       "\n",
       "<text class=\"displacy-token\" fill=\"currentColor\" text-anchor=\"middle\" y=\"397.0\">\n",
       "    <tspan class=\"displacy-word\" fill=\"currentColor\" x=\"1450\">críticos.</tspan>\n",
       "    <tspan class=\"displacy-tag\" dy=\"2em\" fill=\"currentColor\" x=\"1450\">ADJ</tspan>\n",
       "</text>\n",
       "\n",
       "<g class=\"displacy-arrow\">\n",
       "    <path class=\"displacy-arc\" id=\"arrow-e1a2f98799684fafa00fbfcb2e129416-0-0\" stroke-width=\"2px\" d=\"M70,352.0 C70,264.5 210.0,264.5 210.0,352.0\" fill=\"none\" stroke=\"currentColor\"/>\n",
       "    <text dy=\"1.25em\" style=\"font-size: 0.8em; letter-spacing: 1px\">\n",
       "        <textPath xlink:href=\"#arrow-e1a2f98799684fafa00fbfcb2e129416-0-0\" class=\"displacy-label\" startOffset=\"50%\" side=\"left\" fill=\"currentColor\" text-anchor=\"middle\">det</textPath>\n",
       "    </text>\n",
       "    <path class=\"displacy-arrowhead\" d=\"M70,354.0 L62,342.0 78,342.0\" fill=\"currentColor\"/>\n",
       "</g>\n",
       "\n",
       "<g class=\"displacy-arrow\">\n",
       "    <path class=\"displacy-arc\" id=\"arrow-e1a2f98799684fafa00fbfcb2e129416-0-1\" stroke-width=\"2px\" d=\"M245,352.0 C245,2.0 1100.0,2.0 1100.0,352.0\" fill=\"none\" stroke=\"currentColor\"/>\n",
       "    <text dy=\"1.25em\" style=\"font-size: 0.8em; letter-spacing: 1px\">\n",
       "        <textPath xlink:href=\"#arrow-e1a2f98799684fafa00fbfcb2e129416-0-1\" class=\"displacy-label\" startOffset=\"50%\" side=\"left\" fill=\"currentColor\" text-anchor=\"middle\">nsubj</textPath>\n",
       "    </text>\n",
       "    <path class=\"displacy-arrowhead\" d=\"M245,354.0 L237,342.0 253,342.0\" fill=\"currentColor\"/>\n",
       "</g>\n",
       "\n",
       "<g class=\"displacy-arrow\">\n",
       "    <path class=\"displacy-arc\" id=\"arrow-e1a2f98799684fafa00fbfcb2e129416-0-2\" stroke-width=\"2px\" d=\"M420,352.0 C420,177.0 740.0,177.0 740.0,352.0\" fill=\"none\" stroke=\"currentColor\"/>\n",
       "    <text dy=\"1.25em\" style=\"font-size: 0.8em; letter-spacing: 1px\">\n",
       "        <textPath xlink:href=\"#arrow-e1a2f98799684fafa00fbfcb2e129416-0-2\" class=\"displacy-label\" startOffset=\"50%\" side=\"left\" fill=\"currentColor\" text-anchor=\"middle\">case</textPath>\n",
       "    </text>\n",
       "    <path class=\"displacy-arrowhead\" d=\"M420,354.0 L412,342.0 428,342.0\" fill=\"currentColor\"/>\n",
       "</g>\n",
       "\n",
       "<g class=\"displacy-arrow\">\n",
       "    <path class=\"displacy-arc\" id=\"arrow-e1a2f98799684fafa00fbfcb2e129416-0-3\" stroke-width=\"2px\" d=\"M595,352.0 C595,264.5 735.0,264.5 735.0,352.0\" fill=\"none\" stroke=\"currentColor\"/>\n",
       "    <text dy=\"1.25em\" style=\"font-size: 0.8em; letter-spacing: 1px\">\n",
       "        <textPath xlink:href=\"#arrow-e1a2f98799684fafa00fbfcb2e129416-0-3\" class=\"displacy-label\" startOffset=\"50%\" side=\"left\" fill=\"currentColor\" text-anchor=\"middle\">det</textPath>\n",
       "    </text>\n",
       "    <path class=\"displacy-arrowhead\" d=\"M595,354.0 L587,342.0 603,342.0\" fill=\"currentColor\"/>\n",
       "</g>\n",
       "\n",
       "<g class=\"displacy-arrow\">\n",
       "    <path class=\"displacy-arc\" id=\"arrow-e1a2f98799684fafa00fbfcb2e129416-0-4\" stroke-width=\"2px\" d=\"M245,352.0 C245,89.5 745.0,89.5 745.0,352.0\" fill=\"none\" stroke=\"currentColor\"/>\n",
       "    <text dy=\"1.25em\" style=\"font-size: 0.8em; letter-spacing: 1px\">\n",
       "        <textPath xlink:href=\"#arrow-e1a2f98799684fafa00fbfcb2e129416-0-4\" class=\"displacy-label\" startOffset=\"50%\" side=\"left\" fill=\"currentColor\" text-anchor=\"middle\">nmod</textPath>\n",
       "    </text>\n",
       "    <path class=\"displacy-arrowhead\" d=\"M745.0,354.0 L753.0,342.0 737.0,342.0\" fill=\"currentColor\"/>\n",
       "</g>\n",
       "\n",
       "<g class=\"displacy-arrow\">\n",
       "    <path class=\"displacy-arc\" id=\"arrow-e1a2f98799684fafa00fbfcb2e129416-0-5\" stroke-width=\"2px\" d=\"M945,352.0 C945,264.5 1085.0,264.5 1085.0,352.0\" fill=\"none\" stroke=\"currentColor\"/>\n",
       "    <text dy=\"1.25em\" style=\"font-size: 0.8em; letter-spacing: 1px\">\n",
       "        <textPath xlink:href=\"#arrow-e1a2f98799684fafa00fbfcb2e129416-0-5\" class=\"displacy-label\" startOffset=\"50%\" side=\"left\" fill=\"currentColor\" text-anchor=\"middle\">aux</textPath>\n",
       "    </text>\n",
       "    <path class=\"displacy-arrowhead\" d=\"M945,354.0 L937,342.0 953,342.0\" fill=\"currentColor\"/>\n",
       "</g>\n",
       "\n",
       "<g class=\"displacy-arrow\">\n",
       "    <path class=\"displacy-arc\" id=\"arrow-e1a2f98799684fafa00fbfcb2e129416-0-6\" stroke-width=\"2px\" d=\"M1120,352.0 C1120,264.5 1260.0,264.5 1260.0,352.0\" fill=\"none\" stroke=\"currentColor\"/>\n",
       "    <text dy=\"1.25em\" style=\"font-size: 0.8em; letter-spacing: 1px\">\n",
       "        <textPath xlink:href=\"#arrow-e1a2f98799684fafa00fbfcb2e129416-0-6\" class=\"displacy-label\" startOffset=\"50%\" side=\"left\" fill=\"currentColor\" text-anchor=\"middle\">obj</textPath>\n",
       "    </text>\n",
       "    <path class=\"displacy-arrowhead\" d=\"M1260.0,354.0 L1268.0,342.0 1252.0,342.0\" fill=\"currentColor\"/>\n",
       "</g>\n",
       "\n",
       "<g class=\"displacy-arrow\">\n",
       "    <path class=\"displacy-arc\" id=\"arrow-e1a2f98799684fafa00fbfcb2e129416-0-7\" stroke-width=\"2px\" d=\"M1295,352.0 C1295,264.5 1435.0,264.5 1435.0,352.0\" fill=\"none\" stroke=\"currentColor\"/>\n",
       "    <text dy=\"1.25em\" style=\"font-size: 0.8em; letter-spacing: 1px\">\n",
       "        <textPath xlink:href=\"#arrow-e1a2f98799684fafa00fbfcb2e129416-0-7\" class=\"displacy-label\" startOffset=\"50%\" side=\"left\" fill=\"currentColor\" text-anchor=\"middle\">amod</textPath>\n",
       "    </text>\n",
       "    <path class=\"displacy-arrowhead\" d=\"M1435.0,354.0 L1443.0,342.0 1427.0,342.0\" fill=\"currentColor\"/>\n",
       "</g>\n",
       "</svg></span>"
      ],
      "text/plain": [
       "<IPython.core.display.HTML object>"
      ]
     },
     "metadata": {},
     "output_type": "display_data"
    }
   ],
   "source": [
    "displacy.render(doc, style='dep')"
   ]
  },
  {
   "cell_type": "markdown",
   "metadata": {},
   "source": [
    "## Ejercicio 3: Shallow Parsing (Chunking)\n",
    "El shallow parsing o chunking consiste en identificar frases nominales y verbales en un texto. SpaCy tiene una forma sencilla de identificar los noun chunks. Utiliza técnicas de shallow parsing para extraer frases nominales de los artículos sobre medio ambiente. ¿Se podría identificar cuál de estas frases nominales son el sujeto, complemento directo, etc? ¿Cómo?"
   ]
  },
  {
   "cell_type": "code",
   "execution_count": 12,
   "metadata": {},
   "outputs": [
    {
     "name": "stdout",
     "output_type": "stream",
     "text": [
      "La deforestación\n",
      "la Amazonía\n",
      "niveles críticos\n"
     ]
    }
   ],
   "source": [
    "import spacy\n",
    "from spacy import displacy\n",
    "\n",
    "# Cargar el modelo de lenguaje de SpaCy en español\n",
    "nlp = spacy.load(\"es_core_news_sm\")\n",
    "\n",
    "# Realizar análisis de dependencias para un artículo de ejemplo\n",
    "articulo_ejemplo = \"La deforestación en la Amazonía está alcanzando niveles críticos.\"\n",
    "doc = nlp(articulo_ejemplo)\n",
    "\n",
    "lista_sintagmas_nominales = doc.noun_chunks\n",
    "for x in lista_sintagmas_nominales:\n",
    "    print(x) \n"
   ]
  },
  {
   "cell_type": "markdown",
   "metadata": {},
   "source": [
    "## Ejercicio 5: Desafío - Análisis Avanzado y Traducción\n",
    "Dado un artículo en un idioma desconocido relacionado con el medio ambiente, debes realizar las siguientes tareas:\n",
    "\n",
    "Identificar el idioma del artículo.\n",
    "Realizar la traducción del artículo al español.\n",
    "Realizar el análisis gramatical (POS tagging) del artículo traducido.\n",
    "Realizar la lematización de las palabras en el artículo traducido.\n",
    "Puedes utilizar bibliotecas como SpaCy, NLTK y una API de traducción (por ejemplo, Google Translate) para completar estas tareas.\n",
    "\n",
    "Pregunta: ¿Qué idioma tiene el artículo? ¿Cuál es la traducción al español? ¿Cuáles son las categorías gramaticales de las palabras en el artículo traducido? ¿Cuáles son los lemas de las palabras?"
   ]
  },
  {
   "cell_type": "code",
   "execution_count": 13,
   "metadata": {},
   "outputs": [
    {
     "name": "stdout",
     "output_type": "stream",
     "text": [
      "Requirement already satisfied: googletrans==4.0.0-rc1 in /usr/local/python/3.10.8/lib/python3.10/site-packages (4.0.0rc1)\n",
      "Requirement already satisfied: httpx==0.13.3 in /usr/local/python/3.10.8/lib/python3.10/site-packages (from googletrans==4.0.0-rc1) (0.13.3)\n",
      "Requirement already satisfied: certifi in /home/codespace/.local/lib/python3.10/site-packages (from httpx==0.13.3->googletrans==4.0.0-rc1) (2023.7.22)\n",
      "Requirement already satisfied: hstspreload in /usr/local/python/3.10.8/lib/python3.10/site-packages (from httpx==0.13.3->googletrans==4.0.0-rc1) (2023.1.1)\n",
      "Requirement already satisfied: sniffio in /home/codespace/.local/lib/python3.10/site-packages (from httpx==0.13.3->googletrans==4.0.0-rc1) (1.3.0)\n",
      "Requirement already satisfied: chardet==3.* in /usr/local/python/3.10.8/lib/python3.10/site-packages (from httpx==0.13.3->googletrans==4.0.0-rc1) (3.0.4)\n",
      "Requirement already satisfied: idna==2.* in /usr/local/python/3.10.8/lib/python3.10/site-packages (from httpx==0.13.3->googletrans==4.0.0-rc1) (2.10)\n",
      "Requirement already satisfied: rfc3986<2,>=1.3 in /usr/local/python/3.10.8/lib/python3.10/site-packages (from httpx==0.13.3->googletrans==4.0.0-rc1) (1.5.0)\n",
      "Requirement already satisfied: httpcore==0.9.* in /usr/local/python/3.10.8/lib/python3.10/site-packages (from httpx==0.13.3->googletrans==4.0.0-rc1) (0.9.1)\n",
      "Requirement already satisfied: h11<0.10,>=0.8 in /usr/local/python/3.10.8/lib/python3.10/site-packages (from httpcore==0.9.*->httpx==0.13.3->googletrans==4.0.0-rc1) (0.9.0)\n",
      "Requirement already satisfied: h2==3.* in /usr/local/python/3.10.8/lib/python3.10/site-packages (from httpcore==0.9.*->httpx==0.13.3->googletrans==4.0.0-rc1) (3.2.0)\n",
      "Requirement already satisfied: hyperframe<6,>=5.2.0 in /usr/local/python/3.10.8/lib/python3.10/site-packages (from h2==3.*->httpcore==0.9.*->httpx==0.13.3->googletrans==4.0.0-rc1) (5.2.0)\n",
      "Requirement already satisfied: hpack<4,>=3.0 in /usr/local/python/3.10.8/lib/python3.10/site-packages (from h2==3.*->httpcore==0.9.*->httpx==0.13.3->googletrans==4.0.0-rc1) (3.0.0)\n",
      "\n",
      "\u001b[1m[\u001b[0m\u001b[34;49mnotice\u001b[0m\u001b[1;39;49m]\u001b[0m\u001b[39;49m A new release of pip is available: \u001b[0m\u001b[31;49m23.3\u001b[0m\u001b[39;49m -> \u001b[0m\u001b[32;49m23.3.1\u001b[0m\n",
      "\u001b[1m[\u001b[0m\u001b[34;49mnotice\u001b[0m\u001b[1;39;49m]\u001b[0m\u001b[39;49m To update, run: \u001b[0m\u001b[32;49mpip install --upgrade pip\u001b[0m\n",
      "Note: you may need to restart the kernel to use updated packages.\n"
     ]
    }
   ],
   "source": [
    "pip install googletrans==4.0.0-rc1\n"
   ]
  },
  {
   "cell_type": "code",
   "execution_count": 14,
   "metadata": {},
   "outputs": [],
   "source": [
    "import langdetect\n",
    "import requests\n",
    "import spacy\n",
    "from langdetect import detect\n",
    "from bs4 import BeautifulSoup\n",
    "from googletrans import Translator\n",
    "\n",
    "# Ejemplo de artículo en un idioma desconocido (simulado)\n",
    "url_articulo = \"https://www.bbc.com/news/science-environment-58874518\"\n",
    "response = requests.get(url_articulo)\n",
    "\n",
    "# Utilizaremos el codificador 'utf-8' para evitar problemas con los caracteres especiales\n",
    "response.encoding = 'utf-8'\n",
    "# Parsear el contenido del artículo\n",
    "soup = BeautifulSoup(response.text, 'html.parser')\n",
    "# Extraer el texto del artículo\n",
    "articulo_desconocido = soup.get_text()\n",
    "\n",
    "articulo_desconocido = articulo_desconocido.split(\"Image source,\")[1]"
   ]
  },
  {
   "cell_type": "code",
   "execution_count": 15,
   "metadata": {},
   "outputs": [
    {
     "name": "stdout",
     "output_type": "stream",
     "text": [
      "Idioma Detectado: en\n",
      "Traducción al Español:\n",
      "Getty Imagesa El nuevo compromiso de reducir el uso de combustibles fósiles para abordar el cambio climático se acordó en la cumbre de la COP28 en Dubai. El acuerdo enfatiza la importancia de alcanzar \"cero neto\" para 2050 para evitar las peores consecuencias del calentamiento global. ¿Qué hace 'net cero'?¿Media? Cero neto significa que ya no se suma a la cantidad total de gases de efecto invernadero en la atmósfera.Los gases de efecto invernadero incluyen dióxido de carbono (CO2) y metano.El CO2 se libera cuando el petróleo, el gas y el carbón se queman en hogares, fábricas y transporte de energía.El metano se produce a través de la agricultura y el vertedero.Estos gases aumentan las temperaturas globales al atrapar la energía adicional en la atmósfera de la Tierra. Mientras tanto, la rápida deforestación en todo el mundo significa que hay menos árboles para absorber CO2. Bajo el Acuerdo Climático de París de 2015, 197 países, incluido el Reino Unido, acordaron tratar de limitar GlobalLa temperatura aumenta a 1.5c para 2100. Para lograr esto, las emisiones de CO2 deben caer en casi la mitad para 2030 y alcanzar cero neto para 2050, según el cuerpo climático de la ONU, el IPCC.Pero estas emisiones permanecen en máximos récord.Una guía realmente simple para el cambio climático significaría neto cero un final completo para las emisiones de gases de efecto invernadero. No todas las emisiones pueden reducirse a cero, por lo que las que permanecen deben coincidir al eliminar activamente los gases de efecto invernadero de la atmósfera.Los métodos de eliminación natural incluyen plantar árboles y restaurar turberas.\n",
      "Idioma Detectado: en\n",
      "Traducción al Español: Getty Imagesa El nuevo compromiso de reducir el uso de combustibles fósiles para abordar el cambio climático se acordó en la cumbre de la COP28 en Dubai. El acuerdo enfatiza la importancia de alcanzar \"cero neto\" para 2050 para evitar las peores consecuencias del calentamiento global. ¿Qué hace 'net cero'?¿Media? Cero neto significa que ya no se suma a la cantidad total de gases de efecto invernadero en la atmósfera.Los gases de efecto invernadero incluyen dióxido de carbono (CO2) y metano.El CO2 se libera cuando el petróleo, el gas y el carbón se queman en hogares, fábricas y transporte de energía.El metano se produce a través de la agricultura y el vertedero.Estos gases aumentan las temperaturas globales al atrapar la energía adicional en la atmósfera de la Tierra. Mientras tanto, la rápida deforestación en todo el mundo significa que hay menos árboles para absorber CO2. Bajo el Acuerdo Climático de París de 2015, 197 países, incluido el Reino Unido, acordaron tratar de limitar GlobalLa temperatura aumenta a 1.5c para 2100. Para lograr esto, las emisiones de CO2 deben caer en casi la mitad para 2030 y alcanzar cero neto para 2050, según el cuerpo climático de la ONU, el IPCC.Pero estas emisiones permanecen en máximos récord.Una guía realmente simple para el cambio climático significaría neto cero un final completo para las emisiones de gases de efecto invernadero. No todas las emisiones pueden reducirse a cero, por lo que las que permanecen deben coincidir al eliminar activamente los gases de efecto invernadero de la atmósfera.Los métodos de eliminación natural incluyen plantar árboles y restaurar turberas.\n",
      "Categorías Gramaticales: [('Getty', 'PROPN'), ('Imagesa', 'PROPN'), ('El', 'DET'), ('nuevo', 'ADJ'), ('compromiso', 'NOUN'), ('de', 'ADP'), ('reducir', 'VERB'), ('el', 'DET'), ('uso', 'NOUN'), ('de', 'ADP'), ('combustibles', 'NOUN'), ('fósiles', 'ADJ'), ('para', 'ADP'), ('abordar', 'VERB'), ('el', 'DET'), ('cambio', 'NOUN'), ('climático', 'ADJ'), ('se', 'PRON'), ('acordó', 'VERB'), ('en', 'ADP'), ('la', 'DET'), ('cumbre', 'NOUN'), ('de', 'ADP'), ('la', 'DET'), ('COP28', 'NOUN'), ('en', 'ADP'), ('Dubai', 'PROPN'), ('.', 'PUNCT'), ('El', 'DET'), ('acuerdo', 'NOUN'), ('enfatiza', 'VERB'), ('la', 'DET'), ('importancia', 'NOUN'), ('de', 'ADP'), ('alcanzar', 'VERB'), ('\"', 'PUNCT'), ('cero', 'NOUN'), ('neto', 'ADJ'), ('\"', 'PUNCT'), ('para', 'ADP'), ('2050', 'NOUN'), ('para', 'ADP'), ('evitar', 'VERB'), ('las', 'DET'), ('peores', 'ADJ'), ('consecuencias', 'NOUN'), ('del', 'ADP'), ('calentamiento', 'NOUN'), ('global', 'ADJ'), ('.', 'PUNCT'), ('¿', 'PUNCT'), ('Qué', 'PRON'), ('hace', 'VERB'), (\"'\", 'SYM'), ('net', 'ADJ'), (\"cero'?¿Media\", 'NOUN'), ('?', 'PUNCT'), ('Cero', 'DET'), ('neto', 'NOUN'), ('significa', 'VERB'), ('que', 'SCONJ'), ('ya', 'ADV'), ('no', 'ADV'), ('se', 'PRON'), ('suma', 'VERB'), ('a', 'ADP'), ('la', 'DET'), ('cantidad', 'NOUN'), ('total', 'ADJ'), ('de', 'ADP'), ('gases', 'NOUN'), ('de', 'ADP'), ('efecto', 'NOUN'), ('invernadero', 'NOUN'), ('en', 'ADP'), ('la', 'DET'), ('atmósfera', 'NOUN'), ('.', 'PUNCT'), ('Los', 'DET'), ('gases', 'NOUN'), ('de', 'ADP'), ('efecto', 'NOUN'), ('invernadero', 'NOUN'), ('incluyen', 'VERB'), ('dióxido', 'ADJ'), ('de', 'ADP'), ('carbono', 'NOUN'), ('(', 'PUNCT'), ('CO2', 'PROPN'), (')', 'PUNCT'), ('y', 'CCONJ'), ('metano', 'NOUN'), ('.', 'PUNCT'), ('El', 'DET'), ('CO2', 'NOUN'), ('se', 'PRON'), ('libera', 'VERB'), ('cuando', 'SCONJ'), ('el', 'DET'), ('petróleo', 'NOUN'), (',', 'PUNCT'), ('el', 'DET'), ('gas', 'NOUN'), ('y', 'CCONJ'), ('el', 'DET'), ('carbón', 'NOUN'), ('se', 'PRON'), ('queman', 'VERB'), ('en', 'ADP'), ('hogares', 'NOUN'), (',', 'PUNCT'), ('fábricas', 'NOUN'), ('y', 'CCONJ'), ('transporte', 'NOUN'), ('de', 'ADP'), ('energía', 'NOUN'), ('.', 'PUNCT'), ('El', 'DET'), ('metano', 'NOUN'), ('se', 'PRON'), ('produce', 'VERB'), ('a', 'ADP'), ('través', 'NOUN'), ('de', 'ADP'), ('la', 'DET'), ('agricultura', 'NOUN'), ('y', 'CCONJ'), ('el', 'DET'), ('vertedero', 'NOUN'), ('.', 'PUNCT'), ('Estos', 'DET'), ('gases', 'NOUN'), ('aumentan', 'VERB'), ('las', 'DET'), ('temperaturas', 'NOUN'), ('globales', 'ADJ'), ('al', 'ADP'), ('atrapar', 'VERB'), ('la', 'DET'), ('energía', 'NOUN'), ('adicional', 'ADJ'), ('en', 'ADP'), ('la', 'DET'), ('atmósfera', 'NOUN'), ('de', 'ADP'), ('la', 'DET'), ('Tierra', 'PROPN'), ('.', 'PUNCT'), ('Mientras', 'CCONJ'), ('tanto', 'NOUN'), (',', 'PUNCT'), ('la', 'DET'), ('rápida', 'ADJ'), ('deforestación', 'NOUN'), ('en', 'ADP'), ('todo', 'DET'), ('el', 'DET'), ('mundo', 'NOUN'), ('significa', 'VERB'), ('que', 'SCONJ'), ('hay', 'AUX'), ('menos', 'ADV'), ('árboles', 'NOUN'), ('para', 'ADP'), ('absorber', 'VERB'), ('CO2', 'NOUN'), ('.', 'PUNCT'), ('Bajo', 'ADP'), ('el', 'DET'), ('Acuerdo', 'PROPN'), ('Climático', 'PROPN'), ('de', 'ADP'), ('París', 'PROPN'), ('de', 'ADP'), ('2015', 'NOUN'), (',', 'PUNCT'), ('197', 'NUM'), ('países', 'NOUN'), (',', 'PUNCT'), ('incluido', 'VERB'), ('el', 'DET'), ('Reino', 'PROPN'), ('Unido', 'PROPN'), (',', 'PUNCT'), ('acordaron', 'VERB'), ('tratar', 'VERB'), ('de', 'ADP'), ('limitar', 'VERB'), ('GlobalLa', 'PROPN'), ('temperatura', 'NOUN'), ('aumenta', 'VERB'), ('a', 'ADP'), ('1.5c', 'NUM'), ('para', 'ADP'), ('2100', 'NOUN'), ('.', 'PUNCT'), ('Para', 'ADP'), ('lograr', 'VERB'), ('esto', 'PRON'), (',', 'PUNCT'), ('las', 'DET'), ('emisiones', 'NOUN'), ('de', 'ADP'), ('CO2', 'NOUN'), ('deben', 'AUX'), ('caer', 'VERB'), ('en', 'ADP'), ('casi', 'ADV'), ('la', 'DET'), ('mitad', 'NOUN'), ('para', 'ADP'), ('2030', 'NOUN'), ('y', 'CCONJ'), ('alcanzar', 'VERB'), ('cero', 'NOUN'), ('neto', 'ADJ'), ('para', 'ADP'), ('2050', 'NOUN'), (',', 'PUNCT'), ('según', 'ADP'), ('el', 'DET'), ('cuerpo', 'NOUN'), ('climático', 'ADJ'), ('de', 'ADP'), ('la', 'DET'), ('ONU', 'PROPN'), (',', 'PUNCT'), ('el', 'DET'), ('IPCC.Pero', 'PROPN'), ('estas', 'DET'), ('emisiones', 'NOUN'), ('permanecen', 'VERB'), ('en', 'ADP'), ('máximos', 'ADJ'), ('récord', 'NOUN'), ('.', 'PUNCT'), ('Una', 'DET'), ('guía', 'NOUN'), ('realmente', 'ADV'), ('simple', 'ADJ'), ('para', 'ADP'), ('el', 'DET'), ('cambio', 'NOUN'), ('climático', 'ADJ'), ('significaría', 'VERB'), ('neto', 'ADJ'), ('cero', 'NUM'), ('un', 'DET'), ('final', 'NOUN'), ('completo', 'ADJ'), ('para', 'ADP'), ('las', 'DET'), ('emisiones', 'NOUN'), ('de', 'ADP'), ('gases', 'NOUN'), ('de', 'ADP'), ('efecto', 'NOUN'), ('invernadero', 'NOUN'), ('.', 'PUNCT'), ('No', 'ADV'), ('todas', 'DET'), ('las', 'DET'), ('emisiones', 'NOUN'), ('pueden', 'AUX'), ('reducirse', 'VERB'), ('a', 'ADP'), ('cero', 'NOUN'), (',', 'PUNCT'), ('por', 'ADP'), ('lo', 'PRON'), ('que', 'PRON'), ('las', 'DET'), ('que', 'PRON'), ('permanecen', 'VERB'), ('deben', 'AUX'), ('coincidir', 'VERB'), ('al', 'ADP'), ('eliminar', 'VERB'), ('activamente', 'ADV'), ('los', 'DET'), ('gases', 'NOUN'), ('de', 'ADP'), ('efecto', 'NOUN'), ('invernadero', 'NOUN'), ('de', 'ADP'), ('la', 'DET'), ('atmósfera', 'NOUN'), ('.', 'PUNCT'), ('Los', 'DET'), ('métodos', 'NOUN'), ('de', 'ADP'), ('eliminación', 'NOUN'), ('natural', 'ADJ'), ('incluyen', 'VERB'), ('plantar', 'VERB'), ('árboles', 'NOUN'), ('y', 'CCONJ'), ('restaurar', 'VERB'), ('turberas', 'NOUN'), ('.', 'PUNCT')]\n",
      "Lemas de Palabras: ['Getty', 'Imagesa', 'el', 'nuevo', 'compromiso', 'de', 'reducir', 'el', 'uso', 'de', 'combustible', 'fósil', 'para', 'abordar', 'el', 'cambio', 'climático', 'él', 'acordar', 'en', 'el', 'cumbre', 'de', 'el', 'en', 'Dubai', 'el', 'acuerdo', 'enfatizar', 'el', 'importancia', 'de', 'alcanzar', 'cero', 'neto', 'para', 'para', 'evitar', 'el', 'peor', 'consecuencia', 'del', 'calentamiento', 'global', 'qué', 'hacer', 'net', 'cero', 'neto', 'significar', 'que', 'ya', 'no', 'él', 'sumar', 'a', 'el', 'cantidad', 'total', 'de', 'gas', 'de', 'efecto', 'invernadero', 'en', 'el', 'atmósfera', 'el', 'gas', 'de', 'efecto', 'invernadero', 'incluir', 'dióxido', 'de', 'carbono', 'y', 'metano', 'el', 'él', 'liberar', 'cuando', 'el', 'petróleo', 'el', 'gas', 'y', 'el', 'carbón', 'él', 'quemar', 'en', 'hogar', 'fábrica', 'y', 'transporte', 'de', 'energía', 'el', 'metano', 'él', 'producir', 'a', 'través', 'de', 'el', 'agricultura', 'y', 'el', 'vertedero', 'este', 'gas', 'aumentar', 'el', 'temperatura', 'global', 'al', 'atrapar', 'el', 'energía', 'adicional', 'en', 'el', 'atmósfera', 'de', 'el', 'Tierra', 'mientras', 'tanto', 'el', 'rápido', 'deforestación', 'en', 'todo', 'el', 'mundo', 'significar', 'que', 'haber', 'menos', 'árbol', 'para', 'absorber', 'bajo', 'el', 'Acuerdo', 'Climático', 'de', 'París', 'de', 'país', 'incluir', 'el', 'Reino', 'Unido', 'acordar', 'tratar', 'de', 'limitar', 'GlobalLa', 'temperatura', 'aumentar', 'a', 'para', 'para', 'lograr', 'este', 'el', 'emisión', 'de', 'deber', 'caer', 'en', 'casi', 'el', 'mitad', 'para', 'y', 'alcanzar', 'cero', 'neto', 'para', 'según', 'el', 'cuerpo', 'climático', 'de', 'el', 'ONU', 'el', 'este', 'emisión', 'permanecer', 'en', 'máximo', 'récord', 'uno', 'guía', 'realmente', 'simple', 'para', 'el', 'cambio', 'climático', 'significar', 'neto', 'cero', 'uno', 'final', 'completo', 'para', 'el', 'emisión', 'de', 'gas', 'de', 'efecto', 'invernadero', 'no', 'todo', 'el', 'emisión', 'poder', 'reducir él', 'a', 'cero', 'por', 'él', 'que', 'el', 'que', 'permanecer', 'deber', 'coincidir', 'al', 'eliminar', 'activamente', 'el', 'gas', 'de', 'efecto', 'invernadero', 'de', 'el', 'atmósfera', 'el', 'método', 'de', 'eliminación', 'natural', 'incluir', 'plantar', 'árbol', 'y', 'restaurar', 'turbera']\n"
     ]
    }
   ],
   "source": [
    "# Detectar el idioma del artículo\n",
    "idioma_detectado = detect(articulo_desconocido)\n",
    "\n",
    "# Traducir el artículo al español con googletrans\n",
    "translator = Translator()\n",
    "articulo_traducido = translator.translate(articulo_desconocido, src=idioma_detectado, dest=\"es\").text\n",
    "\n",
    "print(\"Idioma Detectado:\", idioma_detectado)\n",
    "print(\"Traducción al Español:\")\n",
    "print(articulo_traducido)\n",
    "\n",
    "#Realizar el análisis gramatical (POS tagging) en español\n",
    "nlp = spacy.load(\"es_core_news_sm\")\n",
    "doc = nlp(articulo_traducido)\n",
    "\n",
    "# Realizar la lematización de las palabras en español\n",
    "lemmas = [token.lemma_ for token in doc if token.is_alpha]\n",
    "\n",
    "print(\"Idioma Detectado:\", idioma_detectado)\n",
    "print(\"Traducción al Español:\", articulo_traducido)\n",
    "print(\"Categorías Gramaticales:\", [(token.text, token.pos_) for token in doc])\n",
    "print(\"Lemas de Palabras:\", lemmas)"
   ]
  },
  {
   "cell_type": "code",
   "execution_count": null,
   "metadata": {},
   "outputs": [],
   "source": []
  }
 ],
 "metadata": {
  "kernelspec": {
   "display_name": "Python 3 (ipykernel)",
   "language": "python",
   "name": "python3"
  },
  "language_info": {
   "codemirror_mode": {
    "name": "ipython",
    "version": 3
   },
   "file_extension": ".py",
   "mimetype": "text/x-python",
   "name": "python",
   "nbconvert_exporter": "python",
   "pygments_lexer": "ipython3",
   "version": "3.10.8"
  },
  "varInspector": {
   "cols": {
    "lenName": 16,
    "lenType": 16,
    "lenVar": 40
   },
   "kernels_config": {
    "python": {
     "delete_cmd_postfix": "",
     "delete_cmd_prefix": "del ",
     "library": "var_list.py",
     "varRefreshCmd": "print(var_dic_list())"
    },
    "r": {
     "delete_cmd_postfix": ") ",
     "delete_cmd_prefix": "rm(",
     "library": "var_list.r",
     "varRefreshCmd": "cat(var_dic_list()) "
    }
   },
   "oldHeight": 122.852,
   "position": {
    "height": "40px",
    "left": "1010px",
    "right": "20px",
    "top": "120px",
    "width": "250px"
   },
   "types_to_exclude": [
    "module",
    "function",
    "builtin_function_or_method",
    "instance",
    "_Feature"
   ],
   "varInspector_section_display": "none",
   "window_display": true
  },
  "vscode": {
   "interpreter": {
    "hash": "107fb03afb2754bdb3cdbb13c1c83d7d6037442339c22e5ee8cf40869e8513c5"
   }
  }
 },
 "nbformat": 4,
 "nbformat_minor": 4
}
