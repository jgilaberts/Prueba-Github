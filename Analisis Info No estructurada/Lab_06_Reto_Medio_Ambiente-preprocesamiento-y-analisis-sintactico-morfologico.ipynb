{
 "cells": [
  {
   "cell_type": "markdown",
   "metadata": {},
   "source": [
    "# Práctica de Laboratorio de Procesamiento del Lenguaje Natural (NLP)\n",
    "\n",
    "Tema: Análisis Lingüístico y Procesamiento de Texto\n",
    "\n",
    "## Contexto del Cliente\n",
    "\n",
    "Eres parte de un equipo de analistas de datos en una agencia de inteligencia de mercado. Uno de tus clientes es una agencia de noticias que necesita analizar grandes volúmenes de artículos periodísticos relacionados con el medio ambiente. El cliente desea comprender la estructura gramatical, identificar las palabras clave y reducir la variabilidad de las palabras en estos textos para obtener insights más precisos y eficientes.\n",
    "\n",
    "## Dataset de Artículos sobre Medio Ambiente\n",
    "\n",
    "Para este ejercicio, utilizaremos un dataset ficticio de titulares de artículos sobre medio ambiente. Cada entrada en el dataset representa un título de artículo y contiene texto en lenguaje natural relacionado con cuestiones ambientales. "
   ]
  },
  {
   "cell_type": "code",
   "execution_count": 1,
   "metadata": {},
   "outputs": [],
   "source": [
    "articulos_medio_ambiente = [\n",
    "    \"El cambio climático es una amenaza global que requiere acción inmediata.\",\n",
    "    \"La deforestación en la Amazonía está alcanzando niveles críticos.\",\n",
    "    \"La biodiversidad es esencial para la salud de nuestro planeta.\",\n",
    "    \"La contaminación del aire en las ciudades es un problema persistente.\",\n",
    "    \"Los océanos están sufriendo un aumento de la acidificación debido al CO2.\",\n",
    "    \"La conservación de los ecosistemas es crucial para proteger la vida silvestre.\",\n",
    "    \"Las energías renovables son clave para reducir las emisiones de carbono.\",\n",
    "    \"La escasez de agua es un desafío cada vez más apremiante en muchas regiones.\",\n",
    "    \"La protección de los bosques tropicales es vital para frenar el cambio climático.\",\n",
    "    \"Los esfuerzos de reciclaje pueden contribuir significativamente a la sostenibilidad.\",\n",
    "    \"El aumento de las temperaturas globales está causando eventos climáticos extremos.\",\n",
    "    \"La pérdida de hábitats naturales amenaza a numerosas especies en todo el mundo.\",\n",
    "    \"La sobreexplotación de recursos naturales agota nuestros ecosistemas.\",\n",
    "    \"La acidificación de los océanos afecta a la vida marina y los arrecifes de coral.\",\n",
    "    \"La gestión de residuos electrónicos es un desafío creciente para el medio ambiente.\",\n",
    "    \"Las energías renovables, como la solar y la eólica, son fuentes limpias de energía.\",\n",
    "    \"La polución del agua afecta a la salud humana y la vida acuática.\",\n",
    "    \"La agricultura sostenible es esencial para garantizar la seguridad alimentaria.\",\n",
    "    \"La conservación de los humedales es fundamental para la biodiversidad.\",\n",
    "    \"La pérdida de suelos fértiles amenaza la producción de alimentos.\",\n",
    "    \"La caza furtiva pone en peligro a especies emblemáticas como los elefantes.\",\n",
    "    \"La protección de los arrecifes de coral es esencial para los ecosistemas marinos.\",\n",
    "    \"La contaminación lumínica afecta a la observación del cielo estrellado.\",\n",
    "    \"La reforestación es una estrategia para combatir la pérdida de bosques.\",\n",
    "    \"La educación ambiental promueve la conciencia sobre la naturaleza.\",\n",
    "    \"La conservación de la capa de ozono es un éxito en la lucha contra el cambio climático.\",\n",
    "    \"La urbanización descontrolada puede degradar los espacios naturales.\",\n",
    "    \"La adopción de vehículos eléctricos reduce las emisiones de gases de efecto invernadero.\",\n",
    "    \"La contaminación plástica es una amenaza para los océanos y la vida marina.\",\n",
    "    \"La pérdida de glaciares es un indicador visible del cambio climático.\",\n",
    "    \"La pesca sostenible es esencial para preservar las poblaciones de peces.\",\n",
    "    \"La biodiversidad en los jardines urbanos beneficia a la fauna local.\",\n",
    "    \"La energía nuclear plantea desafíos en cuanto a la gestión de residuos radiactivos.\",\n",
    "    \"La conservación de las abejas es crucial para la polinización de cultivos.\",\n",
    "    \"La reutilización de productos contribuye a la reducción de residuos.\",\n",
    "    \"La migración de aves es un fenómeno natural que debe protegerse.\",\n",
    "    \"La degradación del suelo afecta a la producción agrícola.\",\n",
    "    \"La gestión de riesgos naturales es esencial para la seguridad de las comunidades.\",\n",
    "    \"La contaminación del suelo por productos químicos tóxicos es un problema grave.\",\n",
    "    \"La pérdida de glaciares es un indicador visible del cambio climático.\",\n",
    "    \"La pesca sostenible es esencial para preservar las poblaciones de peces.\",\n",
    "    \"La biodiversidad en los jardines urbanos beneficia a la fauna local.\",\n",
    "    \"La energía nuclear plantea desafíos en cuanto a la gestión de residuos radiactivos.\",\n",
    "    \"La conservación de las abejas es crucial para la polinización de cultivos.\",\n",
    "    \"La reutilización de productos contribuye a la reducción de residuos.\",\n",
    "    \"La migración de aves es un fenómeno natural que debe protegerse.\",\n",
    "    \"La degradación del suelo afecta a la producción agrícola.\",\n",
    "    \"La gestión de riesgos naturales es esencial para la seguridad de las comunidades.\",\n",
    "    \"La contaminación del suelo por productos químicos tóxicos es un problema grave.\"\n",
    "]\n"
   ]
  },
  {
   "cell_type": "markdown",
   "metadata": {},
   "source": [
    "## Ejercicio 1: Análisis Gramatical (POS Tagging)\n",
    "El primer paso en el análisis de texto es etiquetar cada palabra con su categoría gramatical (Part of Speech, POS). Utiliza una biblioteca de procesamiento de lenguaje natural como NLTK o SpaCy para realizar el análisis POS de los títulos de artículos sobre medio ambiente. Añade el análisis morfológico que ofrece SpaCy. "
   ]
  },
  {
   "cell_type": "code",
   "execution_count": 2,
   "metadata": {},
   "outputs": [
    {
     "name": "stdout",
     "output_type": "stream",
     "text": [
      "[('El', 'NNP'), ('cambio', 'NN'), ('climático', 'NN'), ('es', 'NN'), ('una', 'JJ'), ('amenaza', 'NN'), ('global', 'JJ'), ('que', 'NN'), ('requiere', 'RB'), ('acción', 'JJ'), ('inmediata', 'NN'), ('.', '.')]\n"
     ]
    },
    {
     "name": "stderr",
     "output_type": "stream",
     "text": [
      "[nltk_data] Downloading package punkt to /Users/irene/nltk_data...\n",
      "[nltk_data]   Package punkt is already up-to-date!\n"
     ]
    }
   ],
   "source": [
    "import nltk\n",
    "nltk.download('punkt')\n",
    "from nltk import word_tokenize, pos_tag\n",
    "\n",
    "# Realizar análisis POS para un artículo de ejemplo\n",
    "articulo_ejemplo = \"El cambio climático es una amenaza global que requiere acción inmediata.\"\n",
    "palabras = word_tokenize(articulo_ejemplo)\n",
    "categorias_gramaticales = pos_tag(palabras)\n",
    "print(categorias_gramaticales)"
   ]
  },
  {
   "cell_type": "code",
   "execution_count": 3,
   "metadata": {},
   "outputs": [
    {
     "name": "stderr",
     "output_type": "stream",
     "text": [
      "/Users/irene/opt/anaconda3/envs/nlp/lib/python3.9/site-packages/tqdm/auto.py:22: TqdmWarning: IProgress not found. Please update jupyter and ipywidgets. See https://ipywidgets.readthedocs.io/en/stable/user_install.html\n",
      "  from .autonotebook import tqdm as notebook_tqdm\n",
      "2023-09-16 11:09:05.708380: I tensorflow/core/platform/cpu_feature_guard.cc:182] This TensorFlow binary is optimized to use available CPU instructions in performance-critical operations.\n",
      "To enable the following instructions: AVX2 AVX512F AVX512_VNNI FMA, in other operations, rebuild TensorFlow with the appropriate compiler flags.\n"
     ]
    },
    {
     "name": "stdout",
     "output_type": "stream",
     "text": [
      "\n",
      "\n",
      "Token: El |  Análisis morfológico: Definite=Def|Gender=Masc|Number=Sing|PronType=Art\n",
      "Token: cambio |  Análisis morfológico: Gender=Masc|Number=Sing\n",
      "Token: climático |  Análisis morfológico: Gender=Masc|Number=Sing\n",
      "Token: es |  Análisis morfológico: Mood=Ind|Number=Sing|Person=3|Tense=Pres|VerbForm=Fin\n",
      "Token: una |  Análisis morfológico: Definite=Ind|Gender=Fem|Number=Sing|PronType=Art\n",
      "Token: amenaza |  Análisis morfológico: Gender=Fem|Number=Sing\n",
      "Token: global |  Análisis morfológico: Number=Sing\n",
      "Token: que |  Análisis morfológico: PronType=Int,Rel\n",
      "Token: requiere |  Análisis morfológico: Mood=Ind|Number=Sing|Person=3|Tense=Pres|VerbForm=Fin\n",
      "Token: acción |  Análisis morfológico: Gender=Fem|Number=Sing\n",
      "Token: inmediata |  Análisis morfológico: Gender=Fem|Number=Sing\n",
      "Token: . |  Análisis morfológico: PunctType=Peri\n"
     ]
    }
   ],
   "source": [
    "import spacy\n",
    "\n",
    "# Cargar modelo de lenguaje en español\n",
    "nlp = spacy.load('es_core_news_sm')\n",
    "\n",
    "# Realizar análisis morfológico para un artículo de ejemplo\n",
    "doc = nlp(articulo_ejemplo)\n",
    "\n",
    "print(\"\\n\")\n",
    "# Encontrar el sujeto y el predicado\n",
    "for token in doc:\n",
    "    print(\"Token:\", token.text, \"|  Análisis morfológico:\", token.tag_)\n",
    "    \n"
   ]
  },
  {
   "cell_type": "markdown",
   "metadata": {},
   "source": [
    "## Ejercicio 2: Análisis de Dependencias\n",
    "El análisis de dependencias implica identificar las relaciones sintácticas entre las palabras en una oración. Utiliza SpaCy o alguna otra biblioteca para analizar las dependencias sintácticas en los artículos sobre medio ambiente y encuentra el sujeto y el verbo de cada título de artículo. Añade la visualización del árbol de dependencias completo, utilizando SpaCy.\n",
    "\n",
    "Pregunta: ¿Puedes identificar las estructuras de sujeto-verbo en los artículos?"
   ]
  },
  {
   "cell_type": "code",
   "execution_count": 4,
   "metadata": {},
   "outputs": [
    {
     "name": "stdout",
     "output_type": "stream",
     "text": [
      "det La\n",
      "nsubj deforestación\n",
      "case en\n",
      "det la\n",
      "nmod Amazonía\n",
      "aux está\n",
      "ROOT alcanzando\n",
      "obj niveles\n",
      "amod críticos\n",
      "punct .\n",
      "\n",
      "\n",
      "Sujeto: deforestación\n",
      "Núcleo verbo: alcanzando\n"
     ]
    }
   ],
   "source": [
    "import spacy\n",
    "from spacy import displacy\n",
    "\n",
    "# Cargar el modelo de lenguaje de SpaCy en español\n",
    "nlp = spacy.load(\"es_core_news_sm\")\n",
    "\n",
    "# Realizar análisis de dependencias para un artículo de ejemplo\n",
    "articulo_ejemplo = \"La deforestación en la Amazonía está alcanzando niveles críticos.\"\n",
    "doc = nlp(articulo_ejemplo)\n",
    "\n",
    "# Encontrar el sujeto y el predicado\n",
    "sujeto = \"\"\n",
    "predicado = \"\"\n",
    "for token in doc:\n",
    "    print(token.dep_, token.text)\n",
    "    if \"subj\" in token.dep_:\n",
    "        sujeto = token.text\n",
    "    elif \"ROOT\" in token.dep_:\n",
    "        predicado = token.text\n",
    "print(\"\\n\")\n",
    "print(\"Sujeto:\", sujeto)\n",
    "print(\"Núcleo verbo:\", predicado)\n",
    "\n",
    "# Observación: cuando el verbo es copulativo (ser, estar, parecer), la etiqueta no es \"ROOT\", sino \"cop\"\n",
    "# Docu interesante: https://spacy.io/usage/linguistic-features\n"
   ]
  },
  {
   "cell_type": "code",
   "execution_count": 5,
   "metadata": {},
   "outputs": [
    {
     "data": {
      "text/html": [
       "<span class=\"tex2jax_ignore\"><svg xmlns=\"http://www.w3.org/2000/svg\" xmlns:xlink=\"http://www.w3.org/1999/xlink\" xml:lang=\"es\" id=\"bee6d483ce61480cb0439cba68d064a6-0\" class=\"displacy\" width=\"1625\" height=\"487.0\" direction=\"ltr\" style=\"max-width: none; height: 487.0px; color: #000000; background: #ffffff; font-family: Arial; direction: ltr\">\n",
       "<text class=\"displacy-token\" fill=\"currentColor\" text-anchor=\"middle\" y=\"397.0\">\n",
       "    <tspan class=\"displacy-word\" fill=\"currentColor\" x=\"50\">La</tspan>\n",
       "    <tspan class=\"displacy-tag\" dy=\"2em\" fill=\"currentColor\" x=\"50\">DET</tspan>\n",
       "</text>\n",
       "\n",
       "<text class=\"displacy-token\" fill=\"currentColor\" text-anchor=\"middle\" y=\"397.0\">\n",
       "    <tspan class=\"displacy-word\" fill=\"currentColor\" x=\"225\">deforestación</tspan>\n",
       "    <tspan class=\"displacy-tag\" dy=\"2em\" fill=\"currentColor\" x=\"225\">NOUN</tspan>\n",
       "</text>\n",
       "\n",
       "<text class=\"displacy-token\" fill=\"currentColor\" text-anchor=\"middle\" y=\"397.0\">\n",
       "    <tspan class=\"displacy-word\" fill=\"currentColor\" x=\"400\">en</tspan>\n",
       "    <tspan class=\"displacy-tag\" dy=\"2em\" fill=\"currentColor\" x=\"400\">ADP</tspan>\n",
       "</text>\n",
       "\n",
       "<text class=\"displacy-token\" fill=\"currentColor\" text-anchor=\"middle\" y=\"397.0\">\n",
       "    <tspan class=\"displacy-word\" fill=\"currentColor\" x=\"575\">la</tspan>\n",
       "    <tspan class=\"displacy-tag\" dy=\"2em\" fill=\"currentColor\" x=\"575\">DET</tspan>\n",
       "</text>\n",
       "\n",
       "<text class=\"displacy-token\" fill=\"currentColor\" text-anchor=\"middle\" y=\"397.0\">\n",
       "    <tspan class=\"displacy-word\" fill=\"currentColor\" x=\"750\">Amazonía</tspan>\n",
       "    <tspan class=\"displacy-tag\" dy=\"2em\" fill=\"currentColor\" x=\"750\">PROPN</tspan>\n",
       "</text>\n",
       "\n",
       "<text class=\"displacy-token\" fill=\"currentColor\" text-anchor=\"middle\" y=\"397.0\">\n",
       "    <tspan class=\"displacy-word\" fill=\"currentColor\" x=\"925\">está</tspan>\n",
       "    <tspan class=\"displacy-tag\" dy=\"2em\" fill=\"currentColor\" x=\"925\">AUX</tspan>\n",
       "</text>\n",
       "\n",
       "<text class=\"displacy-token\" fill=\"currentColor\" text-anchor=\"middle\" y=\"397.0\">\n",
       "    <tspan class=\"displacy-word\" fill=\"currentColor\" x=\"1100\">alcanzando</tspan>\n",
       "    <tspan class=\"displacy-tag\" dy=\"2em\" fill=\"currentColor\" x=\"1100\">VERB</tspan>\n",
       "</text>\n",
       "\n",
       "<text class=\"displacy-token\" fill=\"currentColor\" text-anchor=\"middle\" y=\"397.0\">\n",
       "    <tspan class=\"displacy-word\" fill=\"currentColor\" x=\"1275\">niveles</tspan>\n",
       "    <tspan class=\"displacy-tag\" dy=\"2em\" fill=\"currentColor\" x=\"1275\">NOUN</tspan>\n",
       "</text>\n",
       "\n",
       "<text class=\"displacy-token\" fill=\"currentColor\" text-anchor=\"middle\" y=\"397.0\">\n",
       "    <tspan class=\"displacy-word\" fill=\"currentColor\" x=\"1450\">críticos.</tspan>\n",
       "    <tspan class=\"displacy-tag\" dy=\"2em\" fill=\"currentColor\" x=\"1450\">ADJ</tspan>\n",
       "</text>\n",
       "\n",
       "<g class=\"displacy-arrow\">\n",
       "    <path class=\"displacy-arc\" id=\"arrow-bee6d483ce61480cb0439cba68d064a6-0-0\" stroke-width=\"2px\" d=\"M70,352.0 C70,264.5 210.0,264.5 210.0,352.0\" fill=\"none\" stroke=\"currentColor\"/>\n",
       "    <text dy=\"1.25em\" style=\"font-size: 0.8em; letter-spacing: 1px\">\n",
       "        <textPath xlink:href=\"#arrow-bee6d483ce61480cb0439cba68d064a6-0-0\" class=\"displacy-label\" startOffset=\"50%\" side=\"left\" fill=\"currentColor\" text-anchor=\"middle\">det</textPath>\n",
       "    </text>\n",
       "    <path class=\"displacy-arrowhead\" d=\"M70,354.0 L62,342.0 78,342.0\" fill=\"currentColor\"/>\n",
       "</g>\n",
       "\n",
       "<g class=\"displacy-arrow\">\n",
       "    <path class=\"displacy-arc\" id=\"arrow-bee6d483ce61480cb0439cba68d064a6-0-1\" stroke-width=\"2px\" d=\"M245,352.0 C245,2.0 1100.0,2.0 1100.0,352.0\" fill=\"none\" stroke=\"currentColor\"/>\n",
       "    <text dy=\"1.25em\" style=\"font-size: 0.8em; letter-spacing: 1px\">\n",
       "        <textPath xlink:href=\"#arrow-bee6d483ce61480cb0439cba68d064a6-0-1\" class=\"displacy-label\" startOffset=\"50%\" side=\"left\" fill=\"currentColor\" text-anchor=\"middle\">nsubj</textPath>\n",
       "    </text>\n",
       "    <path class=\"displacy-arrowhead\" d=\"M245,354.0 L237,342.0 253,342.0\" fill=\"currentColor\"/>\n",
       "</g>\n",
       "\n",
       "<g class=\"displacy-arrow\">\n",
       "    <path class=\"displacy-arc\" id=\"arrow-bee6d483ce61480cb0439cba68d064a6-0-2\" stroke-width=\"2px\" d=\"M420,352.0 C420,177.0 740.0,177.0 740.0,352.0\" fill=\"none\" stroke=\"currentColor\"/>\n",
       "    <text dy=\"1.25em\" style=\"font-size: 0.8em; letter-spacing: 1px\">\n",
       "        <textPath xlink:href=\"#arrow-bee6d483ce61480cb0439cba68d064a6-0-2\" class=\"displacy-label\" startOffset=\"50%\" side=\"left\" fill=\"currentColor\" text-anchor=\"middle\">case</textPath>\n",
       "    </text>\n",
       "    <path class=\"displacy-arrowhead\" d=\"M420,354.0 L412,342.0 428,342.0\" fill=\"currentColor\"/>\n",
       "</g>\n",
       "\n",
       "<g class=\"displacy-arrow\">\n",
       "    <path class=\"displacy-arc\" id=\"arrow-bee6d483ce61480cb0439cba68d064a6-0-3\" stroke-width=\"2px\" d=\"M595,352.0 C595,264.5 735.0,264.5 735.0,352.0\" fill=\"none\" stroke=\"currentColor\"/>\n",
       "    <text dy=\"1.25em\" style=\"font-size: 0.8em; letter-spacing: 1px\">\n",
       "        <textPath xlink:href=\"#arrow-bee6d483ce61480cb0439cba68d064a6-0-3\" class=\"displacy-label\" startOffset=\"50%\" side=\"left\" fill=\"currentColor\" text-anchor=\"middle\">det</textPath>\n",
       "    </text>\n",
       "    <path class=\"displacy-arrowhead\" d=\"M595,354.0 L587,342.0 603,342.0\" fill=\"currentColor\"/>\n",
       "</g>\n",
       "\n",
       "<g class=\"displacy-arrow\">\n",
       "    <path class=\"displacy-arc\" id=\"arrow-bee6d483ce61480cb0439cba68d064a6-0-4\" stroke-width=\"2px\" d=\"M245,352.0 C245,89.5 745.0,89.5 745.0,352.0\" fill=\"none\" stroke=\"currentColor\"/>\n",
       "    <text dy=\"1.25em\" style=\"font-size: 0.8em; letter-spacing: 1px\">\n",
       "        <textPath xlink:href=\"#arrow-bee6d483ce61480cb0439cba68d064a6-0-4\" class=\"displacy-label\" startOffset=\"50%\" side=\"left\" fill=\"currentColor\" text-anchor=\"middle\">nmod</textPath>\n",
       "    </text>\n",
       "    <path class=\"displacy-arrowhead\" d=\"M745.0,354.0 L753.0,342.0 737.0,342.0\" fill=\"currentColor\"/>\n",
       "</g>\n",
       "\n",
       "<g class=\"displacy-arrow\">\n",
       "    <path class=\"displacy-arc\" id=\"arrow-bee6d483ce61480cb0439cba68d064a6-0-5\" stroke-width=\"2px\" d=\"M945,352.0 C945,264.5 1085.0,264.5 1085.0,352.0\" fill=\"none\" stroke=\"currentColor\"/>\n",
       "    <text dy=\"1.25em\" style=\"font-size: 0.8em; letter-spacing: 1px\">\n",
       "        <textPath xlink:href=\"#arrow-bee6d483ce61480cb0439cba68d064a6-0-5\" class=\"displacy-label\" startOffset=\"50%\" side=\"left\" fill=\"currentColor\" text-anchor=\"middle\">aux</textPath>\n",
       "    </text>\n",
       "    <path class=\"displacy-arrowhead\" d=\"M945,354.0 L937,342.0 953,342.0\" fill=\"currentColor\"/>\n",
       "</g>\n",
       "\n",
       "<g class=\"displacy-arrow\">\n",
       "    <path class=\"displacy-arc\" id=\"arrow-bee6d483ce61480cb0439cba68d064a6-0-6\" stroke-width=\"2px\" d=\"M1120,352.0 C1120,264.5 1260.0,264.5 1260.0,352.0\" fill=\"none\" stroke=\"currentColor\"/>\n",
       "    <text dy=\"1.25em\" style=\"font-size: 0.8em; letter-spacing: 1px\">\n",
       "        <textPath xlink:href=\"#arrow-bee6d483ce61480cb0439cba68d064a6-0-6\" class=\"displacy-label\" startOffset=\"50%\" side=\"left\" fill=\"currentColor\" text-anchor=\"middle\">obj</textPath>\n",
       "    </text>\n",
       "    <path class=\"displacy-arrowhead\" d=\"M1260.0,354.0 L1268.0,342.0 1252.0,342.0\" fill=\"currentColor\"/>\n",
       "</g>\n",
       "\n",
       "<g class=\"displacy-arrow\">\n",
       "    <path class=\"displacy-arc\" id=\"arrow-bee6d483ce61480cb0439cba68d064a6-0-7\" stroke-width=\"2px\" d=\"M1295,352.0 C1295,264.5 1435.0,264.5 1435.0,352.0\" fill=\"none\" stroke=\"currentColor\"/>\n",
       "    <text dy=\"1.25em\" style=\"font-size: 0.8em; letter-spacing: 1px\">\n",
       "        <textPath xlink:href=\"#arrow-bee6d483ce61480cb0439cba68d064a6-0-7\" class=\"displacy-label\" startOffset=\"50%\" side=\"left\" fill=\"currentColor\" text-anchor=\"middle\">amod</textPath>\n",
       "    </text>\n",
       "    <path class=\"displacy-arrowhead\" d=\"M1435.0,354.0 L1443.0,342.0 1427.0,342.0\" fill=\"currentColor\"/>\n",
       "</g>\n",
       "</svg></span>"
      ],
      "text/plain": [
       "<IPython.core.display.HTML object>"
      ]
     },
     "metadata": {},
     "output_type": "display_data"
    }
   ],
   "source": [
    "displacy.render(doc, style='dep')"
   ]
  },
  {
   "cell_type": "markdown",
   "metadata": {},
   "source": [
    "## Ejercicio 3: Shallow Parsing (Chunking)\n",
    "El shallow parsing o chunking consiste en identificar frases nominales y verbales en un texto. SpaCy tiene una forma sencilla de identificar los noun chunks. Utiliza técnicas de shallow parsing para extraer frases nominales de los artículos sobre medio ambiente. ¿Se podría identificar cuál de estas frases nominales son el sujeto, complemento directo, etc? ¿Cómo?"
   ]
  },
  {
   "cell_type": "code",
   "execution_count": 52,
   "metadata": {},
   "outputs": [
    {
     "name": "stdout",
     "output_type": "stream",
     "text": [
      "La deforestación\n",
      "la Amazonía\n",
      "niveles críticos\n"
     ]
    }
   ],
   "source": [
    "import spacy\n",
    "from spacy import displacy\n",
    "\n",
    "# Cargar el modelo de lenguaje de SpaCy en español\n",
    "nlp = spacy.load(\"es_core_news_sm\")\n",
    "\n",
    "# Realizar análisis de dependencias para un artículo de ejemplo\n",
    "articulo_ejemplo = \"La deforestación en la Amazonía está alcanzando niveles críticos.\"\n",
    "doc = nlp(articulo_ejemplo)\n",
    "\n",
    "lista_sintagmas_nominales = doc.noun_chunks\n",
    "for x in lista_sintagmas_nominales:\n",
    "    print(x) \n"
   ]
  },
  {
   "cell_type": "markdown",
   "metadata": {},
   "source": [
    "## Ejercicio 5: Desafío - Análisis Avanzado y Traducción\n",
    "Dado un artículo en un idioma desconocido relacionado con el medio ambiente, debes realizar las siguientes tareas:\n",
    "\n",
    "Identificar el idioma del artículo.\n",
    "Realizar la traducción del artículo al español.\n",
    "Realizar el análisis gramatical (POS tagging) del artículo traducido.\n",
    "Realizar la lematización de las palabras en el artículo traducido.\n",
    "Puedes utilizar bibliotecas como SpaCy, NLTK y una API de traducción (por ejemplo, Google Translate) para completar estas tareas.\n",
    "\n",
    "Pregunta: ¿Qué idioma tiene el artículo? ¿Cuál es la traducción al español? ¿Cuáles son las categorías gramaticales de las palabras en el artículo traducido? ¿Cuáles son los lemas de las palabras?"
   ]
  },
  {
   "cell_type": "code",
   "execution_count": 71,
   "metadata": {},
   "outputs": [
    {
     "name": "stdout",
     "output_type": "stream",
     "text": [
      "Collecting googletrans==4.0.0-rc1\n",
      "  Downloading googletrans-4.0.0rc1.tar.gz (20 kB)\n",
      "Requirement already satisfied: httpx==0.13.3 in /Users/irene/opt/anaconda3/envs/nlp/lib/python3.9/site-packages (from googletrans==4.0.0-rc1) (0.13.3)\n",
      "Requirement already satisfied: hstspreload in /Users/irene/opt/anaconda3/envs/nlp/lib/python3.9/site-packages (from httpx==0.13.3->googletrans==4.0.0-rc1) (2023.1.1)\n",
      "Requirement already satisfied: sniffio in /Users/irene/opt/anaconda3/envs/nlp/lib/python3.9/site-packages (from httpx==0.13.3->googletrans==4.0.0-rc1) (1.3.0)\n",
      "Requirement already satisfied: httpcore==0.9.* in /Users/irene/opt/anaconda3/envs/nlp/lib/python3.9/site-packages (from httpx==0.13.3->googletrans==4.0.0-rc1) (0.9.1)\n",
      "Requirement already satisfied: idna==2.* in /Users/irene/opt/anaconda3/envs/nlp/lib/python3.9/site-packages (from httpx==0.13.3->googletrans==4.0.0-rc1) (2.10)\n",
      "Requirement already satisfied: chardet==3.* in /Users/irene/opt/anaconda3/envs/nlp/lib/python3.9/site-packages (from httpx==0.13.3->googletrans==4.0.0-rc1) (3.0.4)\n",
      "Requirement already satisfied: certifi in /Users/irene/opt/anaconda3/envs/nlp/lib/python3.9/site-packages (from httpx==0.13.3->googletrans==4.0.0-rc1) (2022.6.15)\n",
      "Requirement already satisfied: rfc3986<2,>=1.3 in /Users/irene/opt/anaconda3/envs/nlp/lib/python3.9/site-packages (from httpx==0.13.3->googletrans==4.0.0-rc1) (1.5.0)\n",
      "Requirement already satisfied: h2==3.* in /Users/irene/opt/anaconda3/envs/nlp/lib/python3.9/site-packages (from httpcore==0.9.*->httpx==0.13.3->googletrans==4.0.0-rc1) (3.2.0)\n",
      "Requirement already satisfied: h11<0.10,>=0.8 in /Users/irene/opt/anaconda3/envs/nlp/lib/python3.9/site-packages (from httpcore==0.9.*->httpx==0.13.3->googletrans==4.0.0-rc1) (0.9.0)\n",
      "Requirement already satisfied: hyperframe<6,>=5.2.0 in /Users/irene/opt/anaconda3/envs/nlp/lib/python3.9/site-packages (from h2==3.*->httpcore==0.9.*->httpx==0.13.3->googletrans==4.0.0-rc1) (5.2.0)\n",
      "Requirement already satisfied: hpack<4,>=3.0 in /Users/irene/opt/anaconda3/envs/nlp/lib/python3.9/site-packages (from h2==3.*->httpcore==0.9.*->httpx==0.13.3->googletrans==4.0.0-rc1) (3.0.0)\n",
      "Building wheels for collected packages: googletrans\n",
      "  Building wheel for googletrans (setup.py) ... \u001b[?25ldone\n",
      "\u001b[?25h  Created wheel for googletrans: filename=googletrans-4.0.0rc1-py3-none-any.whl size=17416 sha256=66051c18e8da540aa286576750926b72fcea464b74738659567540f120afe137\n",
      "  Stored in directory: /Users/irene/Library/Caches/pip/wheels/60/b3/27/d8aff3e2d5c2d0d97a117cdf0d5f13cd121e2c2b5fb49b55a0\n",
      "Successfully built googletrans\n",
      "Installing collected packages: googletrans\n",
      "  Attempting uninstall: googletrans\n",
      "    Found existing installation: googletrans 3.0.0\n",
      "    Uninstalling googletrans-3.0.0:\n",
      "      Successfully uninstalled googletrans-3.0.0\n",
      "Successfully installed googletrans-4.0.0rc1\n",
      "Note: you may need to restart the kernel to use updated packages.\n"
     ]
    }
   ],
   "source": [
    "pip install googletrans==4.0.0-rc1\n"
   ]
  },
  {
   "cell_type": "code",
   "execution_count": 22,
   "metadata": {},
   "outputs": [],
   "source": [
    "import langdetect\n",
    "import requests\n",
    "import spacy\n",
    "from langdetect import detect\n",
    "from bs4 import BeautifulSoup\n",
    "from googletrans import Translator\n",
    "\n",
    "# Ejemplo de artículo en un idioma desconocido (simulado)\n",
    "url_articulo = \"https://www.bbc.com/news/science-environment-58874518\"\n",
    "response = requests.get(url_articulo)\n",
    "\n",
    "# Utilizaremos el codificador 'utf-8' para evitar problemas con los caracteres especiales\n",
    "response.encoding = 'utf-8'\n",
    "# Parsear el contenido del artículo\n",
    "soup = BeautifulSoup(response.text, 'html.parser')\n",
    "# Extraer el texto del artículo\n",
    "articulo_desconocido = soup.get_text()\n",
    "\n",
    "articulo_desconocido = articulo_desconocido.split(\"Image source,\")[1]"
   ]
  },
  {
   "cell_type": "code",
   "execution_count": 24,
   "metadata": {},
   "outputs": [
    {
     "name": "stdout",
     "output_type": "stream",
     "text": [
      "Idioma Detectado: en\n",
      "Traducción al Español:\n",
      "Getty ImageSthe UK corre el riesgo de quedarse atrás en sus esfuerzos por alcanzar \"cero neto\" para 2050 sin una acción mucho más rápida, según los asesores climáticos independientes del gobierno. El objetivo de 2050 es una parte clave de los compromisos internacionales del Reino Unido, que están diseñados para evitar los peoresImpactos del cambio climático. ¿Qué significa 'neto cero'? Cero neto significa que ya no se suma a la cantidad total de gases de efecto invernadero en la atmósfera.Los gases de efecto invernadero incluyen dióxido de carbono (CO2) y metano.El CO2 se libera cuando el petróleo, el gas y el carbón se queman en hogares, fábricas y transporte de energía.El metano se produce a través de la agricultura y el vertedero.Estos gases aumentan las temperaturas globales atrapando la energía del sol. Mandeando, mientras que la rápida deforestación en todo el mundo significa que hay menos árboles para absorber el CO2. Bajo el Acuerdo Climático de París de 2015, 197 países acordaron tratar de limitar los aumentos de la temperatura global a 1.5c para 2100.Para lograr esto, los científicos dijeron que se deben alcanzar las emisiones netas de CO2 cero para 2050. Sin embargo, la ONU ahora quiere que los países traigan sus objetivos netos cero en una década para evitar lo que llamó \"el creciente desastre climático\". Una guía realmente simplePara el cambio climático, cinco cosas que hemos aprendido del informe climático de la ONU, neting cero significa un final completo para las emisiones de gases de efecto invernadero. No todas las emisiones pueden reducirse a cero, por lo que las que permanecen deben coincidir al eliminar activamente los gases de efecto invernadero de la atmósfera.Esto se conoce como \"compensación\". Los métodos de compensación naturales incluyen plantar árboles y restaurar turberas. Un método industrial es la captura y el almacenamiento de carbono que implica el uso de maquinaria para eliminar el CO2 del aire y almacenarlo, a menudo bajo tierra.Sin embargo, la tecnología aún está surgiendo y sigue siendo costosa. Aunque la compensación es importante, solo puede cancelar una pequeña fracción de las emisiones actuales de gases de efecto invernadero. Así que los científicos dicen que los cortes drásticos al uso de combustibles fósiles son esenciales para cumplir con el objetivo neto cero.\n",
      "Idioma Detectado: en\n",
      "Traducción al Español: Getty ImageSthe UK corre el riesgo de quedarse atrás en sus esfuerzos por alcanzar \"cero neto\" para 2050 sin una acción mucho más rápida, según los asesores climáticos independientes del gobierno. El objetivo de 2050 es una parte clave de los compromisos internacionales del Reino Unido, que están diseñados para evitar los peoresImpactos del cambio climático. ¿Qué significa 'neto cero'? Cero neto significa que ya no se suma a la cantidad total de gases de efecto invernadero en la atmósfera.Los gases de efecto invernadero incluyen dióxido de carbono (CO2) y metano.El CO2 se libera cuando el petróleo, el gas y el carbón se queman en hogares, fábricas y transporte de energía.El metano se produce a través de la agricultura y el vertedero.Estos gases aumentan las temperaturas globales atrapando la energía del sol. Mandeando, mientras que la rápida deforestación en todo el mundo significa que hay menos árboles para absorber el CO2. Bajo el Acuerdo Climático de París de 2015, 197 países acordaron tratar de limitar los aumentos de la temperatura global a 1.5c para 2100.Para lograr esto, los científicos dijeron que se deben alcanzar las emisiones netas de CO2 cero para 2050. Sin embargo, la ONU ahora quiere que los países traigan sus objetivos netos cero en una década para evitar lo que llamó \"el creciente desastre climático\". Una guía realmente simplePara el cambio climático, cinco cosas que hemos aprendido del informe climático de la ONU, neting cero significa un final completo para las emisiones de gases de efecto invernadero. No todas las emisiones pueden reducirse a cero, por lo que las que permanecen deben coincidir al eliminar activamente los gases de efecto invernadero de la atmósfera.Esto se conoce como \"compensación\". Los métodos de compensación naturales incluyen plantar árboles y restaurar turberas. Un método industrial es la captura y el almacenamiento de carbono que implica el uso de maquinaria para eliminar el CO2 del aire y almacenarlo, a menudo bajo tierra.Sin embargo, la tecnología aún está surgiendo y sigue siendo costosa. Aunque la compensación es importante, solo puede cancelar una pequeña fracción de las emisiones actuales de gases de efecto invernadero. Así que los científicos dicen que los cortes drásticos al uso de combustibles fósiles son esenciales para cumplir con el objetivo neto cero.\n",
      "Categorías Gramaticales: [('Getty', 'PROPN'), ('ImageSthe', 'PROPN'), ('UK', 'PROPN'), ('corre', 'VERB'), ('el', 'DET'), ('riesgo', 'NOUN'), ('de', 'ADP'), ('quedarse', 'VERB'), ('atrás', 'ADV'), ('en', 'ADP'), ('sus', 'DET'), ('esfuerzos', 'NOUN'), ('por', 'ADP'), ('alcanzar', 'VERB'), ('\"', 'PUNCT'), ('cero', 'NOUN'), ('neto', 'ADJ'), ('\"', 'PUNCT'), ('para', 'ADP'), ('2050', 'NOUN'), ('sin', 'ADP'), ('una', 'DET'), ('acción', 'NOUN'), ('mucho', 'ADV'), ('más', 'ADV'), ('rápida', 'ADJ'), (',', 'PUNCT'), ('según', 'ADP'), ('los', 'DET'), ('asesores', 'NOUN'), ('climáticos', 'NOUN'), ('independientes', 'ADJ'), ('del', 'ADP'), ('gobierno', 'NOUN'), ('.', 'PUNCT'), ('El', 'DET'), ('objetivo', 'NOUN'), ('de', 'ADP'), ('2050', 'NOUN'), ('es', 'AUX'), ('una', 'DET'), ('parte', 'NOUN'), ('clave', 'NOUN'), ('de', 'ADP'), ('los', 'DET'), ('compromisos', 'NOUN'), ('internacionales', 'ADJ'), ('del', 'ADP'), ('Reino', 'PROPN'), ('Unido', 'PROPN'), (',', 'PUNCT'), ('que', 'PRON'), ('están', 'AUX'), ('diseñados', 'ADJ'), ('para', 'ADP'), ('evitar', 'VERB'), ('los', 'DET'), ('peoresImpactos', 'NOUN'), ('del', 'ADP'), ('cambio', 'NOUN'), ('climático', 'ADJ'), ('.', 'PUNCT'), ('¿', 'PUNCT'), ('Qué', 'PRON'), ('significa', 'VERB'), (\"'\", 'SYM'), ('neto', 'NOUN'), ('cero', 'NOUN'), (\"'\", 'SYM'), ('?', 'PUNCT'), ('Cero', 'NUM'), ('neto', 'NOUN'), ('significa', 'VERB'), ('que', 'SCONJ'), ('ya', 'ADV'), ('no', 'ADV'), ('se', 'PRON'), ('suma', 'VERB'), ('a', 'ADP'), ('la', 'DET'), ('cantidad', 'NOUN'), ('total', 'ADJ'), ('de', 'ADP'), ('gases', 'NOUN'), ('de', 'ADP'), ('efecto', 'NOUN'), ('invernadero', 'NOUN'), ('en', 'ADP'), ('la', 'DET'), ('atmósfera', 'NOUN'), ('.', 'PUNCT'), ('Los', 'DET'), ('gases', 'NOUN'), ('de', 'ADP'), ('efecto', 'NOUN'), ('invernadero', 'ADJ'), ('incluyen', 'VERB'), ('dióxido', 'NOUN'), ('de', 'ADP'), ('carbono', 'NOUN'), ('(', 'PUNCT'), ('CO2', 'PROPN'), (')', 'PUNCT'), ('y', 'CCONJ'), ('metano', 'NOUN'), ('.', 'PUNCT'), ('El', 'DET'), ('CO2', 'PROPN'), ('se', 'PRON'), ('libera', 'VERB'), ('cuando', 'SCONJ'), ('el', 'DET'), ('petróleo', 'NOUN'), (',', 'PUNCT'), ('el', 'DET'), ('gas', 'NOUN'), ('y', 'CCONJ'), ('el', 'DET'), ('carbón', 'NOUN'), ('se', 'PRON'), ('queman', 'VERB'), ('en', 'ADP'), ('hogares', 'NOUN'), (',', 'PUNCT'), ('fábricas', 'NOUN'), ('y', 'CCONJ'), ('transporte', 'NOUN'), ('de', 'ADP'), ('energía', 'NOUN'), ('.', 'PUNCT'), ('El', 'DET'), ('metano', 'NOUN'), ('se', 'PRON'), ('produce', 'VERB'), ('a', 'ADP'), ('través', 'NOUN'), ('de', 'ADP'), ('la', 'DET'), ('agricultura', 'NOUN'), ('y', 'CCONJ'), ('el', 'DET'), ('vertedero', 'PROPN'), ('.', 'PUNCT'), ('Estos', 'DET'), ('gases', 'NOUN'), ('aumentan', 'VERB'), ('las', 'DET'), ('temperaturas', 'NOUN'), ('globales', 'ADJ'), ('atrapando', 'VERB'), ('la', 'DET'), ('energía', 'NOUN'), ('del', 'ADP'), ('sol', 'NOUN'), ('.', 'PUNCT'), ('Mandeando', 'VERB'), (',', 'PUNCT'), ('mientras', 'CCONJ'), ('que', 'SCONJ'), ('la', 'DET'), ('rápida', 'ADJ'), ('deforestación', 'NOUN'), ('en', 'ADP'), ('todo', 'DET'), ('el', 'DET'), ('mundo', 'NOUN'), ('significa', 'VERB'), ('que', 'SCONJ'), ('hay', 'AUX'), ('menos', 'ADV'), ('árboles', 'NOUN'), ('para', 'ADP'), ('absorber', 'VERB'), ('el', 'DET'), ('CO2', 'PROPN'), ('.', 'PUNCT'), ('Bajo', 'ADP'), ('el', 'DET'), ('Acuerdo', 'PROPN'), ('Climático', 'PROPN'), ('de', 'ADP'), ('París', 'PROPN'), ('de', 'ADP'), ('2015', 'NUM'), (',', 'PUNCT'), ('197', 'NUM'), ('países', 'NOUN'), ('acordaron', 'VERB'), ('tratar', 'VERB'), ('de', 'ADP'), ('limitar', 'VERB'), ('los', 'DET'), ('aumentos', 'NOUN'), ('de', 'ADP'), ('la', 'DET'), ('temperatura', 'NOUN'), ('global', 'ADJ'), ('a', 'ADP'), ('1.5c', 'NUM'), ('para', 'ADP'), ('2100.Para', 'NUM'), ('lograr', 'VERB'), ('esto', 'PRON'), (',', 'PUNCT'), ('los', 'DET'), ('científicos', 'NOUN'), ('dijeron', 'VERB'), ('que', 'SCONJ'), ('se', 'PRON'), ('deben', 'AUX'), ('alcanzar', 'VERB'), ('las', 'DET'), ('emisiones', 'NOUN'), ('netas', 'ADJ'), ('de', 'ADP'), ('CO2', 'PROPN'), ('cero', 'NUM'), ('para', 'ADP'), ('2050', 'NOUN'), ('.', 'PUNCT'), ('Sin', 'ADP'), ('embargo', 'NOUN'), (',', 'PUNCT'), ('la', 'DET'), ('ONU', 'PROPN'), ('ahora', 'ADV'), ('quiere', 'VERB'), ('que', 'SCONJ'), ('los', 'DET'), ('países', 'NOUN'), ('traigan', 'VERB'), ('sus', 'DET'), ('objetivos', 'NOUN'), ('netos', 'ADJ'), ('cero', 'NOUN'), ('en', 'ADP'), ('una', 'DET'), ('década', 'NOUN'), ('para', 'ADP'), ('evitar', 'VERB'), ('lo', 'PRON'), ('que', 'PRON'), ('llamó', 'VERB'), ('\"', 'PUNCT'), ('el', 'DET'), ('creciente', 'ADJ'), ('desastre', 'NOUN'), ('climático', 'ADJ'), ('\"', 'PUNCT'), ('.', 'PUNCT'), ('Una', 'DET'), ('guía', 'NOUN'), ('realmente', 'ADV'), ('simplePara', 'VERB'), ('el', 'DET'), ('cambio', 'NOUN'), ('climático', 'ADJ'), (',', 'PUNCT'), ('cinco', 'NUM'), ('cosas', 'NOUN'), ('que', 'PRON'), ('hemos', 'AUX'), ('aprendido', 'VERB'), ('del', 'ADP'), ('informe', 'NOUN'), ('climático', 'PROPN'), ('de', 'ADP'), ('la', 'DET'), ('ONU', 'PROPN'), (',', 'PUNCT'), ('neting', 'PROPN'), ('cero', 'NOUN'), ('significa', 'VERB'), ('un', 'DET'), ('final', 'NOUN'), ('completo', 'ADJ'), ('para', 'ADP'), ('las', 'DET'), ('emisiones', 'NOUN'), ('de', 'ADP'), ('gases', 'NOUN'), ('de', 'ADP'), ('efecto', 'NOUN'), ('invernadero', 'NOUN'), ('.', 'PUNCT'), ('No', 'ADV'), ('todas', 'DET'), ('las', 'DET'), ('emisiones', 'NOUN'), ('pueden', 'AUX'), ('reducirse', 'VERB'), ('a', 'ADP'), ('cero', 'NOUN'), (',', 'PUNCT'), ('por', 'ADP'), ('lo', 'PRON'), ('que', 'PRON'), ('las', 'DET'), ('que', 'PRON'), ('permanecen', 'VERB'), ('deben', 'AUX'), ('coincidir', 'VERB'), ('al', 'ADP'), ('eliminar', 'VERB'), ('activamente', 'ADV'), ('los', 'DET'), ('gases', 'NOUN'), ('de', 'ADP'), ('efecto', 'NOUN'), ('invernadero', 'NOUN'), ('de', 'ADP'), ('la', 'DET'), ('atmósfera', 'NOUN'), ('.', 'PUNCT'), ('Esto', 'PRON'), ('se', 'PRON'), ('conoce', 'VERB'), ('como', 'SCONJ'), ('\"', 'PUNCT'), ('compensación', 'NOUN'), ('\"', 'PUNCT'), ('.', 'PUNCT'), ('Los', 'DET'), ('métodos', 'NOUN'), ('de', 'ADP'), ('compensación', 'NOUN'), ('naturales', 'ADJ'), ('incluyen', 'VERB'), ('plantar', 'VERB'), ('árboles', 'NOUN'), ('y', 'CCONJ'), ('restaurar', 'VERB'), ('turberas', 'NOUN'), ('.', 'PUNCT'), ('Un', 'DET'), ('método', 'NOUN'), ('industrial', 'ADJ'), ('es', 'AUX'), ('la', 'DET'), ('captura', 'NOUN'), ('y', 'CCONJ'), ('el', 'DET'), ('almacenamiento', 'NOUN'), ('de', 'ADP'), ('carbono', 'NOUN'), ('que', 'PRON'), ('implica', 'VERB'), ('el', 'DET'), ('uso', 'NOUN'), ('de', 'ADP'), ('maquinaria', 'NOUN'), ('para', 'ADP'), ('eliminar', 'VERB'), ('el', 'DET'), ('CO2', 'PROPN'), ('del', 'ADP'), ('aire', 'NOUN'), ('y', 'CCONJ'), ('almacenarlo', 'VERB'), (',', 'PUNCT'), ('a', 'ADP'), ('menudo', 'NOUN'), ('bajo', 'ADP'), ('tierra', 'NOUN'), ('.', 'PUNCT'), ('Sin', 'ADP'), ('embargo', 'NOUN'), (',', 'PUNCT'), ('la', 'DET'), ('tecnología', 'NOUN'), ('aún', 'ADV'), ('está', 'AUX'), ('surgiendo', 'VERB'), ('y', 'CCONJ'), ('sigue', 'VERB'), ('siendo', 'AUX'), ('costosa', 'ADJ'), ('.', 'PUNCT'), ('Aunque', 'SCONJ'), ('la', 'DET'), ('compensación', 'NOUN'), ('es', 'AUX'), ('importante', 'ADJ'), (',', 'PUNCT'), ('solo', 'NOUN'), ('puede', 'AUX'), ('cancelar', 'VERB'), ('una', 'DET'), ('pequeña', 'ADJ'), ('fracción', 'NOUN'), ('de', 'ADP'), ('las', 'DET'), ('emisiones', 'NOUN'), ('actuales', 'ADJ'), ('de', 'ADP'), ('gases', 'NOUN'), ('de', 'ADP'), ('efecto', 'NOUN'), ('invernadero', 'NOUN'), ('.', 'PUNCT'), ('Así', 'ADV'), ('que', 'SCONJ'), ('los', 'DET'), ('científicos', 'NOUN'), ('dicen', 'VERB'), ('que', 'SCONJ'), ('los', 'DET'), ('cortes', 'NOUN'), ('drásticos', 'ADJ'), ('al', 'ADP'), ('uso', 'NOUN'), ('de', 'ADP'), ('combustibles', 'NOUN'), ('fósiles', 'ADJ'), ('son', 'AUX'), ('esenciales', 'ADJ'), ('para', 'ADP'), ('cumplir', 'VERB'), ('con', 'ADP'), ('el', 'DET'), ('objetivo', 'NOUN'), ('neto', 'ADJ'), ('cero', 'NOUN'), ('.', 'PUNCT')]\n",
      "Lemas de Palabras Clave: ['Getty', 'ImageSthe', 'UK', 'correr', 'el', 'riesgo', 'de', 'quedar él', 'atrás', 'en', 'su', 'esfuerzo', 'por', 'alcanzar', 'cero', 'neto', 'para', 'sin', 'uno', 'acción', 'mucho', 'más', 'rápido', 'según', 'el', 'asesor', 'climático', 'independiente', 'del', 'gobierno', 'el', 'objetivo', 'de', 'ser', 'uno', 'parte', 'clave', 'de', 'el', 'compromiso', 'internacional', 'del', 'Reino', 'Unido', 'que', 'estar', 'diseñado', 'para', 'evitar', 'el', 'peoresimpacto', 'del', 'cambio', 'climático', 'qué', 'significar', 'neto', 'cero', 'cero', 'neto', 'significar', 'que', 'ya', 'no', 'él', 'sumar', 'a', 'el', 'cantidad', 'total', 'de', 'gas', 'de', 'efecto', 'invernadero', 'en', 'el', 'atmósfera', 'el', 'gas', 'de', 'efecto', 'invernadero', 'incluir', 'dióxido', 'de', 'carbono', 'y', 'metano', 'el', 'él', 'liberar', 'cuando', 'el', 'petróleo', 'el', 'gas', 'y', 'el', 'carbón', 'él', 'quemar', 'en', 'hogar', 'fábrica', 'y', 'transporte', 'de', 'energía', 'el', 'metano', 'él', 'producir', 'a', 'través', 'de', 'el', 'agricultura', 'y', 'el', 'vertedero', 'este', 'gas', 'aumentar', 'el', 'temperatura', 'global', 'atrapar', 'el', 'energía', 'del', 'sol', 'mandear', 'mientras', 'que', 'el', 'rápido', 'deforestación', 'en', 'todo', 'el', 'mundo', 'significar', 'que', 'haber', 'menos', 'árbol', 'para', 'absorber', 'el', 'bajo', 'el', 'Acuerdo', 'Climático', 'de', 'París', 'de', 'país', 'acordar', 'tratar', 'de', 'limitar', 'el', 'aumento', 'de', 'el', 'temperatura', 'global', 'a', 'para', 'lograr', 'este', 'el', 'científico', 'decir', 'que', 'él', 'deber', 'alcanzar', 'el', 'emisión', 'neto', 'de', 'cero', 'para', 'sin', 'embargo', 'el', 'ONU', 'ahora', 'querer', 'que', 'el', 'país', 'traer', 'su', 'objetivo', 'neto', 'cero', 'en', 'uno', 'década', 'para', 'evitar', 'él', 'que', 'llamar', 'el', 'creciente', 'desastre', 'climático', 'uno', 'guía', 'realmente', 'simplepar', 'el', 'cambio', 'climático', 'cinco', 'cosa', 'que', 'haber', 'aprender', 'del', 'informe', 'climático', 'de', 'el', 'ONU', 'neting', 'cero', 'significar', 'uno', 'final', 'completo', 'para', 'el', 'emisión', 'de', 'gas', 'de', 'efecto', 'invernadero', 'no', 'todo', 'el', 'emisión', 'poder', 'reducir él', 'a', 'cero', 'por', 'él', 'que', 'el', 'que', 'permanecer', 'deber', 'coincidir', 'al', 'eliminar', 'activamente', 'el', 'gas', 'de', 'efecto', 'invernadero', 'de', 'el', 'atmósfera', 'este', 'él', 'conocer', 'como', 'compensación', 'el', 'método', 'de', 'compensación', 'natural', 'incluir', 'plantar', 'árbol', 'y', 'restaurar', 'turbera', 'uno', 'método', 'industrial', 'ser', 'el', 'captura', 'y', 'el', 'almacenamiento', 'de', 'carbono', 'que', 'implicar', 'el', 'uso', 'de', 'maquinaria', 'para', 'eliminar', 'el', 'del', 'aire', 'y', 'almacenar él', 'a', 'menudo', 'bajo', 'tierra', 'sin', 'embargo', 'el', 'tecnología', 'aún', 'estar', 'surgir', 'y', 'seguir', 'ser', 'costoso', 'aunque', 'el', 'compensación', 'ser', 'importante', 'solo', 'poder', 'cancelar', 'uno', 'pequeño', 'fracción', 'de', 'el', 'emisión', 'actual', 'de', 'gas', 'de', 'efecto', 'invernadero', 'así', 'que', 'el', 'científico', 'decir', 'que', 'el', 'corte', 'drástico', 'al', 'uso', 'de', 'combustible', 'fósil', 'ser', 'esencial', 'para', 'cumplir', 'con', 'el', 'objetivo', 'neto', 'cero']\n"
     ]
    }
   ],
   "source": [
    "# Detectar el idioma del artículo\n",
    "idioma_detectado = detect(articulo_desconocido)\n",
    "\n",
    "# Traducir el artículo al español con googletrans\n",
    "translator = Translator()\n",
    "articulo_traducido = translator.translate(articulo_desconocido, src=idioma_detectado, dest=\"es\").text\n",
    "\n",
    "print(\"Idioma Detectado:\", idioma_detectado)\n",
    "print(\"Traducción al Español:\")\n",
    "print(articulo_traducido)\n",
    "\n",
    "#Realizar el análisis gramatical (POS tagging) en español\n",
    "nlp = spacy.load(\"es_core_news_sm\")\n",
    "doc = nlp(articulo_traducido)\n",
    "\n",
    "# Realizar la lematización de las palabras en español\n",
    "lemmas = [token.lemma_ for token in doc if token.is_alpha]\n",
    "\n",
    "print(\"Idioma Detectado:\", idioma_detectado)\n",
    "print(\"Traducción al Español:\", articulo_traducido)\n",
    "print(\"Categorías Gramaticales:\", [(token.text, token.pos_) for token in doc])\n",
    "print(\"Lemas de Palabras:\", lemmas)"
   ]
  },
  {
   "cell_type": "code",
   "execution_count": null,
   "metadata": {},
   "outputs": [],
   "source": []
  }
 ],
 "metadata": {
  "kernelspec": {
   "display_name": "Python 3 (ipykernel)",
   "language": "python",
   "name": "python3"
  },
  "language_info": {
   "codemirror_mode": {
    "name": "ipython",
    "version": 3
   },
   "file_extension": ".py",
   "mimetype": "text/x-python",
   "name": "python",
   "nbconvert_exporter": "python",
   "pygments_lexer": "ipython3",
   "version": "3.11.5"
  },
  "varInspector": {
   "cols": {
    "lenName": 16,
    "lenType": 16,
    "lenVar": 40
   },
   "kernels_config": {
    "python": {
     "delete_cmd_postfix": "",
     "delete_cmd_prefix": "del ",
     "library": "var_list.py",
     "varRefreshCmd": "print(var_dic_list())"
    },
    "r": {
     "delete_cmd_postfix": ") ",
     "delete_cmd_prefix": "rm(",
     "library": "var_list.r",
     "varRefreshCmd": "cat(var_dic_list()) "
    }
   },
   "oldHeight": 122.852,
   "position": {
    "height": "40px",
    "left": "1010px",
    "right": "20px",
    "top": "120px",
    "width": "250px"
   },
   "types_to_exclude": [
    "module",
    "function",
    "builtin_function_or_method",
    "instance",
    "_Feature"
   ],
   "varInspector_section_display": "none",
   "window_display": true
  },
  "vscode": {
   "interpreter": {
    "hash": "107fb03afb2754bdb3cdbb13c1c83d7d6037442339c22e5ee8cf40869e8513c5"
   }
  }
 },
 "nbformat": 4,
 "nbformat_minor": 4
}
