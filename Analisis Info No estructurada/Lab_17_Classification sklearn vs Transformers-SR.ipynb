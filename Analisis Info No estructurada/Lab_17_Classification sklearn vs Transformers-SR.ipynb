{
 "cells": [
  {
   "cell_type": "markdown",
   "id": "0423d144",
   "metadata": {},
   "source": [
    "# Laboratorio. Clasificación de mensajes de telco utilizando transformers\n",
    "\n",
    "Utilizando las frases mostradas a continuación, clasifica utilizando zero shot classification de transformers en \"sugerencia\", \"reclamación\", y \"puntos positivos\". Etiqueta manualmente las frases, y compara. ¿Cuál es la precisión?\n",
    "\n",
    "Utiliza el modelo `facebook/bart-large-mnli`."
   ]
  },
  {
   "cell_type": "code",
   "execution_count": 1,
   "id": "5f37e963",
   "metadata": {},
   "outputs": [],
   "source": [
    "frases = [\n",
    "    \"La cobertura en mi barrio es un desastre, siempre tengo problemas.\",\n",
    "    \"¡Me encanta la velocidad de internet que proporcionan, es asombrosa!\",\n",
    "    \"Estoy harto de los constantes cortes de señal, ¿pueden hacer algo al respecto?\",\n",
    "    \"El nuevo plan de datos es genial, ¡gracias por la actualización!\",\n",
    "    \"¡Mi teléfono se cayó y la pantalla está destrozada! Necesito ayuda urgente.\",\n",
    "    \"¿Por qué mi factura es tan alta este mes? Esto no puede ser correcto.\",\n",
    "    \"La atención al cliente es pésima, nadie sabe cómo resolver problemas.\",\n",
    "    \"¡Los nuevos planes de roaming internacional son justo lo que necesitaba!\",\n",
    "    \"Mi teléfono no recibe mensajes, esto es inaceptable.\",\n",
    "    \"El servicio técnico me dejó esperando por horas, ¡esto es una vergüenza!\",\n",
    "    \"Necesito más datos en mi plan, ¿pueden ofrecer opciones más grandes?\",\n",
    "    \"¡La nueva app es increíblemente fácil de usar, felicidades!\",\n",
    "    \"Mi teléfono no puede conectarse al wifi, necesito una solución rápida.\",\n",
    "    \"¿Cuándo van a mejorar la cobertura en zonas rurales? Es decepcionante.\",\n",
    "    \"¡La promoción de teléfonos nuevos es una ganga, me llevé un gran dispositivo!\",\n",
    "    \"Estoy cansado de los mensajes publicitarios, ¿cómo puedo desactivarlos?\",\n",
    "    \"La factura llegó con cargos adicionales, esto es un robo.\",\n",
    "    \"¡Gracias por resolver mi problema técnico tan rápidamente!\",\n",
    "    \"La señal 4G es excelente, pero la 5G tarda en llegar, ¿cuándo estará disponible?\",\n",
    "    \"¡El servicio de atención al cliente fue tan amable y útil, los felicito!\",\n",
    "]\n"
   ]
  },
  {
   "cell_type": "code",
   "execution_count": null,
   "id": "5e4c4013",
   "metadata": {},
   "outputs": [],
   "source": []
  }
 ],
 "metadata": {
  "kernelspec": {
   "display_name": "Python 3 (ipykernel)",
   "language": "python",
   "name": "python3"
  },
  "language_info": {
   "codemirror_mode": {
    "name": "ipython",
    "version": 3
   },
   "file_extension": ".py",
   "mimetype": "text/x-python",
   "name": "python",
   "nbconvert_exporter": "python",
   "pygments_lexer": "ipython3",
   "version": "3.11.5"
  }
 },
 "nbformat": 4,
 "nbformat_minor": 5
}
